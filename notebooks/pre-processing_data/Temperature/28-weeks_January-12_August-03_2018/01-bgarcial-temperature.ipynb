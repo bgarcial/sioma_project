{
 "cells": [
  {
   "cell_type": "code",
   "execution_count": 1,
   "metadata": {},
   "outputs": [],
   "source": [
    "from __future__ import unicode_literals\n",
    "\n",
    "import pandas as pd\n",
    "import numpy as np\n",
    "from sklearn import preprocessing\n",
    "from sklearn.preprocessing import MinMaxScaler\n",
    "from sklearn.model_selection import train_test_split"
   ]
  },
  {
   "cell_type": "markdown",
   "metadata": {},
   "source": [
    "# 1. Preparing data - 28 weeks of life of the banana plant\n",
    "---"
   ]
  },
  {
   "cell_type": "code",
   "execution_count": 3,
   "metadata": {},
   "outputs": [],
   "source": [
    "temperature = pd.read_csv('../../../../data/raw/FincaPorvenir/Metereologico/28-weeks_January-12_August-03_2018/' \\\n",
    "                                 'Temperatura_January-12_August-03_2018.csv', )"
   ]
  },
  {
   "cell_type": "code",
   "execution_count": 4,
   "metadata": {},
   "outputs": [
    {
     "name": "stdout",
     "output_type": "stream",
     "text": [
      "(9752, 2)\n"
     ]
    },
    {
     "data": {
      "text/html": [
       "<div>\n",
       "<style scoped>\n",
       "    .dataframe tbody tr th:only-of-type {\n",
       "        vertical-align: middle;\n",
       "    }\n",
       "\n",
       "    .dataframe tbody tr th {\n",
       "        vertical-align: top;\n",
       "    }\n",
       "\n",
       "    .dataframe thead th {\n",
       "        text-align: right;\n",
       "    }\n",
       "</style>\n",
       "<table border=\"1\" class=\"dataframe\">\n",
       "  <thead>\n",
       "    <tr style=\"text-align: right;\">\n",
       "      <th></th>\n",
       "      <th>Fecha:</th>\n",
       "      <th>Temperatura (C)</th>\n",
       "    </tr>\n",
       "  </thead>\n",
       "  <tbody>\n",
       "    <tr>\n",
       "      <th>0</th>\n",
       "      <td>2018-01-12 00:17:28</td>\n",
       "      <td>25.06</td>\n",
       "    </tr>\n",
       "    <tr>\n",
       "      <th>1</th>\n",
       "      <td>2018-01-12 00:47:28</td>\n",
       "      <td>24.81</td>\n",
       "    </tr>\n",
       "    <tr>\n",
       "      <th>2</th>\n",
       "      <td>2018-01-12 01:17:27</td>\n",
       "      <td>24.62</td>\n",
       "    </tr>\n",
       "    <tr>\n",
       "      <th>3</th>\n",
       "      <td>2018-01-12 01:47:27</td>\n",
       "      <td>24.56</td>\n",
       "    </tr>\n",
       "    <tr>\n",
       "      <th>4</th>\n",
       "      <td>2018-01-12 02:17:30</td>\n",
       "      <td>24.00</td>\n",
       "    </tr>\n",
       "  </tbody>\n",
       "</table>\n",
       "</div>"
      ],
      "text/plain": [
       "                Fecha:  Temperatura (C)\n",
       "0  2018-01-12 00:17:28            25.06\n",
       "1  2018-01-12 00:47:28            24.81\n",
       "2  2018-01-12 01:17:27            24.62\n",
       "3  2018-01-12 01:47:27            24.56\n",
       "4  2018-01-12 02:17:30            24.00"
      ]
     },
     "execution_count": 4,
     "metadata": {},
     "output_type": "execute_result"
    }
   ],
   "source": [
    "print(temperature.shape)\n",
    "temperature.head()"
   ]
  },
  {
   "cell_type": "markdown",
   "metadata": {},
   "source": [
    "## 1.1. We evaluate if this dataset has null type `NaN`\n",
    "---"
   ]
  },
  {
   "cell_type": "code",
   "execution_count": 5,
   "metadata": {},
   "outputs": [
    {
     "name": "stdout",
     "output_type": "stream",
     "text": [
      "Fecha:             False\n",
      "Temperatura (C)    False\n",
      "dtype: bool\n"
     ]
    },
    {
     "data": {
      "text/plain": [
       "False"
      ]
     },
     "execution_count": 5,
     "metadata": {},
     "output_type": "execute_result"
    }
   ],
   "source": [
    "print(temperature.isnull().any())\n",
    "temperature.isnull().values.any()"
   ]
  },
  {
   "cell_type": "markdown",
   "metadata": {},
   "source": [
    "Don't have null values\n",
    "\n",
    "## 1.2. Selecting  relevant index columns features\n",
    "---\n",
    "\n",
    "Since the dataset has a column called **`Fecha:`**, which is not a numerical value,\n",
    "\n",
    "it will be removed so that it does not interfere **with our subsequent scaling**, \n",
    "\n",
    "so we are only going to reference the values or samples of the column\n",
    "\n",
    "** `Temperatura (C)` ** and assigning them to the matrix \n",
    "\n",
    "`temperature_array` created such as follow:"
   ]
  },
  {
   "cell_type": "code",
   "execution_count": 6,
   "metadata": {},
   "outputs": [],
   "source": [
    "temperature_array = temperature.iloc[:, 1].values"
   ]
  },
  {
   "cell_type": "code",
   "execution_count": 7,
   "metadata": {},
   "outputs": [
    {
     "data": {
      "text/plain": [
       "array([[25.06],\n",
       "       [24.81],\n",
       "       [24.62],\n",
       "       ...,\n",
       "       [23.81],\n",
       "       [23.5 ],\n",
       "       [23.62]])"
      ]
     },
     "execution_count": 7,
     "metadata": {},
     "output_type": "execute_result"
    }
   ],
   "source": [
    "# Rehape the luminosity_luxes array \n",
    "temperature_array = temperature_array.reshape(-1, 1)\n",
    "temperature_array"
   ]
  },
  {
   "cell_type": "markdown",
   "metadata": {},
   "source": [
    "## 1.3 Generating descriptive data to dataset\n",
    "---"
   ]
  },
  {
   "cell_type": "code",
   "execution_count": 8,
   "metadata": {},
   "outputs": [],
   "source": [
    "col = ['Temperatura (C)']\n",
    "temperature_values_df = pd.DataFrame(temperature_array, columns=col)\n",
    "temperature_values_df_describe = temperature_values_df.describe()"
   ]
  },
  {
   "cell_type": "code",
   "execution_count": 9,
   "metadata": {},
   "outputs": [
    {
     "data": {
      "text/html": [
       "<div>\n",
       "<style scoped>\n",
       "    .dataframe tbody tr th:only-of-type {\n",
       "        vertical-align: middle;\n",
       "    }\n",
       "\n",
       "    .dataframe tbody tr th {\n",
       "        vertical-align: top;\n",
       "    }\n",
       "\n",
       "    .dataframe thead th {\n",
       "        text-align: right;\n",
       "    }\n",
       "</style>\n",
       "<table border=\"1\" class=\"dataframe\">\n",
       "  <thead>\n",
       "    <tr style=\"text-align: right;\">\n",
       "      <th></th>\n",
       "      <th>Temperatura (C)</th>\n",
       "    </tr>\n",
       "  </thead>\n",
       "  <tbody>\n",
       "    <tr>\n",
       "      <th>count</th>\n",
       "      <td>9752.000000</td>\n",
       "    </tr>\n",
       "    <tr>\n",
       "      <th>mean</th>\n",
       "      <td>27.529622</td>\n",
       "    </tr>\n",
       "    <tr>\n",
       "      <th>std</th>\n",
       "      <td>3.731210</td>\n",
       "    </tr>\n",
       "    <tr>\n",
       "      <th>min</th>\n",
       "      <td>21.370000</td>\n",
       "    </tr>\n",
       "    <tr>\n",
       "      <th>25%</th>\n",
       "      <td>24.560000</td>\n",
       "    </tr>\n",
       "    <tr>\n",
       "      <th>50%</th>\n",
       "      <td>26.310000</td>\n",
       "    </tr>\n",
       "    <tr>\n",
       "      <th>75%</th>\n",
       "      <td>30.620000</td>\n",
       "    </tr>\n",
       "    <tr>\n",
       "      <th>max</th>\n",
       "      <td>40.250000</td>\n",
       "    </tr>\n",
       "  </tbody>\n",
       "</table>\n",
       "</div>"
      ],
      "text/plain": [
       "       Temperatura (C)\n",
       "count      9752.000000\n",
       "mean         27.529622\n",
       "std           3.731210\n",
       "min          21.370000\n",
       "25%          24.560000\n",
       "50%          26.310000\n",
       "75%          30.620000\n",
       "max          40.250000"
      ]
     },
     "execution_count": 9,
     "metadata": {},
     "output_type": "execute_result"
    }
   ],
   "source": [
    "temperature_values_df_describe"
   ]
  },
  {
   "cell_type": "code",
   "execution_count": 10,
   "metadata": {},
   "outputs": [],
   "source": [
    "# Export this descriptive data to comma separated values and java script object notation\n",
    "temperature_values_df_describe.to_csv('../../../../data/interim/Temperature/28-weeks_January-12_August-03_2018/' +'\\n' \n",
    "                              'Temperature_Describe_January-12_August-03.cvs', sep=',', header=True, index=True)\n",
    "temperature_values_df_describe.to_json('../../../../data/interim/Temperature/28-weeks_January-12_August-03_2018/' +'\\n'\n",
    "                                     'Temperature_Describe_January-12_August-03.json')"
   ]
  },
  {
   "cell_type": "markdown",
   "metadata": {},
   "source": [
    "# 2. Creating Temperature Training and Testing datasets\n",
    "\n",
    "We have a **`temperature_values_df`** dataset with 9752 samples rows."
   ]
  },
  {
   "cell_type": "code",
   "execution_count": 13,
   "metadata": {},
   "outputs": [
    {
     "name": "stdout",
     "output_type": "stream",
     "text": [
      "(9752, 1)\n"
     ]
    },
    {
     "data": {
      "text/html": [
       "<div>\n",
       "<style scoped>\n",
       "    .dataframe tbody tr th:only-of-type {\n",
       "        vertical-align: middle;\n",
       "    }\n",
       "\n",
       "    .dataframe tbody tr th {\n",
       "        vertical-align: top;\n",
       "    }\n",
       "\n",
       "    .dataframe thead th {\n",
       "        text-align: right;\n",
       "    }\n",
       "</style>\n",
       "<table border=\"1\" class=\"dataframe\">\n",
       "  <thead>\n",
       "    <tr style=\"text-align: right;\">\n",
       "      <th></th>\n",
       "      <th>Temperatura (C)</th>\n",
       "    </tr>\n",
       "  </thead>\n",
       "  <tbody>\n",
       "    <tr>\n",
       "      <th>0</th>\n",
       "      <td>25.06</td>\n",
       "    </tr>\n",
       "    <tr>\n",
       "      <th>1</th>\n",
       "      <td>24.81</td>\n",
       "    </tr>\n",
       "    <tr>\n",
       "      <th>2</th>\n",
       "      <td>24.62</td>\n",
       "    </tr>\n",
       "    <tr>\n",
       "      <th>3</th>\n",
       "      <td>24.56</td>\n",
       "    </tr>\n",
       "    <tr>\n",
       "      <th>4</th>\n",
       "      <td>24.00</td>\n",
       "    </tr>\n",
       "  </tbody>\n",
       "</table>\n",
       "</div>"
      ],
      "text/plain": [
       "   Temperatura (C)\n",
       "0            25.06\n",
       "1            24.81\n",
       "2            24.62\n",
       "3            24.56\n",
       "4            24.00"
      ]
     },
     "execution_count": 13,
     "metadata": {},
     "output_type": "execute_result"
    }
   ],
   "source": [
    "print(temperature_values_df.shape)\n",
    "temperature_values_df.head()"
   ]
  },
  {
   "cell_type": "markdown",
   "metadata": {},
   "source": [
    "We'll divide it into two differents datasets:\n",
    "\n",
    "- Training dataset\n",
    "- Testing dataset\n",
    "\n",
    "This is executed through [train_test_split](http://scikit-learn.org/stable/modules/generated/sklearn.model_selection.train_test_split.html  \"sklearn.model_selection.train_test_split\") function of this way:\n",
    "\n",
    "`train_test_split` receive as a data parameter a numpy array, we have to turn the \n",
    "\n",
    "**`temperature_values_df`** dataframe to numpy array such as follow:"
   ]
  },
  {
   "cell_type": "code",
   "execution_count": 14,
   "metadata": {},
   "outputs": [],
   "source": [
    "# numpy_temperature_values = temperature_values_df.reset_index().values\n",
    "numpy_temperature_values = temperature_values_df.values"
   ]
  },
  {
   "cell_type": "code",
   "execution_count": 15,
   "metadata": {},
   "outputs": [
    {
     "data": {
      "text/plain": [
       "array([[25.06],\n",
       "       [24.81],\n",
       "       [24.62],\n",
       "       ...,\n",
       "       [23.81],\n",
       "       [23.5 ],\n",
       "       [23.62]])"
      ]
     },
     "execution_count": 15,
     "metadata": {},
     "output_type": "execute_result"
    }
   ],
   "source": [
    "numpy_temperature_values"
   ]
  },
  {
   "cell_type": "markdown",
   "metadata": {},
   "source": [
    "We compose the following datasets from **`numpy_temperature_values`** array :\n",
    "\n",
    "- `temperature_values_train`, which is the training matrix\n",
    "- `temperature_values_test`, the testing matrix\n",
    "\n",
    "We use the [train_test_split](http://scikit-learn.org/stable/modules/generated/sklearn.model_selection.train_test_split.html  \"sklearn.model_selection.train_test_split\") function to create the training and testing dataset. Their parameters are:\n",
    "\n",
    "![alt text](https://cldup.com/hukPWvvLxt-3000x3000.png \"klearn.model_selection.train_test_split\")\n",
    "\n",
    "\n",
    "- The first parameter **should be an array**, then we pass the **`numpy_temperature_values`** which contain all column features of luminosity.\n",
    "\n",
    "Of this way, we pass all data (9750 samples rows) to from them `temperature_values_train`\n",
    "\n",
    "and `temperature_values_test` will be created\n",
    "\n",
    "- The `test_size=0.5` parameter means a 50% division; which means \n",
    "that half of the data goes to the test dataset and the other half \n",
    "goes to the training dataset.\n",
    "\n",
    "A good choice for the size of tests **is usually 0.2 ie 20% or 0.25 or even 30%.** \n",
    "\n",
    "In some rare cases we will have 40% but almost never 0.5 or 50%\n",
    "\n",
    "We choose 20% which means that we will have 20% of 9752 samples or observations for the test data set, \n",
    "\n",
    "in this case **9752 * 0.2 = 1951 samples or records for the test data set**\n",
    "\n",
    "\n",
    "- The `train_size` parameter is the training dataset size.  **`test_size + train_size = 1 or 100%`**, \n",
    "then isn't necessary include it, because wheter we include to `test_size = 0.2`, then the remaining \n",
    "data will be to `train_size` this means **0.8 or 80%**\n",
    "\n",
    "This means that **9752 * 0.8 = 7801  training dataset samples rows. **\n",
    "\n",
    "\n",
    "- random_state is a seed or data source for generating random values for the data sets. \n",
    "\n",
    "If this parameter is not passed, the data will be generated in a random way, but in the way as by default numpy works them."
   ]
  },
  {
   "cell_type": "markdown",
   "metadata": {},
   "source": [
    "### 2.1  Creating Training and testing temperature datasets\n",
    "---\n",
    "\n",
    "- `temperature_values_train`, which is the training matrix\n",
    "- `temperature_values_test`, the testing matrix"
   ]
  },
  {
   "cell_type": "code",
   "execution_count": 18,
   "metadata": {},
   "outputs": [],
   "source": [
    "temperature_values_train, temperature_values_test = train_test_split(numpy_temperature_values, test_size = 0.2)"
   ]
  },
  {
   "cell_type": "code",
   "execution_count": 19,
   "metadata": {},
   "outputs": [
    {
     "name": "stdout",
     "output_type": "stream",
     "text": [
      "<class 'numpy.ndarray'>\n",
      "The dimensionality of wind_direction training dataset is: \n",
      " (7801, 1)\n",
      "\n",
      "\n",
      "<class 'numpy.ndarray'>\n",
      "The dimensionality of wind_direction testing dataset is: \n",
      " (1951, 1)\n"
     ]
    }
   ],
   "source": [
    "# We have 7801 rows to luminosity_luxes_train\n",
    "print(type(temperature_values_train))\n",
    "print(\"The dimensionality of wind_direction training dataset is: \" +'\\n' , temperature_values_train.shape)\n",
    "print('\\n')\n",
    "\n",
    "# And we have 1951 rows to luminosity_luxes_test\n",
    "print(type(temperature_values_test))\n",
    "print(\"The dimensionality of wind_direction testing dataset is: \" +'\\n' , temperature_values_test.shape)"
   ]
  },
  {
   "cell_type": "markdown",
   "metadata": {},
   "source": [
    "In this way, the model, as you progressively learn the correlations in the training set, the better the prediction of the results in the test set.\n",
    "\n",
    "But if the model learns too much from memory the correlations of the training sets,\n",
    "\n",
    "that is to say, when one learns from memory and does not understand things, then it\n",
    "\n",
    "will have problems to predict what is happening on the set of tests, because it is\n",
    "\n",
    "learned for difficult correlations, if the logic is not well understood and you can\n",
    "\n",
    "not make good predictions. This is called overfitting or overfitting\n",
    "\n",
    "The really important thing is to understand that we need to have two different datasets\n",
    "\n",
    "- Training set with which the ML model learns\n",
    "- Test set, on which we test whether the ML model correctly learned the correlations\n",
    "\n"
   ]
  },
  {
   "cell_type": "markdown",
   "metadata": {},
   "source": [
    "---\n",
    "##  3. Feature Scaling Temperature training and testing dataset  \n",
    "---\n",
    "\n",
    "[This article post](http://benalexkeen.com/feature-scaling-with-scikit-learn/  \"Feature Scaling with scikit-learn\") it's a great reference to explore the features scaling methods\n",
    "on scikit learn\n",
    "\n",
    "- `StandardScaler` assume that data is normally distributed at the level of each characteristic or variable. If the data is not normally distributed, it is not the best alternative to use for scaling.  \n",
    "\n",
    "- `Min-Max Scaler` it is probably the most famous scaling algorithm and what it does is resize the range to leave it in a dimension of 0 to 1 or -1 and 1 (in case there are negative values in the original dataset of input data)\n",
    "\n",
    "This scale of maximums and minimums works best for cases where standard scaling may not work properly. If the distribution is not Gaussian or the standard deviation is very small the escalation of maximums and minimums is the best idea.\n",
    "However, it is sensitive to outliers or outliers, so if there are outliers in the data it is better to consider robust scaling.\n",
    "\n",
    "- `Robust Scaler` it is similar to the previous one of maximums and minimums, only that it uses interquartile ranges instead of maximums and minimums, which makes it robust for the outliers\n",
    "\n",
    "- `Normalizer` which scales each value, dividing each value by its magnitude in n dimensional spaces for n number of characteristics.\n",
    "\n",
    "\n",
    "---\n"
   ]
  },
  {
   "cell_type": "markdown",
   "metadata": {},
   "source": [
    "We will use the scaling of maximums and minimums to scale the water table data, because the standard deviation is very small, \n",
    "\n",
    "it does not have atypical values and it does not follow a normal distribution (you have to check this)\n",
    "\n",
    "We apply the maximum and minimum scaling. We provide a rank or base scale that **will be between 0 and 1** using an object,\n",
    "\n",
    "[MinMaxScaler](http://scikit-learn.org/stable/modules/generated/sklearn.preprocessing.MinMaxScaler.html \"sklearn.preprocessing.MinMaxScaler\") which transforms each characteristic, (in this \n",
    "\n",
    "case it will be the columns feature of `Temperature (C)`) individually according to a given range.\n",
    "\n",
    "Product of its applicability, generates these attributes in the dataset, already transformed: \n",
    "\n",
    "![alt text](https://cldup.com/lTIv4HXgTk-3000x3000.png \"sklearn.preprocessing.MinMaxScaler\")"
   ]
  },
  {
   "cell_type": "markdown",
   "metadata": {},
   "source": [
    "### 3.1 We apply maximium and minimum feature scaling to Temperature training dataset"
   ]
  },
  {
   "cell_type": "code",
   "execution_count": 20,
   "metadata": {},
   "outputs": [
    {
     "name": "stdout",
     "output_type": "stream",
     "text": [
      "Remember our temperature training data \n",
      " [[29.81]\n",
      " [32.12]\n",
      " [23.43]\n",
      " ...\n",
      " [29.12]\n",
      " [25.12]\n",
      " [25.75]]\n"
     ]
    }
   ],
   "source": [
    "# We provide a base scale range\n",
    "scaler = MinMaxScaler(feature_range=(0, 1))\n",
    "\n",
    "print(\"Remember our temperature training data \" + '\\n', temperature_values_train)"
   ]
  },
  {
   "cell_type": "markdown",
   "metadata": {},
   "source": [
    "With the [fit](http://scikit-learn.org/stable/modules/generated/sklearn.preprocessing.MinMaxScaler.html#sklearn.preprocessing.MinMaxScaler.fit  \"MinMaxScaler.fit\")\n",
    "we compute the maximum and minimum value of  `temperature_values_train` dataset to be used in the subsequent scaling \n",
    "\n",
    "We assing these values to `minmax_scale_training` variable."
   ]
  },
  {
   "cell_type": "code",
   "execution_count": 22,
   "metadata": {},
   "outputs": [],
   "source": [
    "minmax_scale_training = scaler.fit(temperature_values_train.astype(float))\n",
    "# print(minmax_scale_training.data_max_)\n",
    "# http://terrapinssky.blogspot.com/2017/10/pythonresolved-dataconversionwarning.html"
   ]
  },
  {
   "cell_type": "markdown",
   "metadata": {},
   "source": [
    "Then, we apply the [transform](http://scikit-learn.org/stable/modules/generated/sklearn.preprocessing.MinMaxScaler.html#sklearn.preprocessing.MinMaxScaler.transform \"MinMaxScaler.transform\") method to transform these data to maximum and mínimum scale value. \n",
    "\n",
    "Here, with this process, the `temperature_values_train` data are scaled between **0 to 1**  selected range \n"
   ]
  },
  {
   "cell_type": "code",
   "execution_count": 23,
   "metadata": {},
   "outputs": [],
   "source": [
    "# transform precipitations_train data to maximum and mínimum scale value. \n",
    "temperature_minmax_training = minmax_scale_training.transform(temperature_values_train)"
   ]
  },
  {
   "cell_type": "code",
   "execution_count": 24,
   "metadata": {},
   "outputs": [
    {
     "name": "stdout",
     "output_type": "stream",
     "text": [
      "And, these are our scaled data: \n",
      "\n"
     ]
    },
    {
     "data": {
      "text/plain": [
       "array([[0.4470339 ],\n",
       "       [0.56938559],\n",
       "       [0.10911017],\n",
       "       ...,\n",
       "       [0.41048729],\n",
       "       [0.19862288],\n",
       "       [0.23199153]])"
      ]
     },
     "execution_count": 24,
     "metadata": {},
     "output_type": "execute_result"
    }
   ],
   "source": [
    "print (\"And, these are our scaled data: \" + '\\n')\n",
    "temperature_minmax_training"
   ]
  },
  {
   "cell_type": "code",
   "execution_count": 25,
   "metadata": {},
   "outputs": [
    {
     "name": "stdout",
     "output_type": "stream",
     "text": [
      "Temperature Training dataset. Minimum value after MaxMinScaler:\n",
      "Luminosity=0.0\n",
      "Temperature Training dataset. Maximum value after MaxMinScaler:\n",
      "Luminosity=1.0\n"
     ]
    }
   ],
   "source": [
    "print('Temperature Training dataset. Minimum value after MaxMinScaler:\\nTemperature={:.1f}'\n",
    "      .format(temperature_minmax_training[:,0].min()))\n",
    "\n",
    "print('Temperature Training dataset. Maximum value after MaxMinScaler:\\nTemperature={:.1f}'\n",
    "      .format(temperature_minmax_training[:,0].max()))"
   ]
  },
  {
   "cell_type": "markdown",
   "metadata": {},
   "source": [
    "Then, our  MinMaxScaler normalized training dataset is `temperature_minmax_training` numpy array\n",
    "\n",
    "- We export this array to comma separated values \n"
   ]
  },
  {
   "cell_type": "code",
   "execution_count": 26,
   "metadata": {},
   "outputs": [],
   "source": [
    "temperature_train_df = pd.DataFrame(temperature_minmax_training, columns=col)"
   ]
  },
  {
   "cell_type": "code",
   "execution_count": 27,
   "metadata": {},
   "outputs": [
    {
     "data": {
      "text/html": [
       "<div>\n",
       "<style scoped>\n",
       "    .dataframe tbody tr th:only-of-type {\n",
       "        vertical-align: middle;\n",
       "    }\n",
       "\n",
       "    .dataframe tbody tr th {\n",
       "        vertical-align: top;\n",
       "    }\n",
       "\n",
       "    .dataframe thead th {\n",
       "        text-align: right;\n",
       "    }\n",
       "</style>\n",
       "<table border=\"1\" class=\"dataframe\">\n",
       "  <thead>\n",
       "    <tr style=\"text-align: right;\">\n",
       "      <th></th>\n",
       "      <th>Temperatura (C)</th>\n",
       "    </tr>\n",
       "  </thead>\n",
       "  <tbody>\n",
       "    <tr>\n",
       "      <th>0</th>\n",
       "      <td>0.447034</td>\n",
       "    </tr>\n",
       "    <tr>\n",
       "      <th>1</th>\n",
       "      <td>0.569386</td>\n",
       "    </tr>\n",
       "    <tr>\n",
       "      <th>2</th>\n",
       "      <td>0.109110</td>\n",
       "    </tr>\n",
       "    <tr>\n",
       "      <th>3</th>\n",
       "      <td>0.576271</td>\n",
       "    </tr>\n",
       "    <tr>\n",
       "      <th>4</th>\n",
       "      <td>0.271716</td>\n",
       "    </tr>\n",
       "    <tr>\n",
       "      <th>5</th>\n",
       "      <td>0.026483</td>\n",
       "    </tr>\n",
       "    <tr>\n",
       "      <th>6</th>\n",
       "      <td>0.198623</td>\n",
       "    </tr>\n",
       "    <tr>\n",
       "      <th>7</th>\n",
       "      <td>0.668962</td>\n",
       "    </tr>\n",
       "    <tr>\n",
       "      <th>8</th>\n",
       "      <td>0.506356</td>\n",
       "    </tr>\n",
       "    <tr>\n",
       "      <th>9</th>\n",
       "      <td>0.115996</td>\n",
       "    </tr>\n",
       "    <tr>\n",
       "      <th>10</th>\n",
       "      <td>0.129237</td>\n",
       "    </tr>\n",
       "    <tr>\n",
       "      <th>11</th>\n",
       "      <td>0.182203</td>\n",
       "    </tr>\n",
       "    <tr>\n",
       "      <th>12</th>\n",
       "      <td>0.182203</td>\n",
       "    </tr>\n",
       "    <tr>\n",
       "      <th>13</th>\n",
       "      <td>0.105932</td>\n",
       "    </tr>\n",
       "    <tr>\n",
       "      <th>14</th>\n",
       "      <td>0.129237</td>\n",
       "    </tr>\n",
       "    <tr>\n",
       "      <th>15</th>\n",
       "      <td>0.145657</td>\n",
       "    </tr>\n",
       "    <tr>\n",
       "      <th>16</th>\n",
       "      <td>0.082627</td>\n",
       "    </tr>\n",
       "    <tr>\n",
       "      <th>17</th>\n",
       "      <td>0.218750</td>\n",
       "    </tr>\n",
       "    <tr>\n",
       "      <th>18</th>\n",
       "      <td>0.162076</td>\n",
       "    </tr>\n",
       "    <tr>\n",
       "      <th>19</th>\n",
       "      <td>0.139301</td>\n",
       "    </tr>\n",
       "    <tr>\n",
       "      <th>20</th>\n",
       "      <td>0.327860</td>\n",
       "    </tr>\n",
       "    <tr>\n",
       "      <th>21</th>\n",
       "      <td>0.126059</td>\n",
       "    </tr>\n",
       "    <tr>\n",
       "      <th>22</th>\n",
       "      <td>0.195445</td>\n",
       "    </tr>\n",
       "    <tr>\n",
       "      <th>23</th>\n",
       "      <td>0.364407</td>\n",
       "    </tr>\n",
       "    <tr>\n",
       "      <th>24</th>\n",
       "      <td>0.532839</td>\n",
       "    </tr>\n",
       "    <tr>\n",
       "      <th>25</th>\n",
       "      <td>0.387182</td>\n",
       "    </tr>\n",
       "    <tr>\n",
       "      <th>26</th>\n",
       "      <td>0.807733</td>\n",
       "    </tr>\n",
       "    <tr>\n",
       "      <th>27</th>\n",
       "      <td>0.351165</td>\n",
       "    </tr>\n",
       "    <tr>\n",
       "      <th>28</th>\n",
       "      <td>0.185381</td>\n",
       "    </tr>\n",
       "    <tr>\n",
       "      <th>29</th>\n",
       "      <td>0.201801</td>\n",
       "    </tr>\n",
       "    <tr>\n",
       "      <th>...</th>\n",
       "      <td>...</td>\n",
       "    </tr>\n",
       "    <tr>\n",
       "      <th>7771</th>\n",
       "      <td>0.728284</td>\n",
       "    </tr>\n",
       "    <tr>\n",
       "      <th>7772</th>\n",
       "      <td>0.082627</td>\n",
       "    </tr>\n",
       "    <tr>\n",
       "      <th>7773</th>\n",
       "      <td>0.119174</td>\n",
       "    </tr>\n",
       "    <tr>\n",
       "      <th>7774</th>\n",
       "      <td>0.211864</td>\n",
       "    </tr>\n",
       "    <tr>\n",
       "      <th>7775</th>\n",
       "      <td>0.245233</td>\n",
       "    </tr>\n",
       "    <tr>\n",
       "      <th>7776</th>\n",
       "      <td>0.248411</td>\n",
       "    </tr>\n",
       "    <tr>\n",
       "      <th>7777</th>\n",
       "      <td>0.254767</td>\n",
       "    </tr>\n",
       "    <tr>\n",
       "      <th>7778</th>\n",
       "      <td>0.377648</td>\n",
       "    </tr>\n",
       "    <tr>\n",
       "      <th>7779</th>\n",
       "      <td>0.320975</td>\n",
       "    </tr>\n",
       "    <tr>\n",
       "      <th>7780</th>\n",
       "      <td>0.268008</td>\n",
       "    </tr>\n",
       "    <tr>\n",
       "      <th>7781</th>\n",
       "      <td>0.254767</td>\n",
       "    </tr>\n",
       "    <tr>\n",
       "      <th>7782</th>\n",
       "      <td>0.211864</td>\n",
       "    </tr>\n",
       "    <tr>\n",
       "      <th>7783</th>\n",
       "      <td>0.201801</td>\n",
       "    </tr>\n",
       "    <tr>\n",
       "      <th>7784</th>\n",
       "      <td>0.791314</td>\n",
       "    </tr>\n",
       "    <tr>\n",
       "      <th>7785</th>\n",
       "      <td>0.095869</td>\n",
       "    </tr>\n",
       "    <tr>\n",
       "      <th>7786</th>\n",
       "      <td>0.510064</td>\n",
       "    </tr>\n",
       "    <tr>\n",
       "      <th>7787</th>\n",
       "      <td>0.394068</td>\n",
       "    </tr>\n",
       "    <tr>\n",
       "      <th>7788</th>\n",
       "      <td>0.105932</td>\n",
       "    </tr>\n",
       "    <tr>\n",
       "      <th>7789</th>\n",
       "      <td>0.188559</td>\n",
       "    </tr>\n",
       "    <tr>\n",
       "      <th>7790</th>\n",
       "      <td>0.351165</td>\n",
       "    </tr>\n",
       "    <tr>\n",
       "      <th>7791</th>\n",
       "      <td>0.595869</td>\n",
       "    </tr>\n",
       "    <tr>\n",
       "      <th>7792</th>\n",
       "      <td>0.655720</td>\n",
       "    </tr>\n",
       "    <tr>\n",
       "      <th>7793</th>\n",
       "      <td>0.231992</td>\n",
       "    </tr>\n",
       "    <tr>\n",
       "      <th>7794</th>\n",
       "      <td>0.274894</td>\n",
       "    </tr>\n",
       "    <tr>\n",
       "      <th>7795</th>\n",
       "      <td>0.529661</td>\n",
       "    </tr>\n",
       "    <tr>\n",
       "      <th>7796</th>\n",
       "      <td>0.126059</td>\n",
       "    </tr>\n",
       "    <tr>\n",
       "      <th>7797</th>\n",
       "      <td>0.188559</td>\n",
       "    </tr>\n",
       "    <tr>\n",
       "      <th>7798</th>\n",
       "      <td>0.410487</td>\n",
       "    </tr>\n",
       "    <tr>\n",
       "      <th>7799</th>\n",
       "      <td>0.198623</td>\n",
       "    </tr>\n",
       "    <tr>\n",
       "      <th>7800</th>\n",
       "      <td>0.231992</td>\n",
       "    </tr>\n",
       "  </tbody>\n",
       "</table>\n",
       "<p>7801 rows × 1 columns</p>\n",
       "</div>"
      ],
      "text/plain": [
       "      Temperatura (C)\n",
       "0            0.447034\n",
       "1            0.569386\n",
       "2            0.109110\n",
       "3            0.576271\n",
       "4            0.271716\n",
       "5            0.026483\n",
       "6            0.198623\n",
       "7            0.668962\n",
       "8            0.506356\n",
       "9            0.115996\n",
       "10           0.129237\n",
       "11           0.182203\n",
       "12           0.182203\n",
       "13           0.105932\n",
       "14           0.129237\n",
       "15           0.145657\n",
       "16           0.082627\n",
       "17           0.218750\n",
       "18           0.162076\n",
       "19           0.139301\n",
       "20           0.327860\n",
       "21           0.126059\n",
       "22           0.195445\n",
       "23           0.364407\n",
       "24           0.532839\n",
       "25           0.387182\n",
       "26           0.807733\n",
       "27           0.351165\n",
       "28           0.185381\n",
       "29           0.201801\n",
       "...               ...\n",
       "7771         0.728284\n",
       "7772         0.082627\n",
       "7773         0.119174\n",
       "7774         0.211864\n",
       "7775         0.245233\n",
       "7776         0.248411\n",
       "7777         0.254767\n",
       "7778         0.377648\n",
       "7779         0.320975\n",
       "7780         0.268008\n",
       "7781         0.254767\n",
       "7782         0.211864\n",
       "7783         0.201801\n",
       "7784         0.791314\n",
       "7785         0.095869\n",
       "7786         0.510064\n",
       "7787         0.394068\n",
       "7788         0.105932\n",
       "7789         0.188559\n",
       "7790         0.351165\n",
       "7791         0.595869\n",
       "7792         0.655720\n",
       "7793         0.231992\n",
       "7794         0.274894\n",
       "7795         0.529661\n",
       "7796         0.126059\n",
       "7797         0.188559\n",
       "7798         0.410487\n",
       "7799         0.198623\n",
       "7800         0.231992\n",
       "\n",
       "[7801 rows x 1 columns]"
      ]
     },
     "execution_count": 27,
     "metadata": {},
     "output_type": "execute_result"
    }
   ],
   "source": [
    "temperature_train_df"
   ]
  },
  {
   "cell_type": "code",
   "execution_count": null,
   "metadata": {},
   "outputs": [],
   "source": [
    "In this way we have the dataset `temperature_train_df` standardized and training, and export it to a .csv file"
   ]
  },
  {
   "cell_type": "code",
   "execution_count": 29,
   "metadata": {},
   "outputs": [],
   "source": [
    "temperature_train_df.to_csv('../../../../data/processed/Temperature/28-weeks_January-12_August-03_2018/' +'\\n' \n",
    "                                 'Temperature_Normalized_TRAINING_January-12_August-03.csv', sep=',', header=True, index=False)"
   ]
  },
  {
   "cell_type": "markdown",
   "metadata": {},
   "source": [
    "### 3.2 We apply maximium and minimum feature scaling to Temperature testing dataset\n"
   ]
  },
  {
   "cell_type": "code",
   "execution_count": 31,
   "metadata": {},
   "outputs": [
    {
     "name": "stdout",
     "output_type": "stream",
     "text": [
      "Remember our precipitations testing data \n",
      " [[29.5 ]\n",
      " [22.18]\n",
      " [24.12]\n",
      " ...\n",
      " [28.87]\n",
      " [25.62]\n",
      " [31.37]]\n"
     ]
    }
   ],
   "source": [
    "# We provide a base scale range\n",
    "scaler = MinMaxScaler(feature_range=(0, 1))\n",
    "\n",
    "print(\"Remember our temperature testing data \" + '\\n', temperature_values_test)"
   ]
  },
  {
   "cell_type": "code",
   "execution_count": 32,
   "metadata": {},
   "outputs": [],
   "source": [
    "minmax_scale_test = scaler.fit(temperature_values_test.astype(float))\n",
    "# transform luminosity_luxes_test data to maximum and mínimum scale value. \n",
    "temperature_minmax_test = minmax_scale_test.transform(temperature_values_test)"
   ]
  },
  {
   "cell_type": "code",
   "execution_count": 33,
   "metadata": {},
   "outputs": [
    {
     "name": "stdout",
     "output_type": "stream",
     "text": [
      "And, these are our testing scaled data: \n",
      "\n"
     ]
    },
    {
     "data": {
      "text/plain": [
       "array([[0.43777778],\n",
       "       [0.03111111],\n",
       "       [0.13888889],\n",
       "       ...,\n",
       "       [0.40277778],\n",
       "       [0.22222222],\n",
       "       [0.54166667]])"
      ]
     },
     "execution_count": 33,
     "metadata": {},
     "output_type": "execute_result"
    }
   ],
   "source": [
    "print (\"And, these are our testing scaled data: \" + '\\n')\n",
    "temperature_minmax_test"
   ]
  },
  {
   "cell_type": "code",
   "execution_count": 34,
   "metadata": {},
   "outputs": [
    {
     "name": "stdout",
     "output_type": "stream",
     "text": [
      "Temperature Testing dataset. Minimum value after MaxMinScaler:\n",
      "Temperature=0.0\n",
      "Luminosity Testing dataset. Maximum value after MaxMinScaler:\n",
      "Temperature=1.0\n"
     ]
    }
   ],
   "source": [
    "print('Temperature Testing dataset. Minimum value after MaxMinScaler:\\nTemperature={:.1f}'\n",
    "      .format(temperature_minmax_test[:,0].min()))\n",
    "\n",
    "print('Temperature Testing dataset. Maximum value after MaxMinScaler:\\nTemperature={:.1f}'\n",
    "      .format(temperature_minmax_test[:,0].max()))"
   ]
  },
  {
   "cell_type": "markdown",
   "metadata": {},
   "source": [
    "Then, our  MinMaxScaler normalized training dataset is `temperature_minmax_test` numpy array\n",
    "\n",
    "- We export this array to comma separated values"
   ]
  },
  {
   "cell_type": "code",
   "execution_count": 35,
   "metadata": {},
   "outputs": [],
   "source": [
    "temperature_test_df = pd.DataFrame(temperature_minmax_test, columns=col)"
   ]
  },
  {
   "cell_type": "code",
   "execution_count": 36,
   "metadata": {},
   "outputs": [
    {
     "name": "stdout",
     "output_type": "stream",
     "text": [
      "(1951, 1)\n"
     ]
    },
    {
     "data": {
      "text/html": [
       "<div>\n",
       "<style scoped>\n",
       "    .dataframe tbody tr th:only-of-type {\n",
       "        vertical-align: middle;\n",
       "    }\n",
       "\n",
       "    .dataframe tbody tr th {\n",
       "        vertical-align: top;\n",
       "    }\n",
       "\n",
       "    .dataframe thead th {\n",
       "        text-align: right;\n",
       "    }\n",
       "</style>\n",
       "<table border=\"1\" class=\"dataframe\">\n",
       "  <thead>\n",
       "    <tr style=\"text-align: right;\">\n",
       "      <th></th>\n",
       "      <th>Temperatura (C)</th>\n",
       "    </tr>\n",
       "  </thead>\n",
       "  <tbody>\n",
       "    <tr>\n",
       "      <th>0</th>\n",
       "      <td>0.437778</td>\n",
       "    </tr>\n",
       "    <tr>\n",
       "      <th>1</th>\n",
       "      <td>0.031111</td>\n",
       "    </tr>\n",
       "    <tr>\n",
       "      <th>2</th>\n",
       "      <td>0.138889</td>\n",
       "    </tr>\n",
       "    <tr>\n",
       "      <th>3</th>\n",
       "      <td>0.180556</td>\n",
       "    </tr>\n",
       "    <tr>\n",
       "      <th>4</th>\n",
       "      <td>0.635556</td>\n",
       "    </tr>\n",
       "  </tbody>\n",
       "</table>\n",
       "</div>"
      ],
      "text/plain": [
       "   Temperatura (C)\n",
       "0         0.437778\n",
       "1         0.031111\n",
       "2         0.138889\n",
       "3         0.180556\n",
       "4         0.635556"
      ]
     },
     "execution_count": 36,
     "metadata": {},
     "output_type": "execute_result"
    }
   ],
   "source": [
    "print(temperature_test_df.shape)\n",
    "temperature_test_df.head()"
   ]
  },
  {
   "cell_type": "code",
   "execution_count": 37,
   "metadata": {},
   "outputs": [],
   "source": [
    "temperature_test_df.to_csv('../../../../data/processed/Temperature/28-weeks_January-12_August-03_2018/' +'\\n' \n",
    "                                 'Temperature_Normalized_TESTING_January-12_August-03.csv', sep=',', header=True, index=False)"
   ]
  },
  {
   "cell_type": "code",
   "execution_count": null,
   "metadata": {},
   "outputs": [],
   "source": []
  }
 ],
 "metadata": {
  "kernelspec": {
   "display_name": "Python 3",
   "language": "python",
   "name": "python3"
  },
  "language_info": {
   "codemirror_mode": {
    "name": "ipython",
    "version": 3
   },
   "file_extension": ".py",
   "mimetype": "text/x-python",
   "name": "python",
   "nbconvert_exporter": "python",
   "pygments_lexer": "ipython3",
   "version": "3.6.5"
  }
 },
 "nbformat": 4,
 "nbformat_minor": 2
}
