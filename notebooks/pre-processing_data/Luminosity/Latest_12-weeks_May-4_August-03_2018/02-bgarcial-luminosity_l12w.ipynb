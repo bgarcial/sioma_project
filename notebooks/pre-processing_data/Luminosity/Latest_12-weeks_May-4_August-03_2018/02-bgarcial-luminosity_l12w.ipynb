{
 "cells": [
  {
   "cell_type": "code",
   "execution_count": 46,
   "metadata": {},
   "outputs": [],
   "source": [
    "from __future__ import unicode_literals\n",
    "\n",
    "import pandas as pd\n",
    "import numpy as np\n",
    "from sklearn import preprocessing\n",
    "from matplotlib import pyplot as plt\n",
    "from sklearn.preprocessing import MinMaxScaler\n",
    "from sklearn.preprocessing import LabelEncoder, OneHotEncoder\n",
    "from sklearn.model_selection import train_test_split"
   ]
  },
  {
   "cell_type": "markdown",
   "metadata": {},
   "source": [
    "# 1. Preparing data - Latest 12 weeks of life of the banana plant\n",
    "---"
   ]
  },
  {
   "cell_type": "code",
   "execution_count": 47,
   "metadata": {},
   "outputs": [],
   "source": [
    "luminosity_lw12 = pd.read_csv('../../../../data/raw/FincaPorvenir/Metereologico/Latest_12-weeks_May-4_August-03_2018/' \\\n",
    "                                 'Luz_May-4_August-03_2018.csv', )"
   ]
  },
  {
   "cell_type": "code",
   "execution_count": 48,
   "metadata": {},
   "outputs": [
    {
     "name": "stdout",
     "output_type": "stream",
     "text": [
      "(4398, 2)\n"
     ]
    },
    {
     "data": {
      "text/html": [
       "<div>\n",
       "<style scoped>\n",
       "    .dataframe tbody tr th:only-of-type {\n",
       "        vertical-align: middle;\n",
       "    }\n",
       "\n",
       "    .dataframe tbody tr th {\n",
       "        vertical-align: top;\n",
       "    }\n",
       "\n",
       "    .dataframe thead th {\n",
       "        text-align: right;\n",
       "    }\n",
       "</style>\n",
       "<table border=\"1\" class=\"dataframe\">\n",
       "  <thead>\n",
       "    <tr style=\"text-align: right;\">\n",
       "      <th></th>\n",
       "      <th>Fecha:</th>\n",
       "      <th>Luz (lux)</th>\n",
       "    </tr>\n",
       "  </thead>\n",
       "  <tbody>\n",
       "    <tr>\n",
       "      <th>0</th>\n",
       "      <td>2018-05-04 00:07:38</td>\n",
       "      <td>1</td>\n",
       "    </tr>\n",
       "    <tr>\n",
       "      <th>1</th>\n",
       "      <td>2018-05-04 00:37:39</td>\n",
       "      <td>1</td>\n",
       "    </tr>\n",
       "    <tr>\n",
       "      <th>2</th>\n",
       "      <td>2018-05-04 01:07:38</td>\n",
       "      <td>1</td>\n",
       "    </tr>\n",
       "    <tr>\n",
       "      <th>3</th>\n",
       "      <td>2018-05-04 01:37:38</td>\n",
       "      <td>1</td>\n",
       "    </tr>\n",
       "    <tr>\n",
       "      <th>4</th>\n",
       "      <td>2018-05-04 02:07:38</td>\n",
       "      <td>1</td>\n",
       "    </tr>\n",
       "  </tbody>\n",
       "</table>\n",
       "</div>"
      ],
      "text/plain": [
       "                Fecha:  Luz (lux)\n",
       "0  2018-05-04 00:07:38          1\n",
       "1  2018-05-04 00:37:39          1\n",
       "2  2018-05-04 01:07:38          1\n",
       "3  2018-05-04 01:37:38          1\n",
       "4  2018-05-04 02:07:38          1"
      ]
     },
     "execution_count": 48,
     "metadata": {},
     "output_type": "execute_result"
    }
   ],
   "source": [
    "print(luminosity_lw12.shape)\n",
    "luminosity_lw12.head()"
   ]
  },
  {
   "cell_type": "markdown",
   "metadata": {},
   "source": [
    "## 1.1. We evaluate if this dataset has null type `NaN`\n",
    "---"
   ]
  },
  {
   "cell_type": "code",
   "execution_count": 49,
   "metadata": {},
   "outputs": [
    {
     "name": "stdout",
     "output_type": "stream",
     "text": [
      "Fecha:       False\n",
      "Luz (lux)    False\n",
      "dtype: bool\n"
     ]
    },
    {
     "data": {
      "text/plain": [
       "False"
      ]
     },
     "execution_count": 49,
     "metadata": {},
     "output_type": "execute_result"
    }
   ],
   "source": [
    "print(luminosity_lw12.isnull().any())\n",
    "luminosity_lw12.isnull().values.any()"
   ]
  },
  {
   "cell_type": "markdown",
   "metadata": {},
   "source": [
    "Don't have null values\n",
    "\n",
    "## 1.2. Selecting  relevant index columns features\n",
    "---\n",
    "\n",
    "Since the dataset has a column called **`Fecha:`**, which is not a numerical value,\n",
    "\n",
    "it will be removed so that it does not interfere **with our subsequent scaling**, \n",
    "\n",
    "so we are only going to reference the values or samples of the column\n",
    "\n",
    "** `Luz (lux)` ** and assigning them to the matrix \n",
    "\n",
    "`luminosity_luxes_l12w` created such as follow:\n"
   ]
  },
  {
   "cell_type": "code",
   "execution_count": 50,
   "metadata": {},
   "outputs": [
    {
     "name": "stdout",
     "output_type": "stream",
     "text": [
      "<class 'numpy.ndarray'>\n"
     ]
    },
    {
     "data": {
      "text/plain": [
       "array([1, 1, 1, ..., 1, 1, 1])"
      ]
     },
     "execution_count": 50,
     "metadata": {},
     "output_type": "execute_result"
    }
   ],
   "source": [
    "luminosity_luxes_l12w = luminosity_lw12.iloc[:, 1].values\n",
    "\n",
    "print(type(luminosity_luxes_l12w))\n",
    "# When we use iloc() dataframe function, the variable is turned on numpy array\n",
    "\n",
    "luminosity_luxes_l12w"
   ]
  },
  {
   "cell_type": "code",
   "execution_count": 51,
   "metadata": {},
   "outputs": [
    {
     "data": {
      "text/plain": [
       "array([[1],\n",
       "       [1],\n",
       "       [1],\n",
       "       ...,\n",
       "       [1],\n",
       "       [1],\n",
       "       [1]])"
      ]
     },
     "execution_count": 51,
     "metadata": {},
     "output_type": "execute_result"
    }
   ],
   "source": [
    "# Rehape the luminosity_luxes array \n",
    "luminosity_luxes_l12w = luminosity_luxes_l12w.reshape(-1,1)\n",
    "\n",
    "luminosity_luxes_l12w"
   ]
  },
  {
   "cell_type": "markdown",
   "metadata": {},
   "source": [
    "## 1.3 Generating descriptive data to dataset\n",
    "---"
   ]
  },
  {
   "cell_type": "code",
   "execution_count": 52,
   "metadata": {},
   "outputs": [],
   "source": [
    "col = ['Luz (lux)']\n",
    "luminosity_luxes_l12w_df = pd.DataFrame(luminosity_luxes_l12w, columns=col)\n",
    "luminosity_luxes_l12w_df_describe = luminosity_luxes_l12w_df.describe()"
   ]
  },
  {
   "cell_type": "code",
   "execution_count": 53,
   "metadata": {},
   "outputs": [
    {
     "data": {
      "text/html": [
       "<div>\n",
       "<style scoped>\n",
       "    .dataframe tbody tr th:only-of-type {\n",
       "        vertical-align: middle;\n",
       "    }\n",
       "\n",
       "    .dataframe tbody tr th {\n",
       "        vertical-align: top;\n",
       "    }\n",
       "\n",
       "    .dataframe thead th {\n",
       "        text-align: right;\n",
       "    }\n",
       "</style>\n",
       "<table border=\"1\" class=\"dataframe\">\n",
       "  <thead>\n",
       "    <tr style=\"text-align: right;\">\n",
       "      <th></th>\n",
       "      <th>Luz (lux)</th>\n",
       "    </tr>\n",
       "  </thead>\n",
       "  <tbody>\n",
       "    <tr>\n",
       "      <th>count</th>\n",
       "      <td>4398.000000</td>\n",
       "    </tr>\n",
       "    <tr>\n",
       "      <th>mean</th>\n",
       "      <td>10973.295134</td>\n",
       "    </tr>\n",
       "    <tr>\n",
       "      <th>std</th>\n",
       "      <td>14654.471959</td>\n",
       "    </tr>\n",
       "    <tr>\n",
       "      <th>min</th>\n",
       "      <td>1.000000</td>\n",
       "    </tr>\n",
       "    <tr>\n",
       "      <th>25%</th>\n",
       "      <td>1.000000</td>\n",
       "    </tr>\n",
       "    <tr>\n",
       "      <th>50%</th>\n",
       "      <td>990.000000</td>\n",
       "    </tr>\n",
       "    <tr>\n",
       "      <th>75%</th>\n",
       "      <td>21192.000000</td>\n",
       "    </tr>\n",
       "    <tr>\n",
       "      <th>max</th>\n",
       "      <td>53280.000000</td>\n",
       "    </tr>\n",
       "  </tbody>\n",
       "</table>\n",
       "</div>"
      ],
      "text/plain": [
       "          Luz (lux)\n",
       "count   4398.000000\n",
       "mean   10973.295134\n",
       "std    14654.471959\n",
       "min        1.000000\n",
       "25%        1.000000\n",
       "50%      990.000000\n",
       "75%    21192.000000\n",
       "max    53280.000000"
      ]
     },
     "execution_count": 53,
     "metadata": {},
     "output_type": "execute_result"
    }
   ],
   "source": [
    "luminosity_luxes_l12w_df_describe"
   ]
  },
  {
   "cell_type": "code",
   "execution_count": 54,
   "metadata": {},
   "outputs": [],
   "source": [
    "# https://pandas.pydata.org/pandas-docs/stable/generated/pandas.DataFrame.to_csv.html\n",
    "# Export this descriptive data to comma separated values and java script object notation\n",
    "luminosity_luxes_l12w_df_describe.to_csv('../../../../data/interim/Luminosity/Latest_12-weeks_May-4_August-03_2018/' +'\\n' \n",
    "                              'Luminosity_Describe_May-4_August-03.cvs', sep=',', header=True, index=True)\n",
    "luminosity_luxes_l12w_df_describe.to_json('../../../../data/interim/Luminosity/Latest_12-weeks_May-4_August-03_2018/' +'\\n'\n",
    "                                     'Luminosity_Describe_May-4_August-03.json')"
   ]
  },
  {
   "cell_type": "markdown",
   "metadata": {},
   "source": [
    "## 2. Creating luminosity Training and Testing datasets\n",
    "\n",
    "We have a **`luminosity_luxes_l12w_df`** dataset with 4398 samples rows."
   ]
  },
  {
   "cell_type": "code",
   "execution_count": 55,
   "metadata": {},
   "outputs": [
    {
     "name": "stdout",
     "output_type": "stream",
     "text": [
      "(4398, 1)\n"
     ]
    },
    {
     "data": {
      "text/html": [
       "<div>\n",
       "<style scoped>\n",
       "    .dataframe tbody tr th:only-of-type {\n",
       "        vertical-align: middle;\n",
       "    }\n",
       "\n",
       "    .dataframe tbody tr th {\n",
       "        vertical-align: top;\n",
       "    }\n",
       "\n",
       "    .dataframe thead th {\n",
       "        text-align: right;\n",
       "    }\n",
       "</style>\n",
       "<table border=\"1\" class=\"dataframe\">\n",
       "  <thead>\n",
       "    <tr style=\"text-align: right;\">\n",
       "      <th></th>\n",
       "      <th>Luz (lux)</th>\n",
       "    </tr>\n",
       "  </thead>\n",
       "  <tbody>\n",
       "    <tr>\n",
       "      <th>0</th>\n",
       "      <td>1</td>\n",
       "    </tr>\n",
       "    <tr>\n",
       "      <th>1</th>\n",
       "      <td>1</td>\n",
       "    </tr>\n",
       "    <tr>\n",
       "      <th>2</th>\n",
       "      <td>1</td>\n",
       "    </tr>\n",
       "    <tr>\n",
       "      <th>3</th>\n",
       "      <td>1</td>\n",
       "    </tr>\n",
       "    <tr>\n",
       "      <th>4</th>\n",
       "      <td>1</td>\n",
       "    </tr>\n",
       "  </tbody>\n",
       "</table>\n",
       "</div>"
      ],
      "text/plain": [
       "   Luz (lux)\n",
       "0          1\n",
       "1          1\n",
       "2          1\n",
       "3          1\n",
       "4          1"
      ]
     },
     "execution_count": 55,
     "metadata": {},
     "output_type": "execute_result"
    }
   ],
   "source": [
    "print(luminosity_luxes_l12w_df.shape)\n",
    "luminosity_luxes_l12w_df.head()"
   ]
  },
  {
   "cell_type": "markdown",
   "metadata": {},
   "source": [
    "We'll divide it into two differents datasets:\n",
    "\n",
    "- Training dataset\n",
    "- Testing dataset\n",
    "\n",
    "This is executed through [train_test_split](http://scikit-learn.org/stable/modules/generated/sklearn.model_selection.train_test_split.html  \"sklearn.model_selection.train_test_split\") function of this way:\n",
    "\n",
    "`train_test_split` receive as a data parameter a numpy array, we have to turn the \n",
    "\n",
    "**`luminosity_luxes_l12w_df`** dataframe to numpy array such as follow:"
   ]
  },
  {
   "cell_type": "code",
   "execution_count": 56,
   "metadata": {},
   "outputs": [
    {
     "name": "stdout",
     "output_type": "stream",
     "text": [
      "(4398, 1)\n",
      "<class 'numpy.ndarray'>\n"
     ]
    },
    {
     "data": {
      "text/plain": [
       "array([[1],\n",
       "       [1],\n",
       "       [1],\n",
       "       ...,\n",
       "       [1],\n",
       "       [1],\n",
       "       [1]])"
      ]
     },
     "execution_count": 56,
     "metadata": {},
     "output_type": "execute_result"
    }
   ],
   "source": [
    "# numpy_luminosity_luxes_l12w = luminosity_luxes_l12w_df.reset_index().values\n",
    "numpy_luminosity_luxes_l12w = luminosity_luxes_l12w_df.values\n",
    "\n",
    "# My numpy_luminosity_luxes_l12w variable now is a numpy array\n",
    "print(numpy_luminosity_luxes_l12w.shape)\n",
    "print(type(numpy_luminosity_luxes_l12w))\n",
    "numpy_luminosity_luxes_l12w"
   ]
  },
  {
   "cell_type": "markdown",
   "metadata": {},
   "source": [
    "We compose the following datasets from **`numpy_luminosity_luxes`** array :\n",
    "\n",
    "- `luminosity_luxes_l12w_train`, which is the training matrix\n",
    "- `luminosity_luxes_l12w_test`, the testing matrix\n",
    "\n",
    "We use the [train_test_split](http://scikit-learn.org/stable/modules/generated/sklearn.model_selection.train_test_split.html  \"sklearn.model_selection.train_test_split\") function to create the training and testing dataset."
   ]
  },
  {
   "cell_type": "markdown",
   "metadata": {},
   "source": [
    "### 2.1  Creating Training and testing luminosity datasets\n",
    "---\n",
    "\n",
    "- `luminosity_luxes_l12w_train`, which is the training matrix\n",
    "- `luminosity_luxes_l12w_test`, the testing matrix"
   ]
  },
  {
   "cell_type": "code",
   "execution_count": 57,
   "metadata": {},
   "outputs": [
    {
     "name": "stdout",
     "output_type": "stream",
     "text": [
      "<class 'numpy.ndarray'>\n",
      "The dimensionality of luminosity training dataset is: \n",
      " (3518, 1)\n",
      "\n",
      "\n",
      "<class 'numpy.ndarray'>\n",
      "The dimensionality of luminosity testing dataset is: \n",
      " (880, 1)\n"
     ]
    }
   ],
   "source": [
    "luminosity_luxes_l12w_train, luminosity_luxes_l12w_test = train_test_split(numpy_luminosity_luxes_l12w, test_size = 0.2)\n",
    "\n",
    "# We have 3518 rows to luminosity_luxes_train\n",
    "print(type(luminosity_luxes_l12w_train))\n",
    "print(\"The dimensionality of luminosity training dataset is: \" +'\\n' , luminosity_luxes_l12w_train.shape)\n",
    "print('\\n')\n",
    "\n",
    "# And we have 880 rows to luminosity_luxes_test\n",
    "print(type(luminosity_luxes_l12w_test))\n",
    "print(\"The dimensionality of luminosity testing dataset is: \" +'\\n' , luminosity_luxes_l12w_test.shape)"
   ]
  },
  {
   "cell_type": "markdown",
   "metadata": {},
   "source": [
    "---\n",
    "##  3. Feature Scaling Luminosity training and testing dataset  \n",
    "---\n",
    "\n",
    "e will use the scaling of maximums and minimums to scale the water table data, because the standard deviation is very small, \n",
    "\n",
    "it does not have atypical values and it does not follow a normal distribution (you have to check this)\n",
    "\n",
    "We apply the maximum and minimum scaling. We provide a rank or base scale that **will be between 0 and 1** using an object,\n",
    "\n",
    "[MinMaxScaler](http://scikit-learn.org/stable/modules/generated/sklearn.preprocessing.MinMaxScaler.html \"sklearn.preprocessing.MinMaxScaler\") which transforms each characteristic, (in this \n",
    "\n",
    "case it will be the columns feature of (`Luz (lux)`) individually according to a given range.\n",
    "\n",
    "Product of its applicability, generates these attributes in the dataset, already transformed: \n",
    "\n",
    "![alt text](https://cldup.com/lTIv4HXgTk-3000x3000.png \"sklearn.preprocessing.MinMaxScaler\")"
   ]
  },
  {
   "cell_type": "markdown",
   "metadata": {},
   "source": [
    "### 3.1 We apply maximium and minimum feature scaling to Luminosity training dataset"
   ]
  },
  {
   "cell_type": "code",
   "execution_count": 58,
   "metadata": {},
   "outputs": [
    {
     "name": "stdout",
     "output_type": "stream",
     "text": [
      "Remember our luminosity training data \n",
      " [[    1]\n",
      " [ 2930]\n",
      " [14788]\n",
      " ...\n",
      " [  485]\n",
      " [    1]\n",
      " [43032]]\n"
     ]
    }
   ],
   "source": [
    "# We provide a base scale range\n",
    "scaler = MinMaxScaler(feature_range=(0, 1))\n",
    "\n",
    "print(\"Remember our luminosity training data \" + '\\n', luminosity_luxes_l12w_train)"
   ]
  },
  {
   "cell_type": "markdown",
   "metadata": {},
   "source": [
    "With the [fit](http://scikit-learn.org/stable/modules/generated/sklearn.preprocessing.MinMaxScaler.html#sklearn.preprocessing.MinMaxScaler.fit  \"MinMaxScaler.fit\")\n",
    "we compute the maximum and minimum value of  `luminosity_luxes_l12w_train` dataset to be used in the subsequent scaling \n",
    "\n",
    "We assing these values to `minmax_scale_training` variable."
   ]
  },
  {
   "cell_type": "code",
   "execution_count": 59,
   "metadata": {},
   "outputs": [
    {
     "name": "stdout",
     "output_type": "stream",
     "text": [
      "And, these are our scaled data: \n",
      "\n"
     ]
    },
    {
     "data": {
      "text/plain": [
       "array([[0.        ],\n",
       "       [0.05497476],\n",
       "       [0.27753899],\n",
       "       ...,\n",
       "       [0.00908425],\n",
       "       [0.        ],\n",
       "       [0.80765405]])"
      ]
     },
     "execution_count": 59,
     "metadata": {},
     "output_type": "execute_result"
    }
   ],
   "source": [
    "minmax_scale_training = scaler.fit(luminosity_luxes_l12w_train.astype(float))\n",
    "# print(minmax_scale_training.data_max_)\n",
    "# http://terrapinssky.blogspot.com/2017/10/pythonresolved-dataconversionwarning.html\n",
    "\n",
    "# transform luminosity_luxes_train data to maximum and mínimum scale value. \n",
    "luminosity_luxes_l12w_minmax_training = minmax_scale_training.transform(luminosity_luxes_l12w_train)\n",
    "\n",
    "print (\"And, these are our scaled data: \" + '\\n')\n",
    "luminosity_luxes_l12w_minmax_training"
   ]
  },
  {
   "cell_type": "code",
   "execution_count": 60,
   "metadata": {},
   "outputs": [
    {
     "name": "stdout",
     "output_type": "stream",
     "text": [
      "Luminosity Training dataset. Minimum value after MaxMinScaler:\n",
      "Luminosity=0.0\n",
      "Luminosity Training dataset. Maximum value after MaxMinScaler:\n",
      "Luminosity=1.0\n"
     ]
    }
   ],
   "source": [
    "print('Luminosity Training dataset. Minimum value after MaxMinScaler:\\nLuminosity={:.1f}'\n",
    "      .format(luminosity_luxes_l12w_minmax_training[:,0].min()))\n",
    "\n",
    "print('Luminosity Training dataset. Maximum value after MaxMinScaler:\\nLuminosity={:.1f}'\n",
    "      .format(luminosity_luxes_l12w_minmax_training[:,0].max()))"
   ]
  },
  {
   "cell_type": "markdown",
   "metadata": {},
   "source": [
    "Then, our  MinMaxScaler normalized training dataset is `luminosity_luxes_l12w_minmax_training` numpy array\n",
    "\n",
    "- We export this array to comma separated values"
   ]
  },
  {
   "cell_type": "code",
   "execution_count": 61,
   "metadata": {},
   "outputs": [],
   "source": [
    "luminosity_luxes_l12w_train_df = pd.DataFrame(luminosity_luxes_l12w_minmax_training, columns=col)"
   ]
  },
  {
   "cell_type": "code",
   "execution_count": 62,
   "metadata": {},
   "outputs": [
    {
     "name": "stdout",
     "output_type": "stream",
     "text": [
      "(3518, 1)\n"
     ]
    },
    {
     "data": {
      "text/html": [
       "<div>\n",
       "<style scoped>\n",
       "    .dataframe tbody tr th:only-of-type {\n",
       "        vertical-align: middle;\n",
       "    }\n",
       "\n",
       "    .dataframe tbody tr th {\n",
       "        vertical-align: top;\n",
       "    }\n",
       "\n",
       "    .dataframe thead th {\n",
       "        text-align: right;\n",
       "    }\n",
       "</style>\n",
       "<table border=\"1\" class=\"dataframe\">\n",
       "  <thead>\n",
       "    <tr style=\"text-align: right;\">\n",
       "      <th></th>\n",
       "      <th>Luz (lux)</th>\n",
       "    </tr>\n",
       "  </thead>\n",
       "  <tbody>\n",
       "    <tr>\n",
       "      <th>0</th>\n",
       "      <td>0.000000</td>\n",
       "    </tr>\n",
       "    <tr>\n",
       "      <th>1</th>\n",
       "      <td>0.054975</td>\n",
       "    </tr>\n",
       "    <tr>\n",
       "      <th>2</th>\n",
       "      <td>0.277539</td>\n",
       "    </tr>\n",
       "    <tr>\n",
       "      <th>3</th>\n",
       "      <td>0.100884</td>\n",
       "    </tr>\n",
       "    <tr>\n",
       "      <th>4</th>\n",
       "      <td>0.445072</td>\n",
       "    </tr>\n",
       "  </tbody>\n",
       "</table>\n",
       "</div>"
      ],
      "text/plain": [
       "   Luz (lux)\n",
       "0   0.000000\n",
       "1   0.054975\n",
       "2   0.277539\n",
       "3   0.100884\n",
       "4   0.445072"
      ]
     },
     "execution_count": 62,
     "metadata": {},
     "output_type": "execute_result"
    }
   ],
   "source": [
    "print(luminosity_luxes_l12w_train_df.shape)\n",
    "luminosity_luxes_l12w_train_df.head()"
   ]
  },
  {
   "cell_type": "code",
   "execution_count": 63,
   "metadata": {},
   "outputs": [
    {
     "data": {
      "text/html": [
       "<div>\n",
       "<style scoped>\n",
       "    .dataframe tbody tr th:only-of-type {\n",
       "        vertical-align: middle;\n",
       "    }\n",
       "\n",
       "    .dataframe tbody tr th {\n",
       "        vertical-align: top;\n",
       "    }\n",
       "\n",
       "    .dataframe thead th {\n",
       "        text-align: right;\n",
       "    }\n",
       "</style>\n",
       "<table border=\"1\" class=\"dataframe\">\n",
       "  <thead>\n",
       "    <tr style=\"text-align: right;\">\n",
       "      <th></th>\n",
       "      <th>Luz (lux)</th>\n",
       "    </tr>\n",
       "  </thead>\n",
       "  <tbody>\n",
       "  </tbody>\n",
       "</table>\n",
       "</div>"
      ],
      "text/plain": [
       "Empty DataFrame\n",
       "Columns: [Luz (lux)]\n",
       "Index: []"
      ]
     },
     "execution_count": 63,
     "metadata": {},
     "output_type": "execute_result"
    }
   ],
   "source": [
    "luminosity_luxes_l12w_train_df[luminosity_luxes_l12w_train_df['Luz (lux)']>1]"
   ]
  },
  {
   "cell_type": "markdown",
   "metadata": {},
   "source": [
    "In this way we have the dataset `luminosity_luxes_l12w_train_df` standardized and training, and export it to a .csv file"
   ]
  },
  {
   "cell_type": "code",
   "execution_count": 64,
   "metadata": {},
   "outputs": [],
   "source": [
    "luminosity_luxes_l12w_train_df.to_csv('../../../../data/processed/Luminosity/Latest_12-weeks_May-4_August-03_2018/' +'\\n' \n",
    "                                 'Luminosity_Normalized_TRAINING_May-4_August-03.csv', sep=',', header=True, index=False)"
   ]
  },
  {
   "cell_type": "markdown",
   "metadata": {},
   "source": [
    "### 3.2 We apply maximium and minimum feature scaling to Luminosity testing dataset"
   ]
  },
  {
   "cell_type": "code",
   "execution_count": 65,
   "metadata": {},
   "outputs": [],
   "source": [
    "# print(\"Remember our luminosity testing data \" + '\\n', luminosity_luxes_l12w_test)\n",
    "minmax_scale_test = scaler.fit(luminosity_luxes_l12w_test.astype(float))\n",
    "# transform luminosity_luxes_test data to maximum and mínimum scale value. \n",
    "luminosity_luxes_l12w_minmax_test = minmax_scale_test.transform(luminosity_luxes_l12w_test)\n"
   ]
  },
  {
   "cell_type": "code",
   "execution_count": 66,
   "metadata": {},
   "outputs": [
    {
     "name": "stdout",
     "output_type": "stream",
     "text": [
      "And, these are our testing scaled data: \n",
      "\n",
      "(880, 1)\n"
     ]
    }
   ],
   "source": [
    "print (\"And, these are our testing scaled data: \" + '\\n')\n",
    "print(luminosity_luxes_l12w_minmax_test.shape)"
   ]
  },
  {
   "cell_type": "code",
   "execution_count": 67,
   "metadata": {},
   "outputs": [
    {
     "name": "stdout",
     "output_type": "stream",
     "text": [
      "Luminosity Testing dataset. Minimum value after MaxMinScaler:\n",
      "Luminosity=0.0\n",
      "Luminosity Testing dataset. Maximum value after MaxMinScaler:\n",
      "Luminosity=1.0\n"
     ]
    }
   ],
   "source": [
    "print('Luminosity Testing dataset. Minimum value after MaxMinScaler:\\nLuminosity={:.1f}'\n",
    "      .format(luminosity_luxes_l12w_minmax_test[:,0].min()))\n",
    "\n",
    "print('Luminosity Testing dataset. Maximum value after MaxMinScaler:\\nLuminosity={:.1f}'\n",
    "      .format(luminosity_luxes_l12w_minmax_test[:,0].max()))"
   ]
  },
  {
   "cell_type": "markdown",
   "metadata": {},
   "source": [
    "Then, our  MinMaxScaler normalized training dataset is `luminosity_luxes_l12w_minmax_test` numpy array\n",
    "\n",
    "- We export this array to comma separated values"
   ]
  },
  {
   "cell_type": "code",
   "execution_count": 68,
   "metadata": {},
   "outputs": [],
   "source": [
    "luminosity_luxes_l12w_test_df = pd.DataFrame(luminosity_luxes_l12w_minmax_test, columns=col)"
   ]
  },
  {
   "cell_type": "code",
   "execution_count": 69,
   "metadata": {},
   "outputs": [
    {
     "name": "stdout",
     "output_type": "stream",
     "text": [
      "(880, 1)\n"
     ]
    },
    {
     "data": {
      "text/html": [
       "<div>\n",
       "<style scoped>\n",
       "    .dataframe tbody tr th:only-of-type {\n",
       "        vertical-align: middle;\n",
       "    }\n",
       "\n",
       "    .dataframe tbody tr th {\n",
       "        vertical-align: top;\n",
       "    }\n",
       "\n",
       "    .dataframe thead th {\n",
       "        text-align: right;\n",
       "    }\n",
       "</style>\n",
       "<table border=\"1\" class=\"dataframe\">\n",
       "  <thead>\n",
       "    <tr style=\"text-align: right;\">\n",
       "      <th></th>\n",
       "      <th>Luz (lux)</th>\n",
       "    </tr>\n",
       "  </thead>\n",
       "  <tbody>\n",
       "    <tr>\n",
       "      <th>0</th>\n",
       "      <td>0.807654</td>\n",
       "    </tr>\n",
       "    <tr>\n",
       "      <th>1</th>\n",
       "      <td>0.000000</td>\n",
       "    </tr>\n",
       "    <tr>\n",
       "      <th>2</th>\n",
       "      <td>0.000000</td>\n",
       "    </tr>\n",
       "    <tr>\n",
       "      <th>3</th>\n",
       "      <td>0.175041</td>\n",
       "    </tr>\n",
       "    <tr>\n",
       "      <th>4</th>\n",
       "      <td>0.000000</td>\n",
       "    </tr>\n",
       "  </tbody>\n",
       "</table>\n",
       "</div>"
      ],
      "text/plain": [
       "   Luz (lux)\n",
       "0   0.807654\n",
       "1   0.000000\n",
       "2   0.000000\n",
       "3   0.175041\n",
       "4   0.000000"
      ]
     },
     "execution_count": 69,
     "metadata": {},
     "output_type": "execute_result"
    }
   ],
   "source": [
    "print(luminosity_luxes_l12w_test_df.shape)\n",
    "luminosity_luxes_l12w_test_df.head()"
   ]
  },
  {
   "cell_type": "code",
   "execution_count": 70,
   "metadata": {},
   "outputs": [
    {
     "data": {
      "text/html": [
       "<div>\n",
       "<style scoped>\n",
       "    .dataframe tbody tr th:only-of-type {\n",
       "        vertical-align: middle;\n",
       "    }\n",
       "\n",
       "    .dataframe tbody tr th {\n",
       "        vertical-align: top;\n",
       "    }\n",
       "\n",
       "    .dataframe thead th {\n",
       "        text-align: right;\n",
       "    }\n",
       "</style>\n",
       "<table border=\"1\" class=\"dataframe\">\n",
       "  <thead>\n",
       "    <tr style=\"text-align: right;\">\n",
       "      <th></th>\n",
       "      <th>Luz (lux)</th>\n",
       "    </tr>\n",
       "  </thead>\n",
       "  <tbody>\n",
       "  </tbody>\n",
       "</table>\n",
       "</div>"
      ],
      "text/plain": [
       "Empty DataFrame\n",
       "Columns: [Luz (lux)]\n",
       "Index: []"
      ]
     },
     "execution_count": 70,
     "metadata": {},
     "output_type": "execute_result"
    }
   ],
   "source": [
    "luminosity_luxes_l12w_test_df[luminosity_luxes_l12w_test_df['Luz (lux)']>1]"
   ]
  },
  {
   "cell_type": "markdown",
   "metadata": {},
   "source": [
    "In this way we have the dataset luminosity_luxes_test_df standardized and testing, and export it to a .csv file"
   ]
  },
  {
   "cell_type": "code",
   "execution_count": 71,
   "metadata": {},
   "outputs": [],
   "source": [
    "luminosity_luxes_l12w_test_df.to_csv('../../../../data/processed/Luminosity/Latest_12-weeks_May-4_August-03_2018/' +'\\n' \n",
    "                                 'Luminosity_Normalized_TESTING_May-4_August-03.csv',  sep=',', header=True, index=False)"
   ]
  }
 ],
 "metadata": {
  "kernelspec": {
   "display_name": "Python 3",
   "language": "python",
   "name": "python3"
  },
  "language_info": {
   "codemirror_mode": {
    "name": "ipython",
    "version": 3
   },
   "file_extension": ".py",
   "mimetype": "text/x-python",
   "name": "python",
   "nbconvert_exporter": "python",
   "pygments_lexer": "ipython3",
   "version": "3.6.5"
  }
 },
 "nbformat": 4,
 "nbformat_minor": 2
}
