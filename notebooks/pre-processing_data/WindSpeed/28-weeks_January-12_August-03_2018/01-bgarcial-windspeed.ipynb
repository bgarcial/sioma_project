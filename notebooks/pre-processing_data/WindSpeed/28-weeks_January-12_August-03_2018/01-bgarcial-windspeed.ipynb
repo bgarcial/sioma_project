{
 "cells": [
  {
   "cell_type": "code",
   "execution_count": 36,
   "metadata": {},
   "outputs": [],
   "source": [
    "from __future__ import unicode_literals\n",
    "\n",
    "import pandas as pd\n",
    "import numpy as np\n",
    "from sklearn import preprocessing\n",
    "from sklearn.preprocessing import MinMaxScaler\n",
    "from sklearn.model_selection import train_test_split"
   ]
  },
  {
   "cell_type": "markdown",
   "metadata": {},
   "source": [
    "# 1. Preparing data - 28 weeks of life of the banana plant\n",
    "---"
   ]
  },
  {
   "cell_type": "code",
   "execution_count": 37,
   "metadata": {},
   "outputs": [],
   "source": [
    "wind_speed = pd.read_csv('../../../../data/raw/FincaPorvenir/Metereologico/28-weeks_January-12_August-03_2018/' \\\n",
    "                                 'Velocidad-del-viento_January-12_August-03_2018.csv', )"
   ]
  },
  {
   "cell_type": "code",
   "execution_count": 38,
   "metadata": {},
   "outputs": [
    {
     "name": "stdout",
     "output_type": "stream",
     "text": [
      "(9752, 2)\n"
     ]
    },
    {
     "data": {
      "text/html": [
       "<div>\n",
       "<style scoped>\n",
       "    .dataframe tbody tr th:only-of-type {\n",
       "        vertical-align: middle;\n",
       "    }\n",
       "\n",
       "    .dataframe tbody tr th {\n",
       "        vertical-align: top;\n",
       "    }\n",
       "\n",
       "    .dataframe thead th {\n",
       "        text-align: right;\n",
       "    }\n",
       "</style>\n",
       "<table border=\"1\" class=\"dataframe\">\n",
       "  <thead>\n",
       "    <tr style=\"text-align: right;\">\n",
       "      <th></th>\n",
       "      <th>Fecha:</th>\n",
       "      <th>Velocidad del viento (Km/h)</th>\n",
       "    </tr>\n",
       "  </thead>\n",
       "  <tbody>\n",
       "    <tr>\n",
       "      <th>0</th>\n",
       "      <td>2018-01-12 00:17:28</td>\n",
       "      <td>0.0</td>\n",
       "    </tr>\n",
       "    <tr>\n",
       "      <th>1</th>\n",
       "      <td>2018-01-12 00:47:28</td>\n",
       "      <td>0.0</td>\n",
       "    </tr>\n",
       "    <tr>\n",
       "      <th>2</th>\n",
       "      <td>2018-01-12 01:17:27</td>\n",
       "      <td>0.0</td>\n",
       "    </tr>\n",
       "    <tr>\n",
       "      <th>3</th>\n",
       "      <td>2018-01-12 01:47:27</td>\n",
       "      <td>0.0</td>\n",
       "    </tr>\n",
       "    <tr>\n",
       "      <th>4</th>\n",
       "      <td>2018-01-12 02:17:28</td>\n",
       "      <td>0.0</td>\n",
       "    </tr>\n",
       "  </tbody>\n",
       "</table>\n",
       "</div>"
      ],
      "text/plain": [
       "                Fecha:  Velocidad del viento (Km/h)\n",
       "0  2018-01-12 00:17:28                          0.0\n",
       "1  2018-01-12 00:47:28                          0.0\n",
       "2  2018-01-12 01:17:27                          0.0\n",
       "3  2018-01-12 01:47:27                          0.0\n",
       "4  2018-01-12 02:17:28                          0.0"
      ]
     },
     "execution_count": 38,
     "metadata": {},
     "output_type": "execute_result"
    }
   ],
   "source": [
    "print(wind_speed.shape)\n",
    "wind_speed.head()"
   ]
  },
  {
   "cell_type": "markdown",
   "metadata": {},
   "source": [
    "## 1.1. We evaluate if this dataset has null type `NaN`\n",
    "---"
   ]
  },
  {
   "cell_type": "code",
   "execution_count": 39,
   "metadata": {},
   "outputs": [
    {
     "name": "stdout",
     "output_type": "stream",
     "text": [
      "Fecha:                         False\n",
      "Velocidad del viento (Km/h)    False\n",
      "dtype: bool\n"
     ]
    },
    {
     "data": {
      "text/plain": [
       "False"
      ]
     },
     "execution_count": 39,
     "metadata": {},
     "output_type": "execute_result"
    }
   ],
   "source": [
    "print(wind_speed.isnull().any())\n",
    "wind_speed.isnull().values.any()"
   ]
  },
  {
   "cell_type": "markdown",
   "metadata": {},
   "source": [
    "Don't have null values\n",
    "\n",
    "## 1.2. Selecting  relevant index columns features\n",
    "---\n",
    "\n",
    "Since the dataset has a column called **`Fecha:`**, which is not a numerical value,\n",
    "\n",
    "it will be removed so that it does not interfere **with our subsequent scaling**, \n",
    "\n",
    "so we are only going to reference the values or samples of the column\n",
    "\n",
    "** `Velocidad del viento (Km/h)` ** and assigning them to the matrix \n",
    "\n",
    "`wind_speed_array` created such as follow:"
   ]
  },
  {
   "cell_type": "code",
   "execution_count": 40,
   "metadata": {},
   "outputs": [],
   "source": [
    "wind_speed_array = wind_speed.iloc[:, 1].values"
   ]
  },
  {
   "cell_type": "code",
   "execution_count": 41,
   "metadata": {},
   "outputs": [
    {
     "data": {
      "text/plain": [
       "array([[0.        ],\n",
       "       [0.        ],\n",
       "       [0.        ],\n",
       "       ...,\n",
       "       [0.        ],\n",
       "       [0.        ],\n",
       "       [4.21052632]])"
      ]
     },
     "execution_count": 41,
     "metadata": {},
     "output_type": "execute_result"
    }
   ],
   "source": [
    "# Rehape the wind_speed_array array \n",
    "wind_speed_array = wind_speed_array.reshape(-1, 1)\n",
    "wind_speed_array"
   ]
  },
  {
   "cell_type": "markdown",
   "metadata": {},
   "source": [
    "## 1.3 Generating descriptive data to dataset\n",
    "---"
   ]
  },
  {
   "cell_type": "code",
   "execution_count": 42,
   "metadata": {},
   "outputs": [],
   "source": [
    "col = ['Velocidad del viento (Km/h)']\n",
    "wind_speed_values_df = pd.DataFrame(wind_speed_array, columns=col)\n",
    "wind_speed_values_df_describe = wind_speed_values_df.describe()"
   ]
  },
  {
   "cell_type": "code",
   "execution_count": 43,
   "metadata": {},
   "outputs": [
    {
     "data": {
      "text/html": [
       "<div>\n",
       "<style scoped>\n",
       "    .dataframe tbody tr th:only-of-type {\n",
       "        vertical-align: middle;\n",
       "    }\n",
       "\n",
       "    .dataframe tbody tr th {\n",
       "        vertical-align: top;\n",
       "    }\n",
       "\n",
       "    .dataframe thead th {\n",
       "        text-align: right;\n",
       "    }\n",
       "</style>\n",
       "<table border=\"1\" class=\"dataframe\">\n",
       "  <thead>\n",
       "    <tr style=\"text-align: right;\">\n",
       "      <th></th>\n",
       "      <th>Velocidad del viento (Km/h)</th>\n",
       "    </tr>\n",
       "  </thead>\n",
       "  <tbody>\n",
       "    <tr>\n",
       "      <th>count</th>\n",
       "      <td>9752.000000</td>\n",
       "    </tr>\n",
       "    <tr>\n",
       "      <th>mean</th>\n",
       "      <td>2.216788</td>\n",
       "    </tr>\n",
       "    <tr>\n",
       "      <th>std</th>\n",
       "      <td>3.084594</td>\n",
       "    </tr>\n",
       "    <tr>\n",
       "      <th>min</th>\n",
       "      <td>0.000000</td>\n",
       "    </tr>\n",
       "    <tr>\n",
       "      <th>25%</th>\n",
       "      <td>0.000000</td>\n",
       "    </tr>\n",
       "    <tr>\n",
       "      <th>50%</th>\n",
       "      <td>1.511811</td>\n",
       "    </tr>\n",
       "    <tr>\n",
       "      <th>75%</th>\n",
       "      <td>3.245074</td>\n",
       "    </tr>\n",
       "    <tr>\n",
       "      <th>max</th>\n",
       "      <td>68.571429</td>\n",
       "    </tr>\n",
       "  </tbody>\n",
       "</table>\n",
       "</div>"
      ],
      "text/plain": [
       "       Velocidad del viento (Km/h)\n",
       "count                  9752.000000\n",
       "mean                      2.216788\n",
       "std                       3.084594\n",
       "min                       0.000000\n",
       "25%                       0.000000\n",
       "50%                       1.511811\n",
       "75%                       3.245074\n",
       "max                      68.571429"
      ]
     },
     "execution_count": 43,
     "metadata": {},
     "output_type": "execute_result"
    }
   ],
   "source": [
    "wind_speed_values_df_describe"
   ]
  },
  {
   "cell_type": "code",
   "execution_count": 44,
   "metadata": {},
   "outputs": [],
   "source": [
    "# Export this descriptive data to comma separated values and java script object notation\n",
    "wind_speed_values_df_describe.to_csv('../../../../data/interim/WindSpeed/28-weeks_January-12_August-03_2018/' +'\\n' \n",
    "                              'Wind-Speed_Describe_January-12_August-03.cvs', sep=',', header=True, index=True)\n",
    "wind_speed_values_df_describe.to_json('../../../../data/interim/WindSpeed/28-weeks_January-12_August-03_2018/' +'\\n'\n",
    "                                     'Wind-Speed_Describe_January-12_August-03.json')"
   ]
  },
  {
   "cell_type": "markdown",
   "metadata": {},
   "source": [
    "# 2. Creating Temperature Training and Testing datasets\n",
    "\n",
    "We have a **`wind_speed_values_df`** dataset with 9752 samples rows."
   ]
  },
  {
   "cell_type": "code",
   "execution_count": 45,
   "metadata": {},
   "outputs": [
    {
     "name": "stdout",
     "output_type": "stream",
     "text": [
      "(9752, 1)\n"
     ]
    },
    {
     "data": {
      "text/html": [
       "<div>\n",
       "<style scoped>\n",
       "    .dataframe tbody tr th:only-of-type {\n",
       "        vertical-align: middle;\n",
       "    }\n",
       "\n",
       "    .dataframe tbody tr th {\n",
       "        vertical-align: top;\n",
       "    }\n",
       "\n",
       "    .dataframe thead th {\n",
       "        text-align: right;\n",
       "    }\n",
       "</style>\n",
       "<table border=\"1\" class=\"dataframe\">\n",
       "  <thead>\n",
       "    <tr style=\"text-align: right;\">\n",
       "      <th></th>\n",
       "      <th>Velocidad del viento (Km/h)</th>\n",
       "    </tr>\n",
       "  </thead>\n",
       "  <tbody>\n",
       "    <tr>\n",
       "      <th>0</th>\n",
       "      <td>0.0</td>\n",
       "    </tr>\n",
       "    <tr>\n",
       "      <th>1</th>\n",
       "      <td>0.0</td>\n",
       "    </tr>\n",
       "    <tr>\n",
       "      <th>2</th>\n",
       "      <td>0.0</td>\n",
       "    </tr>\n",
       "    <tr>\n",
       "      <th>3</th>\n",
       "      <td>0.0</td>\n",
       "    </tr>\n",
       "    <tr>\n",
       "      <th>4</th>\n",
       "      <td>0.0</td>\n",
       "    </tr>\n",
       "  </tbody>\n",
       "</table>\n",
       "</div>"
      ],
      "text/plain": [
       "   Velocidad del viento (Km/h)\n",
       "0                          0.0\n",
       "1                          0.0\n",
       "2                          0.0\n",
       "3                          0.0\n",
       "4                          0.0"
      ]
     },
     "execution_count": 45,
     "metadata": {},
     "output_type": "execute_result"
    }
   ],
   "source": [
    "print(wind_speed_values_df.shape)\n",
    "wind_speed_values_df.head()"
   ]
  },
  {
   "cell_type": "markdown",
   "metadata": {},
   "source": [
    "We'll divide it into two differents datasets:\n",
    "\n",
    "- Training dataset\n",
    "- Testing dataset\n",
    "\n",
    "This is executed through [train_test_split](http://scikit-learn.org/stable/modules/generated/sklearn.model_selection.train_test_split.html  \"sklearn.model_selection.train_test_split\") function of this way:\n",
    "\n",
    "`train_test_split` receive as a data parameter a numpy array, we have to turn the \n",
    "\n",
    "**`wind_speed_values_df`** dataframe to numpy array such as follow:"
   ]
  },
  {
   "cell_type": "code",
   "execution_count": 46,
   "metadata": {},
   "outputs": [
    {
     "data": {
      "text/plain": [
       "array([[0.        ],\n",
       "       [0.        ],\n",
       "       [0.        ],\n",
       "       ...,\n",
       "       [0.        ],\n",
       "       [0.        ],\n",
       "       [4.21052632]])"
      ]
     },
     "execution_count": 46,
     "metadata": {},
     "output_type": "execute_result"
    }
   ],
   "source": [
    "# numpy_wind_speed_values = wind_speed_values_df.reset_index().values\n",
    "numpy_wind_speed_values = wind_speed_values_df.values\n",
    "numpy_wind_speed_values"
   ]
  },
  {
   "cell_type": "markdown",
   "metadata": {},
   "source": [
    "We compose the following datasets from **`numpy_wind_speed_values`** array :\n",
    "\n",
    "- `wind_speed_values_train`, which is the training matrix\n",
    "- `wind_speed_values_test`, the testing matrix\n",
    "\n",
    "We use the [train_test_split](http://scikit-learn.org/stable/modules/generated/sklearn.model_selection.train_test_split.html  \"sklearn.model_selection.train_test_split\") function to create the training and testing dataset. Their parameters are:\n",
    "\n",
    "![alt text](https://cldup.com/hukPWvvLxt-3000x3000.png \"klearn.model_selection.train_test_split\")\n",
    "\n",
    "\n",
    "- The first parameter **should be an array**, then we pass the **`numpy_wind_speed_values`** which contain all column features of luminosity.\n",
    "\n",
    "Of this way, we pass all data (9750 samples rows) to from them `wind_speed_values_train`\n",
    "\n",
    "and `wind_speed_values_test` will be created\n",
    "\n",
    "- The `test_size=0.5` parameter means a 50% division; which means \n",
    "that half of the data goes to the test dataset and the other half \n",
    "goes to the training dataset.\n",
    "\n",
    "A good choice for the size of tests **is usually 0.2 ie 20% or 0.25 or even 30%.** \n",
    "\n",
    "In some rare cases we will have 40% but almost never 0.5 or 50%\n",
    "\n",
    "We choose 20% which means that we will have 20% of 9752 samples or observations for the test data set, \n",
    "\n",
    "in this case **9750 * 0.2 = 1951 samples or records for the test data set**\n",
    "\n",
    "\n",
    "- The `train_size` parameter is the training dataset size.  **`test_size + train_size = 1 or 100%`**, \n",
    "then isn't necessary include it, because wheter we include to `test_size = 0.2`, then the remaining \n",
    "data will be to `train_size` this means **0.8 or 80%**\n",
    "\n",
    "This means that **9750 * 0.8 = 7801  training dataset samples rows. **\n",
    "\n",
    "\n",
    "- random_state is a seed or data source for generating random values for the data sets. \n",
    "\n",
    "If this parameter is not passed, the data will be generated in a random way, but in the way as by default numpy works them."
   ]
  },
  {
   "cell_type": "markdown",
   "metadata": {},
   "source": [
    "### 2.1  Creating Training and testing temperature datasets\n",
    "---\n",
    "\n",
    "- `wind_speed_values_train`, which is the training matrix\n",
    "- `wind_speed_values_test`, the testing matrix"
   ]
  },
  {
   "cell_type": "code",
   "execution_count": 47,
   "metadata": {},
   "outputs": [],
   "source": [
    "wind_speed_values_train, wind_speed_values_test = train_test_split(numpy_wind_speed_values, test_size = 0.2)"
   ]
  },
  {
   "cell_type": "code",
   "execution_count": 48,
   "metadata": {},
   "outputs": [
    {
     "name": "stdout",
     "output_type": "stream",
     "text": [
      "<class 'numpy.ndarray'>\n",
      "The dimensionality of wind speed training dataset is: \n",
      " (7801, 1)\n",
      "\n",
      "\n",
      "<class 'numpy.ndarray'>\n",
      "The dimensionality of wind speed testing dataset is: \n",
      " (1951, 1)\n"
     ]
    }
   ],
   "source": [
    "# We have 7801 rows to luminosity_luxes_train\n",
    "print(type(wind_speed_values_train))\n",
    "print(\"The dimensionality of wind speed training dataset is: \" +'\\n' , wind_speed_values_train.shape)\n",
    "print('\\n')\n",
    "\n",
    "# And we have 1951 rows to luminosity_luxes_test\n",
    "print(type(wind_speed_values_test))\n",
    "print(\"The dimensionality of wind speed testing dataset is: \" +'\\n' , wind_speed_values_test.shape)"
   ]
  },
  {
   "cell_type": "markdown",
   "metadata": {},
   "source": [
    "In this way, the model, as you progressively learn the correlations in the training set, the better the prediction of the results in the test set.\n",
    "\n",
    "But if the model learns too much from memory the correlations of the training sets,\n",
    "\n",
    "that is to say, when one learns from memory and does not understand things, then it\n",
    "\n",
    "will have problems to predict what is happening on the set of tests, because it is\n",
    "\n",
    "learned for difficult correlations, if the logic is not well understood and you can\n",
    "\n",
    "not make good predictions. This is called overfitting or overfitting\n",
    "\n",
    "The really important thing is to understand that we need to have two different datasets\n",
    "\n",
    "- Training set with which the ML model learns\n",
    "- Test set, on which we test whether the ML model correctly learned the correlations\n"
   ]
  },
  {
   "cell_type": "markdown",
   "metadata": {},
   "source": [
    "---\n",
    "##  3. Feature Scaling Temperature training and testing dataset  \n",
    "---\n",
    "\n",
    "[This article post](http://benalexkeen.com/feature-scaling-with-scikit-learn/  \"Feature Scaling with scikit-learn\") it's a great reference to explore the features scaling methods\n",
    "on scikit learn\n",
    "\n",
    "- `StandardScaler` assume that data is normally distributed at the level of each characteristic or variable. If the data is not normally distributed, it is not the best alternative to use for scaling.  \n",
    "\n",
    "- `Min-Max Scaler` it is probably the most famous scaling algorithm and what it does is resize the range to leave it in a dimension of 0 to 1 or -1 and 1 (in case there are negative values in the original dataset of input data)\n",
    "\n",
    "This scale of maximums and minimums works best for cases where standard scaling may not work properly. If the distribution is not Gaussian or the standard deviation is very small the escalation of maximums and minimums is the best idea.\n",
    "However, it is sensitive to outliers or outliers, so if there are outliers in the data it is better to consider robust scaling.\n",
    "\n",
    "- `Robust Scaler` it is similar to the previous one of maximums and minimums, only that it uses interquartile ranges instead of maximums and minimums, which makes it robust for the outliers\n",
    "\n",
    "- `Normalizer` which scales each value, dividing each value by its magnitude in n dimensional spaces for n number of characteristics.\n",
    "\n",
    "\n",
    "---"
   ]
  },
  {
   "cell_type": "markdown",
   "metadata": {},
   "source": [
    "We will use the scaling of maximums and minimums to scale the wind speed data, because the standard deviation is very small, \n",
    "\n",
    "it does not have atypical values and it does not follow a normal distribution (you have to check this)\n",
    "\n",
    "We apply the maximum and minimum scaling. We provide a rank or base scale that **will be between 0 and 1** using an object,\n",
    "\n",
    "[MinMaxScaler](http://scikit-learn.org/stable/modules/generated/sklearn.preprocessing.MinMaxScaler.html \"sklearn.preprocessing.MinMaxScaler\") which transforms each characteristic, (in this \n",
    "\n",
    "case it will be the columns feature of `Temperature (C)`) individually according to a given range.\n",
    "\n",
    "Product of its applicability, generates these attributes in the dataset, already transformed: \n",
    "\n",
    "![alt text](https://cldup.com/lTIv4HXgTk-3000x3000.png \"sklearn.preprocessing.MinMaxScaler\")"
   ]
  },
  {
   "cell_type": "markdown",
   "metadata": {},
   "source": [
    "### 3.1 We apply maximium and minimum feature scaling to Temperature training dataset"
   ]
  },
  {
   "cell_type": "code",
   "execution_count": 49,
   "metadata": {},
   "outputs": [
    {
     "name": "stdout",
     "output_type": "stream",
     "text": [
      "Remember our temperature training data \n",
      " [[0.        ]\n",
      " [1.89224704]\n",
      " [4.43076923]\n",
      " ...\n",
      " [4.3768997 ]\n",
      " [0.        ]\n",
      " [1.75609756]]\n"
     ]
    }
   ],
   "source": [
    "# We provide a base scale range\n",
    "scaler = MinMaxScaler(feature_range=(0, 1))\n",
    "\n",
    "print(\"Remember our temperature training data \" + '\\n', wind_speed_values_train)"
   ]
  },
  {
   "cell_type": "markdown",
   "metadata": {},
   "source": [
    "With the [fit](http://scikit-learn.org/stable/modules/generated/sklearn.preprocessing.MinMaxScaler.html#sklearn.preprocessing.MinMaxScaler.fit  \"MinMaxScaler.fit\")\n",
    "we compute the maximum and minimum value of  `wind_speed_values_train` dataset to be used in the subsequent scaling \n",
    "\n",
    "We assing these values to `minmax_scale_training` variable."
   ]
  },
  {
   "cell_type": "code",
   "execution_count": 50,
   "metadata": {},
   "outputs": [],
   "source": [
    "minmax_scale_training = scaler.fit(wind_speed_values_train.astype(float))\n",
    "# print(minmax_scale_training.data_max_)\n",
    "# http://terrapinssky.blogspot.com/2017/10/pythonresolved-dataconversionwarning.html"
   ]
  },
  {
   "cell_type": "markdown",
   "metadata": {},
   "source": [
    "Then, we apply the [transform](http://scikit-learn.org/stable/modules/generated/sklearn.preprocessing.MinMaxScaler.html#sklearn.preprocessing.MinMaxScaler.transform \"MinMaxScaler.transform\") method to transform these data to maximum and mínimum scale value. \n",
    "\n",
    "Here, with this process, the `wind_speed_values_train` data are scaled between **0 to 1**  selected range "
   ]
  },
  {
   "cell_type": "code",
   "execution_count": 51,
   "metadata": {},
   "outputs": [],
   "source": [
    "# transform precipitations_train data to maximum and mínimum scale value. \n",
    "win_speed_minmax_training = minmax_scale_training.transform(wind_speed_values_train)"
   ]
  },
  {
   "cell_type": "code",
   "execution_count": 52,
   "metadata": {},
   "outputs": [
    {
     "name": "stdout",
     "output_type": "stream",
     "text": [
      "And, these are our scaled data: \n",
      "\n"
     ]
    },
    {
     "data": {
      "text/plain": [
       "array([[0.        ],\n",
       "       [0.03153745],\n",
       "       [0.07384615],\n",
       "       ...,\n",
       "       [0.07294833],\n",
       "       [0.        ],\n",
       "       [0.02926829]])"
      ]
     },
     "execution_count": 52,
     "metadata": {},
     "output_type": "execute_result"
    }
   ],
   "source": [
    "print (\"And, these are our scaled data: \" + '\\n')\n",
    "win_speed_minmax_training"
   ]
  },
  {
   "cell_type": "code",
   "execution_count": 53,
   "metadata": {},
   "outputs": [
    {
     "name": "stdout",
     "output_type": "stream",
     "text": [
      "Wind Speed Training dataset. Minimum value after MaxMinScaler:\n",
      "Wind Speed=0.0\n",
      "Wind Speed Training dataset. Maximum value after MaxMinScaler:\n",
      "Wind Speed=1.0\n"
     ]
    }
   ],
   "source": [
    "print('Wind Speed Training dataset. Minimum value after MaxMinScaler:\\nWind Speed={:.1f}'\n",
    "      .format(win_speed_minmax_training[:,0].min()))\n",
    "\n",
    "print('Wind Speed Training dataset. Maximum value after MaxMinScaler:\\nWind Speed={:.1f}'\n",
    "      .format(win_speed_minmax_training[:,0].max()))"
   ]
  },
  {
   "cell_type": "markdown",
   "metadata": {},
   "source": [
    "Then, our  MinMaxScaler normalized training dataset is `win_speed_minmax_training` numpy array\n",
    "\n",
    "- We export this array to comma separated values \n"
   ]
  },
  {
   "cell_type": "code",
   "execution_count": 54,
   "metadata": {},
   "outputs": [],
   "source": [
    "win_speed_train_df = pd.DataFrame(win_speed_minmax_training, columns=col)"
   ]
  },
  {
   "cell_type": "code",
   "execution_count": 55,
   "metadata": {},
   "outputs": [
    {
     "data": {
      "text/html": [
       "<div>\n",
       "<style scoped>\n",
       "    .dataframe tbody tr th:only-of-type {\n",
       "        vertical-align: middle;\n",
       "    }\n",
       "\n",
       "    .dataframe tbody tr th {\n",
       "        vertical-align: top;\n",
       "    }\n",
       "\n",
       "    .dataframe thead th {\n",
       "        text-align: right;\n",
       "    }\n",
       "</style>\n",
       "<table border=\"1\" class=\"dataframe\">\n",
       "  <thead>\n",
       "    <tr style=\"text-align: right;\">\n",
       "      <th></th>\n",
       "      <th>Velocidad del viento (Km/h)</th>\n",
       "    </tr>\n",
       "  </thead>\n",
       "  <tbody>\n",
       "    <tr>\n",
       "      <th>0</th>\n",
       "      <td>0.000000</td>\n",
       "    </tr>\n",
       "    <tr>\n",
       "      <th>1</th>\n",
       "      <td>0.031537</td>\n",
       "    </tr>\n",
       "    <tr>\n",
       "      <th>2</th>\n",
       "      <td>0.073846</td>\n",
       "    </tr>\n",
       "    <tr>\n",
       "      <th>3</th>\n",
       "      <td>0.069364</td>\n",
       "    </tr>\n",
       "    <tr>\n",
       "      <th>4</th>\n",
       "      <td>0.000000</td>\n",
       "    </tr>\n",
       "    <tr>\n",
       "      <th>5</th>\n",
       "      <td>0.073620</td>\n",
       "    </tr>\n",
       "    <tr>\n",
       "      <th>6</th>\n",
       "      <td>0.114286</td>\n",
       "    </tr>\n",
       "    <tr>\n",
       "      <th>7</th>\n",
       "      <td>0.018168</td>\n",
       "    </tr>\n",
       "    <tr>\n",
       "      <th>8</th>\n",
       "      <td>0.024267</td>\n",
       "    </tr>\n",
       "    <tr>\n",
       "      <th>9</th>\n",
       "      <td>0.062500</td>\n",
       "    </tr>\n",
       "    <tr>\n",
       "      <th>10</th>\n",
       "      <td>0.044527</td>\n",
       "    </tr>\n",
       "    <tr>\n",
       "      <th>11</th>\n",
       "      <td>0.100418</td>\n",
       "    </tr>\n",
       "    <tr>\n",
       "      <th>12</th>\n",
       "      <td>0.000000</td>\n",
       "    </tr>\n",
       "    <tr>\n",
       "      <th>13</th>\n",
       "      <td>0.030038</td>\n",
       "    </tr>\n",
       "    <tr>\n",
       "      <th>14</th>\n",
       "      <td>0.000000</td>\n",
       "    </tr>\n",
       "    <tr>\n",
       "      <th>15</th>\n",
       "      <td>0.000000</td>\n",
       "    </tr>\n",
       "    <tr>\n",
       "      <th>16</th>\n",
       "      <td>0.025890</td>\n",
       "    </tr>\n",
       "    <tr>\n",
       "      <th>17</th>\n",
       "      <td>0.000000</td>\n",
       "    </tr>\n",
       "    <tr>\n",
       "      <th>18</th>\n",
       "      <td>0.203390</td>\n",
       "    </tr>\n",
       "    <tr>\n",
       "      <th>19</th>\n",
       "      <td>0.000000</td>\n",
       "    </tr>\n",
       "    <tr>\n",
       "      <th>20</th>\n",
       "      <td>0.105263</td>\n",
       "    </tr>\n",
       "    <tr>\n",
       "      <th>21</th>\n",
       "      <td>0.064000</td>\n",
       "    </tr>\n",
       "    <tr>\n",
       "      <th>22</th>\n",
       "      <td>0.031579</td>\n",
       "    </tr>\n",
       "    <tr>\n",
       "      <th>23</th>\n",
       "      <td>0.102564</td>\n",
       "    </tr>\n",
       "    <tr>\n",
       "      <th>24</th>\n",
       "      <td>0.000000</td>\n",
       "    </tr>\n",
       "    <tr>\n",
       "      <th>25</th>\n",
       "      <td>0.000000</td>\n",
       "    </tr>\n",
       "    <tr>\n",
       "      <th>26</th>\n",
       "      <td>0.025343</td>\n",
       "    </tr>\n",
       "    <tr>\n",
       "      <th>27</th>\n",
       "      <td>0.071429</td>\n",
       "    </tr>\n",
       "    <tr>\n",
       "      <th>28</th>\n",
       "      <td>0.000000</td>\n",
       "    </tr>\n",
       "    <tr>\n",
       "      <th>29</th>\n",
       "      <td>0.000000</td>\n",
       "    </tr>\n",
       "    <tr>\n",
       "      <th>...</th>\n",
       "      <td>...</td>\n",
       "    </tr>\n",
       "    <tr>\n",
       "      <th>7771</th>\n",
       "      <td>0.000000</td>\n",
       "    </tr>\n",
       "    <tr>\n",
       "      <th>7772</th>\n",
       "      <td>0.066116</td>\n",
       "    </tr>\n",
       "    <tr>\n",
       "      <th>7773</th>\n",
       "      <td>0.061381</td>\n",
       "    </tr>\n",
       "    <tr>\n",
       "      <th>7774</th>\n",
       "      <td>0.019185</td>\n",
       "    </tr>\n",
       "    <tr>\n",
       "      <th>7775</th>\n",
       "      <td>0.500000</td>\n",
       "    </tr>\n",
       "    <tr>\n",
       "      <th>7776</th>\n",
       "      <td>0.055046</td>\n",
       "    </tr>\n",
       "    <tr>\n",
       "      <th>7777</th>\n",
       "      <td>0.000000</td>\n",
       "    </tr>\n",
       "    <tr>\n",
       "      <th>7778</th>\n",
       "      <td>0.046967</td>\n",
       "    </tr>\n",
       "    <tr>\n",
       "      <th>7779</th>\n",
       "      <td>0.000000</td>\n",
       "    </tr>\n",
       "    <tr>\n",
       "      <th>7780</th>\n",
       "      <td>0.170213</td>\n",
       "    </tr>\n",
       "    <tr>\n",
       "      <th>7781</th>\n",
       "      <td>0.000000</td>\n",
       "    </tr>\n",
       "    <tr>\n",
       "      <th>7782</th>\n",
       "      <td>0.000000</td>\n",
       "    </tr>\n",
       "    <tr>\n",
       "      <th>7783</th>\n",
       "      <td>0.000000</td>\n",
       "    </tr>\n",
       "    <tr>\n",
       "      <th>7784</th>\n",
       "      <td>0.021053</td>\n",
       "    </tr>\n",
       "    <tr>\n",
       "      <th>7785</th>\n",
       "      <td>0.000000</td>\n",
       "    </tr>\n",
       "    <tr>\n",
       "      <th>7786</th>\n",
       "      <td>0.086022</td>\n",
       "    </tr>\n",
       "    <tr>\n",
       "      <th>7787</th>\n",
       "      <td>0.117073</td>\n",
       "    </tr>\n",
       "    <tr>\n",
       "      <th>7788</th>\n",
       "      <td>0.000000</td>\n",
       "    </tr>\n",
       "    <tr>\n",
       "      <th>7789</th>\n",
       "      <td>0.000000</td>\n",
       "    </tr>\n",
       "    <tr>\n",
       "      <th>7790</th>\n",
       "      <td>0.061224</td>\n",
       "    </tr>\n",
       "    <tr>\n",
       "      <th>7791</th>\n",
       "      <td>0.118812</td>\n",
       "    </tr>\n",
       "    <tr>\n",
       "      <th>7792</th>\n",
       "      <td>0.082192</td>\n",
       "    </tr>\n",
       "    <tr>\n",
       "      <th>7793</th>\n",
       "      <td>0.058252</td>\n",
       "    </tr>\n",
       "    <tr>\n",
       "      <th>7794</th>\n",
       "      <td>0.067039</td>\n",
       "    </tr>\n",
       "    <tr>\n",
       "      <th>7795</th>\n",
       "      <td>0.026816</td>\n",
       "    </tr>\n",
       "    <tr>\n",
       "      <th>7796</th>\n",
       "      <td>0.022099</td>\n",
       "    </tr>\n",
       "    <tr>\n",
       "      <th>7797</th>\n",
       "      <td>0.000000</td>\n",
       "    </tr>\n",
       "    <tr>\n",
       "      <th>7798</th>\n",
       "      <td>0.072948</td>\n",
       "    </tr>\n",
       "    <tr>\n",
       "      <th>7799</th>\n",
       "      <td>0.000000</td>\n",
       "    </tr>\n",
       "    <tr>\n",
       "      <th>7800</th>\n",
       "      <td>0.029268</td>\n",
       "    </tr>\n",
       "  </tbody>\n",
       "</table>\n",
       "<p>7801 rows × 1 columns</p>\n",
       "</div>"
      ],
      "text/plain": [
       "      Velocidad del viento (Km/h)\n",
       "0                        0.000000\n",
       "1                        0.031537\n",
       "2                        0.073846\n",
       "3                        0.069364\n",
       "4                        0.000000\n",
       "5                        0.073620\n",
       "6                        0.114286\n",
       "7                        0.018168\n",
       "8                        0.024267\n",
       "9                        0.062500\n",
       "10                       0.044527\n",
       "11                       0.100418\n",
       "12                       0.000000\n",
       "13                       0.030038\n",
       "14                       0.000000\n",
       "15                       0.000000\n",
       "16                       0.025890\n",
       "17                       0.000000\n",
       "18                       0.203390\n",
       "19                       0.000000\n",
       "20                       0.105263\n",
       "21                       0.064000\n",
       "22                       0.031579\n",
       "23                       0.102564\n",
       "24                       0.000000\n",
       "25                       0.000000\n",
       "26                       0.025343\n",
       "27                       0.071429\n",
       "28                       0.000000\n",
       "29                       0.000000\n",
       "...                           ...\n",
       "7771                     0.000000\n",
       "7772                     0.066116\n",
       "7773                     0.061381\n",
       "7774                     0.019185\n",
       "7775                     0.500000\n",
       "7776                     0.055046\n",
       "7777                     0.000000\n",
       "7778                     0.046967\n",
       "7779                     0.000000\n",
       "7780                     0.170213\n",
       "7781                     0.000000\n",
       "7782                     0.000000\n",
       "7783                     0.000000\n",
       "7784                     0.021053\n",
       "7785                     0.000000\n",
       "7786                     0.086022\n",
       "7787                     0.117073\n",
       "7788                     0.000000\n",
       "7789                     0.000000\n",
       "7790                     0.061224\n",
       "7791                     0.118812\n",
       "7792                     0.082192\n",
       "7793                     0.058252\n",
       "7794                     0.067039\n",
       "7795                     0.026816\n",
       "7796                     0.022099\n",
       "7797                     0.000000\n",
       "7798                     0.072948\n",
       "7799                     0.000000\n",
       "7800                     0.029268\n",
       "\n",
       "[7801 rows x 1 columns]"
      ]
     },
     "execution_count": 55,
     "metadata": {},
     "output_type": "execute_result"
    }
   ],
   "source": [
    "win_speed_train_df"
   ]
  },
  {
   "cell_type": "markdown",
   "metadata": {},
   "source": [
    "In this way we have the dataset `win_speed_train_df` standardized and training, and export it to a .csv file"
   ]
  },
  {
   "cell_type": "code",
   "execution_count": 56,
   "metadata": {},
   "outputs": [],
   "source": [
    "win_speed_train_df.to_csv('../../../../data/processed/WindSpeed/28-weeks_January-12_August-03_2018/' +'\\n' \n",
    "                                 'Wind-Speed_Normalized_TRAINING_January-12_August-03.csv', sep=',', header=True, index=False)"
   ]
  },
  {
   "cell_type": "markdown",
   "metadata": {},
   "source": [
    "### 3.2 We apply maximium and minimum feature scaling to Wind speed testing dataset"
   ]
  },
  {
   "cell_type": "code",
   "execution_count": 57,
   "metadata": {},
   "outputs": [
    {
     "name": "stdout",
     "output_type": "stream",
     "text": [
      "Remember our temperature testing data \n",
      " [[1.5078534 ]\n",
      " [0.        ]\n",
      " [2.15246637]\n",
      " ...\n",
      " [6.12765957]\n",
      " [2.53521127]\n",
      " [0.        ]]\n"
     ]
    }
   ],
   "source": [
    "# We provide a base scale range\n",
    "scaler = MinMaxScaler(feature_range=(0, 1))\n",
    "\n",
    "print(\"Remember our temperature testing data \" + '\\n', wind_speed_values_test)"
   ]
  },
  {
   "cell_type": "code",
   "execution_count": 58,
   "metadata": {},
   "outputs": [],
   "source": [
    "minmax_scale_test = scaler.fit(wind_speed_values_test.astype(float))\n",
    "# transform luminosity_luxes_test data to maximum and mínimum scale value. \n",
    "wind_speed_minmax_test = minmax_scale_test.transform(wind_speed_values_test)"
   ]
  },
  {
   "cell_type": "code",
   "execution_count": 59,
   "metadata": {},
   "outputs": [
    {
     "name": "stdout",
     "output_type": "stream",
     "text": [
      "And, these are our testing scaled data: \n",
      "\n"
     ]
    },
    {
     "data": {
      "text/plain": [
       "array([[0.02198953],\n",
       "       [0.        ],\n",
       "       [0.03139013],\n",
       "       ...,\n",
       "       [0.0893617 ],\n",
       "       [0.03697183],\n",
       "       [0.        ]])"
      ]
     },
     "execution_count": 59,
     "metadata": {},
     "output_type": "execute_result"
    }
   ],
   "source": [
    "print (\"And, these are our testing scaled data: \" + '\\n')\n",
    "wind_speed_minmax_test"
   ]
  },
  {
   "cell_type": "code",
   "execution_count": 60,
   "metadata": {},
   "outputs": [
    {
     "name": "stdout",
     "output_type": "stream",
     "text": [
      "Wind speed Testing dataset. Minimum value after MaxMinScaler:\n",
      "Wind speed=0.0\n",
      "Wind speed Testing dataset. Maximum value after MaxMinScaler:\n",
      "Wind speed=1.0\n"
     ]
    }
   ],
   "source": [
    "print('Wind speed Testing dataset. Minimum value after MaxMinScaler:\\nWind speed={:.1f}'\n",
    "      .format(wind_speed_minmax_test[:,0].min()))\n",
    "\n",
    "print('Wind speed Testing dataset. Maximum value after MaxMinScaler:\\nWind speed={:.1f}'\n",
    "      .format(wind_speed_minmax_test[:,0].max()))"
   ]
  },
  {
   "cell_type": "markdown",
   "metadata": {},
   "source": [
    "Then, our  MinMaxScaler normalized training dataset is `wind_speed_minmax_test` numpy array\n",
    "\n",
    "- We export this array to comma separated values"
   ]
  },
  {
   "cell_type": "code",
   "execution_count": 61,
   "metadata": {},
   "outputs": [],
   "source": [
    "wind_speed_test_df = pd.DataFrame(wind_speed_minmax_test, columns=col)"
   ]
  },
  {
   "cell_type": "code",
   "execution_count": 62,
   "metadata": {},
   "outputs": [
    {
     "name": "stdout",
     "output_type": "stream",
     "text": [
      "(1951, 1)\n"
     ]
    },
    {
     "data": {
      "text/html": [
       "<div>\n",
       "<style scoped>\n",
       "    .dataframe tbody tr th:only-of-type {\n",
       "        vertical-align: middle;\n",
       "    }\n",
       "\n",
       "    .dataframe tbody tr th {\n",
       "        vertical-align: top;\n",
       "    }\n",
       "\n",
       "    .dataframe thead th {\n",
       "        text-align: right;\n",
       "    }\n",
       "</style>\n",
       "<table border=\"1\" class=\"dataframe\">\n",
       "  <thead>\n",
       "    <tr style=\"text-align: right;\">\n",
       "      <th></th>\n",
       "      <th>Velocidad del viento (Km/h)</th>\n",
       "    </tr>\n",
       "  </thead>\n",
       "  <tbody>\n",
       "    <tr>\n",
       "      <th>0</th>\n",
       "      <td>0.021990</td>\n",
       "    </tr>\n",
       "    <tr>\n",
       "      <th>1</th>\n",
       "      <td>0.000000</td>\n",
       "    </tr>\n",
       "    <tr>\n",
       "      <th>2</th>\n",
       "      <td>0.031390</td>\n",
       "    </tr>\n",
       "    <tr>\n",
       "      <th>3</th>\n",
       "      <td>0.048951</td>\n",
       "    </tr>\n",
       "    <tr>\n",
       "      <th>4</th>\n",
       "      <td>0.000000</td>\n",
       "    </tr>\n",
       "  </tbody>\n",
       "</table>\n",
       "</div>"
      ],
      "text/plain": [
       "   Velocidad del viento (Km/h)\n",
       "0                     0.021990\n",
       "1                     0.000000\n",
       "2                     0.031390\n",
       "3                     0.048951\n",
       "4                     0.000000"
      ]
     },
     "execution_count": 62,
     "metadata": {},
     "output_type": "execute_result"
    }
   ],
   "source": [
    "print(wind_speed_test_df.shape)\n",
    "wind_speed_test_df.head()"
   ]
  },
  {
   "cell_type": "code",
   "execution_count": 63,
   "metadata": {},
   "outputs": [],
   "source": [
    "wind_speed_test_df.to_csv('../../../../data/processed/WindSpeed/28-weeks_January-12_August-03_2018/' +'\\n' \n",
    "                                 'Wind-Speed_Normalized_TESTING_January-12_August-03.csv', sep=',', header=True, index=False)"
   ]
  },
  {
   "cell_type": "code",
   "execution_count": null,
   "metadata": {},
   "outputs": [],
   "source": []
  }
 ],
 "metadata": {
  "kernelspec": {
   "display_name": "Python 3",
   "language": "python",
   "name": "python3"
  },
  "language_info": {
   "codemirror_mode": {
    "name": "ipython",
    "version": 3
   },
   "file_extension": ".py",
   "mimetype": "text/x-python",
   "name": "python",
   "nbconvert_exporter": "python",
   "pygments_lexer": "ipython3",
   "version": "3.6.5"
  }
 },
 "nbformat": 4,
 "nbformat_minor": 2
}
