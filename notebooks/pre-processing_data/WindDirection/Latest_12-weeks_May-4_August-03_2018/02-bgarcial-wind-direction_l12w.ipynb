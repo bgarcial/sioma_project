{
 "cells": [
  {
   "cell_type": "code",
   "execution_count": 3,
   "metadata": {},
   "outputs": [],
   "source": [
    "from __future__ import unicode_literals\n",
    "\n",
    "import pandas as pd\n",
    "import numpy as np\n",
    "from sklearn import preprocessing\n",
    "from matplotlib import pyplot as plt\n",
    "from sklearn.preprocessing import MinMaxScaler\n",
    "from sklearn.preprocessing import LabelEncoder, OneHotEncoder\n",
    "from sklearn.model_selection import train_test_split"
   ]
  },
  {
   "cell_type": "markdown",
   "metadata": {},
   "source": [
    "# 1. Preparando los datos - Últimas 12 semanas de vida de la planta de banano \n",
    "---\n",
    "From May 4 to August 03."
   ]
  },
  {
   "cell_type": "code",
   "execution_count": 6,
   "metadata": {},
   "outputs": [],
   "source": [
    "wind_direction_l12w = pd.read_csv('../../../../data/raw/FincaPorvenir/Metereologico/Latest_12-weeks_May-4_August-03_2018/' \\\n",
    "                                 'Direccion-del-viento_May-4_August-03_2018.csv', )"
   ]
  },
  {
   "cell_type": "code",
   "execution_count": 7,
   "metadata": {},
   "outputs": [
    {
     "name": "stdout",
     "output_type": "stream",
     "text": [
      "(4398, 2)\n"
     ]
    },
    {
     "data": {
      "text/html": [
       "<div>\n",
       "<style scoped>\n",
       "    .dataframe tbody tr th:only-of-type {\n",
       "        vertical-align: middle;\n",
       "    }\n",
       "\n",
       "    .dataframe tbody tr th {\n",
       "        vertical-align: top;\n",
       "    }\n",
       "\n",
       "    .dataframe thead th {\n",
       "        text-align: right;\n",
       "    }\n",
       "</style>\n",
       "<table border=\"1\" class=\"dataframe\">\n",
       "  <thead>\n",
       "    <tr style=\"text-align: right;\">\n",
       "      <th></th>\n",
       "      <th>Fecha:</th>\n",
       "      <th>Direccion del viento (Pos)</th>\n",
       "    </tr>\n",
       "  </thead>\n",
       "  <tbody>\n",
       "    <tr>\n",
       "      <th>0</th>\n",
       "      <td>2018-05-04 00:07:38</td>\n",
       "      <td>SO</td>\n",
       "    </tr>\n",
       "    <tr>\n",
       "      <th>1</th>\n",
       "      <td>2018-05-04 00:37:39</td>\n",
       "      <td>SO</td>\n",
       "    </tr>\n",
       "    <tr>\n",
       "      <th>2</th>\n",
       "      <td>2018-05-04 01:07:38</td>\n",
       "      <td>SO</td>\n",
       "    </tr>\n",
       "    <tr>\n",
       "      <th>3</th>\n",
       "      <td>2018-05-04 01:37:39</td>\n",
       "      <td>NO</td>\n",
       "    </tr>\n",
       "    <tr>\n",
       "      <th>4</th>\n",
       "      <td>2018-05-04 02:07:38</td>\n",
       "      <td>NO</td>\n",
       "    </tr>\n",
       "  </tbody>\n",
       "</table>\n",
       "</div>"
      ],
      "text/plain": [
       "                Fecha: Direccion del viento (Pos)\n",
       "0  2018-05-04 00:07:38                         SO\n",
       "1  2018-05-04 00:37:39                         SO\n",
       "2  2018-05-04 01:07:38                         SO\n",
       "3  2018-05-04 01:37:39                         NO\n",
       "4  2018-05-04 02:07:38                         NO"
      ]
     },
     "execution_count": 7,
     "metadata": {},
     "output_type": "execute_result"
    }
   ],
   "source": [
    "print(wind_direction_l12w.shape)\n",
    "wind_direction_l12w.head()"
   ]
  },
  {
   "cell_type": "markdown",
   "metadata": {},
   "source": [
    "## 1.1. We evaluate if this dataset has null type `NaN`\n",
    "---"
   ]
  },
  {
   "cell_type": "code",
   "execution_count": 8,
   "metadata": {},
   "outputs": [
    {
     "name": "stdout",
     "output_type": "stream",
     "text": [
      "Fecha:                        False\n",
      "Direccion del viento (Pos)    False\n",
      "dtype: bool\n"
     ]
    },
    {
     "data": {
      "text/plain": [
       "False"
      ]
     },
     "execution_count": 8,
     "metadata": {},
     "output_type": "execute_result"
    }
   ],
   "source": [
    "print(wind_direction_l12w.isnull().any())\n",
    "wind_direction_l12w.isnull().values.any()"
   ]
  },
  {
   "cell_type": "markdown",
   "metadata": {},
   "source": [
    "Don't have null values\n",
    "\n",
    "## 1.2. Selecting  relevant index columns features\n",
    "---\n",
    "\n",
    "Since the dataset has a column called **`Fecha:`**, which is not a numerical value,\n",
    "\n",
    "it will be removed so that it does not interfere **with our subsequent scaling**, \n",
    "\n",
    "so we are only going to reference the values or samples of the column\n",
    "\n",
    "** `Direccion del viento (pos)` ** and assigning them to the matrix \n",
    "\n",
    "`wind_direction_l12w_pos` created such as follow:"
   ]
  },
  {
   "cell_type": "code",
   "execution_count": 11,
   "metadata": {},
   "outputs": [
    {
     "name": "stdout",
     "output_type": "stream",
     "text": [
      "<class 'numpy.ndarray'>\n"
     ]
    },
    {
     "data": {
      "text/plain": [
       "array(['SO', 'SO', 'SO', ..., 'SE', 'S', 'SE'], dtype=object)"
      ]
     },
     "execution_count": 11,
     "metadata": {},
     "output_type": "execute_result"
    }
   ],
   "source": [
    "wind_direction_l12w_pos = wind_direction_l12w.iloc[:, 1].values\n",
    "print(type(wind_direction_l12w_pos))\n",
    "# When we use iloc() dataframe function, the variable is turned on numpy array\n",
    "\n",
    "wind_direction_l12w_pos\n"
   ]
  },
  {
   "cell_type": "markdown",
   "metadata": {},
   "source": [
    "- We turn this `wind_direction_l12w_pos` numpy array to pandas dataframe "
   ]
  },
  {
   "cell_type": "code",
   "execution_count": 12,
   "metadata": {},
   "outputs": [
    {
     "name": "stdout",
     "output_type": "stream",
     "text": [
      "<class 'pandas.core.frame.DataFrame'>\n",
      "The dimensionality of wind_direction dataframe is: \n",
      " (4398, 1)\n"
     ]
    },
    {
     "data": {
      "text/html": [
       "<div>\n",
       "<style scoped>\n",
       "    .dataframe tbody tr th:only-of-type {\n",
       "        vertical-align: middle;\n",
       "    }\n",
       "\n",
       "    .dataframe tbody tr th {\n",
       "        vertical-align: top;\n",
       "    }\n",
       "\n",
       "    .dataframe thead th {\n",
       "        text-align: right;\n",
       "    }\n",
       "</style>\n",
       "<table border=\"1\" class=\"dataframe\">\n",
       "  <thead>\n",
       "    <tr style=\"text-align: right;\">\n",
       "      <th></th>\n",
       "      <th>Direccion del viento (Pos)</th>\n",
       "    </tr>\n",
       "  </thead>\n",
       "  <tbody>\n",
       "    <tr>\n",
       "      <th>0</th>\n",
       "      <td>SO</td>\n",
       "    </tr>\n",
       "    <tr>\n",
       "      <th>1</th>\n",
       "      <td>SO</td>\n",
       "    </tr>\n",
       "    <tr>\n",
       "      <th>2</th>\n",
       "      <td>SO</td>\n",
       "    </tr>\n",
       "    <tr>\n",
       "      <th>3</th>\n",
       "      <td>NO</td>\n",
       "    </tr>\n",
       "    <tr>\n",
       "      <th>4</th>\n",
       "      <td>NO</td>\n",
       "    </tr>\n",
       "  </tbody>\n",
       "</table>\n",
       "</div>"
      ],
      "text/plain": [
       "  Direccion del viento (Pos)\n",
       "0                         SO\n",
       "1                         SO\n",
       "2                         SO\n",
       "3                         NO\n",
       "4                         NO"
      ]
     },
     "execution_count": 12,
     "metadata": {},
     "output_type": "execute_result"
    }
   ],
   "source": [
    "col=['Direccion del viento (Pos)']\n",
    "wind_direction_l12w_pos_df = pd.DataFrame(wind_direction_l12w_pos, columns=col)\n",
    "print(type(wind_direction_l12w_pos_df))\n",
    "print(\"The dimensionality of wind_direction dataframe is: \" +'\\n' , wind_direction_l12w_pos_df.shape)\n",
    "wind_direction_l12w_pos_df.head()"
   ]
  },
  {
   "cell_type": "markdown",
   "metadata": {},
   "source": [
    "Until here, we have the ** `Direccion del viento (pos)` ** values. \n",
    "\n",
    "Although we haven't ended with their preparation, just in case, we want\n",
    "\n",
    "export it to comma separated values format."
   ]
  },
  {
   "cell_type": "code",
   "execution_count": 14,
   "metadata": {},
   "outputs": [],
   "source": [
    "# This dataset created will not be used like final, canonical data sets for modeling \n",
    "wind_direction_l12w_pos_df.to_csv('../../../../data/interim/WindDirection/Latest_12-weeks_May-4_August-03_2018/' +'\\n' \n",
    "                             'Wind-Direction_May-4_August-03_2018_without-dates.csv', sep=',', header=True, index=False)"
   ]
  },
  {
   "cell_type": "markdown",
   "metadata": {},
   "source": [
    "## 1.3 Encoding categorical values\n",
    "---\n",
    "We have that our `wind_direction_l12w_pos_df` dataset, the column feature ** `Direccion del viento (pos)` **\n",
    "\n",
    "is a categorical variable, due to that have 8 categories or different values, and they aren't numerics:\n",
    "\n",
    "- `SO` - Sur oeste\n",
    "- `SE` - Sur este\n",
    "- `S` - Sur \n",
    "- `N` - Norte\n",
    "- `NO` - Nor oeste\n",
    "- `NE` - Nor este\n",
    "- `O` - Oeste\n",
    "- `E` - Este\n",
    "\n",
    "These values are strings. We only want numeric values on the equations, so, we need encoder the categorical\n",
    "\n",
    "variables, that's encode the string text like numerical values.\n",
    "\n",
    "- ### How to encoding them ?\n",
    "\n",
    "For each one of these categories, we'll create a column feature using the [pandas.get_dummies()](https://pandas.pydata.org/pandas-docs/stable/generated/pandas.get_dummies.html) function to generate dummies variables."
   ]
  },
  {
   "cell_type": "markdown",
   "metadata": {},
   "source": [
    "- ### What are dummies variables ?\n",
    "\n",
    "Initially, we should understand ** the meaning of a dummy variable**, taking as a reference [this answer post](https://discuss.analyticsvidhya.com/t/what-is-a-dummy-variable/18960 \"Variables Dummy\")\n",
    "\n",
    "> A dummy variable is a fictitious, artificial variable and is created to \n",
    "\n",
    "> represent an attribute with two or more different categories or levels\n",
    "\n",
    "That's the situation of the ** `Direccion del viento (pos)` ** column feature.\n",
    "\n",
    "- ###  Why is it used?\n",
    "\n",
    "> Regression analysis treats all independent (X) variables in the analysis as numerical. \n",
    "\n",
    "> Numerical variables are interval or ratio scale variables whose values are directly comparable, \n",
    "\n",
    ">e.g. ‘10 is twice as much as 5’, or\n",
    "> ‘3 minus 1 equals 2’.\n",
    "\n",
    "> Often, however, you might want to include an attribute or nominal scale variable such\n",
    "\n",
    "> as **‘Product Brand’** or **‘Type of Defect’** in your study.\n",
    "\n",
    "> Say you have three types of defects, ** numbered ‘1’, ‘2’ and ‘3’**. \n",
    "\n",
    ">  In this case, ‘3 minus 1’ doesn’t mean anything ...  **you can’t subtracting defect 1 from defect 3**\n",
    "\n",
    "Then:\n",
    "\n",
    "> The numbers here are used to indicate or identify the levels of **‘Defect Type’** \n",
    "\n",
    "> and do not have intrinsic meaning of their own. Dummy variables are created in this \n",
    "\n",
    "> situation to ‘trick’ the regression algorithm into correctly analyzing attribute variables."
   ]
  },
  {
   "cell_type": "markdown",
   "metadata": {},
   "source": [
    "So, for the ** `Direccion del viento (pos)` ** column feature context, we have 8 values\n",
    "\n",
    "- `SO` - Sur oeste\n",
    "- `SE` - Sur este\n",
    "- `S` - Sur \n",
    "- `N` - Norte\n",
    "- `NO` - Nor oeste\n",
    "- `NE` - Nor este\n",
    "- `O` - Oeste\n",
    "- `E` - Este\n",
    "\n",
    "This meaning 8 categories, then instead of have only one column named ** `Direccion del viento (pos)` **\n",
    "\n",
    "we could have:\n",
    "\n",
    "![alt text](https://cldup.com/uwafdLR9-f-3000x3000.png \"Direccion del viento como variables categóricas\")\n",
    "\n",
    "Each column feature, represent a wind direction values and in each one will be there a ** `1` ** value or ** `0` ** value according to the input represented\n",
    "\n",
    "By example, for the **`NO`** column feature will be there a ** `1` ** value wheter the input data value is `NO`.\n",
    "Otherwise, will be **`0`**, such as denoted on red square and their column values.\n",
    "\n",
    "![alt text](https://cldup.com/83-rU9hxBD-3000x3000.png \"Direccion del viento como variables categóricas\")"
   ]
  },
  {
   "cell_type": "markdown",
   "metadata": {},
   "source": [
    "### 1.3.1 Using [pandas.get_dummies()](https://pandas.pydata.org/pandas-docs/stable/generated/pandas.get_dummies.html) to generate dummies variables.\n",
    "---\n",
    "\n",
    "** `pandas.get_dummies()` ** accepts like data parameter a numpy array, pandas series and pandas dataframe.  Any of them"
   ]
  },
  {
   "cell_type": "code",
   "execution_count": 15,
   "metadata": {},
   "outputs": [
    {
     "name": "stdout",
     "output_type": "stream",
     "text": [
      "<class 'numpy.ndarray'>\n",
      "(4398,)\n"
     ]
    },
    {
     "data": {
      "text/plain": [
       "array(['SO', 'SO', 'SO', ..., 'SE', 'S', 'SE'], dtype=object)"
      ]
     },
     "execution_count": 15,
     "metadata": {},
     "output_type": "execute_result"
    }
   ],
   "source": [
    "print(type(wind_direction_l12w_pos))\n",
    "print(wind_direction_l12w_pos.shape)\n",
    "wind_direction_l12w_pos"
   ]
  },
  {
   "cell_type": "code",
   "execution_count": 17,
   "metadata": {},
   "outputs": [
    {
     "name": "stdout",
     "output_type": "stream",
     "text": [
      "<class 'pandas.core.frame.DataFrame'>\n",
      "(4398, 1)\n"
     ]
    },
    {
     "data": {
      "text/html": [
       "<div>\n",
       "<style scoped>\n",
       "    .dataframe tbody tr th:only-of-type {\n",
       "        vertical-align: middle;\n",
       "    }\n",
       "\n",
       "    .dataframe tbody tr th {\n",
       "        vertical-align: top;\n",
       "    }\n",
       "\n",
       "    .dataframe thead th {\n",
       "        text-align: right;\n",
       "    }\n",
       "</style>\n",
       "<table border=\"1\" class=\"dataframe\">\n",
       "  <thead>\n",
       "    <tr style=\"text-align: right;\">\n",
       "      <th></th>\n",
       "      <th>Direccion del viento (Pos)</th>\n",
       "    </tr>\n",
       "  </thead>\n",
       "  <tbody>\n",
       "    <tr>\n",
       "      <th>0</th>\n",
       "      <td>SO</td>\n",
       "    </tr>\n",
       "    <tr>\n",
       "      <th>1</th>\n",
       "      <td>SO</td>\n",
       "    </tr>\n",
       "    <tr>\n",
       "      <th>2</th>\n",
       "      <td>SO</td>\n",
       "    </tr>\n",
       "    <tr>\n",
       "      <th>3</th>\n",
       "      <td>NO</td>\n",
       "    </tr>\n",
       "    <tr>\n",
       "      <th>4</th>\n",
       "      <td>NO</td>\n",
       "    </tr>\n",
       "  </tbody>\n",
       "</table>\n",
       "</div>"
      ],
      "text/plain": [
       "  Direccion del viento (Pos)\n",
       "0                         SO\n",
       "1                         SO\n",
       "2                         SO\n",
       "3                         NO\n",
       "4                         NO"
      ]
     },
     "execution_count": 17,
     "metadata": {},
     "output_type": "execute_result"
    }
   ],
   "source": [
    "print(type(wind_direction_l12w_pos_df))\n",
    "print(wind_direction_l12w_pos_df.shape)\n",
    "wind_direction_l12w_pos_df.head()"
   ]
  },
  {
   "cell_type": "code",
   "execution_count": 18,
   "metadata": {},
   "outputs": [],
   "source": [
    "# Applying get_dummies\n",
    "wind_direction_l12w_pos_df = pd.get_dummies(wind_direction_l12w_pos_df)"
   ]
  },
  {
   "cell_type": "code",
   "execution_count": 19,
   "metadata": {},
   "outputs": [
    {
     "name": "stdout",
     "output_type": "stream",
     "text": [
      "(4398, 8)\n",
      "<class 'pandas.core.frame.DataFrame'>\n"
     ]
    },
    {
     "data": {
      "text/html": [
       "<div>\n",
       "<style scoped>\n",
       "    .dataframe tbody tr th:only-of-type {\n",
       "        vertical-align: middle;\n",
       "    }\n",
       "\n",
       "    .dataframe tbody tr th {\n",
       "        vertical-align: top;\n",
       "    }\n",
       "\n",
       "    .dataframe thead th {\n",
       "        text-align: right;\n",
       "    }\n",
       "</style>\n",
       "<table border=\"1\" class=\"dataframe\">\n",
       "  <thead>\n",
       "    <tr style=\"text-align: right;\">\n",
       "      <th></th>\n",
       "      <th>Direccion del viento (Pos)_E</th>\n",
       "      <th>Direccion del viento (Pos)_N</th>\n",
       "      <th>Direccion del viento (Pos)_NE</th>\n",
       "      <th>Direccion del viento (Pos)_NO</th>\n",
       "      <th>Direccion del viento (Pos)_O</th>\n",
       "      <th>Direccion del viento (Pos)_S</th>\n",
       "      <th>Direccion del viento (Pos)_SE</th>\n",
       "      <th>Direccion del viento (Pos)_SO</th>\n",
       "    </tr>\n",
       "  </thead>\n",
       "  <tbody>\n",
       "    <tr>\n",
       "      <th>0</th>\n",
       "      <td>0</td>\n",
       "      <td>0</td>\n",
       "      <td>0</td>\n",
       "      <td>0</td>\n",
       "      <td>0</td>\n",
       "      <td>0</td>\n",
       "      <td>0</td>\n",
       "      <td>1</td>\n",
       "    </tr>\n",
       "    <tr>\n",
       "      <th>1</th>\n",
       "      <td>0</td>\n",
       "      <td>0</td>\n",
       "      <td>0</td>\n",
       "      <td>0</td>\n",
       "      <td>0</td>\n",
       "      <td>0</td>\n",
       "      <td>0</td>\n",
       "      <td>1</td>\n",
       "    </tr>\n",
       "    <tr>\n",
       "      <th>2</th>\n",
       "      <td>0</td>\n",
       "      <td>0</td>\n",
       "      <td>0</td>\n",
       "      <td>0</td>\n",
       "      <td>0</td>\n",
       "      <td>0</td>\n",
       "      <td>0</td>\n",
       "      <td>1</td>\n",
       "    </tr>\n",
       "    <tr>\n",
       "      <th>3</th>\n",
       "      <td>0</td>\n",
       "      <td>0</td>\n",
       "      <td>0</td>\n",
       "      <td>1</td>\n",
       "      <td>0</td>\n",
       "      <td>0</td>\n",
       "      <td>0</td>\n",
       "      <td>0</td>\n",
       "    </tr>\n",
       "    <tr>\n",
       "      <th>4</th>\n",
       "      <td>0</td>\n",
       "      <td>0</td>\n",
       "      <td>0</td>\n",
       "      <td>1</td>\n",
       "      <td>0</td>\n",
       "      <td>0</td>\n",
       "      <td>0</td>\n",
       "      <td>0</td>\n",
       "    </tr>\n",
       "    <tr>\n",
       "      <th>5</th>\n",
       "      <td>0</td>\n",
       "      <td>0</td>\n",
       "      <td>0</td>\n",
       "      <td>1</td>\n",
       "      <td>0</td>\n",
       "      <td>0</td>\n",
       "      <td>0</td>\n",
       "      <td>0</td>\n",
       "    </tr>\n",
       "    <tr>\n",
       "      <th>6</th>\n",
       "      <td>0</td>\n",
       "      <td>0</td>\n",
       "      <td>0</td>\n",
       "      <td>0</td>\n",
       "      <td>0</td>\n",
       "      <td>1</td>\n",
       "      <td>0</td>\n",
       "      <td>0</td>\n",
       "    </tr>\n",
       "    <tr>\n",
       "      <th>7</th>\n",
       "      <td>0</td>\n",
       "      <td>0</td>\n",
       "      <td>0</td>\n",
       "      <td>0</td>\n",
       "      <td>0</td>\n",
       "      <td>0</td>\n",
       "      <td>1</td>\n",
       "      <td>0</td>\n",
       "    </tr>\n",
       "    <tr>\n",
       "      <th>8</th>\n",
       "      <td>0</td>\n",
       "      <td>0</td>\n",
       "      <td>0</td>\n",
       "      <td>0</td>\n",
       "      <td>0</td>\n",
       "      <td>0</td>\n",
       "      <td>1</td>\n",
       "      <td>0</td>\n",
       "    </tr>\n",
       "    <tr>\n",
       "      <th>9</th>\n",
       "      <td>0</td>\n",
       "      <td>1</td>\n",
       "      <td>0</td>\n",
       "      <td>0</td>\n",
       "      <td>0</td>\n",
       "      <td>0</td>\n",
       "      <td>0</td>\n",
       "      <td>0</td>\n",
       "    </tr>\n",
       "  </tbody>\n",
       "</table>\n",
       "</div>"
      ],
      "text/plain": [
       "   Direccion del viento (Pos)_E  Direccion del viento (Pos)_N  \\\n",
       "0                             0                             0   \n",
       "1                             0                             0   \n",
       "2                             0                             0   \n",
       "3                             0                             0   \n",
       "4                             0                             0   \n",
       "5                             0                             0   \n",
       "6                             0                             0   \n",
       "7                             0                             0   \n",
       "8                             0                             0   \n",
       "9                             0                             1   \n",
       "\n",
       "   Direccion del viento (Pos)_NE  Direccion del viento (Pos)_NO  \\\n",
       "0                              0                              0   \n",
       "1                              0                              0   \n",
       "2                              0                              0   \n",
       "3                              0                              1   \n",
       "4                              0                              1   \n",
       "5                              0                              1   \n",
       "6                              0                              0   \n",
       "7                              0                              0   \n",
       "8                              0                              0   \n",
       "9                              0                              0   \n",
       "\n",
       "   Direccion del viento (Pos)_O  Direccion del viento (Pos)_S  \\\n",
       "0                             0                             0   \n",
       "1                             0                             0   \n",
       "2                             0                             0   \n",
       "3                             0                             0   \n",
       "4                             0                             0   \n",
       "5                             0                             0   \n",
       "6                             0                             1   \n",
       "7                             0                             0   \n",
       "8                             0                             0   \n",
       "9                             0                             0   \n",
       "\n",
       "   Direccion del viento (Pos)_SE  Direccion del viento (Pos)_SO  \n",
       "0                              0                              1  \n",
       "1                              0                              1  \n",
       "2                              0                              1  \n",
       "3                              0                              0  \n",
       "4                              0                              0  \n",
       "5                              0                              0  \n",
       "6                              0                              0  \n",
       "7                              1                              0  \n",
       "8                              1                              0  \n",
       "9                              0                              0  "
      ]
     },
     "execution_count": 19,
     "metadata": {},
     "output_type": "execute_result"
    }
   ],
   "source": [
    "print(wind_direction_l12w_pos_df.shape)\n",
    "print(type(wind_direction_l12w_pos_df))\n",
    "wind_direction_l12w_pos_df.head(10)"
   ]
  },
  {
   "cell_type": "markdown",
   "metadata": {},
   "source": [
    "And the result is a pandas dataframe **`wind_direction_l12w_pos_df`** with the \n",
    "\n",
    "wind direction data represented like one column features by each direction value\n",
    "\n",
    "Aditionally, we can detail that the **`wind_direction_l12w_pos_df`** dataset already have\n",
    "\n",
    "a **`1`s** and **`0`s** range value, reason which is not need perform some scaling or \n",
    "\n",
    "normalization process."
   ]
  },
  {
   "cell_type": "code",
   "execution_count": 20,
   "metadata": {},
   "outputs": [
    {
     "data": {
      "text/html": [
       "<div>\n",
       "<style scoped>\n",
       "    .dataframe tbody tr th:only-of-type {\n",
       "        vertical-align: middle;\n",
       "    }\n",
       "\n",
       "    .dataframe tbody tr th {\n",
       "        vertical-align: top;\n",
       "    }\n",
       "\n",
       "    .dataframe thead th {\n",
       "        text-align: right;\n",
       "    }\n",
       "</style>\n",
       "<table border=\"1\" class=\"dataframe\">\n",
       "  <thead>\n",
       "    <tr style=\"text-align: right;\">\n",
       "      <th></th>\n",
       "      <th>E</th>\n",
       "      <th>N</th>\n",
       "      <th>NE</th>\n",
       "      <th>NO</th>\n",
       "      <th>O</th>\n",
       "      <th>S</th>\n",
       "      <th>SE</th>\n",
       "      <th>SO</th>\n",
       "    </tr>\n",
       "  </thead>\n",
       "  <tbody>\n",
       "    <tr>\n",
       "      <th>0</th>\n",
       "      <td>0</td>\n",
       "      <td>0</td>\n",
       "      <td>0</td>\n",
       "      <td>0</td>\n",
       "      <td>0</td>\n",
       "      <td>0</td>\n",
       "      <td>0</td>\n",
       "      <td>1</td>\n",
       "    </tr>\n",
       "    <tr>\n",
       "      <th>1</th>\n",
       "      <td>0</td>\n",
       "      <td>0</td>\n",
       "      <td>0</td>\n",
       "      <td>0</td>\n",
       "      <td>0</td>\n",
       "      <td>0</td>\n",
       "      <td>0</td>\n",
       "      <td>1</td>\n",
       "    </tr>\n",
       "    <tr>\n",
       "      <th>2</th>\n",
       "      <td>0</td>\n",
       "      <td>0</td>\n",
       "      <td>0</td>\n",
       "      <td>0</td>\n",
       "      <td>0</td>\n",
       "      <td>0</td>\n",
       "      <td>0</td>\n",
       "      <td>1</td>\n",
       "    </tr>\n",
       "    <tr>\n",
       "      <th>3</th>\n",
       "      <td>0</td>\n",
       "      <td>0</td>\n",
       "      <td>0</td>\n",
       "      <td>1</td>\n",
       "      <td>0</td>\n",
       "      <td>0</td>\n",
       "      <td>0</td>\n",
       "      <td>0</td>\n",
       "    </tr>\n",
       "    <tr>\n",
       "      <th>4</th>\n",
       "      <td>0</td>\n",
       "      <td>0</td>\n",
       "      <td>0</td>\n",
       "      <td>1</td>\n",
       "      <td>0</td>\n",
       "      <td>0</td>\n",
       "      <td>0</td>\n",
       "      <td>0</td>\n",
       "    </tr>\n",
       "    <tr>\n",
       "      <th>5</th>\n",
       "      <td>0</td>\n",
       "      <td>0</td>\n",
       "      <td>0</td>\n",
       "      <td>1</td>\n",
       "      <td>0</td>\n",
       "      <td>0</td>\n",
       "      <td>0</td>\n",
       "      <td>0</td>\n",
       "    </tr>\n",
       "    <tr>\n",
       "      <th>6</th>\n",
       "      <td>0</td>\n",
       "      <td>0</td>\n",
       "      <td>0</td>\n",
       "      <td>0</td>\n",
       "      <td>0</td>\n",
       "      <td>1</td>\n",
       "      <td>0</td>\n",
       "      <td>0</td>\n",
       "    </tr>\n",
       "    <tr>\n",
       "      <th>7</th>\n",
       "      <td>0</td>\n",
       "      <td>0</td>\n",
       "      <td>0</td>\n",
       "      <td>0</td>\n",
       "      <td>0</td>\n",
       "      <td>0</td>\n",
       "      <td>1</td>\n",
       "      <td>0</td>\n",
       "    </tr>\n",
       "    <tr>\n",
       "      <th>8</th>\n",
       "      <td>0</td>\n",
       "      <td>0</td>\n",
       "      <td>0</td>\n",
       "      <td>0</td>\n",
       "      <td>0</td>\n",
       "      <td>0</td>\n",
       "      <td>1</td>\n",
       "      <td>0</td>\n",
       "    </tr>\n",
       "    <tr>\n",
       "      <th>9</th>\n",
       "      <td>0</td>\n",
       "      <td>1</td>\n",
       "      <td>0</td>\n",
       "      <td>0</td>\n",
       "      <td>0</td>\n",
       "      <td>0</td>\n",
       "      <td>0</td>\n",
       "      <td>0</td>\n",
       "    </tr>\n",
       "  </tbody>\n",
       "</table>\n",
       "</div>"
      ],
      "text/plain": [
       "   E  N  NE  NO  O  S  SE  SO\n",
       "0  0  0   0   0  0  0   0   1\n",
       "1  0  0   0   0  0  0   0   1\n",
       "2  0  0   0   0  0  0   0   1\n",
       "3  0  0   0   1  0  0   0   0\n",
       "4  0  0   0   1  0  0   0   0\n",
       "5  0  0   0   1  0  0   0   0\n",
       "6  0  0   0   0  0  1   0   0\n",
       "7  0  0   0   0  0  0   1   0\n",
       "8  0  0   0   0  0  0   1   0\n",
       "9  0  1   0   0  0  0   0   0"
      ]
     },
     "execution_count": 20,
     "metadata": {},
     "output_type": "execute_result"
    }
   ],
   "source": [
    "wind_direction_l12w_pos_df = wind_direction_l12w_pos_df.rename(columns={\n",
    "    \"Direccion del viento (Pos)_E\": \"E\",\n",
    "    \"Direccion del viento (Pos)_N\": \"N\",\n",
    "    \"Direccion del viento (Pos)_NE\": \"NE\",\n",
    "    \"Direccion del viento (Pos)_NO\": \"NO\",\n",
    "    \"Direccion del viento (Pos)_O\": \"O\",\n",
    "    \"Direccion del viento (Pos)_S\": \"S\",\n",
    "    \"Direccion del viento (Pos)_SE\": \"SE\",\n",
    "    \"Direccion del viento (Pos)_SO\": \"SO\",   \n",
    "})\n",
    "wind_direction_l12w_pos_df.head(10)"
   ]
  },
  {
   "cell_type": "code",
   "execution_count": 23,
   "metadata": {},
   "outputs": [],
   "source": [
    "# Export this dataframe to comma separated value file:\n",
    "wind_direction_l12w_pos_df.to_csv('../../../../data/processed/WindDirection/Latest_12-weeks_May-4_August-03_2018/' +'\\n' \n",
    "                             'Wind-Direction_May-12_August-03_2018_DummiesValues.csv', sep=',', header=True, index=False)"
   ]
  },
  {
   "cell_type": "markdown",
   "metadata": {},
   "source": [
    "## 2. Creating wind direction Training and Testing datasets\n",
    "\n",
    "We have a **`wind_direction_l12w_pos_df`** dataset with 4398 samples rows.\n",
    "\n",
    "We'll divide into two differents datasets:\n",
    "\n",
    "- Training dataset\n",
    "- Testing dataset\n",
    "\n",
    "This is executed through [train_test_split](http://scikit-learn.org/stable/modules/generated/sklearn.model_selection.train_test_split.html  \"sklearn.model_selection.train_test_split\") function of this way:\n",
    "\n",
    "`train_test_split` receive as a data parameter a numpy array, we have to turn the \n",
    "\n",
    "**`wind_direction_l12w_pos_df`** dataframe to numpy array such as follow:"
   ]
  },
  {
   "cell_type": "code",
   "execution_count": 25,
   "metadata": {},
   "outputs": [],
   "source": [
    "# numpy_wind_direction_l12w_pos = wind_direction_l12w_pos_df.reset_index().values\n",
    "numpy_wind_direction_l12w_pos = wind_direction_l12w_pos_df.values"
   ]
  },
  {
   "cell_type": "code",
   "execution_count": 26,
   "metadata": {},
   "outputs": [
    {
     "name": "stdout",
     "output_type": "stream",
     "text": [
      "(4398, 8)\n",
      "<class 'numpy.ndarray'>\n"
     ]
    },
    {
     "data": {
      "text/plain": [
       "array([[0, 0, 0, ..., 0, 0, 1],\n",
       "       [0, 0, 0, ..., 0, 0, 1],\n",
       "       [0, 0, 0, ..., 0, 0, 1],\n",
       "       ...,\n",
       "       [0, 0, 0, ..., 0, 1, 0],\n",
       "       [0, 0, 0, ..., 1, 0, 0],\n",
       "       [0, 0, 0, ..., 0, 1, 0]], dtype=uint8)"
      ]
     },
     "execution_count": 26,
     "metadata": {},
     "output_type": "execute_result"
    }
   ],
   "source": [
    "# My numpy_wind_direction_l12w_pos variable now is a numpy array\n",
    "print(numpy_wind_direction_l12w_pos.shape)\n",
    "print(type(numpy_wind_direction_l12w_pos))\n",
    "numpy_wind_direction_l12w_pos"
   ]
  },
  {
   "cell_type": "markdown",
   "metadata": {},
   "source": [
    "We compose the following datasets from **`numpy_wind_direction_l12w_pos`** array :\n",
    "\n",
    "- `wind_direction_train_l12w`, which is the training matrix\n",
    "- `wind_direction_test_l12w`, the testing matrix\n",
    "\n",
    "We use the [train_test_split](http://scikit-learn.org/stable/modules/generated/sklearn.model_selection.train_test_split.html  \"sklearn.model_selection.train_test_split\") function to create the training and testing dataset. Their parameters are:\n",
    "\n",
    "![alt text](https://cldup.com/hukPWvvLxt-3000x3000.png \"klearn.model_selection.train_test_split\")\n",
    "\n",
    "\n",
    "- The first parameter **should be an array**, then we pass the **`numpy_wind_direction_l12w_pos`** which contain all column features of wind direction.\n",
    "\n",
    "Of this way, we pass all data (4398 samples rows) to from them `wind_direction_train_l12w`\n",
    "\n",
    "and `wind_direction_test_l12w` will be created\n",
    "\n",
    "- The `test_size=0.5` parameter means a 50% division; which means \n",
    "that half of the data goes to the test dataset and the other half \n",
    "goes to the training dataset.\n",
    "\n",
    "A good choice for the size of tests **is usually 0.2 ie 20% or 0.25 or even 30%.** \n",
    "\n",
    "In some rare cases we will have 40% but almost never 0.5 or 50%\n",
    "\n",
    "We choose 20% which means that we will have 20% of 9752 samples or observations for the test data set, \n",
    "\n",
    "in this case **4398 * 0.2 = 879.6 samples or records for the test data set**\n",
    "\n",
    "\n",
    "- The `train_size` parameter is the training dataset size.  **`test_size + train_size = 1 or 100%`**, \n",
    "then isn't necessary include it, because wheter we include to `test_size = 0.2`, then the remaining \n",
    "data will be to `train_size` this means **0.8 or 80%**\n",
    "\n",
    "This means that **4398 * 0.8 = 3518,4  training dataset samples rows. **\n",
    "\n",
    "\n",
    "- random_state is a seed or data source for generating random values for the data sets. \n",
    "\n",
    "If this parameter is not passed, the data will be generated in a random way, but in the way as by default numpy works them."
   ]
  },
  {
   "cell_type": "markdown",
   "metadata": {},
   "source": [
    "### 2.1  Creating Training and testing wind direction datasets\n",
    "---\n",
    "\n",
    "- `wind_direction_train_l12w`, which is the training matrix\n",
    "- `wind_direction_test_l12w`, the testing matrix"
   ]
  },
  {
   "cell_type": "code",
   "execution_count": 28,
   "metadata": {},
   "outputs": [],
   "source": [
    "wind_direction_train_l12w, wind_direction_test_l12w = train_test_split(numpy_wind_direction_l12w_pos, test_size = 0.2)"
   ]
  },
  {
   "cell_type": "markdown",
   "metadata": {},
   "source": [
    "# We have 7801 rows to wind_direction_train\n",
    "print(type(wind_direction_train_l12w))\n",
    "print(\"The dimensionality of wind_direction training dataset is: \" +'\\n' , wind_direction_train_l12w.shape)\n",
    "print('\\n')\n",
    "\n",
    "# And we have 1951 rows to wind_direction_test\n",
    "print(type(wind_direction_test_l12w))\n",
    "print(\"The dimensionality of wind_direction testing dataset is: \" +'\\n' , wind_direction_test_l12w.shape)\n"
   ]
  },
  {
   "cell_type": "markdown",
   "metadata": {},
   "source": [
    "In this way, the model, as you progressively learn the correlations in the training set, the better the prediction of the results in the test set.\n",
    "\n",
    "But if the model learns too much from memory the correlations of the training sets, \n",
    "\n",
    "that is to say, when one learns from memory and does not understand things, then it \n",
    "\n",
    "will have problems to predict what is happening on the set of tests, because it is \n",
    "\n",
    "learned for difficult correlations, if the logic is not well understood and you can \n",
    "\n",
    "not make good predictions. This is called overfitting or overfitting\n",
    "\n",
    "\n",
    "The really important thing is to understand that we need to have two different datasets\n",
    "\n",
    "- Training set with which the ML model learns\n",
    "- Test set, on which we test whether the ML model correctly learned the correlations"
   ]
  },
  {
   "cell_type": "markdown",
   "metadata": {},
   "source": [
    "###  2.2. Export the training and testing dataset\n",
    "---\n",
    "\n",
    "#### - Wind direction Training dataset"
   ]
  },
  {
   "cell_type": "code",
   "execution_count": 31,
   "metadata": {},
   "outputs": [],
   "source": [
    "a = np.asarray(wind_direction_train_l12w)"
   ]
  },
  {
   "cell_type": "code",
   "execution_count": 33,
   "metadata": {},
   "outputs": [],
   "source": [
    "cols = ['E', 'N', 'NE', 'NO', 'O', 'S', 'SE', 'SO']\n",
    "wind_direction_train_l12w_df = pd.DataFrame(a, columns=cols,)"
   ]
  },
  {
   "cell_type": "markdown",
   "metadata": {},
   "source": [
    "This way we have the wind_direction_train_l12w_df dataset disorganized training wind direction data"
   ]
  },
  {
   "cell_type": "code",
   "execution_count": 35,
   "metadata": {},
   "outputs": [
    {
     "data": {
      "text/html": [
       "<div>\n",
       "<style scoped>\n",
       "    .dataframe tbody tr th:only-of-type {\n",
       "        vertical-align: middle;\n",
       "    }\n",
       "\n",
       "    .dataframe tbody tr th {\n",
       "        vertical-align: top;\n",
       "    }\n",
       "\n",
       "    .dataframe thead th {\n",
       "        text-align: right;\n",
       "    }\n",
       "</style>\n",
       "<table border=\"1\" class=\"dataframe\">\n",
       "  <thead>\n",
       "    <tr style=\"text-align: right;\">\n",
       "      <th></th>\n",
       "      <th>E</th>\n",
       "      <th>N</th>\n",
       "      <th>NE</th>\n",
       "      <th>NO</th>\n",
       "      <th>O</th>\n",
       "      <th>S</th>\n",
       "      <th>SE</th>\n",
       "      <th>SO</th>\n",
       "    </tr>\n",
       "  </thead>\n",
       "  <tbody>\n",
       "    <tr>\n",
       "      <th>0</th>\n",
       "      <td>0</td>\n",
       "      <td>0</td>\n",
       "      <td>0</td>\n",
       "      <td>0</td>\n",
       "      <td>0</td>\n",
       "      <td>1</td>\n",
       "      <td>0</td>\n",
       "      <td>0</td>\n",
       "    </tr>\n",
       "    <tr>\n",
       "      <th>1</th>\n",
       "      <td>0</td>\n",
       "      <td>0</td>\n",
       "      <td>0</td>\n",
       "      <td>0</td>\n",
       "      <td>0</td>\n",
       "      <td>1</td>\n",
       "      <td>0</td>\n",
       "      <td>0</td>\n",
       "    </tr>\n",
       "    <tr>\n",
       "      <th>2</th>\n",
       "      <td>0</td>\n",
       "      <td>0</td>\n",
       "      <td>0</td>\n",
       "      <td>0</td>\n",
       "      <td>0</td>\n",
       "      <td>1</td>\n",
       "      <td>0</td>\n",
       "      <td>0</td>\n",
       "    </tr>\n",
       "    <tr>\n",
       "      <th>3</th>\n",
       "      <td>0</td>\n",
       "      <td>0</td>\n",
       "      <td>0</td>\n",
       "      <td>0</td>\n",
       "      <td>0</td>\n",
       "      <td>1</td>\n",
       "      <td>0</td>\n",
       "      <td>0</td>\n",
       "    </tr>\n",
       "    <tr>\n",
       "      <th>4</th>\n",
       "      <td>0</td>\n",
       "      <td>0</td>\n",
       "      <td>0</td>\n",
       "      <td>1</td>\n",
       "      <td>0</td>\n",
       "      <td>0</td>\n",
       "      <td>0</td>\n",
       "      <td>0</td>\n",
       "    </tr>\n",
       "  </tbody>\n",
       "</table>\n",
       "</div>"
      ],
      "text/plain": [
       "   E  N  NE  NO  O  S  SE  SO\n",
       "0  0  0   0   0  0  1   0   0\n",
       "1  0  0   0   0  0  1   0   0\n",
       "2  0  0   0   0  0  1   0   0\n",
       "3  0  0   0   0  0  1   0   0\n",
       "4  0  0   0   1  0  0   0   0"
      ]
     },
     "execution_count": 35,
     "metadata": {},
     "output_type": "execute_result"
    }
   ],
   "source": [
    "wind_direction_train_l12w_df.head()"
   ]
  },
  {
   "cell_type": "code",
   "execution_count": 37,
   "metadata": {},
   "outputs": [],
   "source": [
    "# We export the wind_direction_train dataset to comma separated value file:\n",
    "wind_direction_train_l12w_df.to_csv('../../../../data/processed/WindDirection/Latest_12-weeks_May-4_August-03_2018/' +'\\n' \n",
    "                             'Wind-Direction-TRAINING_May-4_August-03_2018_DummiesValues.csv', sep=',', header=True, index=False)"
   ]
  },
  {
   "cell_type": "code",
   "execution_count": 38,
   "metadata": {},
   "outputs": [
    {
     "data": {
      "text/plain": [
       "(3518, 8)"
      ]
     },
     "execution_count": 38,
     "metadata": {},
     "output_type": "execute_result"
    }
   ],
   "source": [
    "wind_direction_train_l12w_df.shape"
   ]
  },
  {
   "cell_type": "markdown",
   "metadata": {},
   "source": [
    "#### - Wind direction Testing dataset"
   ]
  },
  {
   "cell_type": "code",
   "execution_count": 39,
   "metadata": {},
   "outputs": [],
   "source": [
    "b = np.asarray(wind_direction_test_l12w)\n",
    "wind_direction_test_l12w_df = pd.DataFrame(b, columns=cols,)"
   ]
  },
  {
   "cell_type": "code",
   "execution_count": 40,
   "metadata": {},
   "outputs": [
    {
     "name": "stdout",
     "output_type": "stream",
     "text": [
      "(880, 8)\n"
     ]
    },
    {
     "data": {
      "text/html": [
       "<div>\n",
       "<style scoped>\n",
       "    .dataframe tbody tr th:only-of-type {\n",
       "        vertical-align: middle;\n",
       "    }\n",
       "\n",
       "    .dataframe tbody tr th {\n",
       "        vertical-align: top;\n",
       "    }\n",
       "\n",
       "    .dataframe thead th {\n",
       "        text-align: right;\n",
       "    }\n",
       "</style>\n",
       "<table border=\"1\" class=\"dataframe\">\n",
       "  <thead>\n",
       "    <tr style=\"text-align: right;\">\n",
       "      <th></th>\n",
       "      <th>E</th>\n",
       "      <th>N</th>\n",
       "      <th>NE</th>\n",
       "      <th>NO</th>\n",
       "      <th>O</th>\n",
       "      <th>S</th>\n",
       "      <th>SE</th>\n",
       "      <th>SO</th>\n",
       "    </tr>\n",
       "  </thead>\n",
       "  <tbody>\n",
       "    <tr>\n",
       "      <th>0</th>\n",
       "      <td>0</td>\n",
       "      <td>1</td>\n",
       "      <td>0</td>\n",
       "      <td>0</td>\n",
       "      <td>0</td>\n",
       "      <td>0</td>\n",
       "      <td>0</td>\n",
       "      <td>0</td>\n",
       "    </tr>\n",
       "    <tr>\n",
       "      <th>1</th>\n",
       "      <td>0</td>\n",
       "      <td>0</td>\n",
       "      <td>0</td>\n",
       "      <td>0</td>\n",
       "      <td>0</td>\n",
       "      <td>0</td>\n",
       "      <td>0</td>\n",
       "      <td>1</td>\n",
       "    </tr>\n",
       "    <tr>\n",
       "      <th>2</th>\n",
       "      <td>0</td>\n",
       "      <td>0</td>\n",
       "      <td>0</td>\n",
       "      <td>1</td>\n",
       "      <td>0</td>\n",
       "      <td>0</td>\n",
       "      <td>0</td>\n",
       "      <td>0</td>\n",
       "    </tr>\n",
       "    <tr>\n",
       "      <th>3</th>\n",
       "      <td>0</td>\n",
       "      <td>0</td>\n",
       "      <td>0</td>\n",
       "      <td>0</td>\n",
       "      <td>0</td>\n",
       "      <td>1</td>\n",
       "      <td>0</td>\n",
       "      <td>0</td>\n",
       "    </tr>\n",
       "    <tr>\n",
       "      <th>4</th>\n",
       "      <td>1</td>\n",
       "      <td>0</td>\n",
       "      <td>0</td>\n",
       "      <td>0</td>\n",
       "      <td>0</td>\n",
       "      <td>0</td>\n",
       "      <td>0</td>\n",
       "      <td>0</td>\n",
       "    </tr>\n",
       "  </tbody>\n",
       "</table>\n",
       "</div>"
      ],
      "text/plain": [
       "   E  N  NE  NO  O  S  SE  SO\n",
       "0  0  1   0   0  0  0   0   0\n",
       "1  0  0   0   0  0  0   0   1\n",
       "2  0  0   0   1  0  0   0   0\n",
       "3  0  0   0   0  0  1   0   0\n",
       "4  1  0   0   0  0  0   0   0"
      ]
     },
     "execution_count": 40,
     "metadata": {},
     "output_type": "execute_result"
    }
   ],
   "source": [
    "print(wind_direction_test_l12w_df.shape)\n",
    "wind_direction_test_l12w_df.head()"
   ]
  },
  {
   "cell_type": "markdown",
   "metadata": {},
   "source": [
    "This way we have the wind_direction_test_l12w_df dataset disorganized testing wind direction data"
   ]
  },
  {
   "cell_type": "code",
   "execution_count": 42,
   "metadata": {},
   "outputs": [],
   "source": [
    "# We export the wind_direction_train dataset to comma separated value file:\n",
    "wind_direction_test_l12w_df.to_csv('../../../../data/processed/WindDirection/Latest_12-weeks_May-4_August-03_2018/' +'\\n' \n",
    "                             'Wind-Direction-TESTING_May-4_August-03_2018_DummiesValues.csv', sep=',', header=True, index=False)"
   ]
  },
  {
   "cell_type": "markdown",
   "metadata": {},
   "source": [
    "## FINISH"
   ]
  },
  {
   "cell_type": "code",
   "execution_count": null,
   "metadata": {},
   "outputs": [],
   "source": []
  }
 ],
 "metadata": {
  "kernelspec": {
   "display_name": "Python 3",
   "language": "python",
   "name": "python3"
  },
  "language_info": {
   "codemirror_mode": {
    "name": "ipython",
    "version": 3
   },
   "file_extension": ".py",
   "mimetype": "text/x-python",
   "name": "python",
   "nbconvert_exporter": "python",
   "pygments_lexer": "ipython3",
   "version": "3.6.5"
  }
 },
 "nbformat": 4,
 "nbformat_minor": 2
}
