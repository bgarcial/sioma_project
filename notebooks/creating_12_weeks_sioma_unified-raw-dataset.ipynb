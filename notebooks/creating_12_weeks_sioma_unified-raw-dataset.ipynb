{
 "cells": [
  {
   "cell_type": "code",
   "execution_count": 26,
   "metadata": {},
   "outputs": [],
   "source": [
    "from __future__ import unicode_literals\n",
    "\n",
    "import pandas as pd\n",
    "import numpy as np"
   ]
  },
  {
   "cell_type": "markdown",
   "metadata": {},
   "source": [
    "# 1. Reading our pandas dataframes inputs variables\n",
    "\n",
    "We read our latest 12 weeks life plants input datasets **Phreatic Level, Precipitations, Temperature, Luminosity, Direction and Wind Speed** "
   ]
  },
  {
   "cell_type": "markdown",
   "metadata": {},
   "source": [
    "## 1.1. Reading Wind Direction - Raw dataset "
   ]
  },
  {
   "cell_type": "code",
   "execution_count": 27,
   "metadata": {},
   "outputs": [],
   "source": [
    "wind_direction_l12w = pd.read_csv('../data/raw/FincaPorvenir/Metereologico/Latest_12-weeks_May-4_August-03_2018/' \\\n",
    "                                 'Direccion-del-viento_May-4_August-03_2018.csv', )"
   ]
  },
  {
   "cell_type": "code",
   "execution_count": 28,
   "metadata": {},
   "outputs": [
    {
     "name": "stdout",
     "output_type": "stream",
     "text": [
      "(4398, 2)\n",
      "Fecha:                        False\n",
      "Direccion del viento (Pos)    False\n",
      "dtype: bool\n",
      "False\n",
      "<class 'numpy.ndarray'>\n"
     ]
    },
    {
     "data": {
      "text/plain": [
       "array(['SO', 'SO', 'SO', ..., 'SE', 'S', 'SE'], dtype=object)"
      ]
     },
     "execution_count": 28,
     "metadata": {},
     "output_type": "execute_result"
    }
   ],
   "source": [
    "print(wind_direction_l12w.shape)\n",
    "wind_direction_l12w.head()\n",
    "\n",
    "# Checking null values\n",
    "print(wind_direction_l12w.isnull().any())\n",
    "print(wind_direction_l12w.isnull().values.any())\n",
    "\n",
    "# Selecting relevant index columns features\n",
    "wind_direction_l12w_pos = wind_direction_l12w.iloc[:, 1].values\n",
    "\n",
    "print(type(wind_direction_l12w_pos))\n",
    "# When we use iloc() dataframe function, the variable is turned on numpy array\n",
    "\n",
    "wind_direction_l12w_pos"
   ]
  },
  {
   "cell_type": "code",
   "execution_count": 29,
   "metadata": {},
   "outputs": [
    {
     "name": "stdout",
     "output_type": "stream",
     "text": [
      "<class 'pandas.core.frame.DataFrame'>\n",
      "The dimensionality of wind_direction dataframe is: \n",
      " (4398, 1)\n"
     ]
    }
   ],
   "source": [
    "# Creating dataframe to concatenate more later\n",
    "col=['Direccion del viento (Pos)']\n",
    "wind_direction_l12w_pos_df = pd.DataFrame(wind_direction_l12w_pos, columns=col)\n",
    "print(type(wind_direction_l12w_pos_df))\n",
    "print(\"The dimensionality of wind_direction dataframe is: \" +'\\n' , wind_direction_l12w_pos_df.shape)\n",
    "wind_direction_l12w_pos_df.head()\n",
    "\n",
    "wind_direction_l12w_pos_df.to_csv('../data/interim/ComposeRawDataset/Lates-t12-weeks/wind_direction_l12w.csv', sep=',', header=True, index=True)"
   ]
  },
  {
   "cell_type": "markdown",
   "metadata": {},
   "source": [
    "## 1.2. Reading Luminosity - Raw dataset "
   ]
  },
  {
   "cell_type": "code",
   "execution_count": 30,
   "metadata": {},
   "outputs": [],
   "source": [
    "luminosity_lw12 = pd.read_csv('../data/raw/FincaPorvenir/Metereologico/Latest_12-weeks_May-4_August-03_2018/' \\\n",
    "                                 'Luz_May-4_August-03_2018.csv', )"
   ]
  },
  {
   "cell_type": "code",
   "execution_count": 31,
   "metadata": {},
   "outputs": [
    {
     "name": "stdout",
     "output_type": "stream",
     "text": [
      "(4398, 2)\n",
      "Fecha:       False\n",
      "Luz (lux)    False\n",
      "dtype: bool\n",
      "False\n",
      "<class 'numpy.ndarray'>\n"
     ]
    },
    {
     "data": {
      "text/plain": [
       "array([1, 1, 1, ..., 1, 1, 1])"
      ]
     },
     "execution_count": 31,
     "metadata": {},
     "output_type": "execute_result"
    }
   ],
   "source": [
    "print(luminosity_lw12.shape)\n",
    "luminosity_lw12.head()\n",
    "\n",
    "# Checking null values\n",
    "print(luminosity_lw12.isnull().any())\n",
    "print(luminosity_lw12.isnull().values.any())\n",
    "\n",
    "# Selecting relevant index columns features\n",
    "luminosity_lw12_luxes = luminosity_lw12.iloc[:, 1].values\n",
    "\n",
    "print(type(luminosity_lw12_luxes))\n",
    "# When we use iloc() dataframe function, the variable is turned on numpy array\n",
    "\n",
    "luminosity_lw12_luxes"
   ]
  },
  {
   "cell_type": "code",
   "execution_count": 32,
   "metadata": {},
   "outputs": [
    {
     "name": "stdout",
     "output_type": "stream",
     "text": [
      "<class 'pandas.core.frame.DataFrame'>\n",
      "The dimensionality of wind_direction dataframe is: \n",
      " (4398, 1)\n"
     ]
    }
   ],
   "source": [
    "# Creating dataframe to concatenate more later\n",
    "col=['Luz (lux)']\n",
    "luminosity_luxes_df = pd.DataFrame(luminosity_lw12_luxes, columns=col)\n",
    "print(type(luminosity_luxes_df))\n",
    "print(\"The dimensionality of wind_direction dataframe is: \" +'\\n' , luminosity_luxes_df.shape)\n",
    "luminosity_luxes_df.head()\n",
    "\n",
    "luminosity_luxes_df.to_csv('../data/interim/ComposeRawDataset/Lates-t12-weeks/luminosity_l12w.csv', sep=',', header=True, index=True)"
   ]
  },
  {
   "cell_type": "markdown",
   "metadata": {},
   "source": [
    "## 1.3 Reading phreatic level - Raw dataset \n",
    "\n",
    "### 1.3.1 Loading phreatic level - Raw dataset - From May 5 to August 03"
   ]
  },
  {
   "cell_type": "code",
   "execution_count": 33,
   "metadata": {},
   "outputs": [],
   "source": [
    "phreatic_level_l12w = pd.read_csv('../data/raw/FincaPorvenir/Drenajes/DatosNivelFreatico/Latest_12-weeks_May-4_August-03_2018/' \\\n",
    "                                 'From_2018-05-04_00-00-00_To_2018-08-03_23-59-59.csv', )"
   ]
  },
  {
   "cell_type": "code",
   "execution_count": 34,
   "metadata": {},
   "outputs": [
    {
     "name": "stdout",
     "output_type": "stream",
     "text": [
      "THE DIMENSIONALITY IS: \n",
      "\n",
      "(2226, 76)\n",
      "Columns number 76\n",
      "PORVL10N1 column rows number 2226\n"
     ]
    },
    {
     "data": {
      "text/html": [
       "<div>\n",
       "<style scoped>\n",
       "    .dataframe tbody tr th:only-of-type {\n",
       "        vertical-align: middle;\n",
       "    }\n",
       "\n",
       "    .dataframe tbody tr th {\n",
       "        vertical-align: top;\n",
       "    }\n",
       "\n",
       "    .dataframe thead th {\n",
       "        text-align: right;\n",
       "    }\n",
       "</style>\n",
       "<table border=\"1\" class=\"dataframe\">\n",
       "  <thead>\n",
       "    <tr style=\"text-align: right;\">\n",
       "      <th></th>\n",
       "      <th>Fecha</th>\n",
       "      <th>Hora</th>\n",
       "      <th>PORVL2N1</th>\n",
       "      <th>Fecha.1</th>\n",
       "      <th>Hora.1</th>\n",
       "      <th>PORVL2N2</th>\n",
       "      <th>Fecha.2</th>\n",
       "      <th>Hora.2</th>\n",
       "      <th>PORVL4N1</th>\n",
       "      <th>Fecha.3</th>\n",
       "      <th>...</th>\n",
       "      <th>PORVL21N4</th>\n",
       "      <th>Fecha.22</th>\n",
       "      <th>Hora.22</th>\n",
       "      <th>PORVL21N5</th>\n",
       "      <th>Fecha.23</th>\n",
       "      <th>Hora.23</th>\n",
       "      <th>PORVL24N1</th>\n",
       "      <th>Fecha.24</th>\n",
       "      <th>Hora.24</th>\n",
       "      <th>PORVL24N2</th>\n",
       "    </tr>\n",
       "  </thead>\n",
       "  <tbody>\n",
       "    <tr>\n",
       "      <th>0</th>\n",
       "      <td>2018-05-04</td>\n",
       "      <td>01:01:35</td>\n",
       "      <td>0.65</td>\n",
       "      <td>2018-05-04</td>\n",
       "      <td>01:59:54</td>\n",
       "      <td>0.57</td>\n",
       "      <td>2018-05-04</td>\n",
       "      <td>01:22:55</td>\n",
       "      <td>0.76</td>\n",
       "      <td>2018-05-04</td>\n",
       "      <td>...</td>\n",
       "      <td>0.73</td>\n",
       "      <td>2018-05-04</td>\n",
       "      <td>01:04:23</td>\n",
       "      <td>0.88</td>\n",
       "      <td>2018-05-04</td>\n",
       "      <td>01:16:08</td>\n",
       "      <td>0.64</td>\n",
       "      <td>2018-05-04</td>\n",
       "      <td>01:19:34</td>\n",
       "      <td>0.94</td>\n",
       "    </tr>\n",
       "    <tr>\n",
       "      <th>1</th>\n",
       "      <td>2018-05-04</td>\n",
       "      <td>02:01:34</td>\n",
       "      <td>0.66</td>\n",
       "      <td>2018-05-04</td>\n",
       "      <td>02:59:55</td>\n",
       "      <td>0.59</td>\n",
       "      <td>2018-05-04</td>\n",
       "      <td>02:22:55</td>\n",
       "      <td>0.78</td>\n",
       "      <td>2018-05-04</td>\n",
       "      <td>...</td>\n",
       "      <td>0.74</td>\n",
       "      <td>2018-05-04</td>\n",
       "      <td>02:04:16</td>\n",
       "      <td>0.89</td>\n",
       "      <td>2018-05-04</td>\n",
       "      <td>02:17:17</td>\n",
       "      <td>0.54</td>\n",
       "      <td>2018-05-04</td>\n",
       "      <td>02:19:34</td>\n",
       "      <td>0.95</td>\n",
       "    </tr>\n",
       "    <tr>\n",
       "      <th>2</th>\n",
       "      <td>2018-05-04</td>\n",
       "      <td>03:01:36</td>\n",
       "      <td>0.68</td>\n",
       "      <td>2018-05-04</td>\n",
       "      <td>03:59:55</td>\n",
       "      <td>0.60</td>\n",
       "      <td>2018-05-04</td>\n",
       "      <td>03:22:54</td>\n",
       "      <td>0.79</td>\n",
       "      <td>2018-05-04</td>\n",
       "      <td>...</td>\n",
       "      <td>0.75</td>\n",
       "      <td>2018-05-04</td>\n",
       "      <td>03:04:20</td>\n",
       "      <td>0.90</td>\n",
       "      <td>2018-05-04</td>\n",
       "      <td>03:15:58</td>\n",
       "      <td>0.54</td>\n",
       "      <td>2018-05-04</td>\n",
       "      <td>03:20:13</td>\n",
       "      <td>0.97</td>\n",
       "    </tr>\n",
       "    <tr>\n",
       "      <th>3</th>\n",
       "      <td>2018-05-04</td>\n",
       "      <td>04:02:05</td>\n",
       "      <td>0.69</td>\n",
       "      <td>2018-05-04</td>\n",
       "      <td>04:59:55</td>\n",
       "      <td>0.61</td>\n",
       "      <td>2018-05-04</td>\n",
       "      <td>04:22:55</td>\n",
       "      <td>0.80</td>\n",
       "      <td>2018-05-04</td>\n",
       "      <td>...</td>\n",
       "      <td>0.76</td>\n",
       "      <td>2018-05-04</td>\n",
       "      <td>04:04:19</td>\n",
       "      <td>0.91</td>\n",
       "      <td>2018-05-04</td>\n",
       "      <td>04:16:00</td>\n",
       "      <td>0.55</td>\n",
       "      <td>2018-05-04</td>\n",
       "      <td>04:19:35</td>\n",
       "      <td>0.98</td>\n",
       "    </tr>\n",
       "    <tr>\n",
       "      <th>4</th>\n",
       "      <td>2018-05-04</td>\n",
       "      <td>05:01:35</td>\n",
       "      <td>0.70</td>\n",
       "      <td>2018-05-04</td>\n",
       "      <td>05:59:55</td>\n",
       "      <td>0.62</td>\n",
       "      <td>2018-05-04</td>\n",
       "      <td>05:22:55</td>\n",
       "      <td>0.81</td>\n",
       "      <td>2018-05-04</td>\n",
       "      <td>...</td>\n",
       "      <td>0.77</td>\n",
       "      <td>2018-05-04</td>\n",
       "      <td>05:04:18</td>\n",
       "      <td>0.92</td>\n",
       "      <td>2018-05-04</td>\n",
       "      <td>05:15:58</td>\n",
       "      <td>0.55</td>\n",
       "      <td>2018-05-04</td>\n",
       "      <td>05:19:36</td>\n",
       "      <td>0.99</td>\n",
       "    </tr>\n",
       "  </tbody>\n",
       "</table>\n",
       "<p>5 rows × 76 columns</p>\n",
       "</div>"
      ],
      "text/plain": [
       "        Fecha      Hora  PORVL2N1     Fecha.1    Hora.1  PORVL2N2     Fecha.2  \\\n",
       "0  2018-05-04  01:01:35      0.65  2018-05-04  01:59:54      0.57  2018-05-04   \n",
       "1  2018-05-04  02:01:34      0.66  2018-05-04  02:59:55      0.59  2018-05-04   \n",
       "2  2018-05-04  03:01:36      0.68  2018-05-04  03:59:55      0.60  2018-05-04   \n",
       "3  2018-05-04  04:02:05      0.69  2018-05-04  04:59:55      0.61  2018-05-04   \n",
       "4  2018-05-04  05:01:35      0.70  2018-05-04  05:59:55      0.62  2018-05-04   \n",
       "\n",
       "     Hora.2  PORVL4N1     Fecha.3    ...    PORVL21N4    Fecha.22   Hora.22  \\\n",
       "0  01:22:55      0.76  2018-05-04    ...         0.73  2018-05-04  01:04:23   \n",
       "1  02:22:55      0.78  2018-05-04    ...         0.74  2018-05-04  02:04:16   \n",
       "2  03:22:54      0.79  2018-05-04    ...         0.75  2018-05-04  03:04:20   \n",
       "3  04:22:55      0.80  2018-05-04    ...         0.76  2018-05-04  04:04:19   \n",
       "4  05:22:55      0.81  2018-05-04    ...         0.77  2018-05-04  05:04:18   \n",
       "\n",
       "  PORVL21N5    Fecha.23   Hora.23 PORVL24N1    Fecha.24   Hora.24 PORVL24N2  \n",
       "0      0.88  2018-05-04  01:16:08      0.64  2018-05-04  01:19:34      0.94  \n",
       "1      0.89  2018-05-04  02:17:17      0.54  2018-05-04  02:19:34      0.95  \n",
       "2      0.90  2018-05-04  03:15:58      0.54  2018-05-04  03:20:13      0.97  \n",
       "3      0.91  2018-05-04  04:16:00      0.55  2018-05-04  04:19:35      0.98  \n",
       "4      0.92  2018-05-04  05:15:58      0.55  2018-05-04  05:19:36      0.99  \n",
       "\n",
       "[5 rows x 76 columns]"
      ]
     },
     "execution_count": 34,
     "metadata": {},
     "output_type": "execute_result"
    }
   ],
   "source": [
    "print(\"THE DIMENSIONALITY IS: \" +'\\n')\n",
    "print(phreatic_level_l12w.shape)\n",
    "# Numero de columnas\n",
    "print(\"Columns number\", len(phreatic_level_l12w.columns))\n",
    "# Numero de registros de la columna PORVL10N1\n",
    "print(\"PORVL10N1 column rows number\",len(phreatic_level_l12w.PORVL10N1))\n",
    "phreatic_level_l12w.head()"
   ]
  },
  {
   "cell_type": "code",
   "execution_count": 35,
   "metadata": {},
   "outputs": [],
   "source": [
    "## 1.3.2. Selecting  relevant index columns features\n",
    "# ---\n",
    "phreatic_level_lots_nodes_l12w = phreatic_level_l12w.filter(regex=('PORVL.*'))\n",
    "phreatic_level_lots_nodes_l12w.head()\n",
    "\n",
    "phreatic_level_lots_nodes_l12w.to_csv('../data/interim/ComposeRawDataset/Lates-t12-weeks/phreatic_level_l12w.csv', sep=',', header=True, index=True)"
   ]
  },
  {
   "cell_type": "markdown",
   "metadata": {},
   "source": [
    "## 1.4.Reading precipitations - Raw dataset "
   ]
  },
  {
   "cell_type": "code",
   "execution_count": 36,
   "metadata": {},
   "outputs": [],
   "source": [
    "precipitations_l12w_df = pd.read_csv('../data/raw/FincaPorvenir/Metereologico/Latest_12-weeks_May-4_August-03_2018/' \\\n",
    "                                 'Precipitacion_May-4_August-03_2018.csv', )"
   ]
  },
  {
   "cell_type": "code",
   "execution_count": 37,
   "metadata": {},
   "outputs": [
    {
     "name": "stdout",
     "output_type": "stream",
     "text": [
      "(4397, 2)\n",
      "<class 'pandas.core.frame.DataFrame'>\n",
      "The dimensionality of wind_direction dataframe is: \n",
      " (4397, 1)\n"
     ]
    }
   ],
   "source": [
    "print(precipitations_l12w_df.shape)\n",
    "precipitations_l12w_df.head()\n",
    "\n",
    "# Selecting relevant index columns features\n",
    "precipitations_l12w_raw_array = precipitations_l12w_df.iloc[:, 1].values\n",
    "# Rehape the array \n",
    "precipitations_l12w_raw_array = precipitations_l12w_raw_array.reshape(-1, 1)\n",
    "precipitations_l12w_raw_array\n",
    "\n",
    "# Compose a dataframe\n",
    "col=['Precipitación (ml)']\n",
    "precipitations_lw12_raw_df = pd.DataFrame(precipitations_l12w_raw_array, columns=col)\n",
    "print(type(precipitations_lw12_raw_df))\n",
    "print(\"The dimensionality of wind_direction dataframe is: \" +'\\n' , precipitations_lw12_raw_df.shape)\n",
    "precipitations_lw12_raw_df.head()\n",
    "\n",
    "precipitations_lw12_raw_df.to_csv('../data/interim/ComposeRawDataset/Lates-t12-weeks/precipitations.csv', sep=',', header=True, index=True)"
   ]
  },
  {
   "cell_type": "markdown",
   "metadata": {},
   "source": [
    "## 1.5 Reading temperature - Raw dataset "
   ]
  },
  {
   "cell_type": "code",
   "execution_count": 38,
   "metadata": {},
   "outputs": [],
   "source": [
    "temperature_l12w = pd.read_csv('../data/raw/FincaPorvenir/Metereologico/Latest_12-weeks_May-4_August-03_2018/' \\\n",
    "                                 'Temperatura_May-4_August-03_2018.csv', )"
   ]
  },
  {
   "cell_type": "code",
   "execution_count": 39,
   "metadata": {},
   "outputs": [
    {
     "name": "stdout",
     "output_type": "stream",
     "text": [
      "(4398, 2)\n"
     ]
    },
    {
     "data": {
      "text/html": [
       "<div>\n",
       "<style scoped>\n",
       "    .dataframe tbody tr th:only-of-type {\n",
       "        vertical-align: middle;\n",
       "    }\n",
       "\n",
       "    .dataframe tbody tr th {\n",
       "        vertical-align: top;\n",
       "    }\n",
       "\n",
       "    .dataframe thead th {\n",
       "        text-align: right;\n",
       "    }\n",
       "</style>\n",
       "<table border=\"1\" class=\"dataframe\">\n",
       "  <thead>\n",
       "    <tr style=\"text-align: right;\">\n",
       "      <th></th>\n",
       "      <th>Fecha:</th>\n",
       "      <th>Temperatura (C)</th>\n",
       "    </tr>\n",
       "  </thead>\n",
       "  <tbody>\n",
       "    <tr>\n",
       "      <th>0</th>\n",
       "      <td>2018-05-04 00:07:38</td>\n",
       "      <td>23.75</td>\n",
       "    </tr>\n",
       "    <tr>\n",
       "      <th>1</th>\n",
       "      <td>2018-05-04 00:37:39</td>\n",
       "      <td>23.68</td>\n",
       "    </tr>\n",
       "    <tr>\n",
       "      <th>2</th>\n",
       "      <td>2018-05-04 01:07:38</td>\n",
       "      <td>23.68</td>\n",
       "    </tr>\n",
       "    <tr>\n",
       "      <th>3</th>\n",
       "      <td>2018-05-04 01:37:39</td>\n",
       "      <td>23.56</td>\n",
       "    </tr>\n",
       "    <tr>\n",
       "      <th>4</th>\n",
       "      <td>2018-05-04 02:07:39</td>\n",
       "      <td>23.50</td>\n",
       "    </tr>\n",
       "  </tbody>\n",
       "</table>\n",
       "</div>"
      ],
      "text/plain": [
       "                Fecha:  Temperatura (C)\n",
       "0  2018-05-04 00:07:38            23.75\n",
       "1  2018-05-04 00:37:39            23.68\n",
       "2  2018-05-04 01:07:38            23.68\n",
       "3  2018-05-04 01:37:39            23.56\n",
       "4  2018-05-04 02:07:39            23.50"
      ]
     },
     "execution_count": 39,
     "metadata": {},
     "output_type": "execute_result"
    }
   ],
   "source": [
    "print(temperature_l12w.shape)\n",
    "temperature_l12w.head()"
   ]
  },
  {
   "cell_type": "code",
   "execution_count": 40,
   "metadata": {},
   "outputs": [
    {
     "data": {
      "text/plain": [
       "array([[23.75],\n",
       "       [23.68],\n",
       "       [23.68],\n",
       "       ...,\n",
       "       [23.81],\n",
       "       [23.5 ],\n",
       "       [23.62]])"
      ]
     },
     "execution_count": 40,
     "metadata": {},
     "output_type": "execute_result"
    }
   ],
   "source": [
    "temperature_l12w_array = temperature_l12w.iloc[:,1].values\n",
    "temperature_l12w_array = temperature_l12w_array.reshape(-1, 1)\n",
    "temperature_l12w_array"
   ]
  },
  {
   "cell_type": "code",
   "execution_count": 41,
   "metadata": {},
   "outputs": [
    {
     "name": "stdout",
     "output_type": "stream",
     "text": [
      "<class 'pandas.core.frame.DataFrame'>\n",
      "The dimensionality of wind_direction dataframe is: \n",
      " (4398, 1)\n"
     ]
    }
   ],
   "source": [
    "# Compose a dataframe\n",
    "col=['Temperatura (C)']\n",
    "temperature_lw12_raw_df = pd.DataFrame(temperature_l12w_array, columns=col)\n",
    "print(type(temperature_lw12_raw_df))\n",
    "print(\"The dimensionality of wind_direction dataframe is: \" +'\\n' , temperature_lw12_raw_df.shape)\n",
    "temperature_lw12_raw_df.head()\n",
    "\n",
    "temperature_lw12_raw_df.to_csv('../data/interim/ComposeRawDataset/Lates-t12-weeks/temperature.csv', sep=',', header=True, index=True)"
   ]
  },
  {
   "cell_type": "markdown",
   "metadata": {},
   "source": [
    "## 1.6 Reading wind speed - Raw dataset"
   ]
  },
  {
   "cell_type": "code",
   "execution_count": 46,
   "metadata": {},
   "outputs": [],
   "source": [
    "wind_speed_l12w = pd.read_csv('../data/raw/FincaPorvenir/Metereologico/Latest_12-weeks_May-4_August-03_2018/' \\\n",
    "                                 'Velocidad-del-viento_May-4_August-03_2018.csv', )"
   ]
  },
  {
   "cell_type": "code",
   "execution_count": 47,
   "metadata": {},
   "outputs": [
    {
     "name": "stdout",
     "output_type": "stream",
     "text": [
      "(4398, 2)\n"
     ]
    },
    {
     "data": {
      "text/html": [
       "<div>\n",
       "<style scoped>\n",
       "    .dataframe tbody tr th:only-of-type {\n",
       "        vertical-align: middle;\n",
       "    }\n",
       "\n",
       "    .dataframe tbody tr th {\n",
       "        vertical-align: top;\n",
       "    }\n",
       "\n",
       "    .dataframe thead th {\n",
       "        text-align: right;\n",
       "    }\n",
       "</style>\n",
       "<table border=\"1\" class=\"dataframe\">\n",
       "  <thead>\n",
       "    <tr style=\"text-align: right;\">\n",
       "      <th></th>\n",
       "      <th>Fecha:</th>\n",
       "      <th>Velocidad del viento (Km/h)</th>\n",
       "    </tr>\n",
       "  </thead>\n",
       "  <tbody>\n",
       "    <tr>\n",
       "      <th>0</th>\n",
       "      <td>2018-05-04 00:07:38</td>\n",
       "      <td>0.0</td>\n",
       "    </tr>\n",
       "    <tr>\n",
       "      <th>1</th>\n",
       "      <td>2018-05-04 00:37:39</td>\n",
       "      <td>0.0</td>\n",
       "    </tr>\n",
       "    <tr>\n",
       "      <th>2</th>\n",
       "      <td>2018-05-04 01:07:38</td>\n",
       "      <td>0.0</td>\n",
       "    </tr>\n",
       "    <tr>\n",
       "      <th>3</th>\n",
       "      <td>2018-05-04 01:37:38</td>\n",
       "      <td>0.0</td>\n",
       "    </tr>\n",
       "    <tr>\n",
       "      <th>4</th>\n",
       "      <td>2018-05-04 02:07:38</td>\n",
       "      <td>0.0</td>\n",
       "    </tr>\n",
       "  </tbody>\n",
       "</table>\n",
       "</div>"
      ],
      "text/plain": [
       "                Fecha:  Velocidad del viento (Km/h)\n",
       "0  2018-05-04 00:07:38                          0.0\n",
       "1  2018-05-04 00:37:39                          0.0\n",
       "2  2018-05-04 01:07:38                          0.0\n",
       "3  2018-05-04 01:37:38                          0.0\n",
       "4  2018-05-04 02:07:38                          0.0"
      ]
     },
     "execution_count": 47,
     "metadata": {},
     "output_type": "execute_result"
    }
   ],
   "source": [
    "print(wind_speed_l12w.shape)\n",
    "wind_speed_l12w.head()\n",
    "\n"
   ]
  },
  {
   "cell_type": "code",
   "execution_count": 48,
   "metadata": {},
   "outputs": [
    {
     "data": {
      "text/plain": [
       "array([[0.        ],\n",
       "       [0.        ],\n",
       "       [0.        ],\n",
       "       ...,\n",
       "       [0.        ],\n",
       "       [0.        ],\n",
       "       [4.21052632]])"
      ]
     },
     "execution_count": 48,
     "metadata": {},
     "output_type": "execute_result"
    }
   ],
   "source": [
    "wind_speed_l12w_array = wind_speed_l12w.iloc[:,1].values\n",
    "\n",
    "# Rehape the array \n",
    "wind_speed_l12w_array = wind_speed_l12w_array.reshape(-1, 1)\n",
    "wind_speed_l12w_array"
   ]
  },
  {
   "cell_type": "code",
   "execution_count": 49,
   "metadata": {},
   "outputs": [
    {
     "name": "stdout",
     "output_type": "stream",
     "text": [
      "<class 'pandas.core.frame.DataFrame'>\n",
      "The dimensionality of wind_direction dataframe is: \n",
      " (4398, 1)\n"
     ]
    }
   ],
   "source": [
    "# Compose a dataframe\n",
    "col=['Velocidad del viento (Km/h)']\n",
    "wind_speed_lw12_raw_df = pd.DataFrame(wind_speed_l12w_array, columns=col)\n",
    "print(type(wind_speed_lw12_raw_df))\n",
    "print(\"The dimensionality of wind_direction dataframe is: \" +'\\n' , wind_speed_lw12_raw_df.shape)\n",
    "wind_speed_lw12_raw_df.head()\n",
    "\n",
    "wind_speed_lw12_raw_df.to_csv('../data/interim/ComposeRawDataset/Lates-t12-weeks/wind-speed.csv', sep=',', header=True, index=True)"
   ]
  },
  {
   "cell_type": "markdown",
   "metadata": {},
   "source": [
    "## 1.7 Reading Racimitos Weight - Raw dataset"
   ]
  },
  {
   "cell_type": "code",
   "execution_count": 50,
   "metadata": {},
   "outputs": [],
   "source": [
    "racimitos_raw = pd.read_csv('../data/interim/Cultivos/UltimosRacimos/racimitos-27July_To_03August-SQL-JoinedData.csv')"
   ]
  },
  {
   "cell_type": "code",
   "execution_count": 51,
   "metadata": {},
   "outputs": [
    {
     "name": "stdout",
     "output_type": "stream",
     "text": [
      "(7646, 7)\n"
     ]
    },
    {
     "data": {
      "text/html": [
       "<div>\n",
       "<style scoped>\n",
       "    .dataframe tbody tr th:only-of-type {\n",
       "        vertical-align: middle;\n",
       "    }\n",
       "\n",
       "    .dataframe tbody tr th {\n",
       "        vertical-align: top;\n",
       "    }\n",
       "\n",
       "    .dataframe thead th {\n",
       "        text-align: right;\n",
       "    }\n",
       "</style>\n",
       "<table border=\"1\" class=\"dataframe\">\n",
       "  <thead>\n",
       "    <tr style=\"text-align: right;\">\n",
       "      <th></th>\n",
       "      <th>peso</th>\n",
       "      <th>fecha</th>\n",
       "      <th>nombreLote</th>\n",
       "      <th>numeroLote</th>\n",
       "      <th>lat</th>\n",
       "      <th>lng</th>\n",
       "      <th>nombreFinca</th>\n",
       "    </tr>\n",
       "  </thead>\n",
       "  <tbody>\n",
       "    <tr>\n",
       "      <th>0</th>\n",
       "      <td>23.09</td>\n",
       "      <td>2018-07-27 07:08:58</td>\n",
       "      <td>5</td>\n",
       "      <td>5</td>\n",
       "      <td>7.766231</td>\n",
       "      <td>-76.762676</td>\n",
       "      <td>Porvenir</td>\n",
       "    </tr>\n",
       "    <tr>\n",
       "      <th>1</th>\n",
       "      <td>30.50</td>\n",
       "      <td>2018-07-27 07:09:01</td>\n",
       "      <td>5</td>\n",
       "      <td>5</td>\n",
       "      <td>7.766231</td>\n",
       "      <td>-76.762676</td>\n",
       "      <td>Porvenir</td>\n",
       "    </tr>\n",
       "    <tr>\n",
       "      <th>2</th>\n",
       "      <td>19.50</td>\n",
       "      <td>2018-07-27 07:09:02</td>\n",
       "      <td>5</td>\n",
       "      <td>5</td>\n",
       "      <td>7.766231</td>\n",
       "      <td>-76.762676</td>\n",
       "      <td>Porvenir</td>\n",
       "    </tr>\n",
       "    <tr>\n",
       "      <th>3</th>\n",
       "      <td>25.50</td>\n",
       "      <td>2018-07-27 07:09:04</td>\n",
       "      <td>5</td>\n",
       "      <td>5</td>\n",
       "      <td>7.766231</td>\n",
       "      <td>-76.762676</td>\n",
       "      <td>Porvenir</td>\n",
       "    </tr>\n",
       "    <tr>\n",
       "      <th>4</th>\n",
       "      <td>26.50</td>\n",
       "      <td>2018-07-27 07:09:06</td>\n",
       "      <td>5</td>\n",
       "      <td>5</td>\n",
       "      <td>7.766231</td>\n",
       "      <td>-76.762676</td>\n",
       "      <td>Porvenir</td>\n",
       "    </tr>\n",
       "  </tbody>\n",
       "</table>\n",
       "</div>"
      ],
      "text/plain": [
       "    peso                fecha  nombreLote  numeroLote       lat        lng  \\\n",
       "0  23.09  2018-07-27 07:08:58           5           5  7.766231 -76.762676   \n",
       "1  30.50  2018-07-27 07:09:01           5           5  7.766231 -76.762676   \n",
       "2  19.50  2018-07-27 07:09:02           5           5  7.766231 -76.762676   \n",
       "3  25.50  2018-07-27 07:09:04           5           5  7.766231 -76.762676   \n",
       "4  26.50  2018-07-27 07:09:06           5           5  7.766231 -76.762676   \n",
       "\n",
       "  nombreFinca  \n",
       "0    Porvenir  \n",
       "1    Porvenir  \n",
       "2    Porvenir  \n",
       "3    Porvenir  \n",
       "4    Porvenir  "
      ]
     },
     "execution_count": 51,
     "metadata": {},
     "output_type": "execute_result"
    }
   ],
   "source": [
    "print(racimitos_raw.shape)\n",
    "racimitos_raw.head()"
   ]
  },
  {
   "cell_type": "code",
   "execution_count": 53,
   "metadata": {},
   "outputs": [
    {
     "name": "stdout",
     "output_type": "stream",
     "text": [
      "(7646, 1)\n"
     ]
    }
   ],
   "source": [
    "racimitosPorvenir_raw = racimitos_raw[['peso']]\n",
    "print(racimitosPorvenir_raw.shape)\n",
    "racimitosPorvenir_raw.head()\n",
    "\n",
    "racimitosPorvenir_raw.to_csv('../data/interim/ComposeRawDataset/Lates-t12-weeks/racimitos.csv', sep=',', header=True, index=True)"
   ]
  },
  {
   "cell_type": "code",
   "execution_count": null,
   "metadata": {},
   "outputs": [],
   "source": []
  }
 ],
 "metadata": {
  "kernelspec": {
   "display_name": "Python 3",
   "language": "python",
   "name": "python3"
  },
  "language_info": {
   "codemirror_mode": {
    "name": "ipython",
    "version": 3
   },
   "file_extension": ".py",
   "mimetype": "text/x-python",
   "name": "python",
   "nbconvert_exporter": "python",
   "pygments_lexer": "ipython3",
   "version": "3.7.1"
  }
 },
 "nbformat": 4,
 "nbformat_minor": 2
}
