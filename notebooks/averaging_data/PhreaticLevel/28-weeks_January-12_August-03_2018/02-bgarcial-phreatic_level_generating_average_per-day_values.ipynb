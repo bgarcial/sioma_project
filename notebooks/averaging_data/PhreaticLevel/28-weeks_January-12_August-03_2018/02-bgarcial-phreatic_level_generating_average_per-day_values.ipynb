{
 "cells": [
  {
   "cell_type": "code",
   "execution_count": 1,
   "metadata": {},
   "outputs": [],
   "source": [
    "from __future__ import unicode_literals\n",
    "\n",
    "import pandas as pd\n",
    "import numpy as np"
   ]
  },
  {
   "cell_type": "markdown",
   "metadata": {},
   "source": [
    "# 1. Loading phreatic level datasets by lots, nodes per day values."
   ]
  },
  {
   "cell_type": "markdown",
   "metadata": {},
   "source": [
    "## 1.1  Loading L2N1"
   ]
  },
  {
   "cell_type": "code",
   "execution_count": 2,
   "metadata": {},
   "outputs": [
    {
     "ename": "FileNotFoundError",
     "evalue": "File b'../../../../data/interim/PhreaticLevel/28-weeks_January-12_August-03_2018/PhreaticLevel_By_Lots-Nodes/PORVL2N1_portion.csv' does not exist",
     "output_type": "error",
     "traceback": [
      "\u001b[0;31m---------------------------------------------------------------------------\u001b[0m",
      "\u001b[0;31mFileNotFoundError\u001b[0m                         Traceback (most recent call last)",
      "\u001b[0;32m<ipython-input-2-e556a6a2c710>\u001b[0m in \u001b[0;36m<module>\u001b[0;34m()\u001b[0m\n\u001b[0;32m----> 1\u001b[0;31m \u001b[0mphreatic_level_l2n1_28w_df\u001b[0m \u001b[0;34m=\u001b[0m \u001b[0mpd\u001b[0m\u001b[0;34m.\u001b[0m\u001b[0mread_csv\u001b[0m\u001b[0;34m(\u001b[0m\u001b[0;34m'../../../../data/interim/PhreaticLevel/28-weeks_January-12_August-03_2018/'\u001b[0m                                  \u001b[0;34m'PhreaticLevel_By_Lots-Nodes/PORVL2N1_portion.csv'\u001b[0m\u001b[0;34m,\u001b[0m \u001b[0;34m)\u001b[0m\u001b[0;34m\u001b[0m\u001b[0m\n\u001b[0m",
      "\u001b[0;32m~/anaconda3/envs/sioma/lib/python3.6/site-packages/pandas/io/parsers.py\u001b[0m in \u001b[0;36mparser_f\u001b[0;34m(filepath_or_buffer, sep, delimiter, header, names, index_col, usecols, squeeze, prefix, mangle_dupe_cols, dtype, engine, converters, true_values, false_values, skipinitialspace, skiprows, nrows, na_values, keep_default_na, na_filter, verbose, skip_blank_lines, parse_dates, infer_datetime_format, keep_date_col, date_parser, dayfirst, iterator, chunksize, compression, thousands, decimal, lineterminator, quotechar, quoting, escapechar, comment, encoding, dialect, tupleize_cols, error_bad_lines, warn_bad_lines, skipfooter, doublequote, delim_whitespace, low_memory, memory_map, float_precision)\u001b[0m\n\u001b[1;32m    676\u001b[0m                     skip_blank_lines=skip_blank_lines)\n\u001b[1;32m    677\u001b[0m \u001b[0;34m\u001b[0m\u001b[0m\n\u001b[0;32m--> 678\u001b[0;31m         \u001b[0;32mreturn\u001b[0m \u001b[0m_read\u001b[0m\u001b[0;34m(\u001b[0m\u001b[0mfilepath_or_buffer\u001b[0m\u001b[0;34m,\u001b[0m \u001b[0mkwds\u001b[0m\u001b[0;34m)\u001b[0m\u001b[0;34m\u001b[0m\u001b[0m\n\u001b[0m\u001b[1;32m    679\u001b[0m \u001b[0;34m\u001b[0m\u001b[0m\n\u001b[1;32m    680\u001b[0m     \u001b[0mparser_f\u001b[0m\u001b[0;34m.\u001b[0m\u001b[0m__name__\u001b[0m \u001b[0;34m=\u001b[0m \u001b[0mname\u001b[0m\u001b[0;34m\u001b[0m\u001b[0m\n",
      "\u001b[0;32m~/anaconda3/envs/sioma/lib/python3.6/site-packages/pandas/io/parsers.py\u001b[0m in \u001b[0;36m_read\u001b[0;34m(filepath_or_buffer, kwds)\u001b[0m\n\u001b[1;32m    438\u001b[0m \u001b[0;34m\u001b[0m\u001b[0m\n\u001b[1;32m    439\u001b[0m     \u001b[0;31m# Create the parser.\u001b[0m\u001b[0;34m\u001b[0m\u001b[0;34m\u001b[0m\u001b[0m\n\u001b[0;32m--> 440\u001b[0;31m     \u001b[0mparser\u001b[0m \u001b[0;34m=\u001b[0m \u001b[0mTextFileReader\u001b[0m\u001b[0;34m(\u001b[0m\u001b[0mfilepath_or_buffer\u001b[0m\u001b[0;34m,\u001b[0m \u001b[0;34m**\u001b[0m\u001b[0mkwds\u001b[0m\u001b[0;34m)\u001b[0m\u001b[0;34m\u001b[0m\u001b[0m\n\u001b[0m\u001b[1;32m    441\u001b[0m \u001b[0;34m\u001b[0m\u001b[0m\n\u001b[1;32m    442\u001b[0m     \u001b[0;32mif\u001b[0m \u001b[0mchunksize\u001b[0m \u001b[0;32mor\u001b[0m \u001b[0miterator\u001b[0m\u001b[0;34m:\u001b[0m\u001b[0;34m\u001b[0m\u001b[0m\n",
      "\u001b[0;32m~/anaconda3/envs/sioma/lib/python3.6/site-packages/pandas/io/parsers.py\u001b[0m in \u001b[0;36m__init__\u001b[0;34m(self, f, engine, **kwds)\u001b[0m\n\u001b[1;32m    785\u001b[0m             \u001b[0mself\u001b[0m\u001b[0;34m.\u001b[0m\u001b[0moptions\u001b[0m\u001b[0;34m[\u001b[0m\u001b[0;34m'has_index_names'\u001b[0m\u001b[0;34m]\u001b[0m \u001b[0;34m=\u001b[0m \u001b[0mkwds\u001b[0m\u001b[0;34m[\u001b[0m\u001b[0;34m'has_index_names'\u001b[0m\u001b[0;34m]\u001b[0m\u001b[0;34m\u001b[0m\u001b[0m\n\u001b[1;32m    786\u001b[0m \u001b[0;34m\u001b[0m\u001b[0m\n\u001b[0;32m--> 787\u001b[0;31m         \u001b[0mself\u001b[0m\u001b[0;34m.\u001b[0m\u001b[0m_make_engine\u001b[0m\u001b[0;34m(\u001b[0m\u001b[0mself\u001b[0m\u001b[0;34m.\u001b[0m\u001b[0mengine\u001b[0m\u001b[0;34m)\u001b[0m\u001b[0;34m\u001b[0m\u001b[0m\n\u001b[0m\u001b[1;32m    788\u001b[0m \u001b[0;34m\u001b[0m\u001b[0m\n\u001b[1;32m    789\u001b[0m     \u001b[0;32mdef\u001b[0m \u001b[0mclose\u001b[0m\u001b[0;34m(\u001b[0m\u001b[0mself\u001b[0m\u001b[0;34m)\u001b[0m\u001b[0;34m:\u001b[0m\u001b[0;34m\u001b[0m\u001b[0m\n",
      "\u001b[0;32m~/anaconda3/envs/sioma/lib/python3.6/site-packages/pandas/io/parsers.py\u001b[0m in \u001b[0;36m_make_engine\u001b[0;34m(self, engine)\u001b[0m\n\u001b[1;32m   1012\u001b[0m     \u001b[0;32mdef\u001b[0m \u001b[0m_make_engine\u001b[0m\u001b[0;34m(\u001b[0m\u001b[0mself\u001b[0m\u001b[0;34m,\u001b[0m \u001b[0mengine\u001b[0m\u001b[0;34m=\u001b[0m\u001b[0;34m'c'\u001b[0m\u001b[0;34m)\u001b[0m\u001b[0;34m:\u001b[0m\u001b[0;34m\u001b[0m\u001b[0m\n\u001b[1;32m   1013\u001b[0m         \u001b[0;32mif\u001b[0m \u001b[0mengine\u001b[0m \u001b[0;34m==\u001b[0m \u001b[0;34m'c'\u001b[0m\u001b[0;34m:\u001b[0m\u001b[0;34m\u001b[0m\u001b[0m\n\u001b[0;32m-> 1014\u001b[0;31m             \u001b[0mself\u001b[0m\u001b[0;34m.\u001b[0m\u001b[0m_engine\u001b[0m \u001b[0;34m=\u001b[0m \u001b[0mCParserWrapper\u001b[0m\u001b[0;34m(\u001b[0m\u001b[0mself\u001b[0m\u001b[0;34m.\u001b[0m\u001b[0mf\u001b[0m\u001b[0;34m,\u001b[0m \u001b[0;34m**\u001b[0m\u001b[0mself\u001b[0m\u001b[0;34m.\u001b[0m\u001b[0moptions\u001b[0m\u001b[0;34m)\u001b[0m\u001b[0;34m\u001b[0m\u001b[0m\n\u001b[0m\u001b[1;32m   1015\u001b[0m         \u001b[0;32melse\u001b[0m\u001b[0;34m:\u001b[0m\u001b[0;34m\u001b[0m\u001b[0m\n\u001b[1;32m   1016\u001b[0m             \u001b[0;32mif\u001b[0m \u001b[0mengine\u001b[0m \u001b[0;34m==\u001b[0m \u001b[0;34m'python'\u001b[0m\u001b[0;34m:\u001b[0m\u001b[0;34m\u001b[0m\u001b[0m\n",
      "\u001b[0;32m~/anaconda3/envs/sioma/lib/python3.6/site-packages/pandas/io/parsers.py\u001b[0m in \u001b[0;36m__init__\u001b[0;34m(self, src, **kwds)\u001b[0m\n\u001b[1;32m   1706\u001b[0m         \u001b[0mkwds\u001b[0m\u001b[0;34m[\u001b[0m\u001b[0;34m'usecols'\u001b[0m\u001b[0;34m]\u001b[0m \u001b[0;34m=\u001b[0m \u001b[0mself\u001b[0m\u001b[0;34m.\u001b[0m\u001b[0musecols\u001b[0m\u001b[0;34m\u001b[0m\u001b[0m\n\u001b[1;32m   1707\u001b[0m \u001b[0;34m\u001b[0m\u001b[0m\n\u001b[0;32m-> 1708\u001b[0;31m         \u001b[0mself\u001b[0m\u001b[0;34m.\u001b[0m\u001b[0m_reader\u001b[0m \u001b[0;34m=\u001b[0m \u001b[0mparsers\u001b[0m\u001b[0;34m.\u001b[0m\u001b[0mTextReader\u001b[0m\u001b[0;34m(\u001b[0m\u001b[0msrc\u001b[0m\u001b[0;34m,\u001b[0m \u001b[0;34m**\u001b[0m\u001b[0mkwds\u001b[0m\u001b[0;34m)\u001b[0m\u001b[0;34m\u001b[0m\u001b[0m\n\u001b[0m\u001b[1;32m   1709\u001b[0m \u001b[0;34m\u001b[0m\u001b[0m\n\u001b[1;32m   1710\u001b[0m         \u001b[0mpassed_names\u001b[0m \u001b[0;34m=\u001b[0m \u001b[0mself\u001b[0m\u001b[0;34m.\u001b[0m\u001b[0mnames\u001b[0m \u001b[0;32mis\u001b[0m \u001b[0;32mNone\u001b[0m\u001b[0;34m\u001b[0m\u001b[0m\n",
      "\u001b[0;32mpandas/_libs/parsers.pyx\u001b[0m in \u001b[0;36mpandas._libs.parsers.TextReader.__cinit__\u001b[0;34m()\u001b[0m\n",
      "\u001b[0;32mpandas/_libs/parsers.pyx\u001b[0m in \u001b[0;36mpandas._libs.parsers.TextReader._setup_parser_source\u001b[0;34m()\u001b[0m\n",
      "\u001b[0;31mFileNotFoundError\u001b[0m: File b'../../../../data/interim/PhreaticLevel/28-weeks_January-12_August-03_2018/PhreaticLevel_By_Lots-Nodes/PORVL2N1_portion.csv' does not exist"
     ]
    }
   ],
   "source": [
    "phreatic_level_l2n1_28w_df = pd.read_csv('../../../../data/interim/PhreaticLevel/28-weeks_January-12_August-03_2018/' \\\n",
    "                                 'PhreaticLevel_By_Lots-Nodes/PORVL2N1_portion.csv', )"
   ]
  },
  {
   "cell_type": "code",
   "execution_count": null,
   "metadata": {},
   "outputs": [],
   "source": [
    "print(phreatic_level_l2n1_28w_df.shape)\n",
    "phreatic_level_l2n1_28w_df.head()"
   ]
  },
  {
   "cell_type": "markdown",
   "metadata": {},
   "source": [
    "## 1.2  Loading L2N2"
   ]
  },
  {
   "cell_type": "code",
   "execution_count": null,
   "metadata": {},
   "outputs": [],
   "source": [
    "phreatic_level_l2n2_28w_df = pd.read_csv('../../../../data/interim/PhreaticLevel/28-weeks_January-12_August-03_2018/' \\\n",
    "                                 'PhreaticLevel_By_Lots-Nodes/PORVL2N2_portion.csv', )"
   ]
  },
  {
   "cell_type": "code",
   "execution_count": null,
   "metadata": {},
   "outputs": [],
   "source": [
    "print(phreatic_level_l2n2_28w_df.shape)\n",
    "phreatic_level_l2n2_28w_df.head()"
   ]
  },
  {
   "cell_type": "markdown",
   "metadata": {},
   "source": [
    "## 1.3  Loading L4N1"
   ]
  },
  {
   "cell_type": "code",
   "execution_count": null,
   "metadata": {},
   "outputs": [],
   "source": [
    "phreatic_level_l4n1_28w_df = pd.read_csv('../../../../data/interim/PhreaticLevel/28-weeks_January-12_August-03_2018/' \\\n",
    "                                 'PhreaticLevel_By_Lots-Nodes/PORVL4N1_portion.csv', )"
   ]
  },
  {
   "cell_type": "code",
   "execution_count": null,
   "metadata": {},
   "outputs": [],
   "source": [
    "print(phreatic_level_l4n1_28w_df.shape)\n",
    "phreatic_level_l4n1_28w_df.head()"
   ]
  },
  {
   "cell_type": "markdown",
   "metadata": {},
   "source": [
    "## 1.4  Loading L5N1"
   ]
  },
  {
   "cell_type": "code",
   "execution_count": null,
   "metadata": {},
   "outputs": [],
   "source": [
    "phreatic_level_l5n1_28w_df = pd.read_csv('../../../../data/interim/PhreaticLevel/28-weeks_January-12_August-03_2018/' \\\n",
    "                                 'PhreaticLevel_By_Lots-Nodes/PORVL5N1_portion.csv', )"
   ]
  },
  {
   "cell_type": "code",
   "execution_count": null,
   "metadata": {},
   "outputs": [],
   "source": [
    "print(phreatic_level_l5n1_28w_df.shape)\n",
    "phreatic_level_l5n1_28w_df.head()"
   ]
  },
  {
   "cell_type": "markdown",
   "metadata": {},
   "source": [
    "## 1.5  Loading L6N1"
   ]
  },
  {
   "cell_type": "code",
   "execution_count": null,
   "metadata": {},
   "outputs": [],
   "source": [
    "phreatic_level_l6n1_28w_df = pd.read_csv('../../../../data/interim/PhreaticLevel/28-weeks_January-12_August-03_2018/' \\\n",
    "                                 'PhreaticLevel_By_Lots-Nodes/PORVL6N1_portion.csv', )"
   ]
  },
  {
   "cell_type": "code",
   "execution_count": null,
   "metadata": {},
   "outputs": [],
   "source": [
    "print(phreatic_level_l6n1_28w_df.shape)\n",
    "phreatic_level_l6n1_28w_df.head()"
   ]
  },
  {
   "cell_type": "markdown",
   "metadata": {},
   "source": [
    "## 1.6  Loading L7N1"
   ]
  },
  {
   "cell_type": "code",
   "execution_count": null,
   "metadata": {},
   "outputs": [],
   "source": [
    "phreatic_level_l7n1_28w_df = pd.read_csv('../../../../data/interim/PhreaticLevel/28-weeks_January-12_August-03_2018/' \\\n",
    "                                 'PhreaticLevel_By_Lots-Nodes/PORVL7N1_portion.csv', )"
   ]
  },
  {
   "cell_type": "code",
   "execution_count": null,
   "metadata": {},
   "outputs": [],
   "source": [
    "print(phreatic_level_l7n1_28w_df.shape)\n",
    "phreatic_level_l7n1_28w_df.head()"
   ]
  },
  {
   "cell_type": "markdown",
   "metadata": {},
   "source": [
    "## 1.7  Loading L8N1"
   ]
  },
  {
   "cell_type": "code",
   "execution_count": null,
   "metadata": {},
   "outputs": [],
   "source": [
    "phreatic_level_l8n1_28w_df = pd.read_csv('../../../../data/interim/PhreaticLevel/28-weeks_January-12_August-03_2018/' \\\n",
    "                                 'PhreaticLevel_By_Lots-Nodes/PORVL8N1_portion.csv', )\n",
    "\n",
    "print(phreatic_level_l8n1_28w_df.shape)\n",
    "phreatic_level_l8n1_28w_df.head()"
   ]
  },
  {
   "cell_type": "markdown",
   "metadata": {},
   "source": [
    "## 1.8  Loading L9N1"
   ]
  },
  {
   "cell_type": "code",
   "execution_count": null,
   "metadata": {},
   "outputs": [],
   "source": [
    "phreatic_level_l9n1_28w_df = pd.read_csv('../../../../data/interim/PhreaticLevel/28-weeks_January-12_August-03_2018/' \\\n",
    "                                 'PhreaticLevel_By_Lots-Nodes/PORVL9N1_portion.csv', )\n",
    "\n",
    "print(phreatic_level_l9n1_28w_df.shape)\n",
    "phreatic_level_l9n1_28w_df.head()"
   ]
  },
  {
   "cell_type": "markdown",
   "metadata": {},
   "source": [
    "## 1.9  Loading L10N1"
   ]
  },
  {
   "cell_type": "code",
   "execution_count": null,
   "metadata": {},
   "outputs": [],
   "source": [
    "phreatic_level_l10n1_28w_df = pd.read_csv('../../../../data/interim/PhreaticLevel/28-weeks_January-12_August-03_2018/' \\\n",
    "                                 'PhreaticLevel_By_Lots-Nodes/PORVL10N1_portion.csv', )\n",
    "\n",
    "print(phreatic_level_l10n1_28w_df.shape)\n",
    "phreatic_level_l10n1_28w_df.head()"
   ]
  },
  {
   "cell_type": "markdown",
   "metadata": {},
   "source": [
    "## 1.10  Loading L13N1"
   ]
  },
  {
   "cell_type": "code",
   "execution_count": null,
   "metadata": {},
   "outputs": [],
   "source": [
    "phreatic_level_l13n1_28w_df = pd.read_csv('../../../../data/interim/PhreaticLevel/28-weeks_January-12_August-03_2018/' \\\n",
    "                                 'PhreaticLevel_By_Lots-Nodes/PORVL13N1_portion.csv', )\n",
    "\n",
    "print(phreatic_level_l13n1_28w_df.shape)\n",
    "phreatic_level_l13n1_28w_df.head()"
   ]
  },
  {
   "cell_type": "markdown",
   "metadata": {},
   "source": [
    "## 1.11  Loading L14N1"
   ]
  },
  {
   "cell_type": "code",
   "execution_count": null,
   "metadata": {},
   "outputs": [],
   "source": [
    "phreatic_level_l14n1_28w_df = pd.read_csv('../../../../data/interim/PhreaticLevel/28-weeks_January-12_August-03_2018/' \\\n",
    "                                 'PhreaticLevel_By_Lots-Nodes/PORVL14N1_portion.csv', )\n",
    "\n",
    "print(phreatic_level_l14n1_28w_df.shape)\n",
    "phreatic_level_l14n1_28w_df.head()"
   ]
  },
  {
   "cell_type": "markdown",
   "metadata": {},
   "source": [
    "## 1.12  Loading L15N1"
   ]
  },
  {
   "cell_type": "code",
   "execution_count": null,
   "metadata": {},
   "outputs": [],
   "source": [
    "phreatic_level_l15n1_28w_df = pd.read_csv('../../../../data/interim/PhreaticLevel/28-weeks_January-12_August-03_2018/' \\\n",
    "                                 'PhreaticLevel_By_Lots-Nodes/PORVL15N1_portion.csv', )\n",
    "\n",
    "print(phreatic_level_l15n1_28w_df.shape)\n",
    "phreatic_level_l15n1_28w_df.head()"
   ]
  },
  {
   "cell_type": "markdown",
   "metadata": {},
   "source": [
    "## 1.13 Loading L16N1"
   ]
  },
  {
   "cell_type": "code",
   "execution_count": null,
   "metadata": {},
   "outputs": [],
   "source": [
    "phreatic_level_l16n1_28w_df = pd.read_csv('../../../../data/interim/PhreaticLevel/28-weeks_January-12_August-03_2018/' \\\n",
    "                                 'PhreaticLevel_By_Lots-Nodes/PORVL16N1_portion.csv', )\n",
    "\n",
    "print(phreatic_level_l16n1_28w_df.shape)\n",
    "phreatic_level_l16n1_28w_df.head()"
   ]
  },
  {
   "cell_type": "markdown",
   "metadata": {},
   "source": [
    "## 1.14 Loading L16N2"
   ]
  },
  {
   "cell_type": "code",
   "execution_count": null,
   "metadata": {},
   "outputs": [],
   "source": [
    "phreatic_level_l16n2_28w_df = pd.read_csv('../../../../data/interim/PhreaticLevel/28-weeks_January-12_August-03_2018/' \\\n",
    "                                 'PhreaticLevel_By_Lots-Nodes/PORVL16N2_portion.csv', )\n",
    "\n",
    "print(phreatic_level_l16n2_28w_df.shape)\n",
    "phreatic_level_l16n2_28w_df.head()"
   ]
  },
  {
   "cell_type": "markdown",
   "metadata": {},
   "source": [
    "## 1.15 Loading L18N1"
   ]
  },
  {
   "cell_type": "code",
   "execution_count": null,
   "metadata": {},
   "outputs": [],
   "source": [
    "phreatic_level_l18n1_28w_df = pd.read_csv('../../../../data/interim/PhreaticLevel/28-weeks_January-12_August-03_2018/' \\\n",
    "                                 'PhreaticLevel_By_Lots-Nodes/PORVL18N1_portion.csv', )\n",
    "\n",
    "print(phreatic_level_l18n1_28w_df.shape)\n",
    "phreatic_level_l18n1_28w_df.head()"
   ]
  },
  {
   "cell_type": "markdown",
   "metadata": {},
   "source": [
    "## 1.16 Loading L18N2"
   ]
  },
  {
   "cell_type": "code",
   "execution_count": null,
   "metadata": {},
   "outputs": [],
   "source": [
    "phreatic_level_l18n2_28w_df = pd.read_csv('../../../../data/interim/PhreaticLevel/28-weeks_January-12_August-03_2018/' \\\n",
    "                                 'PhreaticLevel_By_Lots-Nodes/PORVL18N2_portion.csv', )\n",
    "\n",
    "print(phreatic_level_l18n2_28w_df.shape)\n",
    "phreatic_level_l18n2_28w_df.head()"
   ]
  },
  {
   "cell_type": "markdown",
   "metadata": {},
   "source": [
    "## 1.17 Loading L18N3"
   ]
  },
  {
   "cell_type": "code",
   "execution_count": null,
   "metadata": {},
   "outputs": [],
   "source": [
    "phreatic_level_l18n3_28w_df = pd.read_csv('../../../../data/interim/PhreaticLevel/28-weeks_January-12_August-03_2018/' \\\n",
    "                                 'PhreaticLevel_By_Lots-Nodes/PORVL18N3_portion.csv', )\n",
    "\n",
    "print(phreatic_level_l18n3_28w_df.shape)\n",
    "phreatic_level_l18n3_28w_df.head()"
   ]
  },
  {
   "cell_type": "markdown",
   "metadata": {},
   "source": [
    "## 1.18 Loading L18N4"
   ]
  },
  {
   "cell_type": "code",
   "execution_count": null,
   "metadata": {},
   "outputs": [],
   "source": [
    "phreatic_level_l18n4_28w_df = pd.read_csv('../../../../data/interim/PhreaticLevel/28-weeks_January-12_August-03_2018/' \\\n",
    "                                 'PhreaticLevel_By_Lots-Nodes/PORVL18N4_portion.csv', )\n",
    "\n",
    "print(phreatic_level_l18n4_28w_df.shape)\n",
    "phreatic_level_l18n4_28w_df.head()"
   ]
  },
  {
   "cell_type": "markdown",
   "metadata": {},
   "source": [
    "## 1.19 Loading L21N1"
   ]
  },
  {
   "cell_type": "code",
   "execution_count": null,
   "metadata": {},
   "outputs": [],
   "source": [
    "phreatic_level_l21n1_28w_df = pd.read_csv('../../../../data/interim/PhreaticLevel/28-weeks_January-12_August-03_2018/' \\\n",
    "                                 'PhreaticLevel_By_Lots-Nodes/PORVL21N1_portion.csv', )\n",
    "\n",
    "print(phreatic_level_l21n1_28w_df.shape)\n",
    "phreatic_level_l21n1_28w_df.head()"
   ]
  },
  {
   "cell_type": "markdown",
   "metadata": {},
   "source": [
    "## 1.20 Loading L21N2"
   ]
  },
  {
   "cell_type": "code",
   "execution_count": null,
   "metadata": {},
   "outputs": [],
   "source": [
    "phreatic_level_l21n2_28w_df = pd.read_csv('../../../../data/interim/PhreaticLevel/28-weeks_January-12_August-03_2018/' \\\n",
    "                                 'PhreaticLevel_By_Lots-Nodes/PORVL21N2_portion.csv', )\n",
    "\n",
    "print(phreatic_level_l21n2_28w_df.shape)\n",
    "phreatic_level_l21n2_28w_df.head()"
   ]
  },
  {
   "cell_type": "markdown",
   "metadata": {},
   "source": [
    "## 1.21 Loading L21N3"
   ]
  },
  {
   "cell_type": "code",
   "execution_count": null,
   "metadata": {},
   "outputs": [],
   "source": [
    "phreatic_level_l21n3_28w_df = pd.read_csv('../../../../data/interim/PhreaticLevel/28-weeks_January-12_August-03_2018/' \\\n",
    "                                 'PhreaticLevel_By_Lots-Nodes/PORVL21N3_portion.csv', )\n",
    "\n",
    "print(phreatic_level_l21n3_28w_df.shape)\n",
    "phreatic_level_l21n3_28w_df.head()"
   ]
  },
  {
   "cell_type": "markdown",
   "metadata": {},
   "source": [
    "## 1.22 Loading L21N4"
   ]
  },
  {
   "cell_type": "code",
   "execution_count": null,
   "metadata": {},
   "outputs": [],
   "source": [
    "phreatic_level_l21n4_28w_df = pd.read_csv('../../../../data/interim/PhreaticLevel/28-weeks_January-12_August-03_2018/' \\\n",
    "                                 'PhreaticLevel_By_Lots-Nodes/PORVL21N4_portion.csv', )\n",
    "\n",
    "print(phreatic_level_l21n4_28w_df.shape)\n",
    "phreatic_level_l21n4_28w_df.head()"
   ]
  },
  {
   "cell_type": "markdown",
   "metadata": {},
   "source": [
    "## 1.23 Loading L21N5"
   ]
  },
  {
   "cell_type": "code",
   "execution_count": null,
   "metadata": {},
   "outputs": [],
   "source": [
    "phreatic_level_l21n5_28w_df = pd.read_csv('../../../../data/interim/PhreaticLevel/28-weeks_January-12_August-03_2018/' \\\n",
    "                                 'PhreaticLevel_By_Lots-Nodes/PORVL21N5_portion.csv', )\n",
    "\n",
    "print(phreatic_level_l21n5_28w_df.shape)\n",
    "phreatic_level_l21n5_28w_df.head()"
   ]
  },
  {
   "cell_type": "markdown",
   "metadata": {},
   "source": [
    "## 1.24 Loading L24N1"
   ]
  },
  {
   "cell_type": "code",
   "execution_count": null,
   "metadata": {},
   "outputs": [],
   "source": [
    "phreatic_level_l24n1_28w_df = pd.read_csv('../../../../data/interim/PhreaticLevel/28-weeks_January-12_August-03_2018/' \\\n",
    "                                 'PhreaticLevel_By_Lots-Nodes/PORVL24N1_portion.csv', )\n",
    "\n",
    "print(phreatic_level_l24n1_28w_df.shape)\n",
    "phreatic_level_l24n1_28w_df.head()"
   ]
  },
  {
   "cell_type": "markdown",
   "metadata": {},
   "source": [
    "## 1.25 Loading L24N2"
   ]
  },
  {
   "cell_type": "code",
   "execution_count": null,
   "metadata": {},
   "outputs": [],
   "source": [
    "phreatic_level_l24n2_28w_df = pd.read_csv('../../../../data/interim/PhreaticLevel/28-weeks_January-12_August-03_2018/' \\\n",
    "                                 'PhreaticLevel_By_Lots-Nodes/PORVL24N2_portion.csv', )\n",
    "\n",
    "print(phreatic_level_l24n2_28w_df.shape)\n",
    "phreatic_level_l24n2_28w_df.head()"
   ]
  },
  {
   "cell_type": "code",
   "execution_count": null,
   "metadata": {},
   "outputs": [],
   "source": [
    "phreatic_level_l2n1_28w_df.head()"
   ]
  },
  {
   "cell_type": "markdown",
   "metadata": {},
   "source": [
    "As the columns **`Fecha`** and **`Hora`** goes in\n",
    "\n",
    "ascending enumeration due to pandas automatically \n",
    "\n",
    "renamed them when there is more than one column \n",
    "\n",
    "named equal in one dataset as is the case with our \n",
    "\n",
    "entire dataset which we are reading each lot and node \n",
    "\n",
    "values on independent variables, then is necessary renamed \n",
    "\n",
    "all the columns **`Fecha.x`** and **`Hora.y`** to onlying\n",
    "\n",
    "**`Fecha`** and **`Hora`**"
   ]
  },
  {
   "cell_type": "code",
   "execution_count": null,
   "metadata": {},
   "outputs": [],
   "source": [
    "for i in range(1,25):\n",
    "    if (i==2):\n",
    "        phreatic_level_l2n2_28w_df = phreatic_level_l2n2_28w_df.rename(columns={\n",
    "            'Fecha.1':'Fecha',\n",
    "            'Hora.1':'Hora'\n",
    "        })\n",
    "    if (i==4):\n",
    "        phreatic_level_l4n1_28w_df = phreatic_level_l4n1_28w_df.rename(columns={\n",
    "            'Fecha.2':'Fecha',\n",
    "            'Hora.2':'Hora'\n",
    "        })\n",
    "    if (i==5):\n",
    "        phreatic_level_l5n1_28w_df = phreatic_level_l5n1_28w_df.rename(columns={\n",
    "            'Fecha.3':'Fecha',\n",
    "            'Hora.3':'Hora'\n",
    "        })\n",
    "    if (i==6):\n",
    "        phreatic_level_l6n1_28w_df = phreatic_level_l6n1_28w_df.rename(columns={\n",
    "            'Fecha.4':'Fecha',\n",
    "            'Hora.4':'Hora'\n",
    "        })\n",
    "    if (i==7):\n",
    "        phreatic_level_l7n1_28w_df = phreatic_level_l7n1_28w_df.rename(columns={\n",
    "            'Fecha.5':'Fecha',\n",
    "            'Hora.5':'Hora'\n",
    "        })\n",
    "    if (i==8):\n",
    "        phreatic_level_l8n1_28w_df = phreatic_level_l8n1_28w_df.rename(columns={\n",
    "            'Fecha.6':'Fecha',\n",
    "            'Hora.6':'Hora'\n",
    "        })\n",
    "    if (i==9):\n",
    "        phreatic_level_l9n1_28w_df = phreatic_level_l9n1_28w_df.rename(columns={\n",
    "            'Fecha.7':'Fecha',\n",
    "            'Hora.7':'Hora'\n",
    "        })\n",
    "    if (i==10):\n",
    "        phreatic_level_l10n1_28w_df = phreatic_level_l10n1_28w_df.rename(columns={\n",
    "            'Fecha.8':'Fecha',\n",
    "            'Hora.8':'Hora'\n",
    "        })\n",
    "    if (i==13):\n",
    "        phreatic_level_l13n1_28w_df = phreatic_level_l13n1_28w_df.rename(columns={\n",
    "            'Fecha.9':'Fecha',\n",
    "            'Hora.9':'Hora'\n",
    "        })\n",
    "    if (i==14):\n",
    "        phreatic_level_l14n1_28w_df = phreatic_level_l14n1_28w_df.rename(columns={\n",
    "            'Fecha.10':'Fecha',\n",
    "            'Hora.10':'Hora'\n",
    "        })\n",
    "    if (i==15):\n",
    "        phreatic_level_l15n1_28w_df = phreatic_level_l15n1_28w_df.rename(columns={\n",
    "            'Fecha.11':'Fecha',\n",
    "            'Hora.11':'Hora'\n",
    "        })\n",
    "    if (i==16):\n",
    "        # To N1\n",
    "        phreatic_level_l16n1_28w_df = phreatic_level_l16n1_28w_df.rename(columns={\n",
    "            'Fecha.12':'Fecha',\n",
    "            'Hora.12':'Hora'\n",
    "        })\n",
    "        # To N2\n",
    "        phreatic_level_l16n2_28w_df = phreatic_level_l16n2_28w_df.rename(columns={\n",
    "            'Fecha.13':'Fecha',\n",
    "            'Hora.13':'Hora'\n",
    "        })\n",
    "    if (i==18):\n",
    "        # To N1\n",
    "        phreatic_level_l18n1_28w_df = phreatic_level_l18n1_28w_df.rename(columns={\n",
    "            'Fecha.14':'Fecha',\n",
    "            'Hora.14':'Hora'\n",
    "        })\n",
    "        # To N2\n",
    "        phreatic_level_l18n2_28w_df = phreatic_level_l18n2_28w_df.rename(columns={\n",
    "            'Fecha.15':'Fecha',\n",
    "            'Hora.15':'Hora'\n",
    "        })\n",
    "        # To N3\n",
    "        phreatic_level_l18n3_28w_df = phreatic_level_l18n3_28w_df.rename(columns={\n",
    "            'Fecha.16':'Fecha',\n",
    "            'Hora.16':'Hora'\n",
    "        })\n",
    "        # To N4\n",
    "        phreatic_level_l18n4_28w_df = phreatic_level_l18n4_28w_df.rename(columns={\n",
    "            'Fecha.17':'Fecha',\n",
    "            'Hora.17':'Hora'\n",
    "        })\n",
    "    if (i==21):\n",
    "        # To N1\n",
    "        phreatic_level_l21n1_28w_df = phreatic_level_l21n1_28w_df.rename(columns={\n",
    "            'Fecha.18':'Fecha',\n",
    "            'Hora.18':'Hora'\n",
    "        })\n",
    "        # To N2\n",
    "        phreatic_level_l21n2_28w_df = phreatic_level_l21n2_28w_df.rename(columns={\n",
    "            'Fecha.19':'Fecha',\n",
    "            'Hora.19':'Hora'\n",
    "        })\n",
    "        # To N3\n",
    "        phreatic_level_l21n3_28w_df = phreatic_level_l21n3_28w_df.rename(columns={\n",
    "            'Fecha.20':'Fecha',\n",
    "            'Hora.20':'Hora'\n",
    "        })\n",
    "        # To N4\n",
    "        phreatic_level_l21n4_28w_df = phreatic_level_l21n4_28w_df.rename(columns={\n",
    "            'Fecha.21':'Fecha',\n",
    "            'Hora.21':'Hora'\n",
    "        })\n",
    "        # To N5\n",
    "        phreatic_level_l21n5_28w_df = phreatic_level_l21n5_28w_df.rename(columns={\n",
    "            'Fecha.22':'Fecha',\n",
    "            'Hora.22':'Hora'\n",
    "        })\n",
    "    if (i==24):\n",
    "        # To N1\n",
    "        phreatic_level_l24n1_28w_df = phreatic_level_l24n1_28w_df.rename(columns={\n",
    "            'Fecha.23':'Fecha',\n",
    "            'Hora.23':'Hora'\n",
    "        })\n",
    "        # To N2\n",
    "        phreatic_level_l24n2_28w_df = phreatic_level_l24n2_28w_df.rename(columns={\n",
    "            'Fecha.24':'Fecha',\n",
    "            'Hora.24':'Hora'\n",
    "        })\n",
    "print(\"Fechax columns renamed\")"
   ]
  },
  {
   "cell_type": "code",
   "execution_count": null,
   "metadata": {},
   "outputs": [],
   "source": [
    "phreatic_level_l2n1_28w_df.columns.get_values()"
   ]
  },
  {
   "cell_type": "code",
   "execution_count": null,
   "metadata": {},
   "outputs": [],
   "source": [
    "phreatic_level_l2n2_28w_df.columns.get_values()"
   ]
  },
  {
   "cell_type": "markdown",
   "metadata": {},
   "source": [
    "Store all dataframes into dfs dictionary with the order to iterate \n",
    "through of all them and by each dataframe phreatic level values\n",
    "generate the average per day value.\n",
    "\n",
    "As I mentioned before, in each dataframe stored on dfs dictionary\n",
    "there are phreatic level correspondent to January 12 until August 03th.\n",
    "By each day, there are many values, then the objective is generate the \n",
    "average per day value. \n",
    "\n",
    "By example, there are many values to 2012-01-12 date\n",
    "\n",
    "```\n",
    "phreatic_level_l2n1_28w_df.head()\n",
    "       Fecha    Hora    PORVL2N1  # PORVLxNx column change their name in each data frame\n",
    "0   2012-01-12  01:37:47    0.65\n",
    "1   2012-01-12  02:37:45    0.65\n",
    "2   2012-01-12  03:37:50    0.64\n",
    "3   2012-01-12  04:37:44    0.63\n",
    "4   2012-01-12  05:37:45    0.61\n",
    "```\n",
    "\n",
    "The idea is generate an average per day, something like this:\n",
    "\n",
    "```\n",
    "    Fecha  PORVL2N1\n",
    "0 2018-01-12  0.519130\n",
    "1 2018-01-13  0.138750\n",
    "2 2018-01-14  0.175417\n",
    "3 2018-01-15  0.111667\n",
    "4 2018-01-16  0.291250\n",
    "\n",
    "l2_n1_average_per_day.tail()\n",
    "\n",
    "        Fecha  PORVL2N1\n",
    "199 2018-07-30  0.630417\n",
    "200 2018-07-31  0.609583\n",
    "201 2018-08-01  0.533333\n",
    "202 2018-08-02  0.470833\n",
    "203 2018-08-03  0.713333\n",
    "```\n"
   ]
  },
  {
   "cell_type": "code",
   "execution_count": null,
   "metadata": {},
   "outputs": [],
   "source": [
    "dfs = {\n",
    "        'phreatic_level_l2n1_28w_df': phreatic_level_l2n1_28w_df,\n",
    "        'phreatic_level_l2n2_28w_df': phreatic_level_l2n2_28w_df,\n",
    "        'phreatic_level_l4n1_28w_df': phreatic_level_l4n1_28w_df,\n",
    "        'phreatic_level_l5n1_28w_df': phreatic_level_l5n1_28w_df,\n",
    "        'phreatic_level_l6n1_28w_df': phreatic_level_l6n1_28w_df,\n",
    "        'phreatic_level_l7n1_28w_df': phreatic_level_l7n1_28w_df,\n",
    "        'phreatic_level_l8n1_28w_df': phreatic_level_l8n1_28w_df,\n",
    "        'phreatic_level_l9n1_28w_df': phreatic_level_l9n1_28w_df,\n",
    "        'phreatic_level_l10n1_28w_df': phreatic_level_l10n1_28w_df,\n",
    "        'phreatic_level_l13n1_28w_df': phreatic_level_l13n1_28w_df,\n",
    "        'phreatic_level_l14n1_28w_df': phreatic_level_l14n1_28w_df,\n",
    "        'phreatic_level_l15n1_28w_df': phreatic_level_l15n1_28w_df,\n",
    "        'phreatic_level_l16n1_28w_df': phreatic_level_l16n1_28w_df,\n",
    "        'phreatic_level_l16n2_28w_df': phreatic_level_l16n2_28w_df,\n",
    "        'phreatic_level_l18n1_28w_df': phreatic_level_l18n1_28w_df,\n",
    "        'phreatic_level_l18n2_28w_df': phreatic_level_l18n2_28w_df,\n",
    "        'phreatic_level_l18n3_28w_df': phreatic_level_l18n3_28w_df,\n",
    "        'phreatic_level_l18n4_28w_df': phreatic_level_l18n4_28w_df,\n",
    "        'phreatic_level_l21n1_28w_df': phreatic_level_l21n1_28w_df,\n",
    "        'phreatic_level_l21n2_28w_df': phreatic_level_l21n2_28w_df,\n",
    "        'phreatic_level_l21n3_28w_df': phreatic_level_l21n3_28w_df,\n",
    "        'phreatic_level_l21n4_28w_df': phreatic_level_l21n4_28w_df,\n",
    "        'phreatic_level_l21n5_28w_df': phreatic_level_l21n5_28w_df,\n",
    "        'phreatic_level_l24n1_28w_df': phreatic_level_l24n1_28w_df,\n",
    "        'phreatic_level_l24n2_28w_df': phreatic_level_l24n2_28w_df     \n",
    "}\n"
   ]
  },
  {
   "cell_type": "code",
   "execution_count": null,
   "metadata": {},
   "outputs": [],
   "source": [
    "phreatic_level_l2n1_28w_df.head()"
   ]
  },
  {
   "cell_type": "code",
   "execution_count": null,
   "metadata": {},
   "outputs": [],
   "source": [
    "phreatic_level_l2n2_28w_df.head()"
   ]
  },
  {
   "cell_type": "code",
   "execution_count": null,
   "metadata": {},
   "outputs": [],
   "source": [
    "phreatic_level_l24n2_28w_df.tail()"
   ]
  },
  {
   "cell_type": "code",
   "execution_count": null,
   "metadata": {},
   "outputs": [],
   "source": [
    "for name, df in dfs.items():\n",
    "    df['Fecha'] = pd.to_datetime(df['Fecha'])\n",
    "    for i in range(1,24):\n",
    "        if(i==2):\n",
    "            # To N1\n",
    "            l2_n1_average_per_day = (df.groupby(pd.Grouper(key='Fecha', freq='D'))['PORVL{}N{}'.format(i,i-1)].mean().reset_index())\n",
    "            l2_n1_average_per_day.to_csv('L{}N{}_average_per-day.csv'.format(i,i-1), sep=',', header=True, index=False)\n",
    "\n",
    "            # To N2. I've generate the average per day to L2N2\n",
    "\n",
    "            l2_n2_average_per_day = (df.groupby(pd.Grouper(key='Fecha', freq='D'))['PORVL{}N{}'.format(i,i)].mean().reset_index())\n",
    "            l2_n2_average_per_day.to_csv('L{}N{}_average_per-day.csv'.format(i,i), sep=',', header=True, index=False)"
   ]
  },
  {
   "cell_type": "markdown",
   "metadata": {},
   "source": [
    "The problem is at that first iteration, is in the loop \n",
    "\n",
    "`for name, df in ...` when `df` is `phreatic_level_l2n1_28w_df` \n",
    "\n",
    "then this look for the column `PORVL2N1` and it works, but after \n",
    "\n",
    "this also look for `PORVL2N2` in this `df` too, as nothing prevent \n",
    "\n",
    "to run the line `l2_n2_average_per_day = ... when df = phreatic_level_l2n1_28w_df`\n",
    "\n",
    "The dataframes seem to have a good and consistent structure, so what I can do is to \n",
    "\n",
    "get the name of the column you want `PORVLxNy` to get the mean from with `df.columns` and the `last element [-1]`. \n",
    "\n",
    "Then to save the result to a csv file with the right name, I can just keep the last 9 characters of the name of the column to get the **`PORVLxNy`** sufix to file name:"
   ]
  },
  {
   "cell_type": "code",
   "execution_count": null,
   "metadata": {},
   "outputs": [],
   "source": [
    "for name, df in dfs.items():\n",
    "    df['Fecha'] = pd.to_datetime(df['Fecha'])\n",
    "    col = df.columns[-1] #here col = PORVLxNx with the right x depending on df\n",
    "    #  I am navigating in the right sense through of all columns on df \n",
    "    # ... It's similar to slices concept\n",
    "    # no need of loop for anymore\n",
    "    lx_ny_average_per_day = (df.groupby(pd.Grouper(key='Fecha', freq='D'))[col]\n",
    "                               .mean().reset_index())\n",
    "    lx_ny_average_per_day.to_csv( '../../../../data/interim/PhreaticLevel/'  \\\n",
    "                                 '28-weeks_January-12_August-03_2018/2.PhreaticLevel_By_Lots-Nodes_Average_by-day/' \\\n",
    "                                 '{}_average_per-day.csv'.format(col[-9:]), sep=',', header=True, index=False)"
   ]
  },
  {
   "cell_type": "markdown",
   "metadata": {},
   "source": [
    "And so, we have the phreatic level average per day values to all 25 lots \n",
    "of the Porvenir farm\n",
    "\n",
    "NOw, is neccesary average all the nodes that belong to one lot. In the next notebook "
   ]
  },
  {
   "cell_type": "code",
   "execution_count": null,
   "metadata": {},
   "outputs": [],
   "source": []
  }
 ],
 "metadata": {
  "kernelspec": {
   "display_name": "Python 3",
   "language": "python",
   "name": "python3"
  },
  "language_info": {
   "codemirror_mode": {
    "name": "ipython",
    "version": 3
   },
   "file_extension": ".py",
   "mimetype": "text/x-python",
   "name": "python",
   "nbconvert_exporter": "python",
   "pygments_lexer": "ipython3",
   "version": "3.6.5"
  }
 },
 "nbformat": 4,
 "nbformat_minor": 2
}
