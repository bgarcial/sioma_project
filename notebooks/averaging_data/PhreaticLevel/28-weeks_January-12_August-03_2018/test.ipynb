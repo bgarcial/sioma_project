{
 "cells": [
  {
   "cell_type": "code",
   "execution_count": 1,
   "metadata": {},
   "outputs": [],
   "source": [
    "from __future__ import unicode_literals\n",
    "\n",
    "import pandas as pd\n",
    "import numpy as np"
   ]
  },
  {
   "cell_type": "markdown",
   "metadata": {},
   "source": [
    "# 1. Loading phreatic level datasets by lots, nodes per day values."
   ]
  },
  {
   "cell_type": "markdown",
   "metadata": {},
   "source": [
    "## 1.1  Loading L2N1"
   ]
  },
  {
   "cell_type": "code",
   "execution_count": 2,
   "metadata": {},
   "outputs": [],
   "source": [
    "phreatic_level_l2n1_28w_df = pd.read_csv('../../../../data/interim/PhreaticLevel/28-weeks_January-12_August-03_2018/' \\\n",
    "                                 'PhreaticLevel_By_Lots-Nodes/PORVL2N1_portion.csv', )"
   ]
  },
  {
   "cell_type": "code",
   "execution_count": 3,
   "metadata": {},
   "outputs": [
    {
     "name": "stdout",
     "output_type": "stream",
     "text": [
      "(4880, 3)\n"
     ]
    },
    {
     "data": {
      "text/html": [
       "<div>\n",
       "<style scoped>\n",
       "    .dataframe tbody tr th:only-of-type {\n",
       "        vertical-align: middle;\n",
       "    }\n",
       "\n",
       "    .dataframe tbody tr th {\n",
       "        vertical-align: top;\n",
       "    }\n",
       "\n",
       "    .dataframe thead th {\n",
       "        text-align: right;\n",
       "    }\n",
       "</style>\n",
       "<table border=\"1\" class=\"dataframe\">\n",
       "  <thead>\n",
       "    <tr style=\"text-align: right;\">\n",
       "      <th></th>\n",
       "      <th>Fecha</th>\n",
       "      <th>Hora</th>\n",
       "      <th>PORVL2N1</th>\n",
       "    </tr>\n",
       "  </thead>\n",
       "  <tbody>\n",
       "    <tr>\n",
       "      <th>0</th>\n",
       "      <td>2018-01-12</td>\n",
       "      <td>01:37:47</td>\n",
       "      <td>0.65</td>\n",
       "    </tr>\n",
       "    <tr>\n",
       "      <th>1</th>\n",
       "      <td>2018-01-12</td>\n",
       "      <td>02:37:45</td>\n",
       "      <td>0.65</td>\n",
       "    </tr>\n",
       "    <tr>\n",
       "      <th>2</th>\n",
       "      <td>2018-01-12</td>\n",
       "      <td>03:37:50</td>\n",
       "      <td>0.64</td>\n",
       "    </tr>\n",
       "    <tr>\n",
       "      <th>3</th>\n",
       "      <td>2018-01-12</td>\n",
       "      <td>04:37:44</td>\n",
       "      <td>0.63</td>\n",
       "    </tr>\n",
       "    <tr>\n",
       "      <th>4</th>\n",
       "      <td>2018-01-12</td>\n",
       "      <td>05:37:45</td>\n",
       "      <td>0.61</td>\n",
       "    </tr>\n",
       "  </tbody>\n",
       "</table>\n",
       "</div>"
      ],
      "text/plain": [
       "        Fecha      Hora  PORVL2N1\n",
       "0  2018-01-12  01:37:47      0.65\n",
       "1  2018-01-12  02:37:45      0.65\n",
       "2  2018-01-12  03:37:50      0.64\n",
       "3  2018-01-12  04:37:44      0.63\n",
       "4  2018-01-12  05:37:45      0.61"
      ]
     },
     "execution_count": 3,
     "metadata": {},
     "output_type": "execute_result"
    }
   ],
   "source": [
    "print(phreatic_level_l2n1_28w_df.shape)\n",
    "phreatic_level_l2n1_28w_df.head()"
   ]
  },
  {
   "cell_type": "markdown",
   "metadata": {},
   "source": [
    "## 1.2  Loading L2N2"
   ]
  },
  {
   "cell_type": "code",
   "execution_count": 4,
   "metadata": {},
   "outputs": [],
   "source": [
    "phreatic_level_l2n2_28w_df = pd.read_csv('../../../../data/interim/PhreaticLevel/28-weeks_January-12_August-03_2018/' \\\n",
    "                                 'PhreaticLevel_By_Lots-Nodes/PORVL2N2_portion.csv', )"
   ]
  },
  {
   "cell_type": "code",
   "execution_count": 5,
   "metadata": {},
   "outputs": [
    {
     "name": "stdout",
     "output_type": "stream",
     "text": [
      "(4880, 3)\n"
     ]
    },
    {
     "data": {
      "text/html": [
       "<div>\n",
       "<style scoped>\n",
       "    .dataframe tbody tr th:only-of-type {\n",
       "        vertical-align: middle;\n",
       "    }\n",
       "\n",
       "    .dataframe tbody tr th {\n",
       "        vertical-align: top;\n",
       "    }\n",
       "\n",
       "    .dataframe thead th {\n",
       "        text-align: right;\n",
       "    }\n",
       "</style>\n",
       "<table border=\"1\" class=\"dataframe\">\n",
       "  <thead>\n",
       "    <tr style=\"text-align: right;\">\n",
       "      <th></th>\n",
       "      <th>Fecha.1</th>\n",
       "      <th>Hora.1</th>\n",
       "      <th>PORVL2N2</th>\n",
       "    </tr>\n",
       "  </thead>\n",
       "  <tbody>\n",
       "    <tr>\n",
       "      <th>0</th>\n",
       "      <td>2018-01-12</td>\n",
       "      <td>01:58:22</td>\n",
       "      <td>0.71</td>\n",
       "    </tr>\n",
       "    <tr>\n",
       "      <th>1</th>\n",
       "      <td>2018-01-12</td>\n",
       "      <td>02:58:22</td>\n",
       "      <td>0.71</td>\n",
       "    </tr>\n",
       "    <tr>\n",
       "      <th>2</th>\n",
       "      <td>2018-01-12</td>\n",
       "      <td>03:58:23</td>\n",
       "      <td>0.71</td>\n",
       "    </tr>\n",
       "    <tr>\n",
       "      <th>3</th>\n",
       "      <td>2018-01-12</td>\n",
       "      <td>04:58:23</td>\n",
       "      <td>0.71</td>\n",
       "    </tr>\n",
       "    <tr>\n",
       "      <th>4</th>\n",
       "      <td>2018-01-12</td>\n",
       "      <td>05:58:24</td>\n",
       "      <td>0.71</td>\n",
       "    </tr>\n",
       "  </tbody>\n",
       "</table>\n",
       "</div>"
      ],
      "text/plain": [
       "      Fecha.1    Hora.1  PORVL2N2\n",
       "0  2018-01-12  01:58:22      0.71\n",
       "1  2018-01-12  02:58:22      0.71\n",
       "2  2018-01-12  03:58:23      0.71\n",
       "3  2018-01-12  04:58:23      0.71\n",
       "4  2018-01-12  05:58:24      0.71"
      ]
     },
     "execution_count": 5,
     "metadata": {},
     "output_type": "execute_result"
    }
   ],
   "source": [
    "print(phreatic_level_l2n2_28w_df.shape)\n",
    "phreatic_level_l2n2_28w_df.head()"
   ]
  },
  {
   "cell_type": "markdown",
   "metadata": {},
   "source": [
    "## 1.3  Loading L4N1"
   ]
  },
  {
   "cell_type": "code",
   "execution_count": 6,
   "metadata": {},
   "outputs": [],
   "source": [
    "phreatic_level_l4n1_28w_df = pd.read_csv('../../../../data/interim/PhreaticLevel/28-weeks_January-12_August-03_2018/' \\\n",
    "                                 'PhreaticLevel_By_Lots-Nodes/PORVL4N1_portion.csv', )"
   ]
  },
  {
   "cell_type": "code",
   "execution_count": 7,
   "metadata": {},
   "outputs": [
    {
     "name": "stdout",
     "output_type": "stream",
     "text": [
      "(4880, 3)\n"
     ]
    },
    {
     "data": {
      "text/html": [
       "<div>\n",
       "<style scoped>\n",
       "    .dataframe tbody tr th:only-of-type {\n",
       "        vertical-align: middle;\n",
       "    }\n",
       "\n",
       "    .dataframe tbody tr th {\n",
       "        vertical-align: top;\n",
       "    }\n",
       "\n",
       "    .dataframe thead th {\n",
       "        text-align: right;\n",
       "    }\n",
       "</style>\n",
       "<table border=\"1\" class=\"dataframe\">\n",
       "  <thead>\n",
       "    <tr style=\"text-align: right;\">\n",
       "      <th></th>\n",
       "      <th>Fecha.2</th>\n",
       "      <th>Hora.2</th>\n",
       "      <th>PORVL4N1</th>\n",
       "    </tr>\n",
       "  </thead>\n",
       "  <tbody>\n",
       "    <tr>\n",
       "      <th>0</th>\n",
       "      <td>2018-01-12</td>\n",
       "      <td>01:28:49</td>\n",
       "      <td>0.96</td>\n",
       "    </tr>\n",
       "    <tr>\n",
       "      <th>1</th>\n",
       "      <td>2018-01-12</td>\n",
       "      <td>02:28:49</td>\n",
       "      <td>0.96</td>\n",
       "    </tr>\n",
       "    <tr>\n",
       "      <th>2</th>\n",
       "      <td>2018-01-12</td>\n",
       "      <td>03:28:50</td>\n",
       "      <td>0.96</td>\n",
       "    </tr>\n",
       "    <tr>\n",
       "      <th>3</th>\n",
       "      <td>2018-01-12</td>\n",
       "      <td>04:28:52</td>\n",
       "      <td>0.95</td>\n",
       "    </tr>\n",
       "    <tr>\n",
       "      <th>4</th>\n",
       "      <td>2018-01-12</td>\n",
       "      <td>05:28:48</td>\n",
       "      <td>0.94</td>\n",
       "    </tr>\n",
       "  </tbody>\n",
       "</table>\n",
       "</div>"
      ],
      "text/plain": [
       "      Fecha.2    Hora.2  PORVL4N1\n",
       "0  2018-01-12  01:28:49      0.96\n",
       "1  2018-01-12  02:28:49      0.96\n",
       "2  2018-01-12  03:28:50      0.96\n",
       "3  2018-01-12  04:28:52      0.95\n",
       "4  2018-01-12  05:28:48      0.94"
      ]
     },
     "execution_count": 7,
     "metadata": {},
     "output_type": "execute_result"
    }
   ],
   "source": [
    "print(phreatic_level_l4n1_28w_df.shape)\n",
    "phreatic_level_l4n1_28w_df.head()"
   ]
  },
  {
   "cell_type": "code",
   "execution_count": 8,
   "metadata": {},
   "outputs": [],
   "source": [
    "## 1.4  Loading L5N1"
   ]
  },
  {
   "cell_type": "code",
   "execution_count": 9,
   "metadata": {},
   "outputs": [],
   "source": [
    "phreatic_level_l5n1_28w_df = pd.read_csv('../../../../data/interim/PhreaticLevel/28-weeks_January-12_August-03_2018/' \\\n",
    "                                 'PhreaticLevel_By_Lots-Nodes/PORVL5N1_portion.csv', )"
   ]
  },
  {
   "cell_type": "code",
   "execution_count": 10,
   "metadata": {},
   "outputs": [
    {
     "name": "stdout",
     "output_type": "stream",
     "text": [
      "(4880, 3)\n"
     ]
    },
    {
     "data": {
      "text/html": [
       "<div>\n",
       "<style scoped>\n",
       "    .dataframe tbody tr th:only-of-type {\n",
       "        vertical-align: middle;\n",
       "    }\n",
       "\n",
       "    .dataframe tbody tr th {\n",
       "        vertical-align: top;\n",
       "    }\n",
       "\n",
       "    .dataframe thead th {\n",
       "        text-align: right;\n",
       "    }\n",
       "</style>\n",
       "<table border=\"1\" class=\"dataframe\">\n",
       "  <thead>\n",
       "    <tr style=\"text-align: right;\">\n",
       "      <th></th>\n",
       "      <th>Fecha.3</th>\n",
       "      <th>Hora.3</th>\n",
       "      <th>PORVL5N1</th>\n",
       "    </tr>\n",
       "  </thead>\n",
       "  <tbody>\n",
       "    <tr>\n",
       "      <th>0</th>\n",
       "      <td>2018-01-12</td>\n",
       "      <td>01:58:18</td>\n",
       "      <td>0.62</td>\n",
       "    </tr>\n",
       "    <tr>\n",
       "      <th>1</th>\n",
       "      <td>2018-01-12</td>\n",
       "      <td>02:58:20</td>\n",
       "      <td>0.63</td>\n",
       "    </tr>\n",
       "    <tr>\n",
       "      <th>2</th>\n",
       "      <td>2018-01-12</td>\n",
       "      <td>03:58:17</td>\n",
       "      <td>0.62</td>\n",
       "    </tr>\n",
       "    <tr>\n",
       "      <th>3</th>\n",
       "      <td>2018-01-12</td>\n",
       "      <td>04:58:17</td>\n",
       "      <td>0.61</td>\n",
       "    </tr>\n",
       "    <tr>\n",
       "      <th>4</th>\n",
       "      <td>2018-01-12</td>\n",
       "      <td>05:58:32</td>\n",
       "      <td>0.60</td>\n",
       "    </tr>\n",
       "  </tbody>\n",
       "</table>\n",
       "</div>"
      ],
      "text/plain": [
       "      Fecha.3    Hora.3  PORVL5N1\n",
       "0  2018-01-12  01:58:18      0.62\n",
       "1  2018-01-12  02:58:20      0.63\n",
       "2  2018-01-12  03:58:17      0.62\n",
       "3  2018-01-12  04:58:17      0.61\n",
       "4  2018-01-12  05:58:32      0.60"
      ]
     },
     "execution_count": 10,
     "metadata": {},
     "output_type": "execute_result"
    }
   ],
   "source": [
    "print(phreatic_level_l5n1_28w_df.shape)\n",
    "phreatic_level_l5n1_28w_df.head()"
   ]
  },
  {
   "cell_type": "code",
   "execution_count": 11,
   "metadata": {},
   "outputs": [],
   "source": [
    "## 1.5  Loading L6N1"
   ]
  },
  {
   "cell_type": "code",
   "execution_count": 12,
   "metadata": {},
   "outputs": [],
   "source": [
    "phreatic_level_l6n1_28w_df = pd.read_csv('../../../../data/interim/PhreaticLevel/28-weeks_January-12_August-03_2018/' \\\n",
    "                                 'PhreaticLevel_By_Lots-Nodes/PORVL6N1_portion.csv', )"
   ]
  },
  {
   "cell_type": "code",
   "execution_count": 13,
   "metadata": {},
   "outputs": [
    {
     "name": "stdout",
     "output_type": "stream",
     "text": [
      "(4880, 3)\n"
     ]
    },
    {
     "data": {
      "text/html": [
       "<div>\n",
       "<style scoped>\n",
       "    .dataframe tbody tr th:only-of-type {\n",
       "        vertical-align: middle;\n",
       "    }\n",
       "\n",
       "    .dataframe tbody tr th {\n",
       "        vertical-align: top;\n",
       "    }\n",
       "\n",
       "    .dataframe thead th {\n",
       "        text-align: right;\n",
       "    }\n",
       "</style>\n",
       "<table border=\"1\" class=\"dataframe\">\n",
       "  <thead>\n",
       "    <tr style=\"text-align: right;\">\n",
       "      <th></th>\n",
       "      <th>Fecha.4</th>\n",
       "      <th>Hora.4</th>\n",
       "      <th>PORVL6N1</th>\n",
       "    </tr>\n",
       "  </thead>\n",
       "  <tbody>\n",
       "    <tr>\n",
       "      <th>0</th>\n",
       "      <td>2018-01-12</td>\n",
       "      <td>01:53:21</td>\n",
       "      <td>0.90</td>\n",
       "    </tr>\n",
       "    <tr>\n",
       "      <th>1</th>\n",
       "      <td>2018-01-12</td>\n",
       "      <td>02:53:39</td>\n",
       "      <td>0.89</td>\n",
       "    </tr>\n",
       "    <tr>\n",
       "      <th>2</th>\n",
       "      <td>2018-01-12</td>\n",
       "      <td>03:53:19</td>\n",
       "      <td>0.89</td>\n",
       "    </tr>\n",
       "    <tr>\n",
       "      <th>3</th>\n",
       "      <td>2018-01-12</td>\n",
       "      <td>04:53:17</td>\n",
       "      <td>0.89</td>\n",
       "    </tr>\n",
       "    <tr>\n",
       "      <th>4</th>\n",
       "      <td>2018-01-12</td>\n",
       "      <td>05:53:28</td>\n",
       "      <td>0.89</td>\n",
       "    </tr>\n",
       "  </tbody>\n",
       "</table>\n",
       "</div>"
      ],
      "text/plain": [
       "      Fecha.4    Hora.4  PORVL6N1\n",
       "0  2018-01-12  01:53:21      0.90\n",
       "1  2018-01-12  02:53:39      0.89\n",
       "2  2018-01-12  03:53:19      0.89\n",
       "3  2018-01-12  04:53:17      0.89\n",
       "4  2018-01-12  05:53:28      0.89"
      ]
     },
     "execution_count": 13,
     "metadata": {},
     "output_type": "execute_result"
    }
   ],
   "source": [
    "print(phreatic_level_l6n1_28w_df.shape)\n",
    "phreatic_level_l6n1_28w_df.head()"
   ]
  },
  {
   "cell_type": "code",
   "execution_count": 14,
   "metadata": {},
   "outputs": [],
   "source": [
    "## 1.6  Loading L7N1"
   ]
  },
  {
   "cell_type": "code",
   "execution_count": 15,
   "metadata": {},
   "outputs": [],
   "source": [
    "phreatic_level_l7n1_28w_df = pd.read_csv('../../../../data/interim/PhreaticLevel/28-weeks_January-12_August-03_2018/' \\\n",
    "                                 'PhreaticLevel_By_Lots-Nodes/PORVL7N1_portion.csv', )"
   ]
  },
  {
   "cell_type": "code",
   "execution_count": 16,
   "metadata": {},
   "outputs": [
    {
     "name": "stdout",
     "output_type": "stream",
     "text": [
      "(4880, 3)\n"
     ]
    },
    {
     "data": {
      "text/html": [
       "<div>\n",
       "<style scoped>\n",
       "    .dataframe tbody tr th:only-of-type {\n",
       "        vertical-align: middle;\n",
       "    }\n",
       "\n",
       "    .dataframe tbody tr th {\n",
       "        vertical-align: top;\n",
       "    }\n",
       "\n",
       "    .dataframe thead th {\n",
       "        text-align: right;\n",
       "    }\n",
       "</style>\n",
       "<table border=\"1\" class=\"dataframe\">\n",
       "  <thead>\n",
       "    <tr style=\"text-align: right;\">\n",
       "      <th></th>\n",
       "      <th>Fecha.5</th>\n",
       "      <th>Hora.5</th>\n",
       "      <th>PORVL7N1</th>\n",
       "    </tr>\n",
       "  </thead>\n",
       "  <tbody>\n",
       "    <tr>\n",
       "      <th>0</th>\n",
       "      <td>2018-01-12</td>\n",
       "      <td>01:21:29</td>\n",
       "      <td>1.16</td>\n",
       "    </tr>\n",
       "    <tr>\n",
       "      <th>1</th>\n",
       "      <td>2018-01-12</td>\n",
       "      <td>02:21:34</td>\n",
       "      <td>1.16</td>\n",
       "    </tr>\n",
       "    <tr>\n",
       "      <th>2</th>\n",
       "      <td>2018-01-12</td>\n",
       "      <td>03:21:25</td>\n",
       "      <td>1.16</td>\n",
       "    </tr>\n",
       "    <tr>\n",
       "      <th>3</th>\n",
       "      <td>2018-01-12</td>\n",
       "      <td>04:21:40</td>\n",
       "      <td>1.16</td>\n",
       "    </tr>\n",
       "    <tr>\n",
       "      <th>4</th>\n",
       "      <td>2018-01-12</td>\n",
       "      <td>05:21:40</td>\n",
       "      <td>1.16</td>\n",
       "    </tr>\n",
       "  </tbody>\n",
       "</table>\n",
       "</div>"
      ],
      "text/plain": [
       "      Fecha.5    Hora.5  PORVL7N1\n",
       "0  2018-01-12  01:21:29      1.16\n",
       "1  2018-01-12  02:21:34      1.16\n",
       "2  2018-01-12  03:21:25      1.16\n",
       "3  2018-01-12  04:21:40      1.16\n",
       "4  2018-01-12  05:21:40      1.16"
      ]
     },
     "execution_count": 16,
     "metadata": {},
     "output_type": "execute_result"
    }
   ],
   "source": [
    "print(phreatic_level_l7n1_28w_df.shape)\n",
    "phreatic_level_l7n1_28w_df.head()"
   ]
  },
  {
   "cell_type": "code",
   "execution_count": 17,
   "metadata": {},
   "outputs": [],
   "source": [
    "## 1.7  Loading L8N1"
   ]
  },
  {
   "cell_type": "code",
   "execution_count": 18,
   "metadata": {},
   "outputs": [
    {
     "name": "stdout",
     "output_type": "stream",
     "text": [
      "(4880, 3)\n"
     ]
    },
    {
     "data": {
      "text/html": [
       "<div>\n",
       "<style scoped>\n",
       "    .dataframe tbody tr th:only-of-type {\n",
       "        vertical-align: middle;\n",
       "    }\n",
       "\n",
       "    .dataframe tbody tr th {\n",
       "        vertical-align: top;\n",
       "    }\n",
       "\n",
       "    .dataframe thead th {\n",
       "        text-align: right;\n",
       "    }\n",
       "</style>\n",
       "<table border=\"1\" class=\"dataframe\">\n",
       "  <thead>\n",
       "    <tr style=\"text-align: right;\">\n",
       "      <th></th>\n",
       "      <th>Fecha.6</th>\n",
       "      <th>Hora.6</th>\n",
       "      <th>PORVL8N1</th>\n",
       "    </tr>\n",
       "  </thead>\n",
       "  <tbody>\n",
       "    <tr>\n",
       "      <th>0</th>\n",
       "      <td>2018-01-12</td>\n",
       "      <td>01:27:48</td>\n",
       "      <td>1.19</td>\n",
       "    </tr>\n",
       "    <tr>\n",
       "      <th>1</th>\n",
       "      <td>2018-01-12</td>\n",
       "      <td>02:27:47</td>\n",
       "      <td>1.19</td>\n",
       "    </tr>\n",
       "    <tr>\n",
       "      <th>2</th>\n",
       "      <td>2018-01-12</td>\n",
       "      <td>03:27:46</td>\n",
       "      <td>1.18</td>\n",
       "    </tr>\n",
       "    <tr>\n",
       "      <th>3</th>\n",
       "      <td>2018-01-12</td>\n",
       "      <td>04:27:47</td>\n",
       "      <td>1.17</td>\n",
       "    </tr>\n",
       "    <tr>\n",
       "      <th>4</th>\n",
       "      <td>2018-01-12</td>\n",
       "      <td>05:27:46</td>\n",
       "      <td>1.17</td>\n",
       "    </tr>\n",
       "  </tbody>\n",
       "</table>\n",
       "</div>"
      ],
      "text/plain": [
       "      Fecha.6    Hora.6  PORVL8N1\n",
       "0  2018-01-12  01:27:48      1.19\n",
       "1  2018-01-12  02:27:47      1.19\n",
       "2  2018-01-12  03:27:46      1.18\n",
       "3  2018-01-12  04:27:47      1.17\n",
       "4  2018-01-12  05:27:46      1.17"
      ]
     },
     "execution_count": 18,
     "metadata": {},
     "output_type": "execute_result"
    }
   ],
   "source": [
    "phreatic_level_l8n1_28w_df = pd.read_csv('../../../../data/interim/PhreaticLevel/28-weeks_January-12_August-03_2018/' \\\n",
    "                                 'PhreaticLevel_By_Lots-Nodes/PORVL8N1_portion.csv', )\n",
    "\n",
    "print(phreatic_level_l8n1_28w_df.shape)\n",
    "phreatic_level_l8n1_28w_df.head()"
   ]
  },
  {
   "cell_type": "code",
   "execution_count": 19,
   "metadata": {},
   "outputs": [],
   "source": [
    "## 1.8  Loading L9N1"
   ]
  },
  {
   "cell_type": "code",
   "execution_count": 20,
   "metadata": {},
   "outputs": [
    {
     "name": "stdout",
     "output_type": "stream",
     "text": [
      "(4880, 3)\n"
     ]
    },
    {
     "data": {
      "text/html": [
       "<div>\n",
       "<style scoped>\n",
       "    .dataframe tbody tr th:only-of-type {\n",
       "        vertical-align: middle;\n",
       "    }\n",
       "\n",
       "    .dataframe tbody tr th {\n",
       "        vertical-align: top;\n",
       "    }\n",
       "\n",
       "    .dataframe thead th {\n",
       "        text-align: right;\n",
       "    }\n",
       "</style>\n",
       "<table border=\"1\" class=\"dataframe\">\n",
       "  <thead>\n",
       "    <tr style=\"text-align: right;\">\n",
       "      <th></th>\n",
       "      <th>Fecha.7</th>\n",
       "      <th>Hora.7</th>\n",
       "      <th>PORVL9N1</th>\n",
       "    </tr>\n",
       "  </thead>\n",
       "  <tbody>\n",
       "    <tr>\n",
       "      <th>0</th>\n",
       "      <td>2018-01-12</td>\n",
       "      <td>01:55:11</td>\n",
       "      <td>1.16</td>\n",
       "    </tr>\n",
       "    <tr>\n",
       "      <th>1</th>\n",
       "      <td>2018-01-12</td>\n",
       "      <td>02:55:14</td>\n",
       "      <td>1.16</td>\n",
       "    </tr>\n",
       "    <tr>\n",
       "      <th>2</th>\n",
       "      <td>2018-01-12</td>\n",
       "      <td>03:55:14</td>\n",
       "      <td>1.16</td>\n",
       "    </tr>\n",
       "    <tr>\n",
       "      <th>3</th>\n",
       "      <td>2018-01-12</td>\n",
       "      <td>04:55:15</td>\n",
       "      <td>1.15</td>\n",
       "    </tr>\n",
       "    <tr>\n",
       "      <th>4</th>\n",
       "      <td>2018-01-12</td>\n",
       "      <td>05:55:16</td>\n",
       "      <td>1.16</td>\n",
       "    </tr>\n",
       "  </tbody>\n",
       "</table>\n",
       "</div>"
      ],
      "text/plain": [
       "      Fecha.7    Hora.7  PORVL9N1\n",
       "0  2018-01-12  01:55:11      1.16\n",
       "1  2018-01-12  02:55:14      1.16\n",
       "2  2018-01-12  03:55:14      1.16\n",
       "3  2018-01-12  04:55:15      1.15\n",
       "4  2018-01-12  05:55:16      1.16"
      ]
     },
     "execution_count": 20,
     "metadata": {},
     "output_type": "execute_result"
    }
   ],
   "source": [
    "phreatic_level_l9n1_28w_df = pd.read_csv('../../../../data/interim/PhreaticLevel/28-weeks_January-12_August-03_2018/' \\\n",
    "                                 'PhreaticLevel_By_Lots-Nodes/PORVL9N1_portion.csv', )\n",
    "\n",
    "print(phreatic_level_l9n1_28w_df.shape)\n",
    "phreatic_level_l9n1_28w_df.head()"
   ]
  },
  {
   "cell_type": "code",
   "execution_count": 21,
   "metadata": {},
   "outputs": [],
   "source": [
    "## 1.9  Loading L10N1"
   ]
  },
  {
   "cell_type": "code",
   "execution_count": 22,
   "metadata": {},
   "outputs": [
    {
     "name": "stdout",
     "output_type": "stream",
     "text": [
      "(4880, 3)\n"
     ]
    },
    {
     "data": {
      "text/html": [
       "<div>\n",
       "<style scoped>\n",
       "    .dataframe tbody tr th:only-of-type {\n",
       "        vertical-align: middle;\n",
       "    }\n",
       "\n",
       "    .dataframe tbody tr th {\n",
       "        vertical-align: top;\n",
       "    }\n",
       "\n",
       "    .dataframe thead th {\n",
       "        text-align: right;\n",
       "    }\n",
       "</style>\n",
       "<table border=\"1\" class=\"dataframe\">\n",
       "  <thead>\n",
       "    <tr style=\"text-align: right;\">\n",
       "      <th></th>\n",
       "      <th>Fecha.8</th>\n",
       "      <th>Hora.8</th>\n",
       "      <th>PORVL10N1</th>\n",
       "    </tr>\n",
       "  </thead>\n",
       "  <tbody>\n",
       "    <tr>\n",
       "      <th>0</th>\n",
       "      <td>2018-01-12</td>\n",
       "      <td>01:58:38</td>\n",
       "      <td>1.05</td>\n",
       "    </tr>\n",
       "    <tr>\n",
       "      <th>1</th>\n",
       "      <td>2018-01-12</td>\n",
       "      <td>02:58:40</td>\n",
       "      <td>1.04</td>\n",
       "    </tr>\n",
       "    <tr>\n",
       "      <th>2</th>\n",
       "      <td>2018-01-12</td>\n",
       "      <td>03:58:40</td>\n",
       "      <td>1.04</td>\n",
       "    </tr>\n",
       "    <tr>\n",
       "      <th>3</th>\n",
       "      <td>2018-01-12</td>\n",
       "      <td>04:58:41</td>\n",
       "      <td>1.03</td>\n",
       "    </tr>\n",
       "    <tr>\n",
       "      <th>4</th>\n",
       "      <td>2018-01-12</td>\n",
       "      <td>05:58:43</td>\n",
       "      <td>1.03</td>\n",
       "    </tr>\n",
       "  </tbody>\n",
       "</table>\n",
       "</div>"
      ],
      "text/plain": [
       "      Fecha.8    Hora.8  PORVL10N1\n",
       "0  2018-01-12  01:58:38       1.05\n",
       "1  2018-01-12  02:58:40       1.04\n",
       "2  2018-01-12  03:58:40       1.04\n",
       "3  2018-01-12  04:58:41       1.03\n",
       "4  2018-01-12  05:58:43       1.03"
      ]
     },
     "execution_count": 22,
     "metadata": {},
     "output_type": "execute_result"
    }
   ],
   "source": [
    "phreatic_level_l10n1_28w_df = pd.read_csv('../../../../data/interim/PhreaticLevel/28-weeks_January-12_August-03_2018/' \\\n",
    "                                 'PhreaticLevel_By_Lots-Nodes/PORVL10N1_portion.csv', )\n",
    "\n",
    "print(phreatic_level_l10n1_28w_df.shape)\n",
    "phreatic_level_l10n1_28w_df.head()"
   ]
  },
  {
   "cell_type": "code",
   "execution_count": 23,
   "metadata": {},
   "outputs": [],
   "source": [
    "## 1.10  Loading L13N1"
   ]
  },
  {
   "cell_type": "code",
   "execution_count": 24,
   "metadata": {},
   "outputs": [
    {
     "name": "stdout",
     "output_type": "stream",
     "text": [
      "(4880, 3)\n"
     ]
    },
    {
     "data": {
      "text/html": [
       "<div>\n",
       "<style scoped>\n",
       "    .dataframe tbody tr th:only-of-type {\n",
       "        vertical-align: middle;\n",
       "    }\n",
       "\n",
       "    .dataframe tbody tr th {\n",
       "        vertical-align: top;\n",
       "    }\n",
       "\n",
       "    .dataframe thead th {\n",
       "        text-align: right;\n",
       "    }\n",
       "</style>\n",
       "<table border=\"1\" class=\"dataframe\">\n",
       "  <thead>\n",
       "    <tr style=\"text-align: right;\">\n",
       "      <th></th>\n",
       "      <th>Fecha.9</th>\n",
       "      <th>Hora.9</th>\n",
       "      <th>PORVL13N1</th>\n",
       "    </tr>\n",
       "  </thead>\n",
       "  <tbody>\n",
       "    <tr>\n",
       "      <th>0</th>\n",
       "      <td>2018-01-12</td>\n",
       "      <td>01:59:15</td>\n",
       "      <td>1.14</td>\n",
       "    </tr>\n",
       "    <tr>\n",
       "      <th>1</th>\n",
       "      <td>2018-01-12</td>\n",
       "      <td>02:59:16</td>\n",
       "      <td>1.14</td>\n",
       "    </tr>\n",
       "    <tr>\n",
       "      <th>2</th>\n",
       "      <td>2018-01-12</td>\n",
       "      <td>03:59:16</td>\n",
       "      <td>1.13</td>\n",
       "    </tr>\n",
       "    <tr>\n",
       "      <th>3</th>\n",
       "      <td>2018-01-12</td>\n",
       "      <td>04:59:17</td>\n",
       "      <td>1.13</td>\n",
       "    </tr>\n",
       "    <tr>\n",
       "      <th>4</th>\n",
       "      <td>2018-01-12</td>\n",
       "      <td>05:59:15</td>\n",
       "      <td>1.12</td>\n",
       "    </tr>\n",
       "  </tbody>\n",
       "</table>\n",
       "</div>"
      ],
      "text/plain": [
       "      Fecha.9    Hora.9  PORVL13N1\n",
       "0  2018-01-12  01:59:15       1.14\n",
       "1  2018-01-12  02:59:16       1.14\n",
       "2  2018-01-12  03:59:16       1.13\n",
       "3  2018-01-12  04:59:17       1.13\n",
       "4  2018-01-12  05:59:15       1.12"
      ]
     },
     "execution_count": 24,
     "metadata": {},
     "output_type": "execute_result"
    }
   ],
   "source": [
    "phreatic_level_l13n1_28w_df = pd.read_csv('../../../../data/interim/PhreaticLevel/28-weeks_January-12_August-03_2018/' \\\n",
    "                                 'PhreaticLevel_By_Lots-Nodes/PORVL13N1_portion.csv', )\n",
    "\n",
    "print(phreatic_level_l13n1_28w_df.shape)\n",
    "phreatic_level_l13n1_28w_df.head()"
   ]
  },
  {
   "cell_type": "code",
   "execution_count": 25,
   "metadata": {},
   "outputs": [],
   "source": [
    "## 1.11  Loading L14N1"
   ]
  },
  {
   "cell_type": "code",
   "execution_count": 26,
   "metadata": {},
   "outputs": [
    {
     "name": "stdout",
     "output_type": "stream",
     "text": [
      "(4880, 3)\n"
     ]
    },
    {
     "data": {
      "text/html": [
       "<div>\n",
       "<style scoped>\n",
       "    .dataframe tbody tr th:only-of-type {\n",
       "        vertical-align: middle;\n",
       "    }\n",
       "\n",
       "    .dataframe tbody tr th {\n",
       "        vertical-align: top;\n",
       "    }\n",
       "\n",
       "    .dataframe thead th {\n",
       "        text-align: right;\n",
       "    }\n",
       "</style>\n",
       "<table border=\"1\" class=\"dataframe\">\n",
       "  <thead>\n",
       "    <tr style=\"text-align: right;\">\n",
       "      <th></th>\n",
       "      <th>Fecha.10</th>\n",
       "      <th>Hora.10</th>\n",
       "      <th>PORVL14N1</th>\n",
       "    </tr>\n",
       "  </thead>\n",
       "  <tbody>\n",
       "    <tr>\n",
       "      <th>0</th>\n",
       "      <td>2018-01-12</td>\n",
       "      <td>01:04:02</td>\n",
       "      <td>1.36</td>\n",
       "    </tr>\n",
       "    <tr>\n",
       "      <th>1</th>\n",
       "      <td>2018-01-12</td>\n",
       "      <td>02:04:02</td>\n",
       "      <td>1.36</td>\n",
       "    </tr>\n",
       "    <tr>\n",
       "      <th>2</th>\n",
       "      <td>2018-01-12</td>\n",
       "      <td>03:04:02</td>\n",
       "      <td>1.36</td>\n",
       "    </tr>\n",
       "    <tr>\n",
       "      <th>3</th>\n",
       "      <td>2018-01-12</td>\n",
       "      <td>04:04:00</td>\n",
       "      <td>1.36</td>\n",
       "    </tr>\n",
       "    <tr>\n",
       "      <th>4</th>\n",
       "      <td>2018-01-12</td>\n",
       "      <td>05:04:00</td>\n",
       "      <td>1.36</td>\n",
       "    </tr>\n",
       "  </tbody>\n",
       "</table>\n",
       "</div>"
      ],
      "text/plain": [
       "     Fecha.10   Hora.10  PORVL14N1\n",
       "0  2018-01-12  01:04:02       1.36\n",
       "1  2018-01-12  02:04:02       1.36\n",
       "2  2018-01-12  03:04:02       1.36\n",
       "3  2018-01-12  04:04:00       1.36\n",
       "4  2018-01-12  05:04:00       1.36"
      ]
     },
     "execution_count": 26,
     "metadata": {},
     "output_type": "execute_result"
    }
   ],
   "source": [
    "phreatic_level_l14n1_28w_df = pd.read_csv('../../../../data/interim/PhreaticLevel/28-weeks_January-12_August-03_2018/' \\\n",
    "                                 'PhreaticLevel_By_Lots-Nodes/PORVL14N1_portion.csv', )\n",
    "\n",
    "print(phreatic_level_l14n1_28w_df.shape)\n",
    "phreatic_level_l14n1_28w_df.head()"
   ]
  },
  {
   "cell_type": "code",
   "execution_count": 27,
   "metadata": {},
   "outputs": [],
   "source": [
    "## 1.12  Loading L15N1"
   ]
  },
  {
   "cell_type": "code",
   "execution_count": 28,
   "metadata": {},
   "outputs": [
    {
     "name": "stdout",
     "output_type": "stream",
     "text": [
      "(4880, 3)\n"
     ]
    },
    {
     "data": {
      "text/html": [
       "<div>\n",
       "<style scoped>\n",
       "    .dataframe tbody tr th:only-of-type {\n",
       "        vertical-align: middle;\n",
       "    }\n",
       "\n",
       "    .dataframe tbody tr th {\n",
       "        vertical-align: top;\n",
       "    }\n",
       "\n",
       "    .dataframe thead th {\n",
       "        text-align: right;\n",
       "    }\n",
       "</style>\n",
       "<table border=\"1\" class=\"dataframe\">\n",
       "  <thead>\n",
       "    <tr style=\"text-align: right;\">\n",
       "      <th></th>\n",
       "      <th>Fecha.11</th>\n",
       "      <th>Hora.11</th>\n",
       "      <th>PORVL15N1</th>\n",
       "    </tr>\n",
       "  </thead>\n",
       "  <tbody>\n",
       "    <tr>\n",
       "      <th>0</th>\n",
       "      <td>2018-01-12</td>\n",
       "      <td>01:09:11</td>\n",
       "      <td>1.21</td>\n",
       "    </tr>\n",
       "    <tr>\n",
       "      <th>1</th>\n",
       "      <td>2018-01-12</td>\n",
       "      <td>02:09:12</td>\n",
       "      <td>1.21</td>\n",
       "    </tr>\n",
       "    <tr>\n",
       "      <th>2</th>\n",
       "      <td>2018-01-12</td>\n",
       "      <td>03:09:31</td>\n",
       "      <td>1.19</td>\n",
       "    </tr>\n",
       "    <tr>\n",
       "      <th>3</th>\n",
       "      <td>2018-01-12</td>\n",
       "      <td>04:09:14</td>\n",
       "      <td>1.17</td>\n",
       "    </tr>\n",
       "    <tr>\n",
       "      <th>4</th>\n",
       "      <td>2018-01-12</td>\n",
       "      <td>05:09:12</td>\n",
       "      <td>1.16</td>\n",
       "    </tr>\n",
       "  </tbody>\n",
       "</table>\n",
       "</div>"
      ],
      "text/plain": [
       "     Fecha.11   Hora.11  PORVL15N1\n",
       "0  2018-01-12  01:09:11       1.21\n",
       "1  2018-01-12  02:09:12       1.21\n",
       "2  2018-01-12  03:09:31       1.19\n",
       "3  2018-01-12  04:09:14       1.17\n",
       "4  2018-01-12  05:09:12       1.16"
      ]
     },
     "execution_count": 28,
     "metadata": {},
     "output_type": "execute_result"
    }
   ],
   "source": [
    "phreatic_level_l15n1_28w_df = pd.read_csv('../../../../data/interim/PhreaticLevel/28-weeks_January-12_August-03_2018/' \\\n",
    "                                 'PhreaticLevel_By_Lots-Nodes/PORVL15N1_portion.csv', )\n",
    "\n",
    "print(phreatic_level_l15n1_28w_df.shape)\n",
    "phreatic_level_l15n1_28w_df.head()"
   ]
  },
  {
   "cell_type": "code",
   "execution_count": 29,
   "metadata": {},
   "outputs": [],
   "source": [
    "## 1.13 Loading L16N1"
   ]
  },
  {
   "cell_type": "code",
   "execution_count": 30,
   "metadata": {},
   "outputs": [
    {
     "name": "stdout",
     "output_type": "stream",
     "text": [
      "(4880, 3)\n"
     ]
    },
    {
     "data": {
      "text/html": [
       "<div>\n",
       "<style scoped>\n",
       "    .dataframe tbody tr th:only-of-type {\n",
       "        vertical-align: middle;\n",
       "    }\n",
       "\n",
       "    .dataframe tbody tr th {\n",
       "        vertical-align: top;\n",
       "    }\n",
       "\n",
       "    .dataframe thead th {\n",
       "        text-align: right;\n",
       "    }\n",
       "</style>\n",
       "<table border=\"1\" class=\"dataframe\">\n",
       "  <thead>\n",
       "    <tr style=\"text-align: right;\">\n",
       "      <th></th>\n",
       "      <th>Fecha.12</th>\n",
       "      <th>Hora.12</th>\n",
       "      <th>PORVL16N1</th>\n",
       "    </tr>\n",
       "  </thead>\n",
       "  <tbody>\n",
       "    <tr>\n",
       "      <th>0</th>\n",
       "      <td>2018-01-12</td>\n",
       "      <td>01:08:36</td>\n",
       "      <td>0.99</td>\n",
       "    </tr>\n",
       "    <tr>\n",
       "      <th>1</th>\n",
       "      <td>2018-01-12</td>\n",
       "      <td>02:08:37</td>\n",
       "      <td>0.99</td>\n",
       "    </tr>\n",
       "    <tr>\n",
       "      <th>2</th>\n",
       "      <td>2018-01-12</td>\n",
       "      <td>03:08:34</td>\n",
       "      <td>0.99</td>\n",
       "    </tr>\n",
       "    <tr>\n",
       "      <th>3</th>\n",
       "      <td>2018-01-12</td>\n",
       "      <td>04:08:33</td>\n",
       "      <td>0.98</td>\n",
       "    </tr>\n",
       "    <tr>\n",
       "      <th>4</th>\n",
       "      <td>2018-01-12</td>\n",
       "      <td>05:08:37</td>\n",
       "      <td>0.97</td>\n",
       "    </tr>\n",
       "  </tbody>\n",
       "</table>\n",
       "</div>"
      ],
      "text/plain": [
       "     Fecha.12   Hora.12  PORVL16N1\n",
       "0  2018-01-12  01:08:36       0.99\n",
       "1  2018-01-12  02:08:37       0.99\n",
       "2  2018-01-12  03:08:34       0.99\n",
       "3  2018-01-12  04:08:33       0.98\n",
       "4  2018-01-12  05:08:37       0.97"
      ]
     },
     "execution_count": 30,
     "metadata": {},
     "output_type": "execute_result"
    }
   ],
   "source": [
    "phreatic_level_l16n1_28w_df = pd.read_csv('../../../../data/interim/PhreaticLevel/28-weeks_January-12_August-03_2018/' \\\n",
    "                                 'PhreaticLevel_By_Lots-Nodes/PORVL16N1_portion.csv', )\n",
    "\n",
    "print(phreatic_level_l16n1_28w_df.shape)\n",
    "phreatic_level_l16n1_28w_df.head()"
   ]
  },
  {
   "cell_type": "code",
   "execution_count": 31,
   "metadata": {},
   "outputs": [],
   "source": [
    "## 1.14 Loading L16N2"
   ]
  },
  {
   "cell_type": "code",
   "execution_count": 32,
   "metadata": {},
   "outputs": [
    {
     "name": "stdout",
     "output_type": "stream",
     "text": [
      "(4880, 3)\n"
     ]
    },
    {
     "data": {
      "text/html": [
       "<div>\n",
       "<style scoped>\n",
       "    .dataframe tbody tr th:only-of-type {\n",
       "        vertical-align: middle;\n",
       "    }\n",
       "\n",
       "    .dataframe tbody tr th {\n",
       "        vertical-align: top;\n",
       "    }\n",
       "\n",
       "    .dataframe thead th {\n",
       "        text-align: right;\n",
       "    }\n",
       "</style>\n",
       "<table border=\"1\" class=\"dataframe\">\n",
       "  <thead>\n",
       "    <tr style=\"text-align: right;\">\n",
       "      <th></th>\n",
       "      <th>Fecha.13</th>\n",
       "      <th>Hora.13</th>\n",
       "      <th>PORVL16N2</th>\n",
       "    </tr>\n",
       "  </thead>\n",
       "  <tbody>\n",
       "    <tr>\n",
       "      <th>0</th>\n",
       "      <td>2018-01-12</td>\n",
       "      <td>01:48:16</td>\n",
       "      <td>1.55</td>\n",
       "    </tr>\n",
       "    <tr>\n",
       "      <th>1</th>\n",
       "      <td>2018-01-12</td>\n",
       "      <td>02:48:17</td>\n",
       "      <td>1.56</td>\n",
       "    </tr>\n",
       "    <tr>\n",
       "      <th>2</th>\n",
       "      <td>2018-01-12</td>\n",
       "      <td>03:48:19</td>\n",
       "      <td>1.55</td>\n",
       "    </tr>\n",
       "    <tr>\n",
       "      <th>3</th>\n",
       "      <td>2018-01-12</td>\n",
       "      <td>04:48:23</td>\n",
       "      <td>1.54</td>\n",
       "    </tr>\n",
       "    <tr>\n",
       "      <th>4</th>\n",
       "      <td>2018-01-12</td>\n",
       "      <td>05:48:19</td>\n",
       "      <td>1.53</td>\n",
       "    </tr>\n",
       "  </tbody>\n",
       "</table>\n",
       "</div>"
      ],
      "text/plain": [
       "     Fecha.13   Hora.13  PORVL16N2\n",
       "0  2018-01-12  01:48:16       1.55\n",
       "1  2018-01-12  02:48:17       1.56\n",
       "2  2018-01-12  03:48:19       1.55\n",
       "3  2018-01-12  04:48:23       1.54\n",
       "4  2018-01-12  05:48:19       1.53"
      ]
     },
     "execution_count": 32,
     "metadata": {},
     "output_type": "execute_result"
    }
   ],
   "source": [
    "phreatic_level_l16n2_28w_df = pd.read_csv('../../../../data/interim/PhreaticLevel/28-weeks_January-12_August-03_2018/' \\\n",
    "                                 'PhreaticLevel_By_Lots-Nodes/PORVL16N2_portion.csv', )\n",
    "\n",
    "print(phreatic_level_l16n2_28w_df.shape)\n",
    "phreatic_level_l16n2_28w_df.head()"
   ]
  },
  {
   "cell_type": "code",
   "execution_count": 33,
   "metadata": {},
   "outputs": [],
   "source": [
    "## 1.15 Loading L18N1"
   ]
  },
  {
   "cell_type": "code",
   "execution_count": 34,
   "metadata": {},
   "outputs": [
    {
     "name": "stdout",
     "output_type": "stream",
     "text": [
      "(4880, 3)\n"
     ]
    },
    {
     "data": {
      "text/html": [
       "<div>\n",
       "<style scoped>\n",
       "    .dataframe tbody tr th:only-of-type {\n",
       "        vertical-align: middle;\n",
       "    }\n",
       "\n",
       "    .dataframe tbody tr th {\n",
       "        vertical-align: top;\n",
       "    }\n",
       "\n",
       "    .dataframe thead th {\n",
       "        text-align: right;\n",
       "    }\n",
       "</style>\n",
       "<table border=\"1\" class=\"dataframe\">\n",
       "  <thead>\n",
       "    <tr style=\"text-align: right;\">\n",
       "      <th></th>\n",
       "      <th>Fecha.14</th>\n",
       "      <th>Hora.14</th>\n",
       "      <th>PORVL18N1</th>\n",
       "    </tr>\n",
       "  </thead>\n",
       "  <tbody>\n",
       "    <tr>\n",
       "      <th>0</th>\n",
       "      <td>2018-01-12</td>\n",
       "      <td>01:43:21</td>\n",
       "      <td>1.01</td>\n",
       "    </tr>\n",
       "    <tr>\n",
       "      <th>1</th>\n",
       "      <td>2018-01-12</td>\n",
       "      <td>02:43:21</td>\n",
       "      <td>1.01</td>\n",
       "    </tr>\n",
       "    <tr>\n",
       "      <th>2</th>\n",
       "      <td>2018-01-12</td>\n",
       "      <td>03:43:19</td>\n",
       "      <td>1.01</td>\n",
       "    </tr>\n",
       "    <tr>\n",
       "      <th>3</th>\n",
       "      <td>2018-01-12</td>\n",
       "      <td>04:43:20</td>\n",
       "      <td>1.01</td>\n",
       "    </tr>\n",
       "    <tr>\n",
       "      <th>4</th>\n",
       "      <td>2018-01-12</td>\n",
       "      <td>05:43:21</td>\n",
       "      <td>1.01</td>\n",
       "    </tr>\n",
       "  </tbody>\n",
       "</table>\n",
       "</div>"
      ],
      "text/plain": [
       "     Fecha.14   Hora.14  PORVL18N1\n",
       "0  2018-01-12  01:43:21       1.01\n",
       "1  2018-01-12  02:43:21       1.01\n",
       "2  2018-01-12  03:43:19       1.01\n",
       "3  2018-01-12  04:43:20       1.01\n",
       "4  2018-01-12  05:43:21       1.01"
      ]
     },
     "execution_count": 34,
     "metadata": {},
     "output_type": "execute_result"
    }
   ],
   "source": [
    "phreatic_level_l18n1_28w_df = pd.read_csv('../../../../data/interim/PhreaticLevel/28-weeks_January-12_August-03_2018/' \\\n",
    "                                 'PhreaticLevel_By_Lots-Nodes/PORVL18N1_portion.csv', )\n",
    "\n",
    "print(phreatic_level_l18n1_28w_df.shape)\n",
    "phreatic_level_l18n1_28w_df.head()"
   ]
  },
  {
   "cell_type": "code",
   "execution_count": 35,
   "metadata": {},
   "outputs": [],
   "source": [
    "## 1.16 Loading L18N2"
   ]
  },
  {
   "cell_type": "code",
   "execution_count": 36,
   "metadata": {},
   "outputs": [
    {
     "name": "stdout",
     "output_type": "stream",
     "text": [
      "(4880, 3)\n"
     ]
    },
    {
     "data": {
      "text/html": [
       "<div>\n",
       "<style scoped>\n",
       "    .dataframe tbody tr th:only-of-type {\n",
       "        vertical-align: middle;\n",
       "    }\n",
       "\n",
       "    .dataframe tbody tr th {\n",
       "        vertical-align: top;\n",
       "    }\n",
       "\n",
       "    .dataframe thead th {\n",
       "        text-align: right;\n",
       "    }\n",
       "</style>\n",
       "<table border=\"1\" class=\"dataframe\">\n",
       "  <thead>\n",
       "    <tr style=\"text-align: right;\">\n",
       "      <th></th>\n",
       "      <th>Fecha.15</th>\n",
       "      <th>Hora.15</th>\n",
       "      <th>PORVL18N2</th>\n",
       "    </tr>\n",
       "  </thead>\n",
       "  <tbody>\n",
       "    <tr>\n",
       "      <th>0</th>\n",
       "      <td>2018-01-12</td>\n",
       "      <td>01:12:00</td>\n",
       "      <td>0.84</td>\n",
       "    </tr>\n",
       "    <tr>\n",
       "      <th>1</th>\n",
       "      <td>2018-01-12</td>\n",
       "      <td>02:12:00</td>\n",
       "      <td>0.84</td>\n",
       "    </tr>\n",
       "    <tr>\n",
       "      <th>2</th>\n",
       "      <td>2018-01-12</td>\n",
       "      <td>03:12:00</td>\n",
       "      <td>0.84</td>\n",
       "    </tr>\n",
       "    <tr>\n",
       "      <th>3</th>\n",
       "      <td>2018-01-12</td>\n",
       "      <td>04:12:04</td>\n",
       "      <td>0.85</td>\n",
       "    </tr>\n",
       "    <tr>\n",
       "      <th>4</th>\n",
       "      <td>2018-01-12</td>\n",
       "      <td>05:11:59</td>\n",
       "      <td>0.85</td>\n",
       "    </tr>\n",
       "  </tbody>\n",
       "</table>\n",
       "</div>"
      ],
      "text/plain": [
       "     Fecha.15   Hora.15  PORVL18N2\n",
       "0  2018-01-12  01:12:00       0.84\n",
       "1  2018-01-12  02:12:00       0.84\n",
       "2  2018-01-12  03:12:00       0.84\n",
       "3  2018-01-12  04:12:04       0.85\n",
       "4  2018-01-12  05:11:59       0.85"
      ]
     },
     "execution_count": 36,
     "metadata": {},
     "output_type": "execute_result"
    }
   ],
   "source": [
    "phreatic_level_l18n2_28w_df = pd.read_csv('../../../../data/interim/PhreaticLevel/28-weeks_January-12_August-03_2018/' \\\n",
    "                                 'PhreaticLevel_By_Lots-Nodes/PORVL18N2_portion.csv', )\n",
    "\n",
    "print(phreatic_level_l18n2_28w_df.shape)\n",
    "phreatic_level_l18n2_28w_df.head()"
   ]
  },
  {
   "cell_type": "code",
   "execution_count": 37,
   "metadata": {},
   "outputs": [],
   "source": [
    "## 1.17 Loading L18N3"
   ]
  },
  {
   "cell_type": "code",
   "execution_count": 38,
   "metadata": {},
   "outputs": [
    {
     "name": "stdout",
     "output_type": "stream",
     "text": [
      "(4880, 3)\n"
     ]
    },
    {
     "data": {
      "text/html": [
       "<div>\n",
       "<style scoped>\n",
       "    .dataframe tbody tr th:only-of-type {\n",
       "        vertical-align: middle;\n",
       "    }\n",
       "\n",
       "    .dataframe tbody tr th {\n",
       "        vertical-align: top;\n",
       "    }\n",
       "\n",
       "    .dataframe thead th {\n",
       "        text-align: right;\n",
       "    }\n",
       "</style>\n",
       "<table border=\"1\" class=\"dataframe\">\n",
       "  <thead>\n",
       "    <tr style=\"text-align: right;\">\n",
       "      <th></th>\n",
       "      <th>Fecha.16</th>\n",
       "      <th>Hora.16</th>\n",
       "      <th>PORVL18N3</th>\n",
       "    </tr>\n",
       "  </thead>\n",
       "  <tbody>\n",
       "    <tr>\n",
       "      <th>0</th>\n",
       "      <td>2018-01-12</td>\n",
       "      <td>01:55:20</td>\n",
       "      <td>1.27</td>\n",
       "    </tr>\n",
       "    <tr>\n",
       "      <th>1</th>\n",
       "      <td>2018-01-12</td>\n",
       "      <td>02:55:21</td>\n",
       "      <td>1.27</td>\n",
       "    </tr>\n",
       "    <tr>\n",
       "      <th>2</th>\n",
       "      <td>2018-01-12</td>\n",
       "      <td>03:55:19</td>\n",
       "      <td>1.27</td>\n",
       "    </tr>\n",
       "    <tr>\n",
       "      <th>3</th>\n",
       "      <td>2018-01-12</td>\n",
       "      <td>04:55:19</td>\n",
       "      <td>1.27</td>\n",
       "    </tr>\n",
       "    <tr>\n",
       "      <th>4</th>\n",
       "      <td>2018-01-12</td>\n",
       "      <td>05:55:16</td>\n",
       "      <td>1.27</td>\n",
       "    </tr>\n",
       "  </tbody>\n",
       "</table>\n",
       "</div>"
      ],
      "text/plain": [
       "     Fecha.16   Hora.16  PORVL18N3\n",
       "0  2018-01-12  01:55:20       1.27\n",
       "1  2018-01-12  02:55:21       1.27\n",
       "2  2018-01-12  03:55:19       1.27\n",
       "3  2018-01-12  04:55:19       1.27\n",
       "4  2018-01-12  05:55:16       1.27"
      ]
     },
     "execution_count": 38,
     "metadata": {},
     "output_type": "execute_result"
    }
   ],
   "source": [
    "phreatic_level_l18n3_28w_df = pd.read_csv('../../../../data/interim/PhreaticLevel/28-weeks_January-12_August-03_2018/' \\\n",
    "                                 'PhreaticLevel_By_Lots-Nodes/PORVL18N3_portion.csv', )\n",
    "\n",
    "print(phreatic_level_l18n3_28w_df.shape)\n",
    "phreatic_level_l18n3_28w_df.head()"
   ]
  },
  {
   "cell_type": "code",
   "execution_count": 39,
   "metadata": {},
   "outputs": [],
   "source": [
    "## 1.18 Loading L18N4"
   ]
  },
  {
   "cell_type": "code",
   "execution_count": 40,
   "metadata": {},
   "outputs": [
    {
     "name": "stdout",
     "output_type": "stream",
     "text": [
      "(4880, 3)\n"
     ]
    },
    {
     "data": {
      "text/html": [
       "<div>\n",
       "<style scoped>\n",
       "    .dataframe tbody tr th:only-of-type {\n",
       "        vertical-align: middle;\n",
       "    }\n",
       "\n",
       "    .dataframe tbody tr th {\n",
       "        vertical-align: top;\n",
       "    }\n",
       "\n",
       "    .dataframe thead th {\n",
       "        text-align: right;\n",
       "    }\n",
       "</style>\n",
       "<table border=\"1\" class=\"dataframe\">\n",
       "  <thead>\n",
       "    <tr style=\"text-align: right;\">\n",
       "      <th></th>\n",
       "      <th>Fecha.17</th>\n",
       "      <th>Hora.17</th>\n",
       "      <th>PORVL18N4</th>\n",
       "    </tr>\n",
       "  </thead>\n",
       "  <tbody>\n",
       "    <tr>\n",
       "      <th>0</th>\n",
       "      <td>2018-01-12</td>\n",
       "      <td>01:42:07</td>\n",
       "      <td>1.08</td>\n",
       "    </tr>\n",
       "    <tr>\n",
       "      <th>1</th>\n",
       "      <td>2018-01-12</td>\n",
       "      <td>02:42:19</td>\n",
       "      <td>1.08</td>\n",
       "    </tr>\n",
       "    <tr>\n",
       "      <th>2</th>\n",
       "      <td>2018-01-12</td>\n",
       "      <td>03:42:00</td>\n",
       "      <td>1.08</td>\n",
       "    </tr>\n",
       "    <tr>\n",
       "      <th>3</th>\n",
       "      <td>2018-01-12</td>\n",
       "      <td>04:42:01</td>\n",
       "      <td>1.08</td>\n",
       "    </tr>\n",
       "    <tr>\n",
       "      <th>4</th>\n",
       "      <td>2018-01-12</td>\n",
       "      <td>05:42:01</td>\n",
       "      <td>1.08</td>\n",
       "    </tr>\n",
       "  </tbody>\n",
       "</table>\n",
       "</div>"
      ],
      "text/plain": [
       "     Fecha.17   Hora.17  PORVL18N4\n",
       "0  2018-01-12  01:42:07       1.08\n",
       "1  2018-01-12  02:42:19       1.08\n",
       "2  2018-01-12  03:42:00       1.08\n",
       "3  2018-01-12  04:42:01       1.08\n",
       "4  2018-01-12  05:42:01       1.08"
      ]
     },
     "execution_count": 40,
     "metadata": {},
     "output_type": "execute_result"
    }
   ],
   "source": [
    "phreatic_level_l18n4_28w_df = pd.read_csv('../../../../data/interim/PhreaticLevel/28-weeks_January-12_August-03_2018/' \\\n",
    "                                 'PhreaticLevel_By_Lots-Nodes/PORVL18N4_portion.csv', )\n",
    "\n",
    "print(phreatic_level_l18n4_28w_df.shape)\n",
    "phreatic_level_l18n4_28w_df.head()"
   ]
  },
  {
   "cell_type": "code",
   "execution_count": 41,
   "metadata": {},
   "outputs": [],
   "source": [
    "## 1.19 Loading L21N1"
   ]
  },
  {
   "cell_type": "code",
   "execution_count": 42,
   "metadata": {},
   "outputs": [
    {
     "name": "stdout",
     "output_type": "stream",
     "text": [
      "(4880, 3)\n"
     ]
    },
    {
     "data": {
      "text/html": [
       "<div>\n",
       "<style scoped>\n",
       "    .dataframe tbody tr th:only-of-type {\n",
       "        vertical-align: middle;\n",
       "    }\n",
       "\n",
       "    .dataframe tbody tr th {\n",
       "        vertical-align: top;\n",
       "    }\n",
       "\n",
       "    .dataframe thead th {\n",
       "        text-align: right;\n",
       "    }\n",
       "</style>\n",
       "<table border=\"1\" class=\"dataframe\">\n",
       "  <thead>\n",
       "    <tr style=\"text-align: right;\">\n",
       "      <th></th>\n",
       "      <th>Fecha.18</th>\n",
       "      <th>Hora.18</th>\n",
       "      <th>PORVL21N1</th>\n",
       "    </tr>\n",
       "  </thead>\n",
       "  <tbody>\n",
       "    <tr>\n",
       "      <th>0</th>\n",
       "      <td>2018-01-12</td>\n",
       "      <td>01:08:03</td>\n",
       "      <td>1.55</td>\n",
       "    </tr>\n",
       "    <tr>\n",
       "      <th>1</th>\n",
       "      <td>2018-01-12</td>\n",
       "      <td>02:08:03</td>\n",
       "      <td>1.54</td>\n",
       "    </tr>\n",
       "    <tr>\n",
       "      <th>2</th>\n",
       "      <td>2018-01-12</td>\n",
       "      <td>03:08:07</td>\n",
       "      <td>1.54</td>\n",
       "    </tr>\n",
       "    <tr>\n",
       "      <th>3</th>\n",
       "      <td>2018-01-12</td>\n",
       "      <td>04:08:03</td>\n",
       "      <td>1.54</td>\n",
       "    </tr>\n",
       "    <tr>\n",
       "      <th>4</th>\n",
       "      <td>2018-01-12</td>\n",
       "      <td>05:08:03</td>\n",
       "      <td>1.54</td>\n",
       "    </tr>\n",
       "  </tbody>\n",
       "</table>\n",
       "</div>"
      ],
      "text/plain": [
       "     Fecha.18   Hora.18  PORVL21N1\n",
       "0  2018-01-12  01:08:03       1.55\n",
       "1  2018-01-12  02:08:03       1.54\n",
       "2  2018-01-12  03:08:07       1.54\n",
       "3  2018-01-12  04:08:03       1.54\n",
       "4  2018-01-12  05:08:03       1.54"
      ]
     },
     "execution_count": 42,
     "metadata": {},
     "output_type": "execute_result"
    }
   ],
   "source": [
    "phreatic_level_l21n1_28w_df = pd.read_csv('../../../../data/interim/PhreaticLevel/28-weeks_January-12_August-03_2018/' \\\n",
    "                                 'PhreaticLevel_By_Lots-Nodes/PORVL21N1_portion.csv', )\n",
    "\n",
    "print(phreatic_level_l21n1_28w_df.shape)\n",
    "phreatic_level_l21n1_28w_df.head()"
   ]
  },
  {
   "cell_type": "code",
   "execution_count": 43,
   "metadata": {},
   "outputs": [],
   "source": [
    "## 1.20 Loading L21N2"
   ]
  },
  {
   "cell_type": "code",
   "execution_count": 44,
   "metadata": {},
   "outputs": [
    {
     "name": "stdout",
     "output_type": "stream",
     "text": [
      "(4880, 3)\n"
     ]
    },
    {
     "data": {
      "text/html": [
       "<div>\n",
       "<style scoped>\n",
       "    .dataframe tbody tr th:only-of-type {\n",
       "        vertical-align: middle;\n",
       "    }\n",
       "\n",
       "    .dataframe tbody tr th {\n",
       "        vertical-align: top;\n",
       "    }\n",
       "\n",
       "    .dataframe thead th {\n",
       "        text-align: right;\n",
       "    }\n",
       "</style>\n",
       "<table border=\"1\" class=\"dataframe\">\n",
       "  <thead>\n",
       "    <tr style=\"text-align: right;\">\n",
       "      <th></th>\n",
       "      <th>Fecha.19</th>\n",
       "      <th>Hora.19</th>\n",
       "      <th>PORVL21N2</th>\n",
       "    </tr>\n",
       "  </thead>\n",
       "  <tbody>\n",
       "    <tr>\n",
       "      <th>0</th>\n",
       "      <td>2018-01-12</td>\n",
       "      <td>01:32:41</td>\n",
       "      <td>1.25</td>\n",
       "    </tr>\n",
       "    <tr>\n",
       "      <th>1</th>\n",
       "      <td>2018-01-12</td>\n",
       "      <td>02:32:33</td>\n",
       "      <td>1.25</td>\n",
       "    </tr>\n",
       "    <tr>\n",
       "      <th>2</th>\n",
       "      <td>2018-01-12</td>\n",
       "      <td>03:32:32</td>\n",
       "      <td>1.25</td>\n",
       "    </tr>\n",
       "    <tr>\n",
       "      <th>3</th>\n",
       "      <td>2018-01-12</td>\n",
       "      <td>04:32:31</td>\n",
       "      <td>1.24</td>\n",
       "    </tr>\n",
       "    <tr>\n",
       "      <th>4</th>\n",
       "      <td>2018-01-12</td>\n",
       "      <td>05:32:32</td>\n",
       "      <td>1.24</td>\n",
       "    </tr>\n",
       "  </tbody>\n",
       "</table>\n",
       "</div>"
      ],
      "text/plain": [
       "     Fecha.19   Hora.19  PORVL21N2\n",
       "0  2018-01-12  01:32:41       1.25\n",
       "1  2018-01-12  02:32:33       1.25\n",
       "2  2018-01-12  03:32:32       1.25\n",
       "3  2018-01-12  04:32:31       1.24\n",
       "4  2018-01-12  05:32:32       1.24"
      ]
     },
     "execution_count": 44,
     "metadata": {},
     "output_type": "execute_result"
    }
   ],
   "source": [
    "phreatic_level_l21n2_28w_df = pd.read_csv('../../../../data/interim/PhreaticLevel/28-weeks_January-12_August-03_2018/' \\\n",
    "                                 'PhreaticLevel_By_Lots-Nodes/PORVL21N2_portion.csv', )\n",
    "\n",
    "print(phreatic_level_l21n2_28w_df.shape)\n",
    "phreatic_level_l21n2_28w_df.head()"
   ]
  },
  {
   "cell_type": "code",
   "execution_count": 45,
   "metadata": {},
   "outputs": [],
   "source": [
    "## 1.21 Loading L21N3"
   ]
  },
  {
   "cell_type": "code",
   "execution_count": 46,
   "metadata": {},
   "outputs": [
    {
     "name": "stdout",
     "output_type": "stream",
     "text": [
      "(4880, 3)\n"
     ]
    },
    {
     "data": {
      "text/html": [
       "<div>\n",
       "<style scoped>\n",
       "    .dataframe tbody tr th:only-of-type {\n",
       "        vertical-align: middle;\n",
       "    }\n",
       "\n",
       "    .dataframe tbody tr th {\n",
       "        vertical-align: top;\n",
       "    }\n",
       "\n",
       "    .dataframe thead th {\n",
       "        text-align: right;\n",
       "    }\n",
       "</style>\n",
       "<table border=\"1\" class=\"dataframe\">\n",
       "  <thead>\n",
       "    <tr style=\"text-align: right;\">\n",
       "      <th></th>\n",
       "      <th>Fecha.20</th>\n",
       "      <th>Hora.20</th>\n",
       "      <th>PORVL21N3</th>\n",
       "    </tr>\n",
       "  </thead>\n",
       "  <tbody>\n",
       "    <tr>\n",
       "      <th>0</th>\n",
       "      <td>2018-01-12</td>\n",
       "      <td>01:07:54</td>\n",
       "      <td>1.01</td>\n",
       "    </tr>\n",
       "    <tr>\n",
       "      <th>1</th>\n",
       "      <td>2018-01-12</td>\n",
       "      <td>02:07:56</td>\n",
       "      <td>1.02</td>\n",
       "    </tr>\n",
       "    <tr>\n",
       "      <th>2</th>\n",
       "      <td>2018-01-12</td>\n",
       "      <td>03:07:55</td>\n",
       "      <td>1.02</td>\n",
       "    </tr>\n",
       "    <tr>\n",
       "      <th>3</th>\n",
       "      <td>2018-01-12</td>\n",
       "      <td>04:08:50</td>\n",
       "      <td>1.02</td>\n",
       "    </tr>\n",
       "    <tr>\n",
       "      <th>4</th>\n",
       "      <td>2018-01-12</td>\n",
       "      <td>05:07:50</td>\n",
       "      <td>1.02</td>\n",
       "    </tr>\n",
       "  </tbody>\n",
       "</table>\n",
       "</div>"
      ],
      "text/plain": [
       "     Fecha.20   Hora.20  PORVL21N3\n",
       "0  2018-01-12  01:07:54       1.01\n",
       "1  2018-01-12  02:07:56       1.02\n",
       "2  2018-01-12  03:07:55       1.02\n",
       "3  2018-01-12  04:08:50       1.02\n",
       "4  2018-01-12  05:07:50       1.02"
      ]
     },
     "execution_count": 46,
     "metadata": {},
     "output_type": "execute_result"
    }
   ],
   "source": [
    "phreatic_level_l21n3_28w_df = pd.read_csv('../../../../data/interim/PhreaticLevel/28-weeks_January-12_August-03_2018/' \\\n",
    "                                 'PhreaticLevel_By_Lots-Nodes/PORVL21N3_portion.csv', )\n",
    "\n",
    "print(phreatic_level_l21n3_28w_df.shape)\n",
    "phreatic_level_l21n3_28w_df.head()"
   ]
  },
  {
   "cell_type": "code",
   "execution_count": 47,
   "metadata": {},
   "outputs": [],
   "source": [
    "## 1.22 Loading L21N4"
   ]
  },
  {
   "cell_type": "code",
   "execution_count": 48,
   "metadata": {},
   "outputs": [
    {
     "name": "stdout",
     "output_type": "stream",
     "text": [
      "(4880, 3)\n"
     ]
    },
    {
     "data": {
      "text/html": [
       "<div>\n",
       "<style scoped>\n",
       "    .dataframe tbody tr th:only-of-type {\n",
       "        vertical-align: middle;\n",
       "    }\n",
       "\n",
       "    .dataframe tbody tr th {\n",
       "        vertical-align: top;\n",
       "    }\n",
       "\n",
       "    .dataframe thead th {\n",
       "        text-align: right;\n",
       "    }\n",
       "</style>\n",
       "<table border=\"1\" class=\"dataframe\">\n",
       "  <thead>\n",
       "    <tr style=\"text-align: right;\">\n",
       "      <th></th>\n",
       "      <th>Fecha.21</th>\n",
       "      <th>Hora.21</th>\n",
       "      <th>PORVL21N4</th>\n",
       "    </tr>\n",
       "  </thead>\n",
       "  <tbody>\n",
       "    <tr>\n",
       "      <th>0</th>\n",
       "      <td>2018-01-12</td>\n",
       "      <td>01:39:04</td>\n",
       "      <td>1.01</td>\n",
       "    </tr>\n",
       "    <tr>\n",
       "      <th>1</th>\n",
       "      <td>2018-01-12</td>\n",
       "      <td>02:39:06</td>\n",
       "      <td>1.01</td>\n",
       "    </tr>\n",
       "    <tr>\n",
       "      <th>2</th>\n",
       "      <td>2018-01-12</td>\n",
       "      <td>03:39:06</td>\n",
       "      <td>1.01</td>\n",
       "    </tr>\n",
       "    <tr>\n",
       "      <th>3</th>\n",
       "      <td>2018-01-12</td>\n",
       "      <td>04:39:06</td>\n",
       "      <td>1.01</td>\n",
       "    </tr>\n",
       "    <tr>\n",
       "      <th>4</th>\n",
       "      <td>2018-01-12</td>\n",
       "      <td>05:39:24</td>\n",
       "      <td>1.01</td>\n",
       "    </tr>\n",
       "  </tbody>\n",
       "</table>\n",
       "</div>"
      ],
      "text/plain": [
       "     Fecha.21   Hora.21  PORVL21N4\n",
       "0  2018-01-12  01:39:04       1.01\n",
       "1  2018-01-12  02:39:06       1.01\n",
       "2  2018-01-12  03:39:06       1.01\n",
       "3  2018-01-12  04:39:06       1.01\n",
       "4  2018-01-12  05:39:24       1.01"
      ]
     },
     "execution_count": 48,
     "metadata": {},
     "output_type": "execute_result"
    }
   ],
   "source": [
    "phreatic_level_l21n4_28w_df = pd.read_csv('../../../../data/interim/PhreaticLevel/28-weeks_January-12_August-03_2018/' \\\n",
    "                                 'PhreaticLevel_By_Lots-Nodes/PORVL21N4_portion.csv', )\n",
    "\n",
    "print(phreatic_level_l21n4_28w_df.shape)\n",
    "phreatic_level_l21n4_28w_df.head()"
   ]
  },
  {
   "cell_type": "code",
   "execution_count": 49,
   "metadata": {},
   "outputs": [],
   "source": [
    "## 1.23 Loading L21N5"
   ]
  },
  {
   "cell_type": "code",
   "execution_count": 50,
   "metadata": {},
   "outputs": [
    {
     "name": "stdout",
     "output_type": "stream",
     "text": [
      "(4880, 3)\n"
     ]
    },
    {
     "data": {
      "text/html": [
       "<div>\n",
       "<style scoped>\n",
       "    .dataframe tbody tr th:only-of-type {\n",
       "        vertical-align: middle;\n",
       "    }\n",
       "\n",
       "    .dataframe tbody tr th {\n",
       "        vertical-align: top;\n",
       "    }\n",
       "\n",
       "    .dataframe thead th {\n",
       "        text-align: right;\n",
       "    }\n",
       "</style>\n",
       "<table border=\"1\" class=\"dataframe\">\n",
       "  <thead>\n",
       "    <tr style=\"text-align: right;\">\n",
       "      <th></th>\n",
       "      <th>Fecha.22</th>\n",
       "      <th>Hora.22</th>\n",
       "      <th>PORVL21N5</th>\n",
       "    </tr>\n",
       "  </thead>\n",
       "  <tbody>\n",
       "    <tr>\n",
       "      <th>0</th>\n",
       "      <td>2018-01-12</td>\n",
       "      <td>01:33:02</td>\n",
       "      <td>0.96</td>\n",
       "    </tr>\n",
       "    <tr>\n",
       "      <th>1</th>\n",
       "      <td>2018-01-12</td>\n",
       "      <td>02:33:04</td>\n",
       "      <td>0.97</td>\n",
       "    </tr>\n",
       "    <tr>\n",
       "      <th>2</th>\n",
       "      <td>2018-01-12</td>\n",
       "      <td>03:33:05</td>\n",
       "      <td>0.94</td>\n",
       "    </tr>\n",
       "    <tr>\n",
       "      <th>3</th>\n",
       "      <td>2018-01-12</td>\n",
       "      <td>04:33:05</td>\n",
       "      <td>0.93</td>\n",
       "    </tr>\n",
       "    <tr>\n",
       "      <th>4</th>\n",
       "      <td>2018-01-12</td>\n",
       "      <td>05:33:06</td>\n",
       "      <td>0.92</td>\n",
       "    </tr>\n",
       "  </tbody>\n",
       "</table>\n",
       "</div>"
      ],
      "text/plain": [
       "     Fecha.22   Hora.22  PORVL21N5\n",
       "0  2018-01-12  01:33:02       0.96\n",
       "1  2018-01-12  02:33:04       0.97\n",
       "2  2018-01-12  03:33:05       0.94\n",
       "3  2018-01-12  04:33:05       0.93\n",
       "4  2018-01-12  05:33:06       0.92"
      ]
     },
     "execution_count": 50,
     "metadata": {},
     "output_type": "execute_result"
    }
   ],
   "source": [
    "phreatic_level_l21n5_28w_df = pd.read_csv('../../../../data/interim/PhreaticLevel/28-weeks_January-12_August-03_2018/' \\\n",
    "                                 'PhreaticLevel_By_Lots-Nodes/PORVL21N5_portion.csv', )\n",
    "\n",
    "print(phreatic_level_l21n5_28w_df.shape)\n",
    "phreatic_level_l21n5_28w_df.head()"
   ]
  },
  {
   "cell_type": "code",
   "execution_count": 51,
   "metadata": {},
   "outputs": [],
   "source": [
    "## 1.24 Loading L24N1"
   ]
  },
  {
   "cell_type": "code",
   "execution_count": 52,
   "metadata": {},
   "outputs": [
    {
     "name": "stdout",
     "output_type": "stream",
     "text": [
      "(4880, 3)\n"
     ]
    },
    {
     "data": {
      "text/html": [
       "<div>\n",
       "<style scoped>\n",
       "    .dataframe tbody tr th:only-of-type {\n",
       "        vertical-align: middle;\n",
       "    }\n",
       "\n",
       "    .dataframe tbody tr th {\n",
       "        vertical-align: top;\n",
       "    }\n",
       "\n",
       "    .dataframe thead th {\n",
       "        text-align: right;\n",
       "    }\n",
       "</style>\n",
       "<table border=\"1\" class=\"dataframe\">\n",
       "  <thead>\n",
       "    <tr style=\"text-align: right;\">\n",
       "      <th></th>\n",
       "      <th>Fecha.23</th>\n",
       "      <th>Hora.23</th>\n",
       "      <th>PORVL24N1</th>\n",
       "    </tr>\n",
       "  </thead>\n",
       "  <tbody>\n",
       "    <tr>\n",
       "      <th>0</th>\n",
       "      <td>2018-01-12</td>\n",
       "      <td>01:23:18</td>\n",
       "      <td>0.86</td>\n",
       "    </tr>\n",
       "    <tr>\n",
       "      <th>1</th>\n",
       "      <td>2018-01-12</td>\n",
       "      <td>02:23:17</td>\n",
       "      <td>0.85</td>\n",
       "    </tr>\n",
       "    <tr>\n",
       "      <th>2</th>\n",
       "      <td>2018-01-12</td>\n",
       "      <td>03:23:18</td>\n",
       "      <td>0.97</td>\n",
       "    </tr>\n",
       "    <tr>\n",
       "      <th>3</th>\n",
       "      <td>2018-01-12</td>\n",
       "      <td>04:23:19</td>\n",
       "      <td>0.96</td>\n",
       "    </tr>\n",
       "    <tr>\n",
       "      <th>4</th>\n",
       "      <td>2018-01-12</td>\n",
       "      <td>05:23:19</td>\n",
       "      <td>0.95</td>\n",
       "    </tr>\n",
       "  </tbody>\n",
       "</table>\n",
       "</div>"
      ],
      "text/plain": [
       "     Fecha.23   Hora.23  PORVL24N1\n",
       "0  2018-01-12  01:23:18       0.86\n",
       "1  2018-01-12  02:23:17       0.85\n",
       "2  2018-01-12  03:23:18       0.97\n",
       "3  2018-01-12  04:23:19       0.96\n",
       "4  2018-01-12  05:23:19       0.95"
      ]
     },
     "execution_count": 52,
     "metadata": {},
     "output_type": "execute_result"
    }
   ],
   "source": [
    "phreatic_level_l24n1_28w_df = pd.read_csv('../../../../data/interim/PhreaticLevel/28-weeks_January-12_August-03_2018/' \\\n",
    "                                 'PhreaticLevel_By_Lots-Nodes/PORVL24N1_portion.csv', )\n",
    "\n",
    "print(phreatic_level_l24n1_28w_df.shape)\n",
    "phreatic_level_l24n1_28w_df.head()"
   ]
  },
  {
   "cell_type": "code",
   "execution_count": 53,
   "metadata": {},
   "outputs": [],
   "source": [
    "## 1.25 Loading L24N2"
   ]
  },
  {
   "cell_type": "code",
   "execution_count": 54,
   "metadata": {},
   "outputs": [
    {
     "name": "stdout",
     "output_type": "stream",
     "text": [
      "(4880, 3)\n"
     ]
    },
    {
     "data": {
      "text/html": [
       "<div>\n",
       "<style scoped>\n",
       "    .dataframe tbody tr th:only-of-type {\n",
       "        vertical-align: middle;\n",
       "    }\n",
       "\n",
       "    .dataframe tbody tr th {\n",
       "        vertical-align: top;\n",
       "    }\n",
       "\n",
       "    .dataframe thead th {\n",
       "        text-align: right;\n",
       "    }\n",
       "</style>\n",
       "<table border=\"1\" class=\"dataframe\">\n",
       "  <thead>\n",
       "    <tr style=\"text-align: right;\">\n",
       "      <th></th>\n",
       "      <th>Fecha.24</th>\n",
       "      <th>Hora.24</th>\n",
       "      <th>PORVL24N2</th>\n",
       "    </tr>\n",
       "  </thead>\n",
       "  <tbody>\n",
       "    <tr>\n",
       "      <th>0</th>\n",
       "      <td>2018-01-12</td>\n",
       "      <td>01:07:28</td>\n",
       "      <td>1.31</td>\n",
       "    </tr>\n",
       "    <tr>\n",
       "      <th>1</th>\n",
       "      <td>2018-01-12</td>\n",
       "      <td>02:07:28</td>\n",
       "      <td>1.31</td>\n",
       "    </tr>\n",
       "    <tr>\n",
       "      <th>2</th>\n",
       "      <td>2018-01-12</td>\n",
       "      <td>03:07:29</td>\n",
       "      <td>1.31</td>\n",
       "    </tr>\n",
       "    <tr>\n",
       "      <th>3</th>\n",
       "      <td>2018-01-12</td>\n",
       "      <td>04:07:27</td>\n",
       "      <td>1.31</td>\n",
       "    </tr>\n",
       "    <tr>\n",
       "      <th>4</th>\n",
       "      <td>2018-01-12</td>\n",
       "      <td>05:07:27</td>\n",
       "      <td>1.31</td>\n",
       "    </tr>\n",
       "  </tbody>\n",
       "</table>\n",
       "</div>"
      ],
      "text/plain": [
       "     Fecha.24   Hora.24  PORVL24N2\n",
       "0  2018-01-12  01:07:28       1.31\n",
       "1  2018-01-12  02:07:28       1.31\n",
       "2  2018-01-12  03:07:29       1.31\n",
       "3  2018-01-12  04:07:27       1.31\n",
       "4  2018-01-12  05:07:27       1.31"
      ]
     },
     "execution_count": 54,
     "metadata": {},
     "output_type": "execute_result"
    }
   ],
   "source": [
    "phreatic_level_l24n2_28w_df = pd.read_csv('../../../../data/interim/PhreaticLevel/28-weeks_January-12_August-03_2018/' \\\n",
    "                                 'PhreaticLevel_By_Lots-Nodes/PORVL24N2_portion.csv', )\n",
    "\n",
    "print(phreatic_level_l24n2_28w_df.shape)\n",
    "phreatic_level_l24n2_28w_df.head()"
   ]
  },
  {
   "cell_type": "code",
   "execution_count": null,
   "metadata": {},
   "outputs": [],
   "source": [
    "phreatic_level_l2n1_28w_df\n",
    "phreatic_level_l2n2_28w_df\n",
    "phreatic_level_l4n1_28w_df\n",
    "phreatic_level_l5n1_28w_df\n",
    "phreatic_level_l6n1_28w_df\n",
    "phreatic_level_l7n1_28w_df\n",
    "phreatic_level_l8n1_28w_df\n",
    "phreatic_level_l9n1_28w_df\n",
    "phreatic_level_l10n1_28w_df\n",
    "phreatic_level_l13n1_28w_df\n",
    "phreatic_level_l14n1_28w_df\n",
    "phreatic_level_l15n1_28w_df\n",
    "phreatic_level_l16n1_28w_df\n",
    "phreatic_level_l16n2_28w_df\n",
    "phreatic_level_l18n1_28w_df\n",
    "phreatic_level_l18n2_28w_df\n",
    "phreatic_level_l18n3_28w_df\n",
    "phreatic_level_l18n4_28w_df\n",
    "phreatic_level_l21n1_28w_df\n",
    "phreatic_level_l21n2_28w_df\n",
    "phreatic_level_l21n3_28w_df\n",
    "phreatic_level_l21n4_28w_df\n",
    "phreatic_level_l21n5_28w_df\n",
    "phreatic_level_l24n1_28w_df\n",
    "phreatic_level_l24n2_28w_df"
   ]
  },
  {
   "cell_type": "code",
   "execution_count": 71,
   "metadata": {},
   "outputs": [
    {
     "data": {
      "text/html": [
       "<div>\n",
       "<style scoped>\n",
       "    .dataframe tbody tr th:only-of-type {\n",
       "        vertical-align: middle;\n",
       "    }\n",
       "\n",
       "    .dataframe tbody tr th {\n",
       "        vertical-align: top;\n",
       "    }\n",
       "\n",
       "    .dataframe thead th {\n",
       "        text-align: right;\n",
       "    }\n",
       "</style>\n",
       "<table border=\"1\" class=\"dataframe\">\n",
       "  <thead>\n",
       "    <tr style=\"text-align: right;\">\n",
       "      <th></th>\n",
       "      <th>Fecha</th>\n",
       "      <th>Hora</th>\n",
       "      <th>PORVL2N1</th>\n",
       "    </tr>\n",
       "  </thead>\n",
       "  <tbody>\n",
       "    <tr>\n",
       "      <th>0</th>\n",
       "      <td>2018-01-12</td>\n",
       "      <td>01:37:47</td>\n",
       "      <td>0.65</td>\n",
       "    </tr>\n",
       "    <tr>\n",
       "      <th>1</th>\n",
       "      <td>2018-01-12</td>\n",
       "      <td>02:37:45</td>\n",
       "      <td>0.65</td>\n",
       "    </tr>\n",
       "    <tr>\n",
       "      <th>2</th>\n",
       "      <td>2018-01-12</td>\n",
       "      <td>03:37:50</td>\n",
       "      <td>0.64</td>\n",
       "    </tr>\n",
       "    <tr>\n",
       "      <th>3</th>\n",
       "      <td>2018-01-12</td>\n",
       "      <td>04:37:44</td>\n",
       "      <td>0.63</td>\n",
       "    </tr>\n",
       "    <tr>\n",
       "      <th>4</th>\n",
       "      <td>2018-01-12</td>\n",
       "      <td>05:37:45</td>\n",
       "      <td>0.61</td>\n",
       "    </tr>\n",
       "  </tbody>\n",
       "</table>\n",
       "</div>"
      ],
      "text/plain": [
       "        Fecha      Hora  PORVL2N1\n",
       "0  2018-01-12  01:37:47      0.65\n",
       "1  2018-01-12  02:37:45      0.65\n",
       "2  2018-01-12  03:37:50      0.64\n",
       "3  2018-01-12  04:37:44      0.63\n",
       "4  2018-01-12  05:37:45      0.61"
      ]
     },
     "execution_count": 71,
     "metadata": {},
     "output_type": "execute_result"
    }
   ],
   "source": [
    "phreatic_level_l2n1_28w_df.head()"
   ]
  },
  {
   "cell_type": "code",
   "execution_count": 72,
   "metadata": {},
   "outputs": [
    {
     "ename": "SyntaxError",
     "evalue": "invalid syntax (<ipython-input-72-1f6ad7811399>, line 5)",
     "output_type": "error",
     "traceback": [
      "\u001b[0;36m  File \u001b[0;32m\"<ipython-input-72-1f6ad7811399>\"\u001b[0;36m, line \u001b[0;32m5\u001b[0m\n\u001b[0;31m    phreatic_level_l{}n{}_28w_df['Fecha'].format(i,i-1) = pd.to_datetime(phreatic_level_l'{}'n'{}'_28w_df['Fecha'].format(i,i-1))\u001b[0m\n\u001b[0m                    ^\u001b[0m\n\u001b[0;31mSyntaxError\u001b[0m\u001b[0;31m:\u001b[0m invalid syntax\n"
     ]
    }
   ],
   "source": [
    "for i in range(1,25):\n",
    "    if (i==2):\n",
    "        # We turn to datetime the Fecha column values \n",
    "        # https://pandas.pydata.org/pandas-docs/version/0.20/generated/pandas.to_datetime.html\n",
    "        phreatic_level_l{}n{}_28w_df['Fecha'].format(i,i-1) = pd.to_datetime(phreatic_level_l'{}'n'{}'_28w_df['Fecha'].format(i,i-1))\n",
    "print(\"First dataset generated\")"
   ]
  },
  {
   "cell_type": "code",
   "execution_count": 109,
   "metadata": {},
   "outputs": [
    {
     "name": "stdout",
     "output_type": "stream",
     "text": [
      "Fechax columns renamed\n"
     ]
    }
   ],
   "source": [
    "for i in range(1,25):\n",
    "    if (i==2):\n",
    "        phreatic_level_l2n2_28w_df = phreatic_level_l2n2_28w_df.rename(columns={\n",
    "            'Fecha.1':'Fecha',\n",
    "            'Hora.1':'Hora'\n",
    "        })\n",
    "    if (i==4):\n",
    "        phreatic_level_l4n1_28w_df = phreatic_level_l4n1_28w_df.rename(columns={\n",
    "            'Fecha.2':'Fecha',\n",
    "            'Hora.2':'Hora'\n",
    "        })\n",
    "    if (i==5):\n",
    "        phreatic_level_l5n1_28w_df = phreatic_level_l5n1_28w_df.rename(columns={\n",
    "            'Fecha.3':'Fecha',\n",
    "            'Hora.3':'Hora'\n",
    "        })\n",
    "    if (i==6):\n",
    "        phreatic_level_l6n1_28w_df = phreatic_level_l6n1_28w_df.rename(columns={\n",
    "            'Fecha.4':'Fecha',\n",
    "            'Hora.4':'Hora'\n",
    "        })\n",
    "    if (i==7):\n",
    "        phreatic_level_l7n1_28w_df = phreatic_level_l7n1_28w_df.rename(columns={\n",
    "            'Fecha.5':'Fecha',\n",
    "            'Hora.5':'Hora'\n",
    "        })\n",
    "    if (i==8):\n",
    "        phreatic_level_l8n1_28w_df = phreatic_level_l8n1_28w_df.rename(columns={\n",
    "            'Fecha.6':'Fecha',\n",
    "            'Hora.6':'Hora'\n",
    "        })\n",
    "    if (i==9):\n",
    "        phreatic_level_l9n1_28w_df = phreatic_level_l9n1_28w_df.rename(columns={\n",
    "            'Fecha.7':'Fecha',\n",
    "            'Hora.7':'Hora'\n",
    "        })\n",
    "    if (i==10):\n",
    "        phreatic_level_l10n1_28w_df = phreatic_level_l10n1_28w_df.rename(columns={\n",
    "            'Fecha.8':'Fecha',\n",
    "            'Hora.8':'Hora'\n",
    "        })\n",
    "    if (i==13):\n",
    "        phreatic_level_l13n1_28w_df = phreatic_level_l13n1_28w_df.rename(columns={\n",
    "            'Fecha.9':'Fecha',\n",
    "            'Hora.9':'Hora'\n",
    "        })\n",
    "    if (i==14):\n",
    "        phreatic_level_l14n1_28w_df = phreatic_level_l14n1_28w_df.rename(columns={\n",
    "            'Fecha.10':'Fecha',\n",
    "            'Hora.10':'Hora'\n",
    "        })\n",
    "    if (i==15):\n",
    "        phreatic_level_l15n1_28w_df = phreatic_level_l15n1_28w_df.rename(columns={\n",
    "            'Fecha.11':'Fecha',\n",
    "            'Hora.11':'Hora'\n",
    "        })\n",
    "    if (i==16):\n",
    "        # To N1\n",
    "        phreatic_level_l16n1_28w_df = phreatic_level_l16n1_28w_df.rename(columns={\n",
    "            'Fecha.12':'Fecha',\n",
    "            'Hora.12':'Hora'\n",
    "        })\n",
    "        # To N2\n",
    "        phreatic_level_l16n2_28w_df = phreatic_level_l16n2_28w_df.rename(columns={\n",
    "            'Fecha.13':'Fecha',\n",
    "            'Hora.13':'Hora'\n",
    "        })\n",
    "    if (i==18):\n",
    "        # To N1\n",
    "        phreatic_level_l18n1_28w_df = phreatic_level_l18n1_28w_df.rename(columns={\n",
    "            'Fecha.14':'Fecha',\n",
    "            'Hora.14':'Hora'\n",
    "        })\n",
    "        # To N2\n",
    "        phreatic_level_l18n2_28w_df = phreatic_level_l18n2_28w_df.rename(columns={\n",
    "            'Fecha.15':'Fecha',\n",
    "            'Hora.15':'Hora'\n",
    "        })\n",
    "        # To N3\n",
    "        phreatic_level_l18n3_28w_df = phreatic_level_l18n3_28w_df.rename(columns={\n",
    "            'Fecha.16':'Fecha',\n",
    "            'Hora.16':'Hora'\n",
    "        })\n",
    "        # To N4\n",
    "        phreatic_level_l18n4_28w_df = phreatic_level_l18n4_28w_df.rename(columns={\n",
    "            'Fecha.17':'Fecha',\n",
    "            'Hora.17':'Hora'\n",
    "        })\n",
    "    if (i==21):\n",
    "        # To N1\n",
    "        phreatic_level_l21n1_28w_df = phreatic_level_l21n1_28w_df.rename(columns={\n",
    "            'Fecha.18':'Fecha',\n",
    "            'Hora.18':'Hora'\n",
    "        })\n",
    "        # To N2\n",
    "        phreatic_level_l21n2_28w_df = phreatic_level_l21n2_28w_df.rename(columns={\n",
    "            'Fecha.19':'Fecha',\n",
    "            'Hora.19':'Hora'\n",
    "        })\n",
    "        # To N3\n",
    "        phreatic_level_l21n3_28w_df = phreatic_level_l21n3_28w_df.rename(columns={\n",
    "            'Fecha.20':'Fecha',\n",
    "            'Hora.20':'Hora'\n",
    "        })\n",
    "        # To N4\n",
    "        phreatic_level_l21n4_28w_df = phreatic_level_l21n4_28w_df.rename(columns={\n",
    "            'Fecha.21':'Fecha',\n",
    "            'Hora.21':'Hora'\n",
    "        })\n",
    "        # To N5\n",
    "        phreatic_level_l21n5_28w_df = phreatic_level_l21n5_28w_df.rename(columns={\n",
    "            'Fecha.22':'Fecha',\n",
    "            'Hora.22':'Hora'\n",
    "        })\n",
    "    if (i==24):\n",
    "        # To N1\n",
    "        phreatic_level_l24n1_28w_df = phreatic_level_l24n1_28w_df.rename(columns={\n",
    "            'Fecha.23':'Fecha',\n",
    "            'Hora.23':'Hora'\n",
    "        })\n",
    "        # To N2\n",
    "        phreatic_level_l24n2_28w_df = phreatic_level_l24n2_28w_df.rename(columns={\n",
    "            'Fecha.24':'Fecha',\n",
    "            'Hora.24':'Hora'\n",
    "        })\n",
    "print(\"Fechax columns renamed\")"
   ]
  },
  {
   "cell_type": "code",
   "execution_count": 110,
   "metadata": {},
   "outputs": [
    {
     "data": {
      "text/plain": [
       "array(['Fecha', 'Hora', 'PORVL2N1'], dtype=object)"
      ]
     },
     "execution_count": 110,
     "metadata": {},
     "output_type": "execute_result"
    }
   ],
   "source": [
    "phreatic_level_l2n1_28w_df.columns.get_values()"
   ]
  },
  {
   "cell_type": "code",
   "execution_count": 111,
   "metadata": {},
   "outputs": [
    {
     "data": {
      "text/plain": [
       "array(['Fecha', 'HOra', 'PORVL2N2'], dtype=object)"
      ]
     },
     "execution_count": 111,
     "metadata": {},
     "output_type": "execute_result"
    }
   ],
   "source": [
    "phreatic_level_l2n2_28w_df.columns.get_values()"
   ]
  },
  {
   "cell_type": "code",
   "execution_count": 160,
   "metadata": {},
   "outputs": [],
   "source": [
    "dfs = {\n",
    "    'phreatic_level_l2n1_28w_df': phreatic_level_l2n1_28w_df,\n",
    "    'phreatic_level_l2n2_28w_df': phreatic_level_l2n2_28w_df,\n",
    "    # 'phreatic_level_l4n1_28w_df': phreatic_level_l4n1_28w_df,\n",
    "    # 'phreatic_level_l5n1_28w_df': phreatic_level_l5n1_28w_df,\n",
    "    # 'phreatic_level_l6n1_28w_df': phreatic_level_l6n1_28w_df,\n",
    "    # 'phreatic_level_l7n1_28w_df': phreatic_level_l7n1_28w_df,\n",
    "    # 'phreatic_level_l8n1_28w_df': phreatic_level_l8n1_28w_df,\n",
    "    # 'phreatic_level_l9n1_28w_df': phreatic_level_l9n1_28w_df,\n",
    "    # 'phreatic_level_l10n1_28w_df': phreatic_level_l10n1_28w_df,\n",
    "    # 'phreatic_level_l13n1_28w_df': phreatic_level_l13n1_28w_df,\n",
    "    # 'phreatic_level_l14n1_28w_df': phreatic_level_l14n1_28w_df,\n",
    "    # 'phreatic_level_l15n1_28w_df': phreatic_level_l15n1_28w_df,\n",
    "    # 'phreatic_level_l16n1_28w_df': phreatic_level_l16n1_28w_df,\n",
    "    # 'phreatic_level_l16n2_28w_df': phreatic_level_l16n2_28w_df,\n",
    "    # 'phreatic_level_l18n1_28w_df': phreatic_level_l18n1_28w_df,\n",
    "    # 'phreatic_level_l18n2_28w_df': phreatic_level_l18n2_28w_df,\n",
    "    # 'phreatic_level_l18n3_28w_df': phreatic_level_l18n3_28w_df,\n",
    "    # 'phreatic_level_l18n4_28w_df': phreatic_level_l18n4_28w_df,\n",
    "    # 'phreatic_level_l21n1_28w_df': phreatic_level_l21n1_28w_df,\n",
    "    # 'phreatic_level_l21n2_28w_df': phreatic_level_l21n2_28w_df,\n",
    "    # 'phreatic_level_l21n3_28w_df': phreatic_level_l21n3_28w_df,\n",
    "    # 'phreatic_level_l21n4_28w_df': phreatic_level_l21n4_28w_df,\n",
    "    # 'phreatic_level_l21n5_28w_df': phreatic_level_l21n5_28w_df,\n",
    "    # 'phreatic_level_l24n1_28w_df': phreatic_level_l24n1_28w_df,\n",
    "    # 'phreatic_level_l24n2_28w_df': phreatic_level_l24n2_28w_df  \n",
    "    \n",
    "}\n"
   ]
  },
  {
   "cell_type": "code",
   "execution_count": 149,
   "metadata": {},
   "outputs": [
    {
     "data": {
      "text/html": [
       "<div>\n",
       "<style scoped>\n",
       "    .dataframe tbody tr th:only-of-type {\n",
       "        vertical-align: middle;\n",
       "    }\n",
       "\n",
       "    .dataframe tbody tr th {\n",
       "        vertical-align: top;\n",
       "    }\n",
       "\n",
       "    .dataframe thead th {\n",
       "        text-align: right;\n",
       "    }\n",
       "</style>\n",
       "<table border=\"1\" class=\"dataframe\">\n",
       "  <thead>\n",
       "    <tr style=\"text-align: right;\">\n",
       "      <th></th>\n",
       "      <th>Fecha</th>\n",
       "      <th>Hora</th>\n",
       "      <th>PORVL2N1</th>\n",
       "    </tr>\n",
       "  </thead>\n",
       "  <tbody>\n",
       "    <tr>\n",
       "      <th>0</th>\n",
       "      <td>2018-01-12</td>\n",
       "      <td>01:37:47</td>\n",
       "      <td>0.65</td>\n",
       "    </tr>\n",
       "    <tr>\n",
       "      <th>1</th>\n",
       "      <td>2018-01-12</td>\n",
       "      <td>02:37:45</td>\n",
       "      <td>0.65</td>\n",
       "    </tr>\n",
       "    <tr>\n",
       "      <th>2</th>\n",
       "      <td>2018-01-12</td>\n",
       "      <td>03:37:50</td>\n",
       "      <td>0.64</td>\n",
       "    </tr>\n",
       "    <tr>\n",
       "      <th>3</th>\n",
       "      <td>2018-01-12</td>\n",
       "      <td>04:37:44</td>\n",
       "      <td>0.63</td>\n",
       "    </tr>\n",
       "    <tr>\n",
       "      <th>4</th>\n",
       "      <td>2018-01-12</td>\n",
       "      <td>05:37:45</td>\n",
       "      <td>0.61</td>\n",
       "    </tr>\n",
       "  </tbody>\n",
       "</table>\n",
       "</div>"
      ],
      "text/plain": [
       "       Fecha      Hora  PORVL2N1\n",
       "0 2018-01-12  01:37:47      0.65\n",
       "1 2018-01-12  02:37:45      0.65\n",
       "2 2018-01-12  03:37:50      0.64\n",
       "3 2018-01-12  04:37:44      0.63\n",
       "4 2018-01-12  05:37:45      0.61"
      ]
     },
     "execution_count": 149,
     "metadata": {},
     "output_type": "execute_result"
    }
   ],
   "source": [
    "phreatic_level_l2n1_28w_df.head()"
   ]
  },
  {
   "cell_type": "code",
   "execution_count": 150,
   "metadata": {},
   "outputs": [
    {
     "data": {
      "text/html": [
       "<div>\n",
       "<style scoped>\n",
       "    .dataframe tbody tr th:only-of-type {\n",
       "        vertical-align: middle;\n",
       "    }\n",
       "\n",
       "    .dataframe tbody tr th {\n",
       "        vertical-align: top;\n",
       "    }\n",
       "\n",
       "    .dataframe thead th {\n",
       "        text-align: right;\n",
       "    }\n",
       "</style>\n",
       "<table border=\"1\" class=\"dataframe\">\n",
       "  <thead>\n",
       "    <tr style=\"text-align: right;\">\n",
       "      <th></th>\n",
       "      <th>Fecha</th>\n",
       "      <th>HOra</th>\n",
       "      <th>PORVL2N2</th>\n",
       "    </tr>\n",
       "  </thead>\n",
       "  <tbody>\n",
       "    <tr>\n",
       "      <th>0</th>\n",
       "      <td>2018-01-12</td>\n",
       "      <td>01:58:22</td>\n",
       "      <td>0.71</td>\n",
       "    </tr>\n",
       "    <tr>\n",
       "      <th>1</th>\n",
       "      <td>2018-01-12</td>\n",
       "      <td>02:58:22</td>\n",
       "      <td>0.71</td>\n",
       "    </tr>\n",
       "    <tr>\n",
       "      <th>2</th>\n",
       "      <td>2018-01-12</td>\n",
       "      <td>03:58:23</td>\n",
       "      <td>0.71</td>\n",
       "    </tr>\n",
       "    <tr>\n",
       "      <th>3</th>\n",
       "      <td>2018-01-12</td>\n",
       "      <td>04:58:23</td>\n",
       "      <td>0.71</td>\n",
       "    </tr>\n",
       "    <tr>\n",
       "      <th>4</th>\n",
       "      <td>2018-01-12</td>\n",
       "      <td>05:58:24</td>\n",
       "      <td>0.71</td>\n",
       "    </tr>\n",
       "  </tbody>\n",
       "</table>\n",
       "</div>"
      ],
      "text/plain": [
       "       Fecha      HOra  PORVL2N2\n",
       "0 2018-01-12  01:58:22      0.71\n",
       "1 2018-01-12  02:58:22      0.71\n",
       "2 2018-01-12  03:58:23      0.71\n",
       "3 2018-01-12  04:58:23      0.71\n",
       "4 2018-01-12  05:58:24      0.71"
      ]
     },
     "execution_count": 150,
     "metadata": {},
     "output_type": "execute_result"
    }
   ],
   "source": [
    "phreatic_level_l2n2_28w_df.head()"
   ]
  },
  {
   "cell_type": "code",
   "execution_count": 154,
   "metadata": {},
   "outputs": [
    {
     "data": {
      "text/html": [
       "<div>\n",
       "<style scoped>\n",
       "    .dataframe tbody tr th:only-of-type {\n",
       "        vertical-align: middle;\n",
       "    }\n",
       "\n",
       "    .dataframe tbody tr th {\n",
       "        vertical-align: top;\n",
       "    }\n",
       "\n",
       "    .dataframe thead th {\n",
       "        text-align: right;\n",
       "    }\n",
       "</style>\n",
       "<table border=\"1\" class=\"dataframe\">\n",
       "  <thead>\n",
       "    <tr style=\"text-align: right;\">\n",
       "      <th></th>\n",
       "      <th>Fecha</th>\n",
       "      <th>Hora</th>\n",
       "      <th>PORVL24N2</th>\n",
       "    </tr>\n",
       "  </thead>\n",
       "  <tbody>\n",
       "    <tr>\n",
       "      <th>4875</th>\n",
       "      <td>2018-08-03</td>\n",
       "      <td>20:31:01</td>\n",
       "      <td>1.15</td>\n",
       "    </tr>\n",
       "    <tr>\n",
       "      <th>4876</th>\n",
       "      <td>2018-08-03</td>\n",
       "      <td>21:31:00</td>\n",
       "      <td>1.15</td>\n",
       "    </tr>\n",
       "    <tr>\n",
       "      <th>4877</th>\n",
       "      <td>2018-08-03</td>\n",
       "      <td>22:31:01</td>\n",
       "      <td>1.16</td>\n",
       "    </tr>\n",
       "    <tr>\n",
       "      <th>4878</th>\n",
       "      <td>2018-08-03</td>\n",
       "      <td>23:31:02</td>\n",
       "      <td>1.17</td>\n",
       "    </tr>\n",
       "    <tr>\n",
       "      <th>4879</th>\n",
       "      <td>NaN</td>\n",
       "      <td>NaN</td>\n",
       "      <td>NaN</td>\n",
       "    </tr>\n",
       "  </tbody>\n",
       "</table>\n",
       "</div>"
      ],
      "text/plain": [
       "           Fecha      Hora  PORVL24N2\n",
       "4875  2018-08-03  20:31:01       1.15\n",
       "4876  2018-08-03  21:31:00       1.15\n",
       "4877  2018-08-03  22:31:01       1.16\n",
       "4878  2018-08-03  23:31:02       1.17\n",
       "4879         NaN       NaN        NaN"
      ]
     },
     "execution_count": 154,
     "metadata": {},
     "output_type": "execute_result"
    }
   ],
   "source": [
    "phreatic_level_l24n2_28w_df.tail()"
   ]
  },
  {
   "cell_type": "code",
   "execution_count": 161,
   "metadata": {},
   "outputs": [
    {
     "name": "stdout",
     "output_type": "stream",
     "text": [
      "       Fecha  PORVL2N1\n",
      "0 2018-01-12  0.519130\n",
      "1 2018-01-13  0.138750\n",
      "2 2018-01-14  0.175417\n",
      "3 2018-01-15  0.111667\n",
      "4 2018-01-16  0.291250\n",
      "         Fecha  PORVL2N1\n",
      "199 2018-07-30  0.630417\n",
      "200 2018-07-31  0.609583\n",
      "201 2018-08-01  0.533333\n",
      "202 2018-08-02  0.470833\n",
      "203 2018-08-03  0.713333\n"
     ]
    },
    {
     "ename": "KeyError",
     "evalue": "'Column not found: PORVL2N2'",
     "output_type": "error",
     "traceback": [
      "\u001b[0;31m---------------------------------------------------------------------------\u001b[0m",
      "\u001b[0;31mKeyError\u001b[0m                                  Traceback (most recent call last)",
      "\u001b[0;32m<ipython-input-161-fbe6eaf8a824>\u001b[0m in \u001b[0;36m<module>\u001b[0;34m()\u001b[0m\n\u001b[1;32m     11\u001b[0m             \u001b[0mprint\u001b[0m\u001b[0;34m(\u001b[0m\u001b[0mphreatic_level_l2_n1_average_per_day\u001b[0m\u001b[0;34m.\u001b[0m\u001b[0mtail\u001b[0m\u001b[0;34m(\u001b[0m\u001b[0;34m)\u001b[0m\u001b[0;34m)\u001b[0m\u001b[0;34m\u001b[0m\u001b[0m\n\u001b[1;32m     12\u001b[0m             \u001b[0;31m# To N2\u001b[0m\u001b[0;34m\u001b[0m\u001b[0;34m\u001b[0m\u001b[0m\n\u001b[0;32m---> 13\u001b[0;31m             \u001b[0mphreatic_level_l2_n2_average_per_day\u001b[0m \u001b[0;34m=\u001b[0m \u001b[0;34m(\u001b[0m\u001b[0mdf\u001b[0m\u001b[0;34m.\u001b[0m\u001b[0mgroupby\u001b[0m\u001b[0;34m(\u001b[0m\u001b[0mpd\u001b[0m\u001b[0;34m.\u001b[0m\u001b[0mGrouper\u001b[0m\u001b[0;34m(\u001b[0m\u001b[0mkey\u001b[0m\u001b[0;34m=\u001b[0m\u001b[0;34m'Fecha'\u001b[0m\u001b[0;34m,\u001b[0m \u001b[0mfreq\u001b[0m\u001b[0;34m=\u001b[0m\u001b[0;34m'D'\u001b[0m\u001b[0;34m)\u001b[0m\u001b[0;34m)\u001b[0m\u001b[0;34m[\u001b[0m\u001b[0;34m'PORVL{}N{}'\u001b[0m\u001b[0;34m.\u001b[0m\u001b[0mformat\u001b[0m\u001b[0;34m(\u001b[0m\u001b[0mi\u001b[0m\u001b[0;34m,\u001b[0m\u001b[0mi\u001b[0m\u001b[0;34m)\u001b[0m\u001b[0;34m]\u001b[0m\u001b[0;34m.\u001b[0m\u001b[0mmean\u001b[0m\u001b[0;34m(\u001b[0m\u001b[0;34m)\u001b[0m\u001b[0;34m.\u001b[0m\u001b[0mreset_index\u001b[0m\u001b[0;34m(\u001b[0m\u001b[0;34m)\u001b[0m\u001b[0;34m)\u001b[0m\u001b[0;34m\u001b[0m\u001b[0m\n\u001b[0m\u001b[1;32m     14\u001b[0m             \u001b[0mphreatic_level_l2_n2_average_per_day\u001b[0m\u001b[0;34m.\u001b[0m\u001b[0mto_csv\u001b[0m\u001b[0;34m(\u001b[0m\u001b[0;34m'L{}N{}_average_per-day.csv'\u001b[0m\u001b[0;34m.\u001b[0m\u001b[0mformat\u001b[0m\u001b[0;34m(\u001b[0m\u001b[0mi\u001b[0m\u001b[0;34m,\u001b[0m\u001b[0mi\u001b[0m\u001b[0;34m)\u001b[0m\u001b[0;34m,\u001b[0m \u001b[0msep\u001b[0m\u001b[0;34m=\u001b[0m\u001b[0;34m','\u001b[0m\u001b[0;34m,\u001b[0m \u001b[0mheader\u001b[0m\u001b[0;34m=\u001b[0m\u001b[0;32mTrue\u001b[0m\u001b[0;34m,\u001b[0m \u001b[0mindex\u001b[0m\u001b[0;34m=\u001b[0m\u001b[0;32mFalse\u001b[0m\u001b[0;34m)\u001b[0m\u001b[0;34m\u001b[0m\u001b[0m\n\u001b[1;32m     15\u001b[0m \u001b[0;34m\u001b[0m\u001b[0m\n",
      "\u001b[0;32m~/anaconda3/envs/sioma/lib/python3.6/site-packages/pandas/core/base.py\u001b[0m in \u001b[0;36m__getitem__\u001b[0;34m(self, key)\u001b[0m\n\u001b[1;32m    265\u001b[0m         \u001b[0;32melse\u001b[0m\u001b[0;34m:\u001b[0m\u001b[0;34m\u001b[0m\u001b[0m\n\u001b[1;32m    266\u001b[0m             \u001b[0;32mif\u001b[0m \u001b[0mkey\u001b[0m \u001b[0;32mnot\u001b[0m \u001b[0;32min\u001b[0m \u001b[0mself\u001b[0m\u001b[0;34m.\u001b[0m\u001b[0mobj\u001b[0m\u001b[0;34m:\u001b[0m\u001b[0;34m\u001b[0m\u001b[0m\n\u001b[0;32m--> 267\u001b[0;31m                 \u001b[0;32mraise\u001b[0m \u001b[0mKeyError\u001b[0m\u001b[0;34m(\u001b[0m\u001b[0;34m\"Column not found: {key}\"\u001b[0m\u001b[0;34m.\u001b[0m\u001b[0mformat\u001b[0m\u001b[0;34m(\u001b[0m\u001b[0mkey\u001b[0m\u001b[0;34m=\u001b[0m\u001b[0mkey\u001b[0m\u001b[0;34m)\u001b[0m\u001b[0;34m)\u001b[0m\u001b[0;34m\u001b[0m\u001b[0m\n\u001b[0m\u001b[1;32m    268\u001b[0m             \u001b[0;32mreturn\u001b[0m \u001b[0mself\u001b[0m\u001b[0;34m.\u001b[0m\u001b[0m_gotitem\u001b[0m\u001b[0;34m(\u001b[0m\u001b[0mkey\u001b[0m\u001b[0;34m,\u001b[0m \u001b[0mndim\u001b[0m\u001b[0;34m=\u001b[0m\u001b[0;36m1\u001b[0m\u001b[0;34m)\u001b[0m\u001b[0;34m\u001b[0m\u001b[0m\n\u001b[1;32m    269\u001b[0m \u001b[0;34m\u001b[0m\u001b[0m\n",
      "\u001b[0;31mKeyError\u001b[0m: 'Column not found: PORVL2N2'"
     ]
    }
   ],
   "source": [
    "for name, df in dfs.items():\n",
    "    # We turn to datetime the Fecha column values \n",
    "    # https://pandas.pydata.org/pandas-docs/version/0.20/generated/pandas.to_datetime.html\n",
    "    df['Fecha'] = pd.to_datetime(df['Fecha'])\n",
    "    for i in range(1,24):\n",
    "        if(i==2):\n",
    "            # To N1\n",
    "            phreatic_level_l2_n1_average_per_day = (df.groupby(pd.Grouper(key='Fecha', freq='D'))['PORVL{}N{}'.format(i,i-1)].mean().reset_index())\n",
    "            phreatic_level_l2_n1_average_per_day.to_csv('L{}N{}_average_per-day.csv'.format(i,i-1), sep=',', header=True, index=False)\n",
    "            print(phreatic_level_l2_n1_average_per_day.head())\n",
    "            print(phreatic_level_l2_n1_average_per_day.tail())\n",
    "            # To N2\n",
    "            phreatic_level_l2_n2_average_per_day = (df.groupby(pd.Grouper(key='Fecha', freq='D'))['PORVL{}N{}'.format(i,i)].mean().reset_index())\n",
    "            phreatic_level_l2_n2_average_per_day.to_csv('L{}N{}_average_per-day.csv'.format(i,i), sep=',', header=True, index=False)\n",
    "        \n",
    "    \n",
    "    "
   ]
  },
  {
   "cell_type": "code",
   "execution_count": null,
   "metadata": {},
   "outputs": [],
   "source": []
  },
  {
   "cell_type": "code",
   "execution_count": null,
   "metadata": {},
   "outputs": [],
   "source": []
  },
  {
   "cell_type": "code",
   "execution_count": null,
   "metadata": {},
   "outputs": [],
   "source": [
    "# phreatic_level_lots_nodes_df = pd.concat([phreatic_level_Jan12_Apr12_lots_nodes_df, phreatic_level_Apr13_Aug03_lots_nodes_df])"
   ]
  }
 ],
 "metadata": {
  "kernelspec": {
   "display_name": "Python 3",
   "language": "python",
   "name": "python3"
  },
  "language_info": {
   "codemirror_mode": {
    "name": "ipython",
    "version": 3
   },
   "file_extension": ".py",
   "mimetype": "text/x-python",
   "name": "python",
   "nbconvert_exporter": "python",
   "pygments_lexer": "ipython3",
   "version": "3.6.5"
  }
 },
 "nbformat": 4,
 "nbformat_minor": 2
}
