{
 "cells": [
  {
   "cell_type": "code",
   "execution_count": 1,
   "metadata": {},
   "outputs": [],
   "source": [
    "from __future__ import unicode_literals\n",
    "\n",
    "import pandas as pd\n",
    "import numpy as np"
   ]
  },
  {
   "cell_type": "markdown",
   "metadata": {},
   "source": [
    "Until here, we have made the following steps:\n",
    "\n",
    "**1.** Generate phreatic level values by node into separate file\n",
    "\n",
    "**2.** Generate phreatic level average per day by node into separate file\n",
    "\n",
    "Now, is necessary read and concatenate phreatic level average per day by node values\n",
    "and generate average per day by lot.\n",
    "\n",
    "We had the phreatic level characterization around of \n",
    "25 lots on the Porvenir farm of this way: \n",
    "\n",
    "- Lot 2 **named PORVL2** and have the Node 1 and Node 2\n",
    "     \n",
    "     - PORVL2N1\n",
    "     - PORVL2N2\n",
    " \n",
    " ---\n",
    " \n",
    "- Lot 4 **named PORVL4** and have the Node 1\n",
    "     \n",
    "     - PORVL4N1\n",
    " \n",
    " ---\n",
    " \n",
    " And so, successively.\n",
    " \n",
    " ---\n",
    " \n",
    " The idea is that **PORVL2N1** and **PORVL2N2** now they are only called **PORVL2**\n",
    " \n",
    " **PORVL4N1** now will be called **PORVL4**, and so, successively.\n",
    " \n",
    " To perform this, we going to concatenate in one dataframe variable the respective dataframes\n",
    " of each lote."
   ]
  },
  {
   "cell_type": "markdown",
   "metadata": {},
   "source": [
    "## 1. Concatenating PORVL2N1 and PORVL2N2 average per day values"
   ]
  },
  {
   "cell_type": "markdown",
   "metadata": {},
   "source": [
    "### 1.1. Reading PORVL2N1 average per day values"
   ]
  },
  {
   "cell_type": "code",
   "execution_count": 2,
   "metadata": {},
   "outputs": [],
   "source": [
    "\n",
    "phreatic_level_l2n1_28w_avg_pd = pd.read_csv('../../../../data/interim/PhreaticLevel/'  \\\n",
    "                    '28-weeks_January-12_August-03_2018/PhreaticLevel_By_Lots-Nodes_Average_by-day/' \\\n",
    "                    'PORVL2N1_average_per-day.csv')"
   ]
  },
  {
   "cell_type": "code",
   "execution_count": 3,
   "metadata": {},
   "outputs": [
    {
     "name": "stdout",
     "output_type": "stream",
     "text": [
      "(204, 2)\n"
     ]
    },
    {
     "data": {
      "text/html": [
       "<div>\n",
       "<style scoped>\n",
       "    .dataframe tbody tr th:only-of-type {\n",
       "        vertical-align: middle;\n",
       "    }\n",
       "\n",
       "    .dataframe tbody tr th {\n",
       "        vertical-align: top;\n",
       "    }\n",
       "\n",
       "    .dataframe thead th {\n",
       "        text-align: right;\n",
       "    }\n",
       "</style>\n",
       "<table border=\"1\" class=\"dataframe\">\n",
       "  <thead>\n",
       "    <tr style=\"text-align: right;\">\n",
       "      <th></th>\n",
       "      <th>Fecha</th>\n",
       "      <th>PORVL2N1</th>\n",
       "    </tr>\n",
       "  </thead>\n",
       "  <tbody>\n",
       "    <tr>\n",
       "      <th>0</th>\n",
       "      <td>2018-01-12</td>\n",
       "      <td>0.519130</td>\n",
       "    </tr>\n",
       "    <tr>\n",
       "      <th>1</th>\n",
       "      <td>2018-01-13</td>\n",
       "      <td>0.138750</td>\n",
       "    </tr>\n",
       "    <tr>\n",
       "      <th>2</th>\n",
       "      <td>2018-01-14</td>\n",
       "      <td>0.175417</td>\n",
       "    </tr>\n",
       "    <tr>\n",
       "      <th>3</th>\n",
       "      <td>2018-01-15</td>\n",
       "      <td>0.111667</td>\n",
       "    </tr>\n",
       "    <tr>\n",
       "      <th>4</th>\n",
       "      <td>2018-01-16</td>\n",
       "      <td>0.291250</td>\n",
       "    </tr>\n",
       "  </tbody>\n",
       "</table>\n",
       "</div>"
      ],
      "text/plain": [
       "        Fecha  PORVL2N1\n",
       "0  2018-01-12  0.519130\n",
       "1  2018-01-13  0.138750\n",
       "2  2018-01-14  0.175417\n",
       "3  2018-01-15  0.111667\n",
       "4  2018-01-16  0.291250"
      ]
     },
     "execution_count": 3,
     "metadata": {},
     "output_type": "execute_result"
    }
   ],
   "source": [
    "print(phreatic_level_l2n1_28w_avg_pd.shape)\n",
    "phreatic_level_l2n1_28w_avg_pd.head()"
   ]
  },
  {
   "cell_type": "markdown",
   "metadata": {},
   "source": [
    "### 1.2. Reading PORVL2N2 average per day values"
   ]
  },
  {
   "cell_type": "code",
   "execution_count": 4,
   "metadata": {},
   "outputs": [],
   "source": [
    "phreatic_level_l2n2_28w_avg_pd = pd.read_csv('../../../../data/interim/PhreaticLevel/'  \\\n",
    "                    '28-weeks_January-12_August-03_2018/PhreaticLevel_By_Lots-Nodes_Average_by-day/' \\\n",
    "                    'PORVL2N2_average_per-day.csv')"
   ]
  },
  {
   "cell_type": "code",
   "execution_count": 5,
   "metadata": {},
   "outputs": [
    {
     "name": "stdout",
     "output_type": "stream",
     "text": [
      "(204, 2)\n"
     ]
    },
    {
     "data": {
      "text/html": [
       "<div>\n",
       "<style scoped>\n",
       "    .dataframe tbody tr th:only-of-type {\n",
       "        vertical-align: middle;\n",
       "    }\n",
       "\n",
       "    .dataframe tbody tr th {\n",
       "        vertical-align: top;\n",
       "    }\n",
       "\n",
       "    .dataframe thead th {\n",
       "        text-align: right;\n",
       "    }\n",
       "</style>\n",
       "<table border=\"1\" class=\"dataframe\">\n",
       "  <thead>\n",
       "    <tr style=\"text-align: right;\">\n",
       "      <th></th>\n",
       "      <th>Fecha</th>\n",
       "      <th>PORVL2N2</th>\n",
       "    </tr>\n",
       "  </thead>\n",
       "  <tbody>\n",
       "    <tr>\n",
       "      <th>0</th>\n",
       "      <td>2018-01-12</td>\n",
       "      <td>0.718696</td>\n",
       "    </tr>\n",
       "    <tr>\n",
       "      <th>1</th>\n",
       "      <td>2018-01-13</td>\n",
       "      <td>0.299583</td>\n",
       "    </tr>\n",
       "    <tr>\n",
       "      <th>2</th>\n",
       "      <td>2018-01-14</td>\n",
       "      <td>0.168750</td>\n",
       "    </tr>\n",
       "    <tr>\n",
       "      <th>3</th>\n",
       "      <td>2018-01-15</td>\n",
       "      <td>0.134167</td>\n",
       "    </tr>\n",
       "    <tr>\n",
       "      <th>4</th>\n",
       "      <td>2018-01-16</td>\n",
       "      <td>0.335000</td>\n",
       "    </tr>\n",
       "  </tbody>\n",
       "</table>\n",
       "</div>"
      ],
      "text/plain": [
       "        Fecha  PORVL2N2\n",
       "0  2018-01-12  0.718696\n",
       "1  2018-01-13  0.299583\n",
       "2  2018-01-14  0.168750\n",
       "3  2018-01-15  0.134167\n",
       "4  2018-01-16  0.335000"
      ]
     },
     "execution_count": 5,
     "metadata": {},
     "output_type": "execute_result"
    }
   ],
   "source": [
    "print(phreatic_level_l2n2_28w_avg_pd.shape)\n",
    "phreatic_level_l2n2_28w_avg_pd.head()"
   ]
  },
  {
   "cell_type": "markdown",
   "metadata": {},
   "source": [
    "### 1.3. Merging phreatic level averages per day dataframes \n",
    "\n",
    "Now, we going to merge the **`phreatic_level_l2n1_28w_avg_pd`** and **`phreatic_level_l2n2_28w_avg_pd`** dataframes\n"
   ]
  },
  {
   "cell_type": "code",
   "execution_count": 6,
   "metadata": {},
   "outputs": [],
   "source": [
    "\n",
    "# https://pandas.pydata.org/pandas-docs/stable/generated/pandas.DataFrame.merge.html\n",
    "phreatic_level_l2_28w_avg_pd = pd.merge(phreatic_level_l2n1_28w_avg_pd,phreatic_level_l2n2_28w_avg_pd, how='inner', on='Fecha')"
   ]
  },
  {
   "cell_type": "code",
   "execution_count": 7,
   "metadata": {},
   "outputs": [
    {
     "data": {
      "text/html": [
       "<div>\n",
       "<style scoped>\n",
       "    .dataframe tbody tr th:only-of-type {\n",
       "        vertical-align: middle;\n",
       "    }\n",
       "\n",
       "    .dataframe tbody tr th {\n",
       "        vertical-align: top;\n",
       "    }\n",
       "\n",
       "    .dataframe thead th {\n",
       "        text-align: right;\n",
       "    }\n",
       "</style>\n",
       "<table border=\"1\" class=\"dataframe\">\n",
       "  <thead>\n",
       "    <tr style=\"text-align: right;\">\n",
       "      <th></th>\n",
       "      <th>Fecha</th>\n",
       "      <th>PORVL2N1</th>\n",
       "      <th>PORVL2N2</th>\n",
       "    </tr>\n",
       "  </thead>\n",
       "  <tbody>\n",
       "    <tr>\n",
       "      <th>0</th>\n",
       "      <td>2018-01-12</td>\n",
       "      <td>0.519130</td>\n",
       "      <td>0.718696</td>\n",
       "    </tr>\n",
       "    <tr>\n",
       "      <th>1</th>\n",
       "      <td>2018-01-13</td>\n",
       "      <td>0.138750</td>\n",
       "      <td>0.299583</td>\n",
       "    </tr>\n",
       "    <tr>\n",
       "      <th>2</th>\n",
       "      <td>2018-01-14</td>\n",
       "      <td>0.175417</td>\n",
       "      <td>0.168750</td>\n",
       "    </tr>\n",
       "    <tr>\n",
       "      <th>3</th>\n",
       "      <td>2018-01-15</td>\n",
       "      <td>0.111667</td>\n",
       "      <td>0.134167</td>\n",
       "    </tr>\n",
       "    <tr>\n",
       "      <th>4</th>\n",
       "      <td>2018-01-16</td>\n",
       "      <td>0.291250</td>\n",
       "      <td>0.335000</td>\n",
       "    </tr>\n",
       "  </tbody>\n",
       "</table>\n",
       "</div>"
      ],
      "text/plain": [
       "        Fecha  PORVL2N1  PORVL2N2\n",
       "0  2018-01-12  0.519130  0.718696\n",
       "1  2018-01-13  0.138750  0.299583\n",
       "2  2018-01-14  0.175417  0.168750\n",
       "3  2018-01-15  0.111667  0.134167\n",
       "4  2018-01-16  0.291250  0.335000"
      ]
     },
     "execution_count": 7,
     "metadata": {},
     "output_type": "execute_result"
    }
   ],
   "source": [
    "phreatic_level_l2_28w_avg_pd.head()"
   ]
  },
  {
   "cell_type": "markdown",
   "metadata": {},
   "source": [
    "### 1.4 Generating average between PORVL2N1 and PORVL2N2 values"
   ]
  },
  {
   "cell_type": "code",
   "execution_count": 8,
   "metadata": {},
   "outputs": [],
   "source": [
    "phreatic_level_l2_28w_avg_pd['PORVL2_AVG'] = phreatic_level_l2_28w_avg_pd.mean(axis=1) "
   ]
  },
  {
   "cell_type": "code",
   "execution_count": 9,
   "metadata": {},
   "outputs": [
    {
     "data": {
      "text/html": [
       "<div>\n",
       "<style scoped>\n",
       "    .dataframe tbody tr th:only-of-type {\n",
       "        vertical-align: middle;\n",
       "    }\n",
       "\n",
       "    .dataframe tbody tr th {\n",
       "        vertical-align: top;\n",
       "    }\n",
       "\n",
       "    .dataframe thead th {\n",
       "        text-align: right;\n",
       "    }\n",
       "</style>\n",
       "<table border=\"1\" class=\"dataframe\">\n",
       "  <thead>\n",
       "    <tr style=\"text-align: right;\">\n",
       "      <th></th>\n",
       "      <th>Fecha</th>\n",
       "      <th>PORVL2N1</th>\n",
       "      <th>PORVL2N2</th>\n",
       "      <th>PORVL2_AVG</th>\n",
       "    </tr>\n",
       "  </thead>\n",
       "  <tbody>\n",
       "    <tr>\n",
       "      <th>0</th>\n",
       "      <td>2018-01-12</td>\n",
       "      <td>0.519130</td>\n",
       "      <td>0.718696</td>\n",
       "      <td>0.618913</td>\n",
       "    </tr>\n",
       "    <tr>\n",
       "      <th>1</th>\n",
       "      <td>2018-01-13</td>\n",
       "      <td>0.138750</td>\n",
       "      <td>0.299583</td>\n",
       "      <td>0.219167</td>\n",
       "    </tr>\n",
       "    <tr>\n",
       "      <th>2</th>\n",
       "      <td>2018-01-14</td>\n",
       "      <td>0.175417</td>\n",
       "      <td>0.168750</td>\n",
       "      <td>0.172083</td>\n",
       "    </tr>\n",
       "    <tr>\n",
       "      <th>3</th>\n",
       "      <td>2018-01-15</td>\n",
       "      <td>0.111667</td>\n",
       "      <td>0.134167</td>\n",
       "      <td>0.122917</td>\n",
       "    </tr>\n",
       "    <tr>\n",
       "      <th>4</th>\n",
       "      <td>2018-01-16</td>\n",
       "      <td>0.291250</td>\n",
       "      <td>0.335000</td>\n",
       "      <td>0.313125</td>\n",
       "    </tr>\n",
       "  </tbody>\n",
       "</table>\n",
       "</div>"
      ],
      "text/plain": [
       "        Fecha  PORVL2N1  PORVL2N2  PORVL2_AVG\n",
       "0  2018-01-12  0.519130  0.718696    0.618913\n",
       "1  2018-01-13  0.138750  0.299583    0.219167\n",
       "2  2018-01-14  0.175417  0.168750    0.172083\n",
       "3  2018-01-15  0.111667  0.134167    0.122917\n",
       "4  2018-01-16  0.291250  0.335000    0.313125"
      ]
     },
     "execution_count": 9,
     "metadata": {},
     "output_type": "execute_result"
    }
   ],
   "source": [
    "phreatic_level_l2_28w_avg_pd.head()"
   ]
  },
  {
   "cell_type": "code",
   "execution_count": 10,
   "metadata": {},
   "outputs": [],
   "source": [
    "# Export phreatic_level_l2_28w_avg_pd dataframe \n",
    "# Fecha | PORVL2N1 | PORVL2N2 | PORVL2_AVERAGE |\n",
    "#       |          |          |                |\n",
    "phreatic_level_l2_28w_avg_pd.to_csv( '../../../../data/interim/PhreaticLevel/'  \\\n",
    "                            '28-weeks_January-12_August-03_2018/PhreaticLevelAverage_by-Lot/' \\\n",
    "                            'LOTx_N_y_AVG_x-y_table/PORVL2N1_N2_average_per-lot.csv', sep=',', header=True, index=False)"
   ]
  },
  {
   "cell_type": "code",
   "execution_count": 11,
   "metadata": {},
   "outputs": [],
   "source": [
    "phreatic_level_l2_28w_avg_pd_df = phreatic_level_l2_28w_avg_pd[['Fecha','PORVL2_AVG']]"
   ]
  },
  {
   "cell_type": "code",
   "execution_count": 12,
   "metadata": {},
   "outputs": [
    {
     "data": {
      "text/html": [
       "<div>\n",
       "<style scoped>\n",
       "    .dataframe tbody tr th:only-of-type {\n",
       "        vertical-align: middle;\n",
       "    }\n",
       "\n",
       "    .dataframe tbody tr th {\n",
       "        vertical-align: top;\n",
       "    }\n",
       "\n",
       "    .dataframe thead th {\n",
       "        text-align: right;\n",
       "    }\n",
       "</style>\n",
       "<table border=\"1\" class=\"dataframe\">\n",
       "  <thead>\n",
       "    <tr style=\"text-align: right;\">\n",
       "      <th></th>\n",
       "      <th>Fecha</th>\n",
       "      <th>PORVL2_AVG</th>\n",
       "    </tr>\n",
       "  </thead>\n",
       "  <tbody>\n",
       "    <tr>\n",
       "      <th>0</th>\n",
       "      <td>2018-01-12</td>\n",
       "      <td>0.618913</td>\n",
       "    </tr>\n",
       "    <tr>\n",
       "      <th>1</th>\n",
       "      <td>2018-01-13</td>\n",
       "      <td>0.219167</td>\n",
       "    </tr>\n",
       "    <tr>\n",
       "      <th>2</th>\n",
       "      <td>2018-01-14</td>\n",
       "      <td>0.172083</td>\n",
       "    </tr>\n",
       "    <tr>\n",
       "      <th>3</th>\n",
       "      <td>2018-01-15</td>\n",
       "      <td>0.122917</td>\n",
       "    </tr>\n",
       "    <tr>\n",
       "      <th>4</th>\n",
       "      <td>2018-01-16</td>\n",
       "      <td>0.313125</td>\n",
       "    </tr>\n",
       "  </tbody>\n",
       "</table>\n",
       "</div>"
      ],
      "text/plain": [
       "        Fecha  PORVL2_AVG\n",
       "0  2018-01-12    0.618913\n",
       "1  2018-01-13    0.219167\n",
       "2  2018-01-14    0.172083\n",
       "3  2018-01-15    0.122917\n",
       "4  2018-01-16    0.313125"
      ]
     },
     "execution_count": 12,
     "metadata": {},
     "output_type": "execute_result"
    }
   ],
   "source": [
    "phreatic_level_l2_28w_avg_pd_df.head()"
   ]
  },
  {
   "cell_type": "code",
   "execution_count": 13,
   "metadata": {},
   "outputs": [],
   "source": [
    "# Export phreatic_level_l2_28w_avg_pd_df dataframe \n",
    "# Fecha | PORVL2_AVERAGE |\n",
    "#       |                |\n",
    "phreatic_level_l2_28w_avg_pd_df.to_csv( '../../../../data/interim/PhreaticLevel/'  \\\n",
    "                            '28-weeks_January-12_August-03_2018/PhreaticLevelAverage_by-Lot/' \\\n",
    "                            'PORVL2_average_per-day.csv', sep=',', header=True, index=False)"
   ]
  },
  {
   "cell_type": "markdown",
   "metadata": {},
   "source": [
    "## 2. Turning PORVL4N1, ... , PORVL15N1 average per day values \n",
    "## to PORVL4, ... , PORVL15 "
   ]
  },
  {
   "cell_type": "markdown",
   "metadata": {},
   "source": [
    "### 2.1 Reading PORVL4N1 average per day values"
   ]
  },
  {
   "cell_type": "code",
   "execution_count": 15,
   "metadata": {},
   "outputs": [],
   "source": [
    "phreatic_level_l4n1_28w_avg_pd = pd.read_csv('../../../../data/interim/PhreaticLevel/'  \\\n",
    "                    '28-weeks_January-12_August-03_2018/PhreaticLevel_By_Lots-Nodes_Average_by-day/' \\\n",
    "                    'PORVL4N1_average_per-day.csv')"
   ]
  },
  {
   "cell_type": "code",
   "execution_count": 16,
   "metadata": {},
   "outputs": [
    {
     "data": {
      "text/html": [
       "<div>\n",
       "<style scoped>\n",
       "    .dataframe tbody tr th:only-of-type {\n",
       "        vertical-align: middle;\n",
       "    }\n",
       "\n",
       "    .dataframe tbody tr th {\n",
       "        vertical-align: top;\n",
       "    }\n",
       "\n",
       "    .dataframe thead th {\n",
       "        text-align: right;\n",
       "    }\n",
       "</style>\n",
       "<table border=\"1\" class=\"dataframe\">\n",
       "  <thead>\n",
       "    <tr style=\"text-align: right;\">\n",
       "      <th></th>\n",
       "      <th>Fecha</th>\n",
       "      <th>PORVL4_AVG</th>\n",
       "    </tr>\n",
       "  </thead>\n",
       "  <tbody>\n",
       "    <tr>\n",
       "      <th>0</th>\n",
       "      <td>2018-01-12</td>\n",
       "      <td>0.818261</td>\n",
       "    </tr>\n",
       "    <tr>\n",
       "      <th>1</th>\n",
       "      <td>2018-01-13</td>\n",
       "      <td>0.532917</td>\n",
       "    </tr>\n",
       "    <tr>\n",
       "      <th>2</th>\n",
       "      <td>2018-01-14</td>\n",
       "      <td>0.482083</td>\n",
       "    </tr>\n",
       "    <tr>\n",
       "      <th>3</th>\n",
       "      <td>2018-01-15</td>\n",
       "      <td>0.555833</td>\n",
       "    </tr>\n",
       "    <tr>\n",
       "      <th>4</th>\n",
       "      <td>2018-01-16</td>\n",
       "      <td>0.764167</td>\n",
       "    </tr>\n",
       "  </tbody>\n",
       "</table>\n",
       "</div>"
      ],
      "text/plain": [
       "        Fecha  PORVL4_AVG\n",
       "0  2018-01-12    0.818261\n",
       "1  2018-01-13    0.532917\n",
       "2  2018-01-14    0.482083\n",
       "3  2018-01-15    0.555833\n",
       "4  2018-01-16    0.764167"
      ]
     },
     "execution_count": 16,
     "metadata": {},
     "output_type": "execute_result"
    }
   ],
   "source": [
    "phreatic_level_l4n1_28w_avg_pd = phreatic_level_l4n1_28w_avg_pd.rename(columns={\n",
    "    'PORVL4N1':'PORVL4_AVG'\n",
    "})\n",
    "phreatic_level_l4n1_28w_avg_pd.head()"
   ]
  },
  {
   "cell_type": "code",
   "execution_count": 17,
   "metadata": {},
   "outputs": [],
   "source": [
    "# Export phreatic_level_l4n1_28w_avg_pd dataframe \n",
    "# Fecha | PORVL4 |  # Only one column one N1\n",
    "#       |       |\n",
    "phreatic_level_l4n1_28w_avg_pd.to_csv( '../../../../data/interim/PhreaticLevel/'  \\\n",
    "                            '28-weeks_January-12_August-03_2018/PhreaticLevelAverage_by-Lot/' \\\n",
    "                            'PORVL4_average_per-day.csv', sep=',', header=True, index=False)"
   ]
  },
  {
   "cell_type": "code",
   "execution_count": 18,
   "metadata": {},
   "outputs": [
    {
     "name": "stdout",
     "output_type": "stream",
     "text": [
      "        Fecha  PORVL5_AVG\n",
      "0  2018-01-12    0.537826\n",
      "1  2018-01-13    0.292500\n",
      "2  2018-01-14    0.246667\n",
      "3  2018-01-15    0.245417\n",
      "4  2018-01-16    0.427500\n"
     ]
    }
   ],
   "source": [
    "# Reading PORVL5 average per day values\n",
    "phreatic_level_l5n1_28w_avg_pd = pd.read_csv('../../../../data/interim/PhreaticLevel/'  \\\n",
    "                    '28-weeks_January-12_August-03_2018/PhreaticLevel_By_Lots-Nodes_Average_by-day/' \\\n",
    "                    'PORVL5N1_average_per-day.csv')\n",
    "phreatic_level_l5n1_28w_avg_pd = phreatic_level_l5n1_28w_avg_pd.rename(columns={\n",
    "    'PORVL5N1':'PORVL5_AVG'\n",
    "})\n",
    "print(phreatic_level_l5n1_28w_avg_pd.head())\n",
    "# Export phreatic_level_l5n1_28w_avg_pd dataframe \n",
    "# Fecha | PORVL5 |  # Only one column one N1\n",
    "#       |       |\n",
    "phreatic_level_l5n1_28w_avg_pd.to_csv( '../../../../data/interim/PhreaticLevel/'  \\\n",
    "                            '28-weeks_January-12_August-03_2018/PhreaticLevelAverage_by-Lot/' \\\n",
    "                            'PORVL5_average_per-day.csv', sep=',', header=True, index=False)"
   ]
  },
  {
   "cell_type": "code",
   "execution_count": 19,
   "metadata": {},
   "outputs": [
    {
     "name": "stdout",
     "output_type": "stream",
     "text": [
      "        Fecha  PORVL6_AVG\n",
      "0  2018-01-12    0.829130\n",
      "1  2018-01-13    0.510417\n",
      "2  2018-01-14    0.488750\n",
      "3  2018-01-15    0.529167\n",
      "4  2018-01-16    0.717917\n"
     ]
    }
   ],
   "source": [
    "# Reading PORVL6 average per day values\n",
    "phreatic_level_l6n1_28w_avg_pd = pd.read_csv('../../../../data/interim/PhreaticLevel/'  \\\n",
    "                    '28-weeks_January-12_August-03_2018/PhreaticLevel_By_Lots-Nodes_Average_by-day/' \\\n",
    "                    'PORVL6N1_average_per-day.csv')\n",
    "phreatic_level_l6n1_28w_avg_pd = phreatic_level_l6n1_28w_avg_pd.rename(columns={\n",
    "    'PORVL6N1':'PORVL6_AVG'\n",
    "})\n",
    "print(phreatic_level_l6n1_28w_avg_pd.head())\n",
    "# Export phreatic_level_l5n1_28w_avg_pd dataframe \n",
    "# Fecha | PORVL6 |  # Only one column one N1\n",
    "#       |       |\n",
    "phreatic_level_l6n1_28w_avg_pd.to_csv( '../../../../data/interim/PhreaticLevel/'  \\\n",
    "                            '28-weeks_January-12_August-03_2018/PhreaticLevelAverage_by-Lot/' \\\n",
    "                            'PORVL6_average_per-day.csv', sep=',', header=True, index=False)"
   ]
  },
  {
   "cell_type": "code",
   "execution_count": 20,
   "metadata": {},
   "outputs": [
    {
     "name": "stdout",
     "output_type": "stream",
     "text": [
      "        Fecha  PORVL7_AVG\n",
      "0  2018-01-12    1.043043\n",
      "1  2018-01-13    0.598333\n",
      "2  2018-01-14    0.522500\n",
      "3  2018-01-15    0.495833\n",
      "4  2018-01-16    0.792917\n"
     ]
    }
   ],
   "source": [
    "# Reading PORVL7 average per day values\n",
    "phreatic_level_l7n1_28w_avg_pd = pd.read_csv('../../../../data/interim/PhreaticLevel/'  \\\n",
    "                    '28-weeks_January-12_August-03_2018/PhreaticLevel_By_Lots-Nodes_Average_by-day/' \\\n",
    "                    'PORVL7N1_average_per-day.csv')\n",
    "phreatic_level_l7n1_28w_avg_pd = phreatic_level_l7n1_28w_avg_pd.rename(columns={\n",
    "    'PORVL7N1':'PORVL7_AVG'\n",
    "})\n",
    "print(phreatic_level_l7n1_28w_avg_pd.head())\n",
    "# Export phreatic_level_l7n1_28w_avg_pd dataframe \n",
    "# Fecha | PORVL7 |  # Only one column one N1\n",
    "#       |       |\n",
    "phreatic_level_l7n1_28w_avg_pd.to_csv( '../../../../data/interim/PhreaticLevel/'  \\\n",
    "                            '28-weeks_January-12_August-03_2018/PhreaticLevelAverage_by-Lot/' \\\n",
    "                            'PORVL7_average_per-day.csv', sep=',', header=True, index=False)"
   ]
  },
  {
   "cell_type": "code",
   "execution_count": 21,
   "metadata": {},
   "outputs": [
    {
     "name": "stdout",
     "output_type": "stream",
     "text": [
      "        Fecha  PORVL8_AVG\n",
      "0  2018-01-12    1.041739\n",
      "1  2018-01-13    0.738750\n",
      "2  2018-01-14    0.584167\n",
      "3  2018-01-15    0.641667\n",
      "4  2018-01-16    0.929583\n"
     ]
    }
   ],
   "source": [
    "# Reading PORVL8 average per day values\n",
    "phreatic_level_l8n1_28w_avg_pd = pd.read_csv('../../../../data/interim/PhreaticLevel/'  \\\n",
    "                    '28-weeks_January-12_August-03_2018/PhreaticLevel_By_Lots-Nodes_Average_by-day/' \\\n",
    "                    'PORVL8N1_average_per-day.csv')\n",
    "phreatic_level_l8n1_28w_avg_pd = phreatic_level_l8n1_28w_avg_pd.rename(columns={\n",
    "    'PORVL8N1':'PORVL8_AVG'\n",
    "})\n",
    "print(phreatic_level_l8n1_28w_avg_pd.head())\n",
    "# Export phreatic_level_l8n1_28w_avg_pd dataframe \n",
    "# Fecha | PORVL8 |  # Only one column one N1\n",
    "#       |       |\n",
    "phreatic_level_l8n1_28w_avg_pd.to_csv( '../../../../data/interim/PhreaticLevel/'  \\\n",
    "                            '28-weeks_January-12_August-03_2018/PhreaticLevelAverage_by-Lot/' \\\n",
    "                            'PORVL8_average_per-day.csv', sep=',', header=True, index=False)"
   ]
  },
  {
   "cell_type": "code",
   "execution_count": 22,
   "metadata": {},
   "outputs": [
    {
     "name": "stdout",
     "output_type": "stream",
     "text": [
      "        Fecha  PORVL9_AVG\n",
      "0  2018-01-12    1.033043\n",
      "1  2018-01-13    0.772917\n",
      "2  2018-01-14    0.725000\n",
      "3  2018-01-15    0.735000\n",
      "4  2018-01-16    0.892917\n"
     ]
    }
   ],
   "source": [
    "# Reading PORVL9 average per day values\n",
    "phreatic_level_l9n1_28w_avg_pd = pd.read_csv('../../../../data/interim/PhreaticLevel/'  \\\n",
    "                    '28-weeks_January-12_August-03_2018/PhreaticLevel_By_Lots-Nodes_Average_by-day/' \\\n",
    "                    'PORVL9N1_average_per-day.csv')\n",
    "phreatic_level_l9n1_28w_avg_pd = phreatic_level_l9n1_28w_avg_pd.rename(columns={\n",
    "    'PORVL9N1':'PORVL9_AVG'\n",
    "})\n",
    "print(phreatic_level_l9n1_28w_avg_pd.head())\n",
    "# Export phreatic_level_l9n1_28w_avg_pd dataframe \n",
    "# Fecha | PORVL9 |  # Only one column one N1\n",
    "#       |       |\n",
    "phreatic_level_l9n1_28w_avg_pd.to_csv( '../../../../data/interim/PhreaticLevel/'  \\\n",
    "                            '28-weeks_January-12_August-03_2018/PhreaticLevelAverage_by-Lot/' \\\n",
    "                            'PORVL9_average_per-day.csv', sep=',', header=True, index=False)"
   ]
  },
  {
   "cell_type": "code",
   "execution_count": 23,
   "metadata": {},
   "outputs": [
    {
     "name": "stdout",
     "output_type": "stream",
     "text": [
      "        Fecha  PORVL10_AVG\n",
      "0  2018-01-12     0.949130\n",
      "1  2018-01-13     0.694583\n",
      "2  2018-01-14     0.645833\n",
      "3  2018-01-15     0.692963\n",
      "4  2018-01-16     0.774000\n"
     ]
    }
   ],
   "source": [
    "# Reading PORVL10 average per day values\n",
    "phreatic_level_l10n1_28w_avg_pd = pd.read_csv('../../../../data/interim/PhreaticLevel/'  \\\n",
    "                    '28-weeks_January-12_August-03_2018/PhreaticLevel_By_Lots-Nodes_Average_by-day/' \\\n",
    "                    'PORVL10N1_average_per-day.csv')\n",
    "phreatic_level_l10n1_28w_avg_pd = phreatic_level_l10n1_28w_avg_pd.rename(columns={\n",
    "    'PORVL10N1':'PORVL10_AVG'\n",
    "})\n",
    "print(phreatic_level_l10n1_28w_avg_pd.head())\n",
    "# Export phreatic_level_l10n1_28w_avg_pd dataframe \n",
    "# Fecha | PORVL10 |  # Only one column one N1\n",
    "#       |       |\n",
    "phreatic_level_l10n1_28w_avg_pd.to_csv( '../../../../data/interim/PhreaticLevel/'  \\\n",
    "                            '28-weeks_January-12_August-03_2018/PhreaticLevelAverage_by-Lot/' \\\n",
    "                            'PORVL10_average_per-day.csv', sep=',', header=True, index=False)"
   ]
  },
  {
   "cell_type": "code",
   "execution_count": 24,
   "metadata": {},
   "outputs": [
    {
     "name": "stdout",
     "output_type": "stream",
     "text": [
      "        Fecha  PORVL13_AVG\n",
      "0  2018-01-12     1.030870\n",
      "1  2018-01-13     0.669583\n",
      "2  2018-01-14     0.518750\n",
      "3  2018-01-15     0.614167\n",
      "4  2018-01-16     0.798750\n"
     ]
    }
   ],
   "source": [
    "# Reading PORVL13 average per day values\n",
    "phreatic_level_l13n1_28w_avg_pd = pd.read_csv('../../../../data/interim/PhreaticLevel/'  \\\n",
    "                    '28-weeks_January-12_August-03_2018/PhreaticLevel_By_Lots-Nodes_Average_by-day/' \\\n",
    "                    'PORVL13N1_average_per-day.csv')\n",
    "phreatic_level_l13n1_28w_avg_pd = phreatic_level_l13n1_28w_avg_pd.rename(columns={\n",
    "    'PORVL13N1':'PORVL13_AVG'\n",
    "})\n",
    "print(phreatic_level_l13n1_28w_avg_pd.head())\n",
    "# Export phreatic_level_l13n1_28w_avg_pd dataframe \n",
    "# Fecha | PORVL13 |  # Only one column one N1\n",
    "#       |       |\n",
    "phreatic_level_l13n1_28w_avg_pd.to_csv( '../../../../data/interim/PhreaticLevel/'  \\\n",
    "                            '28-weeks_January-12_August-03_2018/PhreaticLevelAverage_by-Lot/' \\\n",
    "                            'PORVL13_average_per-day.csv', sep=',', header=True, index=False)"
   ]
  },
  {
   "cell_type": "code",
   "execution_count": 25,
   "metadata": {},
   "outputs": [
    {
     "name": "stdout",
     "output_type": "stream",
     "text": [
      "        Fecha  PORVL14_AVG\n",
      "0  2018-01-12     1.350435\n",
      "1  2018-01-13     1.167500\n",
      "2  2018-01-14     0.786667\n",
      "3  2018-01-15     0.692000\n",
      "4  2018-01-16     0.900833\n"
     ]
    }
   ],
   "source": [
    "# Reading PORVL14 average per day values\n",
    "phreatic_level_l14n1_28w_avg_pd = pd.read_csv('../../../../data/interim/PhreaticLevel/'  \\\n",
    "                    '28-weeks_January-12_August-03_2018/PhreaticLevel_By_Lots-Nodes_Average_by-day/' \\\n",
    "                    'PORVL14N1_average_per-day.csv')\n",
    "phreatic_level_l14n1_28w_avg_pd = phreatic_level_l14n1_28w_avg_pd.rename(columns={\n",
    "    'PORVL14N1':'PORVL14_AVG'\n",
    "})\n",
    "print(phreatic_level_l14n1_28w_avg_pd.head())\n",
    "# Export phreatic_level_l14n1_28w_avg_pd dataframe \n",
    "# Fecha | PORVL14 |  # Only one column one N1\n",
    "#       |       |\n",
    "phreatic_level_l14n1_28w_avg_pd.to_csv( '../../../../data/interim/PhreaticLevel/'  \\\n",
    "                            '28-weeks_January-12_August-03_2018/PhreaticLevelAverage_by-Lot/' \\\n",
    "                            'PORVL14_average_per-day.csv', sep=',', header=True, index=False)"
   ]
  },
  {
   "cell_type": "code",
   "execution_count": 26,
   "metadata": {},
   "outputs": [
    {
     "name": "stdout",
     "output_type": "stream",
     "text": [
      "        Fecha  PORVL15_AVG\n",
      "0  2018-01-12     1.082609\n",
      "1  2018-01-13     0.880000\n",
      "2  2018-01-14     0.841667\n",
      "3  2018-01-15     0.842917\n",
      "4  2018-01-16     0.962500\n"
     ]
    }
   ],
   "source": [
    "# Reading PORVL15 average per day values\n",
    "phreatic_level_l15n1_28w_avg_pd = pd.read_csv('../../../../data/interim/PhreaticLevel/'  \\\n",
    "                    '28-weeks_January-12_August-03_2018/PhreaticLevel_By_Lots-Nodes_Average_by-day/' \\\n",
    "                    'PORVL15N1_average_per-day.csv')\n",
    "phreatic_level_l15n1_28w_avg_pd = phreatic_level_l15n1_28w_avg_pd.rename(columns={\n",
    "    'PORVL15N1':'PORVL15_AVG'\n",
    "})\n",
    "print(phreatic_level_l15n1_28w_avg_pd.head())\n",
    "# Export phreatic_level_l15n1_28w_avg_pd dataframe \n",
    "# Fecha | PORVL15 |  # Only one column one N1\n",
    "#       |       |\n",
    "phreatic_level_l15n1_28w_avg_pd.to_csv( '../../../../data/interim/PhreaticLevel/'  \\\n",
    "                            '28-weeks_January-12_August-03_2018/PhreaticLevelAverage_by-Lot/' \\\n",
    "                            'PORVL15_average_per-day.csv', sep=',', header=True, index=False)"
   ]
  },
  {
   "cell_type": "markdown",
   "metadata": {},
   "source": [
    "## 3. Concatenating PORVL16N1 and PORVL16N2 average per day values"
   ]
  },
  {
   "cell_type": "markdown",
   "metadata": {},
   "source": [
    "### 3.1 Reading PORVL16N1 average per day value"
   ]
  },
  {
   "cell_type": "code",
   "execution_count": 27,
   "metadata": {},
   "outputs": [],
   "source": [
    "phreatic_level_l16n1_28w_avg_pd = pd.read_csv('../../../../data/interim/PhreaticLevel/'  \\\n",
    "                    '28-weeks_January-12_August-03_2018/PhreaticLevel_By_Lots-Nodes_Average_by-day/' \\\n",
    "                    'PORVL16N1_average_per-day.csv')"
   ]
  },
  {
   "cell_type": "code",
   "execution_count": 28,
   "metadata": {},
   "outputs": [
    {
     "name": "stdout",
     "output_type": "stream",
     "text": [
      "(204, 2)\n"
     ]
    },
    {
     "data": {
      "text/html": [
       "<div>\n",
       "<style scoped>\n",
       "    .dataframe tbody tr th:only-of-type {\n",
       "        vertical-align: middle;\n",
       "    }\n",
       "\n",
       "    .dataframe tbody tr th {\n",
       "        vertical-align: top;\n",
       "    }\n",
       "\n",
       "    .dataframe thead th {\n",
       "        text-align: right;\n",
       "    }\n",
       "</style>\n",
       "<table border=\"1\" class=\"dataframe\">\n",
       "  <thead>\n",
       "    <tr style=\"text-align: right;\">\n",
       "      <th></th>\n",
       "      <th>Fecha</th>\n",
       "      <th>PORVL16N1</th>\n",
       "    </tr>\n",
       "  </thead>\n",
       "  <tbody>\n",
       "    <tr>\n",
       "      <th>0</th>\n",
       "      <td>2018-01-12</td>\n",
       "      <td>0.883913</td>\n",
       "    </tr>\n",
       "    <tr>\n",
       "      <th>1</th>\n",
       "      <td>2018-01-13</td>\n",
       "      <td>0.682917</td>\n",
       "    </tr>\n",
       "    <tr>\n",
       "      <th>2</th>\n",
       "      <td>2018-01-14</td>\n",
       "      <td>0.607083</td>\n",
       "    </tr>\n",
       "    <tr>\n",
       "      <th>3</th>\n",
       "      <td>2018-01-15</td>\n",
       "      <td>0.667917</td>\n",
       "    </tr>\n",
       "    <tr>\n",
       "      <th>4</th>\n",
       "      <td>2018-01-16</td>\n",
       "      <td>0.813333</td>\n",
       "    </tr>\n",
       "  </tbody>\n",
       "</table>\n",
       "</div>"
      ],
      "text/plain": [
       "        Fecha  PORVL16N1\n",
       "0  2018-01-12   0.883913\n",
       "1  2018-01-13   0.682917\n",
       "2  2018-01-14   0.607083\n",
       "3  2018-01-15   0.667917\n",
       "4  2018-01-16   0.813333"
      ]
     },
     "execution_count": 28,
     "metadata": {},
     "output_type": "execute_result"
    }
   ],
   "source": [
    "print(phreatic_level_l16n1_28w_avg_pd.shape)\n",
    "phreatic_level_l16n1_28w_avg_pd.head()"
   ]
  },
  {
   "cell_type": "markdown",
   "metadata": {},
   "source": [
    "### 3.2 Reading PORVL16N2 average per day value"
   ]
  },
  {
   "cell_type": "code",
   "execution_count": 29,
   "metadata": {},
   "outputs": [],
   "source": [
    "phreatic_level_l16n2_28w_avg_pd = pd.read_csv('../../../../data/interim/PhreaticLevel/'  \\\n",
    "                    '28-weeks_January-12_August-03_2018/PhreaticLevel_By_Lots-Nodes_Average_by-day/' \\\n",
    "                    'PORVL16N2_average_per-day.csv')"
   ]
  },
  {
   "cell_type": "code",
   "execution_count": 30,
   "metadata": {},
   "outputs": [
    {
     "name": "stdout",
     "output_type": "stream",
     "text": [
      "(204, 2)\n"
     ]
    },
    {
     "data": {
      "text/html": [
       "<div>\n",
       "<style scoped>\n",
       "    .dataframe tbody tr th:only-of-type {\n",
       "        vertical-align: middle;\n",
       "    }\n",
       "\n",
       "    .dataframe tbody tr th {\n",
       "        vertical-align: top;\n",
       "    }\n",
       "\n",
       "    .dataframe thead th {\n",
       "        text-align: right;\n",
       "    }\n",
       "</style>\n",
       "<table border=\"1\" class=\"dataframe\">\n",
       "  <thead>\n",
       "    <tr style=\"text-align: right;\">\n",
       "      <th></th>\n",
       "      <th>Fecha</th>\n",
       "      <th>PORVL16N2</th>\n",
       "    </tr>\n",
       "  </thead>\n",
       "  <tbody>\n",
       "    <tr>\n",
       "      <th>0</th>\n",
       "      <td>2018-01-12</td>\n",
       "      <td>1.545217</td>\n",
       "    </tr>\n",
       "    <tr>\n",
       "      <th>1</th>\n",
       "      <td>2018-01-13</td>\n",
       "      <td>1.528750</td>\n",
       "    </tr>\n",
       "    <tr>\n",
       "      <th>2</th>\n",
       "      <td>2018-01-14</td>\n",
       "      <td>1.386667</td>\n",
       "    </tr>\n",
       "    <tr>\n",
       "      <th>3</th>\n",
       "      <td>2018-01-15</td>\n",
       "      <td>1.228750</td>\n",
       "    </tr>\n",
       "    <tr>\n",
       "      <th>4</th>\n",
       "      <td>2018-01-16</td>\n",
       "      <td>1.227083</td>\n",
       "    </tr>\n",
       "  </tbody>\n",
       "</table>\n",
       "</div>"
      ],
      "text/plain": [
       "        Fecha  PORVL16N2\n",
       "0  2018-01-12   1.545217\n",
       "1  2018-01-13   1.528750\n",
       "2  2018-01-14   1.386667\n",
       "3  2018-01-15   1.228750\n",
       "4  2018-01-16   1.227083"
      ]
     },
     "execution_count": 30,
     "metadata": {},
     "output_type": "execute_result"
    }
   ],
   "source": [
    "print(phreatic_level_l16n2_28w_avg_pd.shape)\n",
    "phreatic_level_l16n2_28w_avg_pd.head()"
   ]
  },
  {
   "cell_type": "markdown",
   "metadata": {},
   "source": [
    "### 3.3 Merging phreatic level averages per day dataframes\n",
    "\n",
    "Now, we going to merge the **`phreatic_level_l16n1_28w_avg_pd`** and **`phreatic_level_l16n2_28w_avg_pd`** dataframes"
   ]
  },
  {
   "cell_type": "code",
   "execution_count": 31,
   "metadata": {},
   "outputs": [],
   "source": [
    "# https://pandas.pydata.org/pandas-docs/stable/generated/pandas.DataFrame.merge.html\n",
    "phreatic_level_l16_28w_avg_pd = pd.merge(phreatic_level_l16n1_28w_avg_pd,phreatic_level_l16n2_28w_avg_pd, how='inner', on='Fecha')"
   ]
  },
  {
   "cell_type": "code",
   "execution_count": 32,
   "metadata": {},
   "outputs": [
    {
     "name": "stdout",
     "output_type": "stream",
     "text": [
      "(204, 3)\n"
     ]
    },
    {
     "data": {
      "text/html": [
       "<div>\n",
       "<style scoped>\n",
       "    .dataframe tbody tr th:only-of-type {\n",
       "        vertical-align: middle;\n",
       "    }\n",
       "\n",
       "    .dataframe tbody tr th {\n",
       "        vertical-align: top;\n",
       "    }\n",
       "\n",
       "    .dataframe thead th {\n",
       "        text-align: right;\n",
       "    }\n",
       "</style>\n",
       "<table border=\"1\" class=\"dataframe\">\n",
       "  <thead>\n",
       "    <tr style=\"text-align: right;\">\n",
       "      <th></th>\n",
       "      <th>Fecha</th>\n",
       "      <th>PORVL16N1</th>\n",
       "      <th>PORVL16N2</th>\n",
       "    </tr>\n",
       "  </thead>\n",
       "  <tbody>\n",
       "    <tr>\n",
       "      <th>0</th>\n",
       "      <td>2018-01-12</td>\n",
       "      <td>0.883913</td>\n",
       "      <td>1.545217</td>\n",
       "    </tr>\n",
       "    <tr>\n",
       "      <th>1</th>\n",
       "      <td>2018-01-13</td>\n",
       "      <td>0.682917</td>\n",
       "      <td>1.528750</td>\n",
       "    </tr>\n",
       "    <tr>\n",
       "      <th>2</th>\n",
       "      <td>2018-01-14</td>\n",
       "      <td>0.607083</td>\n",
       "      <td>1.386667</td>\n",
       "    </tr>\n",
       "    <tr>\n",
       "      <th>3</th>\n",
       "      <td>2018-01-15</td>\n",
       "      <td>0.667917</td>\n",
       "      <td>1.228750</td>\n",
       "    </tr>\n",
       "    <tr>\n",
       "      <th>4</th>\n",
       "      <td>2018-01-16</td>\n",
       "      <td>0.813333</td>\n",
       "      <td>1.227083</td>\n",
       "    </tr>\n",
       "  </tbody>\n",
       "</table>\n",
       "</div>"
      ],
      "text/plain": [
       "        Fecha  PORVL16N1  PORVL16N2\n",
       "0  2018-01-12   0.883913   1.545217\n",
       "1  2018-01-13   0.682917   1.528750\n",
       "2  2018-01-14   0.607083   1.386667\n",
       "3  2018-01-15   0.667917   1.228750\n",
       "4  2018-01-16   0.813333   1.227083"
      ]
     },
     "execution_count": 32,
     "metadata": {},
     "output_type": "execute_result"
    }
   ],
   "source": [
    "print(phreatic_level_l16_28w_avg_pd.shape)\n",
    "phreatic_level_l16_28w_avg_pd.head()"
   ]
  },
  {
   "cell_type": "markdown",
   "metadata": {},
   "source": [
    "### 3.4 Generating average between PORVL16N1 and PORVL16N2 values"
   ]
  },
  {
   "cell_type": "code",
   "execution_count": 33,
   "metadata": {},
   "outputs": [],
   "source": [
    "phreatic_level_l16_28w_avg_pd['PORVL16_AVG'] = phreatic_level_l16_28w_avg_pd.mean(axis=1)"
   ]
  },
  {
   "cell_type": "code",
   "execution_count": 34,
   "metadata": {},
   "outputs": [
    {
     "data": {
      "text/html": [
       "<div>\n",
       "<style scoped>\n",
       "    .dataframe tbody tr th:only-of-type {\n",
       "        vertical-align: middle;\n",
       "    }\n",
       "\n",
       "    .dataframe tbody tr th {\n",
       "        vertical-align: top;\n",
       "    }\n",
       "\n",
       "    .dataframe thead th {\n",
       "        text-align: right;\n",
       "    }\n",
       "</style>\n",
       "<table border=\"1\" class=\"dataframe\">\n",
       "  <thead>\n",
       "    <tr style=\"text-align: right;\">\n",
       "      <th></th>\n",
       "      <th>Fecha</th>\n",
       "      <th>PORVL16N1</th>\n",
       "      <th>PORVL16N2</th>\n",
       "      <th>PORVL16_AVG</th>\n",
       "    </tr>\n",
       "  </thead>\n",
       "  <tbody>\n",
       "    <tr>\n",
       "      <th>0</th>\n",
       "      <td>2018-01-12</td>\n",
       "      <td>0.883913</td>\n",
       "      <td>1.545217</td>\n",
       "      <td>1.214565</td>\n",
       "    </tr>\n",
       "    <tr>\n",
       "      <th>1</th>\n",
       "      <td>2018-01-13</td>\n",
       "      <td>0.682917</td>\n",
       "      <td>1.528750</td>\n",
       "      <td>1.105833</td>\n",
       "    </tr>\n",
       "    <tr>\n",
       "      <th>2</th>\n",
       "      <td>2018-01-14</td>\n",
       "      <td>0.607083</td>\n",
       "      <td>1.386667</td>\n",
       "      <td>0.996875</td>\n",
       "    </tr>\n",
       "    <tr>\n",
       "      <th>3</th>\n",
       "      <td>2018-01-15</td>\n",
       "      <td>0.667917</td>\n",
       "      <td>1.228750</td>\n",
       "      <td>0.948333</td>\n",
       "    </tr>\n",
       "    <tr>\n",
       "      <th>4</th>\n",
       "      <td>2018-01-16</td>\n",
       "      <td>0.813333</td>\n",
       "      <td>1.227083</td>\n",
       "      <td>1.020208</td>\n",
       "    </tr>\n",
       "  </tbody>\n",
       "</table>\n",
       "</div>"
      ],
      "text/plain": [
       "        Fecha  PORVL16N1  PORVL16N2  PORVL16_AVG\n",
       "0  2018-01-12   0.883913   1.545217     1.214565\n",
       "1  2018-01-13   0.682917   1.528750     1.105833\n",
       "2  2018-01-14   0.607083   1.386667     0.996875\n",
       "3  2018-01-15   0.667917   1.228750     0.948333\n",
       "4  2018-01-16   0.813333   1.227083     1.020208"
      ]
     },
     "execution_count": 34,
     "metadata": {},
     "output_type": "execute_result"
    }
   ],
   "source": [
    "phreatic_level_l16_28w_avg_pd.head()"
   ]
  },
  {
   "cell_type": "code",
   "execution_count": 35,
   "metadata": {},
   "outputs": [],
   "source": [
    "# Export phreatic_level_l16_28w_avg_pd dataframe \n",
    "# Fecha | PORVL16N1 | PORVL16N2 | PORVL16_AVERAGE |\n",
    "#       |          |          |                |\n",
    "phreatic_level_l16_28w_avg_pd.to_csv( '../../../../data/interim/PhreaticLevel/'  \\\n",
    "                            '28-weeks_January-12_August-03_2018/PhreaticLevelAverage_by-Lot/' \\\n",
    "                            'LOTx_N_y_AVG_x-y_table/PORVL16N1_N2_average_per-lot.csv', sep=',', header=True, index=False)\n"
   ]
  },
  {
   "cell_type": "code",
   "execution_count": 36,
   "metadata": {},
   "outputs": [
    {
     "data": {
      "text/html": [
       "<div>\n",
       "<style scoped>\n",
       "    .dataframe tbody tr th:only-of-type {\n",
       "        vertical-align: middle;\n",
       "    }\n",
       "\n",
       "    .dataframe tbody tr th {\n",
       "        vertical-align: top;\n",
       "    }\n",
       "\n",
       "    .dataframe thead th {\n",
       "        text-align: right;\n",
       "    }\n",
       "</style>\n",
       "<table border=\"1\" class=\"dataframe\">\n",
       "  <thead>\n",
       "    <tr style=\"text-align: right;\">\n",
       "      <th></th>\n",
       "      <th>Fecha</th>\n",
       "      <th>PORVL16_AVG</th>\n",
       "    </tr>\n",
       "  </thead>\n",
       "  <tbody>\n",
       "    <tr>\n",
       "      <th>0</th>\n",
       "      <td>2018-01-12</td>\n",
       "      <td>1.214565</td>\n",
       "    </tr>\n",
       "    <tr>\n",
       "      <th>1</th>\n",
       "      <td>2018-01-13</td>\n",
       "      <td>1.105833</td>\n",
       "    </tr>\n",
       "    <tr>\n",
       "      <th>2</th>\n",
       "      <td>2018-01-14</td>\n",
       "      <td>0.996875</td>\n",
       "    </tr>\n",
       "    <tr>\n",
       "      <th>3</th>\n",
       "      <td>2018-01-15</td>\n",
       "      <td>0.948333</td>\n",
       "    </tr>\n",
       "    <tr>\n",
       "      <th>4</th>\n",
       "      <td>2018-01-16</td>\n",
       "      <td>1.020208</td>\n",
       "    </tr>\n",
       "  </tbody>\n",
       "</table>\n",
       "</div>"
      ],
      "text/plain": [
       "        Fecha  PORVL16_AVG\n",
       "0  2018-01-12     1.214565\n",
       "1  2018-01-13     1.105833\n",
       "2  2018-01-14     0.996875\n",
       "3  2018-01-15     0.948333\n",
       "4  2018-01-16     1.020208"
      ]
     },
     "execution_count": 36,
     "metadata": {},
     "output_type": "execute_result"
    }
   ],
   "source": [
    "phreatic_level_l16_28w_avg_pd = phreatic_level_l16_28w_avg_pd[['Fecha','PORVL16_AVG']]\n",
    "phreatic_level_l16_28w_avg_pd.head()"
   ]
  },
  {
   "cell_type": "code",
   "execution_count": 37,
   "metadata": {},
   "outputs": [],
   "source": [
    "# Export phreatic_level_l16_28w_avg_pd dataframe \n",
    "# Fecha | PORVL16_AVERAGE |\n",
    "#       |                |\n",
    "phreatic_level_l16_28w_avg_pd.to_csv( '../../../../data/interim/PhreaticLevel/'  \\\n",
    "                            '28-weeks_January-12_August-03_2018/PhreaticLevelAverage_by-Lot/' \\\n",
    "                            'PORVL16_average_per-day.csv', sep=',', header=True, index=False)\n",
    "\n"
   ]
  },
  {
   "cell_type": "markdown",
   "metadata": {},
   "source": [
    "## 4. Concatenating PORVL18 Nodes 1,2,3,4 average per day values"
   ]
  },
  {
   "cell_type": "markdown",
   "metadata": {},
   "source": [
    "### 4.1. Reading PORVL18N1 PORVL18N2, PORVL18N3 and PORVL18N4 average per day values"
   ]
  },
  {
   "cell_type": "code",
   "execution_count": 38,
   "metadata": {},
   "outputs": [],
   "source": [
    "phreatic_level_l18n1_28w_avg_pd = pd.read_csv('../../../../data/interim/PhreaticLevel/'  \\\n",
    "                    '28-weeks_January-12_August-03_2018/PhreaticLevel_By_Lots-Nodes_Average_by-day/' \\\n",
    "                    'PORVL18N1_average_per-day.csv')\n",
    "\n",
    "phreatic_level_l18n2_28w_avg_pd = pd.read_csv('../../../../data/interim/PhreaticLevel/'  \\\n",
    "                    '28-weeks_January-12_August-03_2018/PhreaticLevel_By_Lots-Nodes_Average_by-day/' \\\n",
    "                    'PORVL18N2_average_per-day.csv')\n",
    "\n",
    "phreatic_level_l18n3_28w_avg_pd = pd.read_csv('../../../../data/interim/PhreaticLevel/'  \\\n",
    "                    '28-weeks_January-12_August-03_2018/PhreaticLevel_By_Lots-Nodes_Average_by-day/' \\\n",
    "                    'PORVL18N3_average_per-day.csv')\n",
    "\n",
    "phreatic_level_l18n4_28w_avg_pd = pd.read_csv('../../../../data/interim/PhreaticLevel/'  \\\n",
    "                    '28-weeks_January-12_August-03_2018/PhreaticLevel_By_Lots-Nodes_Average_by-day/' \\\n",
    "                    'PORVL18N4_average_per-day.csv')"
   ]
  },
  {
   "cell_type": "markdown",
   "metadata": {},
   "source": [
    "### 4.2 Merging phreatic level averages per day dataframes\n",
    "\n",
    "Now, we going to merge the **`phreatic_level_l18n1_28w_avg_pd`**, \n",
    "\n",
    "**`phreatic_level_l18n2_28w_avg_pd`**, **`phreatic_level_l18n3_28w_avg_pd`**\n",
    "\n",
    "and **`phreatic_level_l18n4_28w_avg_pd`** dataframes "
   ]
  },
  {
   "cell_type": "code",
   "execution_count": 39,
   "metadata": {},
   "outputs": [
    {
     "ename": "TypeError",
     "evalue": "merge() got multiple values for argument 'how'",
     "output_type": "error",
     "traceback": [
      "\u001b[0;31m---------------------------------------------------------------------------\u001b[0m",
      "\u001b[0;31mTypeError\u001b[0m                                 Traceback (most recent call last)",
      "\u001b[0;32m<ipython-input-39-00e988710e1c>\u001b[0m in \u001b[0;36m<module>\u001b[0;34m()\u001b[0m\n\u001b[1;32m      1\u001b[0m \u001b[0;31m# https://pandas.pydata.org/pandas-docs/stable/generated/pandas.DataFrame.merge.html\u001b[0m\u001b[0;34m\u001b[0m\u001b[0;34m\u001b[0m\u001b[0m\n\u001b[0;32m----> 2\u001b[0;31m \u001b[0mphreatic_level_l18_28w_avg_pd\u001b[0m \u001b[0;34m=\u001b[0m \u001b[0mpd\u001b[0m\u001b[0;34m.\u001b[0m\u001b[0mmerge\u001b[0m\u001b[0;34m(\u001b[0m\u001b[0mphreatic_level_l18n1_28w_avg_pd\u001b[0m\u001b[0;34m,\u001b[0m \u001b[0mphreatic_level_l18n2_28w_avg_pd\u001b[0m\u001b[0;34m,\u001b[0m \u001b[0mphreatic_level_l18n3_28w_avg_pd\u001b[0m\u001b[0;34m,\u001b[0m \u001b[0mphreatic_level_l18n4_28w_avg_pd\u001b[0m\u001b[0;34m,\u001b[0m \u001b[0mhow\u001b[0m\u001b[0;34m=\u001b[0m\u001b[0;34m'inner'\u001b[0m\u001b[0;34m,\u001b[0m \u001b[0mon\u001b[0m\u001b[0;34m=\u001b[0m\u001b[0;34m'Fecha'\u001b[0m\u001b[0;34m)\u001b[0m\u001b[0;34m\u001b[0m\u001b[0m\n\u001b[0m",
      "\u001b[0;31mTypeError\u001b[0m: merge() got multiple values for argument 'how'"
     ]
    }
   ],
   "source": [
    "# https://pandas.pydata.org/pandas-docs/stable/generated/pandas.DataFrame.merge.html\n",
    "phreatic_level_l18_28w_avg_pd = pd.merge(phreatic_level_l18n1_28w_avg_pd, phreatic_level_l18n2_28w_avg_pd, phreatic_level_l18n3_28w_avg_pd, phreatic_level_l18n4_28w_avg_pd, how='inner', on='Fecha')"
   ]
  },
  {
   "cell_type": "markdown",
   "metadata": {},
   "source": [
    "**`pd.merge`** can merge only two DataFrames. The third parameter (`phreatic_level_l18n3_28w_avg_pd` in my case) is interpreted as `\"how.\"` I also supply the named `how='outer'`, and that's why I see the error message. \n",
    "\n",
    "Solution to my problem: `merge` the first two DataFrames, then merge the result with the third and fourth one."
   ]
  },
  {
   "cell_type": "markdown",
   "metadata": {},
   "source": [
    "- We merge initally the `phreatic_level_l18n1_28w_avg_pd` and `phreatic_level_l18n1_28w_avg_pd` dataframes "
   ]
  },
  {
   "cell_type": "code",
   "execution_count": 40,
   "metadata": {},
   "outputs": [],
   "source": [
    "# https://pandas.pydata.org/pandas-docs/stable/generated/pandas.DataFrame.merge.html\n",
    "phreatic_level_l18_n1_n2_28w_avg_pd = pd.merge(phreatic_level_l18n1_28w_avg_pd, phreatic_level_l18n2_28w_avg_pd, how='inner', on='Fecha')"
   ]
  },
  {
   "cell_type": "code",
   "execution_count": 41,
   "metadata": {},
   "outputs": [
    {
     "data": {
      "text/html": [
       "<div>\n",
       "<style scoped>\n",
       "    .dataframe tbody tr th:only-of-type {\n",
       "        vertical-align: middle;\n",
       "    }\n",
       "\n",
       "    .dataframe tbody tr th {\n",
       "        vertical-align: top;\n",
       "    }\n",
       "\n",
       "    .dataframe thead th {\n",
       "        text-align: right;\n",
       "    }\n",
       "</style>\n",
       "<table border=\"1\" class=\"dataframe\">\n",
       "  <thead>\n",
       "    <tr style=\"text-align: right;\">\n",
       "      <th></th>\n",
       "      <th>Fecha</th>\n",
       "      <th>PORVL18N1</th>\n",
       "      <th>PORVL18N2</th>\n",
       "    </tr>\n",
       "  </thead>\n",
       "  <tbody>\n",
       "    <tr>\n",
       "      <th>0</th>\n",
       "      <td>2018-01-12</td>\n",
       "      <td>1.01</td>\n",
       "      <td>0.803043</td>\n",
       "    </tr>\n",
       "    <tr>\n",
       "      <th>1</th>\n",
       "      <td>2018-01-13</td>\n",
       "      <td>1.01</td>\n",
       "      <td>0.397083</td>\n",
       "    </tr>\n",
       "    <tr>\n",
       "      <th>2</th>\n",
       "      <td>2018-01-14</td>\n",
       "      <td>1.01</td>\n",
       "      <td>0.290000</td>\n",
       "    </tr>\n",
       "    <tr>\n",
       "      <th>3</th>\n",
       "      <td>2018-01-15</td>\n",
       "      <td>1.01</td>\n",
       "      <td>0.379167</td>\n",
       "    </tr>\n",
       "    <tr>\n",
       "      <th>4</th>\n",
       "      <td>2018-01-16</td>\n",
       "      <td>1.01</td>\n",
       "      <td>0.582083</td>\n",
       "    </tr>\n",
       "  </tbody>\n",
       "</table>\n",
       "</div>"
      ],
      "text/plain": [
       "        Fecha  PORVL18N1  PORVL18N2\n",
       "0  2018-01-12       1.01   0.803043\n",
       "1  2018-01-13       1.01   0.397083\n",
       "2  2018-01-14       1.01   0.290000\n",
       "3  2018-01-15       1.01   0.379167\n",
       "4  2018-01-16       1.01   0.582083"
      ]
     },
     "execution_count": 41,
     "metadata": {},
     "output_type": "execute_result"
    }
   ],
   "source": [
    "phreatic_level_l18_n1_n2_28w_avg_pd.head()"
   ]
  },
  {
   "cell_type": "markdown",
   "metadata": {},
   "source": [
    "- Now, we merge the `phreatic_level_l18n3_28w_avg_pd` and `phreatic_level_l18n4_28w_avg_pd` dataframes "
   ]
  },
  {
   "cell_type": "code",
   "execution_count": 42,
   "metadata": {},
   "outputs": [],
   "source": [
    "phreatic_level_l18_n3_n4_28w_avg_pd = pd.merge(phreatic_level_l18n3_28w_avg_pd, phreatic_level_l18n4_28w_avg_pd, how='inner', on='Fecha')"
   ]
  },
  {
   "cell_type": "code",
   "execution_count": 43,
   "metadata": {},
   "outputs": [
    {
     "data": {
      "text/html": [
       "<div>\n",
       "<style scoped>\n",
       "    .dataframe tbody tr th:only-of-type {\n",
       "        vertical-align: middle;\n",
       "    }\n",
       "\n",
       "    .dataframe tbody tr th {\n",
       "        vertical-align: top;\n",
       "    }\n",
       "\n",
       "    .dataframe thead th {\n",
       "        text-align: right;\n",
       "    }\n",
       "</style>\n",
       "<table border=\"1\" class=\"dataframe\">\n",
       "  <thead>\n",
       "    <tr style=\"text-align: right;\">\n",
       "      <th></th>\n",
       "      <th>Fecha</th>\n",
       "      <th>PORVL18N3</th>\n",
       "      <th>PORVL18N4</th>\n",
       "    </tr>\n",
       "  </thead>\n",
       "  <tbody>\n",
       "    <tr>\n",
       "      <th>0</th>\n",
       "      <td>2018-01-12</td>\n",
       "      <td>1.241739</td>\n",
       "      <td>1.032174</td>\n",
       "    </tr>\n",
       "    <tr>\n",
       "      <th>1</th>\n",
       "      <td>2018-01-13</td>\n",
       "      <td>0.955833</td>\n",
       "      <td>0.864583</td>\n",
       "    </tr>\n",
       "    <tr>\n",
       "      <th>2</th>\n",
       "      <td>2018-01-14</td>\n",
       "      <td>0.659167</td>\n",
       "      <td>0.735417</td>\n",
       "    </tr>\n",
       "    <tr>\n",
       "      <th>3</th>\n",
       "      <td>2018-01-15</td>\n",
       "      <td>0.808750</td>\n",
       "      <td>0.828333</td>\n",
       "    </tr>\n",
       "    <tr>\n",
       "      <th>4</th>\n",
       "      <td>2018-01-16</td>\n",
       "      <td>0.995417</td>\n",
       "      <td>0.890833</td>\n",
       "    </tr>\n",
       "  </tbody>\n",
       "</table>\n",
       "</div>"
      ],
      "text/plain": [
       "        Fecha  PORVL18N3  PORVL18N4\n",
       "0  2018-01-12   1.241739   1.032174\n",
       "1  2018-01-13   0.955833   0.864583\n",
       "2  2018-01-14   0.659167   0.735417\n",
       "3  2018-01-15   0.808750   0.828333\n",
       "4  2018-01-16   0.995417   0.890833"
      ]
     },
     "execution_count": 43,
     "metadata": {},
     "output_type": "execute_result"
    }
   ],
   "source": [
    "phreatic_level_l18_n3_n4_28w_avg_pd.head()"
   ]
  },
  {
   "cell_type": "markdown",
   "metadata": {},
   "source": [
    "- And then, we merge the `phreatic_level_l18_n1_n2_28w_avg_pd` and `phreatic_level_l18_n3_n4_28w_avg_pd` dataframes to compose the following dataframe\n",
    "\n",
    "```\n",
    "# Fecha | PORVL18N1 | PORVL18N2 | PORVL18N3 | PORVL18N4 |\n",
    "#       |          |          |             |           |\n",
    "```"
   ]
  },
  {
   "cell_type": "code",
   "execution_count": 44,
   "metadata": {},
   "outputs": [],
   "source": [
    "phreatic_level_l18_28w_avg_pd = pd.merge(phreatic_level_l18_n1_n2_28w_avg_pd, phreatic_level_l18_n3_n4_28w_avg_pd, how='inner', on='Fecha')"
   ]
  },
  {
   "cell_type": "code",
   "execution_count": 45,
   "metadata": {},
   "outputs": [
    {
     "data": {
      "text/html": [
       "<div>\n",
       "<style scoped>\n",
       "    .dataframe tbody tr th:only-of-type {\n",
       "        vertical-align: middle;\n",
       "    }\n",
       "\n",
       "    .dataframe tbody tr th {\n",
       "        vertical-align: top;\n",
       "    }\n",
       "\n",
       "    .dataframe thead th {\n",
       "        text-align: right;\n",
       "    }\n",
       "</style>\n",
       "<table border=\"1\" class=\"dataframe\">\n",
       "  <thead>\n",
       "    <tr style=\"text-align: right;\">\n",
       "      <th></th>\n",
       "      <th>Fecha</th>\n",
       "      <th>PORVL18N1</th>\n",
       "      <th>PORVL18N2</th>\n",
       "      <th>PORVL18N3</th>\n",
       "      <th>PORVL18N4</th>\n",
       "    </tr>\n",
       "  </thead>\n",
       "  <tbody>\n",
       "    <tr>\n",
       "      <th>0</th>\n",
       "      <td>2018-01-12</td>\n",
       "      <td>1.01</td>\n",
       "      <td>0.803043</td>\n",
       "      <td>1.241739</td>\n",
       "      <td>1.032174</td>\n",
       "    </tr>\n",
       "    <tr>\n",
       "      <th>1</th>\n",
       "      <td>2018-01-13</td>\n",
       "      <td>1.01</td>\n",
       "      <td>0.397083</td>\n",
       "      <td>0.955833</td>\n",
       "      <td>0.864583</td>\n",
       "    </tr>\n",
       "    <tr>\n",
       "      <th>2</th>\n",
       "      <td>2018-01-14</td>\n",
       "      <td>1.01</td>\n",
       "      <td>0.290000</td>\n",
       "      <td>0.659167</td>\n",
       "      <td>0.735417</td>\n",
       "    </tr>\n",
       "    <tr>\n",
       "      <th>3</th>\n",
       "      <td>2018-01-15</td>\n",
       "      <td>1.01</td>\n",
       "      <td>0.379167</td>\n",
       "      <td>0.808750</td>\n",
       "      <td>0.828333</td>\n",
       "    </tr>\n",
       "    <tr>\n",
       "      <th>4</th>\n",
       "      <td>2018-01-16</td>\n",
       "      <td>1.01</td>\n",
       "      <td>0.582083</td>\n",
       "      <td>0.995417</td>\n",
       "      <td>0.890833</td>\n",
       "    </tr>\n",
       "  </tbody>\n",
       "</table>\n",
       "</div>"
      ],
      "text/plain": [
       "        Fecha  PORVL18N1  PORVL18N2  PORVL18N3  PORVL18N4\n",
       "0  2018-01-12       1.01   0.803043   1.241739   1.032174\n",
       "1  2018-01-13       1.01   0.397083   0.955833   0.864583\n",
       "2  2018-01-14       1.01   0.290000   0.659167   0.735417\n",
       "3  2018-01-15       1.01   0.379167   0.808750   0.828333\n",
       "4  2018-01-16       1.01   0.582083   0.995417   0.890833"
      ]
     },
     "execution_count": 45,
     "metadata": {},
     "output_type": "execute_result"
    }
   ],
   "source": [
    "phreatic_level_l18_28w_avg_pd.head()"
   ]
  },
  {
   "cell_type": "markdown",
   "metadata": {},
   "source": [
    "### 4.3 Generating average between PORVL18N1, PORVL18N2, PORVL18N3 and PORVL18N4 values"
   ]
  },
  {
   "cell_type": "code",
   "execution_count": 46,
   "metadata": {},
   "outputs": [],
   "source": [
    "phreatic_level_l18_28w_avg_pd['PORVL18_AVG'] = phreatic_level_l18_28w_avg_pd.mean(axis=1)"
   ]
  },
  {
   "cell_type": "code",
   "execution_count": 47,
   "metadata": {},
   "outputs": [
    {
     "data": {
      "text/html": [
       "<div>\n",
       "<style scoped>\n",
       "    .dataframe tbody tr th:only-of-type {\n",
       "        vertical-align: middle;\n",
       "    }\n",
       "\n",
       "    .dataframe tbody tr th {\n",
       "        vertical-align: top;\n",
       "    }\n",
       "\n",
       "    .dataframe thead th {\n",
       "        text-align: right;\n",
       "    }\n",
       "</style>\n",
       "<table border=\"1\" class=\"dataframe\">\n",
       "  <thead>\n",
       "    <tr style=\"text-align: right;\">\n",
       "      <th></th>\n",
       "      <th>Fecha</th>\n",
       "      <th>PORVL18N1</th>\n",
       "      <th>PORVL18N2</th>\n",
       "      <th>PORVL18N3</th>\n",
       "      <th>PORVL18N4</th>\n",
       "      <th>PORVL18_AVG</th>\n",
       "    </tr>\n",
       "  </thead>\n",
       "  <tbody>\n",
       "    <tr>\n",
       "      <th>0</th>\n",
       "      <td>2018-01-12</td>\n",
       "      <td>1.01</td>\n",
       "      <td>0.803043</td>\n",
       "      <td>1.241739</td>\n",
       "      <td>1.032174</td>\n",
       "      <td>1.021739</td>\n",
       "    </tr>\n",
       "    <tr>\n",
       "      <th>1</th>\n",
       "      <td>2018-01-13</td>\n",
       "      <td>1.01</td>\n",
       "      <td>0.397083</td>\n",
       "      <td>0.955833</td>\n",
       "      <td>0.864583</td>\n",
       "      <td>0.806875</td>\n",
       "    </tr>\n",
       "    <tr>\n",
       "      <th>2</th>\n",
       "      <td>2018-01-14</td>\n",
       "      <td>1.01</td>\n",
       "      <td>0.290000</td>\n",
       "      <td>0.659167</td>\n",
       "      <td>0.735417</td>\n",
       "      <td>0.673646</td>\n",
       "    </tr>\n",
       "    <tr>\n",
       "      <th>3</th>\n",
       "      <td>2018-01-15</td>\n",
       "      <td>1.01</td>\n",
       "      <td>0.379167</td>\n",
       "      <td>0.808750</td>\n",
       "      <td>0.828333</td>\n",
       "      <td>0.756563</td>\n",
       "    </tr>\n",
       "    <tr>\n",
       "      <th>4</th>\n",
       "      <td>2018-01-16</td>\n",
       "      <td>1.01</td>\n",
       "      <td>0.582083</td>\n",
       "      <td>0.995417</td>\n",
       "      <td>0.890833</td>\n",
       "      <td>0.869583</td>\n",
       "    </tr>\n",
       "  </tbody>\n",
       "</table>\n",
       "</div>"
      ],
      "text/plain": [
       "        Fecha  PORVL18N1  PORVL18N2  PORVL18N3  PORVL18N4  PORVL18_AVG\n",
       "0  2018-01-12       1.01   0.803043   1.241739   1.032174     1.021739\n",
       "1  2018-01-13       1.01   0.397083   0.955833   0.864583     0.806875\n",
       "2  2018-01-14       1.01   0.290000   0.659167   0.735417     0.673646\n",
       "3  2018-01-15       1.01   0.379167   0.808750   0.828333     0.756563\n",
       "4  2018-01-16       1.01   0.582083   0.995417   0.890833     0.869583"
      ]
     },
     "execution_count": 47,
     "metadata": {},
     "output_type": "execute_result"
    }
   ],
   "source": [
    "phreatic_level_l18_28w_avg_pd.head()"
   ]
  },
  {
   "cell_type": "code",
   "execution_count": 48,
   "metadata": {},
   "outputs": [],
   "source": [
    "# Export phreatic_level_l18_28w_avg_pd dataframe \n",
    "# Fecha | PORVL18N1 | PORVL18N2 | PORVL18N3 | PORVL18N4 | PORVL18_AVG |\n",
    "#       |          |          |             |           |                 |\n",
    "phreatic_level_l18_28w_avg_pd.to_csv( '../../../../data/interim/PhreaticLevel/'  \\\n",
    "                            '28-weeks_January-12_August-03_2018/PhreaticLevelAverage_by-Lot/' \\\n",
    "                            'LOTx_N_y_AVG_x-y_table/PORVL18N1_N2_N3_N4_average_per-lot.csv', \n",
    "                                     sep=',', header=True, index=False)"
   ]
  },
  {
   "cell_type": "code",
   "execution_count": 49,
   "metadata": {},
   "outputs": [
    {
     "name": "stdout",
     "output_type": "stream",
     "text": [
      "        Fecha  PORVL18_AVG\n",
      "0  2018-01-12     1.021739\n",
      "1  2018-01-13     0.806875\n",
      "2  2018-01-14     0.673646\n",
      "3  2018-01-15     0.756563\n",
      "4  2018-01-16     0.869583\n"
     ]
    }
   ],
   "source": [
    "phreatic_level_l18_28w_avg_pd = phreatic_level_l18_28w_avg_pd[['Fecha', 'PORVL18_AVG']]\n",
    "print(phreatic_level_l18_28w_avg_pd.head())\n",
    "\n",
    "# Export phreatic_level_l18_28w_avg_pd dataframe \n",
    "# Fecha | PORVL18_AVG |\n",
    "#       |                |\n",
    "phreatic_level_l18_28w_avg_pd.to_csv( '../../../../data/interim/PhreaticLevel/'  \\\n",
    "                            '28-weeks_January-12_August-03_2018/PhreaticLevelAverage_by-Lot/' \\\n",
    "                            'PORVL18_average_per-day.csv', sep=',', header=True, index=False)\n"
   ]
  },
  {
   "cell_type": "markdown",
   "metadata": {},
   "source": [
    "## 5. Concatenating PORVL21 Nodes 1,2,3,4,5 average per day values"
   ]
  },
  {
   "cell_type": "markdown",
   "metadata": {},
   "source": [
    "#### 5.1 Reading PORVL21N1, PORVL21N2, PORVL21N3, PORVL21N4 and PORVL21N5 average per day values"
   ]
  },
  {
   "cell_type": "code",
   "execution_count": 50,
   "metadata": {},
   "outputs": [],
   "source": [
    "phreatic_level_l21n1_28w_avg_pd = pd.read_csv('../../../../data/interim/PhreaticLevel/'  \\\n",
    "                    '28-weeks_January-12_August-03_2018/PhreaticLevel_By_Lots-Nodes_Average_by-day/' \\\n",
    "                    'PORVL21N1_average_per-day.csv')\n",
    "\n",
    "phreatic_level_l21n2_28w_avg_pd = pd.read_csv('../../../../data/interim/PhreaticLevel/'  \\\n",
    "                    '28-weeks_January-12_August-03_2018/PhreaticLevel_By_Lots-Nodes_Average_by-day/' \\\n",
    "                    'PORVL21N2_average_per-day.csv')\n",
    "\n",
    "phreatic_level_l21n3_28w_avg_pd = pd.read_csv('../../../../data/interim/PhreaticLevel/'  \\\n",
    "                    '28-weeks_January-12_August-03_2018/PhreaticLevel_By_Lots-Nodes_Average_by-day/' \\\n",
    "                    'PORVL21N3_average_per-day.csv')\n",
    "\n",
    "phreatic_level_l21n4_28w_avg_pd = pd.read_csv('../../../../data/interim/PhreaticLevel/'  \\\n",
    "                    '28-weeks_January-12_August-03_2018/PhreaticLevel_By_Lots-Nodes_Average_by-day/' \\\n",
    "                    'PORVL21N4_average_per-day.csv')\n",
    "\n",
    "phreatic_level_l21n5_28w_avg_pd = pd.read_csv('../../../../data/interim/PhreaticLevel/'  \\\n",
    "                    '28-weeks_January-12_August-03_2018/PhreaticLevel_By_Lots-Nodes_Average_by-day/' \\\n",
    "                    'PORVL21N5_average_per-day.csv')\n"
   ]
  },
  {
   "cell_type": "markdown",
   "metadata": {},
   "source": [
    "### 5.2 Merging phreatic level averages per day dataframes\n",
    "\n",
    "- We merge initally the `phreatic_level_l21n1_28w_avg_pd` and `phreatic_level_l21n2_28w_avg_pd` dataframes "
   ]
  },
  {
   "cell_type": "code",
   "execution_count": 51,
   "metadata": {},
   "outputs": [],
   "source": [
    "# https://pandas.pydata.org/pandas-docs/stable/generated/pandas.DataFrame.merge.html\n",
    "phreatic_level_l21_n1_n2_28w_avg_pd = pd.merge(phreatic_level_l21n1_28w_avg_pd, phreatic_level_l21n2_28w_avg_pd, how='inner', on='Fecha')"
   ]
  },
  {
   "cell_type": "code",
   "execution_count": 52,
   "metadata": {},
   "outputs": [
    {
     "data": {
      "text/html": [
       "<div>\n",
       "<style scoped>\n",
       "    .dataframe tbody tr th:only-of-type {\n",
       "        vertical-align: middle;\n",
       "    }\n",
       "\n",
       "    .dataframe tbody tr th {\n",
       "        vertical-align: top;\n",
       "    }\n",
       "\n",
       "    .dataframe thead th {\n",
       "        text-align: right;\n",
       "    }\n",
       "</style>\n",
       "<table border=\"1\" class=\"dataframe\">\n",
       "  <thead>\n",
       "    <tr style=\"text-align: right;\">\n",
       "      <th></th>\n",
       "      <th>Fecha</th>\n",
       "      <th>PORVL21N1</th>\n",
       "      <th>PORVL21N2</th>\n",
       "    </tr>\n",
       "  </thead>\n",
       "  <tbody>\n",
       "    <tr>\n",
       "      <th>0</th>\n",
       "      <td>2018-01-12</td>\n",
       "      <td>1.489565</td>\n",
       "      <td>1.079130</td>\n",
       "    </tr>\n",
       "    <tr>\n",
       "      <th>1</th>\n",
       "      <td>2018-01-13</td>\n",
       "      <td>1.151250</td>\n",
       "      <td>0.856250</td>\n",
       "    </tr>\n",
       "    <tr>\n",
       "      <th>2</th>\n",
       "      <td>2018-01-14</td>\n",
       "      <td>1.022083</td>\n",
       "      <td>0.729583</td>\n",
       "    </tr>\n",
       "    <tr>\n",
       "      <th>3</th>\n",
       "      <td>2018-01-15</td>\n",
       "      <td>1.087500</td>\n",
       "      <td>0.824583</td>\n",
       "    </tr>\n",
       "    <tr>\n",
       "      <th>4</th>\n",
       "      <td>2018-01-16</td>\n",
       "      <td>1.232083</td>\n",
       "      <td>0.997917</td>\n",
       "    </tr>\n",
       "  </tbody>\n",
       "</table>\n",
       "</div>"
      ],
      "text/plain": [
       "        Fecha  PORVL21N1  PORVL21N2\n",
       "0  2018-01-12   1.489565   1.079130\n",
       "1  2018-01-13   1.151250   0.856250\n",
       "2  2018-01-14   1.022083   0.729583\n",
       "3  2018-01-15   1.087500   0.824583\n",
       "4  2018-01-16   1.232083   0.997917"
      ]
     },
     "execution_count": 52,
     "metadata": {},
     "output_type": "execute_result"
    }
   ],
   "source": [
    "phreatic_level_l21_n1_n2_28w_avg_pd.head()"
   ]
  },
  {
   "cell_type": "markdown",
   "metadata": {},
   "source": [
    "- Now, we merge the `phreatic_level_l21n3_28w_avg_pd` and `phreatic_level_l21n4_28w_avg_pd` dataframes"
   ]
  },
  {
   "cell_type": "code",
   "execution_count": 53,
   "metadata": {},
   "outputs": [],
   "source": [
    "# https://pandas.pydata.org/pandas-docs/stable/generated/pandas.DataFrame.merge.html\n",
    "phreatic_level_l21_n3_n4_28w_avg_pd = pd.merge(phreatic_level_l21n3_28w_avg_pd, phreatic_level_l21n4_28w_avg_pd, how='inner', on='Fecha')"
   ]
  },
  {
   "cell_type": "markdown",
   "metadata": {},
   "source": [
    "- Now, we merge the `phreatic_level_l21_n1_n2_28w_avg_pd` with `phreatic_level_l21_n3_n4_28w_avg_pd`"
   ]
  },
  {
   "cell_type": "code",
   "execution_count": 54,
   "metadata": {},
   "outputs": [],
   "source": [
    "phreatic_level_l21_n1_n2_n3_n4_28w_avg_pd = pd.merge(phreatic_level_l21_n1_n2_28w_avg_pd, phreatic_level_l21_n3_n4_28w_avg_pd, how='inner', on='Fecha')"
   ]
  },
  {
   "cell_type": "code",
   "execution_count": 55,
   "metadata": {},
   "outputs": [
    {
     "data": {
      "text/html": [
       "<div>\n",
       "<style scoped>\n",
       "    .dataframe tbody tr th:only-of-type {\n",
       "        vertical-align: middle;\n",
       "    }\n",
       "\n",
       "    .dataframe tbody tr th {\n",
       "        vertical-align: top;\n",
       "    }\n",
       "\n",
       "    .dataframe thead th {\n",
       "        text-align: right;\n",
       "    }\n",
       "</style>\n",
       "<table border=\"1\" class=\"dataframe\">\n",
       "  <thead>\n",
       "    <tr style=\"text-align: right;\">\n",
       "      <th></th>\n",
       "      <th>Fecha</th>\n",
       "      <th>PORVL21N1</th>\n",
       "      <th>PORVL21N2</th>\n",
       "      <th>PORVL21N3</th>\n",
       "      <th>PORVL21N4</th>\n",
       "    </tr>\n",
       "  </thead>\n",
       "  <tbody>\n",
       "    <tr>\n",
       "      <th>0</th>\n",
       "      <td>2018-01-12</td>\n",
       "      <td>1.489565</td>\n",
       "      <td>1.079130</td>\n",
       "      <td>0.944783</td>\n",
       "      <td>0.892174</td>\n",
       "    </tr>\n",
       "    <tr>\n",
       "      <th>1</th>\n",
       "      <td>2018-01-13</td>\n",
       "      <td>1.151250</td>\n",
       "      <td>0.856250</td>\n",
       "      <td>0.668333</td>\n",
       "      <td>0.581667</td>\n",
       "    </tr>\n",
       "    <tr>\n",
       "      <th>2</th>\n",
       "      <td>2018-01-14</td>\n",
       "      <td>1.022083</td>\n",
       "      <td>0.729583</td>\n",
       "      <td>0.520833</td>\n",
       "      <td>0.502500</td>\n",
       "    </tr>\n",
       "    <tr>\n",
       "      <th>3</th>\n",
       "      <td>2018-01-15</td>\n",
       "      <td>1.087500</td>\n",
       "      <td>0.824583</td>\n",
       "      <td>0.656250</td>\n",
       "      <td>0.655000</td>\n",
       "    </tr>\n",
       "    <tr>\n",
       "      <th>4</th>\n",
       "      <td>2018-01-16</td>\n",
       "      <td>1.232083</td>\n",
       "      <td>0.997917</td>\n",
       "      <td>0.786250</td>\n",
       "      <td>0.797083</td>\n",
       "    </tr>\n",
       "  </tbody>\n",
       "</table>\n",
       "</div>"
      ],
      "text/plain": [
       "        Fecha  PORVL21N1  PORVL21N2  PORVL21N3  PORVL21N4\n",
       "0  2018-01-12   1.489565   1.079130   0.944783   0.892174\n",
       "1  2018-01-13   1.151250   0.856250   0.668333   0.581667\n",
       "2  2018-01-14   1.022083   0.729583   0.520833   0.502500\n",
       "3  2018-01-15   1.087500   0.824583   0.656250   0.655000\n",
       "4  2018-01-16   1.232083   0.997917   0.786250   0.797083"
      ]
     },
     "execution_count": 55,
     "metadata": {},
     "output_type": "execute_result"
    }
   ],
   "source": [
    "phreatic_level_l21_n1_n2_n3_n4_28w_avg_pd.head()"
   ]
  },
  {
   "cell_type": "markdown",
   "metadata": {},
   "source": [
    "- Now, we merge the `phreatic_level_l21_n1_n2_n3_n4_28w_avg_pd` with `phreatic_level_l21_n5_28w_avg_pd`\n",
    "\n",
    "```\n",
    "# Export phreatic_level_l18_28w_avg_pd dataframe \n",
    "# Fecha | PORVL21N1 | PORVL21N2 | PORVL21N3 | PORVL21N4 | PORVL21N5 | \n",
    "#       |          |          |             |           |           | \n",
    "```\n"
   ]
  },
  {
   "cell_type": "code",
   "execution_count": 56,
   "metadata": {},
   "outputs": [],
   "source": [
    "phreatic_level_l21_28w_avg_pd = pd.merge(phreatic_level_l21_n1_n2_n3_n4_28w_avg_pd, phreatic_level_l21n5_28w_avg_pd, how='inner', on='Fecha')"
   ]
  },
  {
   "cell_type": "code",
   "execution_count": 57,
   "metadata": {},
   "outputs": [
    {
     "data": {
      "text/html": [
       "<div>\n",
       "<style scoped>\n",
       "    .dataframe tbody tr th:only-of-type {\n",
       "        vertical-align: middle;\n",
       "    }\n",
       "\n",
       "    .dataframe tbody tr th {\n",
       "        vertical-align: top;\n",
       "    }\n",
       "\n",
       "    .dataframe thead th {\n",
       "        text-align: right;\n",
       "    }\n",
       "</style>\n",
       "<table border=\"1\" class=\"dataframe\">\n",
       "  <thead>\n",
       "    <tr style=\"text-align: right;\">\n",
       "      <th></th>\n",
       "      <th>Fecha</th>\n",
       "      <th>PORVL21N1</th>\n",
       "      <th>PORVL21N2</th>\n",
       "      <th>PORVL21N3</th>\n",
       "      <th>PORVL21N4</th>\n",
       "      <th>PORVL21N5</th>\n",
       "    </tr>\n",
       "  </thead>\n",
       "  <tbody>\n",
       "    <tr>\n",
       "      <th>0</th>\n",
       "      <td>2018-01-12</td>\n",
       "      <td>1.489565</td>\n",
       "      <td>1.079130</td>\n",
       "      <td>0.944783</td>\n",
       "      <td>0.892174</td>\n",
       "      <td>0.816087</td>\n",
       "    </tr>\n",
       "    <tr>\n",
       "      <th>1</th>\n",
       "      <td>2018-01-13</td>\n",
       "      <td>1.151250</td>\n",
       "      <td>0.856250</td>\n",
       "      <td>0.668333</td>\n",
       "      <td>0.581667</td>\n",
       "      <td>0.656897</td>\n",
       "    </tr>\n",
       "    <tr>\n",
       "      <th>2</th>\n",
       "      <td>2018-01-14</td>\n",
       "      <td>1.022083</td>\n",
       "      <td>0.729583</td>\n",
       "      <td>0.520833</td>\n",
       "      <td>0.502500</td>\n",
       "      <td>0.567083</td>\n",
       "    </tr>\n",
       "    <tr>\n",
       "      <th>3</th>\n",
       "      <td>2018-01-15</td>\n",
       "      <td>1.087500</td>\n",
       "      <td>0.824583</td>\n",
       "      <td>0.656250</td>\n",
       "      <td>0.655000</td>\n",
       "      <td>0.738750</td>\n",
       "    </tr>\n",
       "    <tr>\n",
       "      <th>4</th>\n",
       "      <td>2018-01-16</td>\n",
       "      <td>1.232083</td>\n",
       "      <td>0.997917</td>\n",
       "      <td>0.786250</td>\n",
       "      <td>0.797083</td>\n",
       "      <td>0.816667</td>\n",
       "    </tr>\n",
       "  </tbody>\n",
       "</table>\n",
       "</div>"
      ],
      "text/plain": [
       "        Fecha  PORVL21N1  PORVL21N2  PORVL21N3  PORVL21N4  PORVL21N5\n",
       "0  2018-01-12   1.489565   1.079130   0.944783   0.892174   0.816087\n",
       "1  2018-01-13   1.151250   0.856250   0.668333   0.581667   0.656897\n",
       "2  2018-01-14   1.022083   0.729583   0.520833   0.502500   0.567083\n",
       "3  2018-01-15   1.087500   0.824583   0.656250   0.655000   0.738750\n",
       "4  2018-01-16   1.232083   0.997917   0.786250   0.797083   0.816667"
      ]
     },
     "execution_count": 57,
     "metadata": {},
     "output_type": "execute_result"
    }
   ],
   "source": [
    "phreatic_level_l21_28w_avg_pd.head()"
   ]
  },
  {
   "cell_type": "markdown",
   "metadata": {},
   "source": [
    "#### 5.3 Generating average between PORVL21N1, PORVL21N2, PORVL21N3, PORVL21N4 and PORVL21N5 values"
   ]
  },
  {
   "cell_type": "code",
   "execution_count": 58,
   "metadata": {},
   "outputs": [
    {
     "data": {
      "text/html": [
       "<div>\n",
       "<style scoped>\n",
       "    .dataframe tbody tr th:only-of-type {\n",
       "        vertical-align: middle;\n",
       "    }\n",
       "\n",
       "    .dataframe tbody tr th {\n",
       "        vertical-align: top;\n",
       "    }\n",
       "\n",
       "    .dataframe thead th {\n",
       "        text-align: right;\n",
       "    }\n",
       "</style>\n",
       "<table border=\"1\" class=\"dataframe\">\n",
       "  <thead>\n",
       "    <tr style=\"text-align: right;\">\n",
       "      <th></th>\n",
       "      <th>Fecha</th>\n",
       "      <th>PORVL21N1</th>\n",
       "      <th>PORVL21N2</th>\n",
       "      <th>PORVL21N3</th>\n",
       "      <th>PORVL21N4</th>\n",
       "      <th>PORVL21N5</th>\n",
       "      <th>PORVL21_AVG</th>\n",
       "    </tr>\n",
       "  </thead>\n",
       "  <tbody>\n",
       "    <tr>\n",
       "      <th>0</th>\n",
       "      <td>2018-01-12</td>\n",
       "      <td>1.489565</td>\n",
       "      <td>1.079130</td>\n",
       "      <td>0.944783</td>\n",
       "      <td>0.892174</td>\n",
       "      <td>0.816087</td>\n",
       "      <td>1.044348</td>\n",
       "    </tr>\n",
       "    <tr>\n",
       "      <th>1</th>\n",
       "      <td>2018-01-13</td>\n",
       "      <td>1.151250</td>\n",
       "      <td>0.856250</td>\n",
       "      <td>0.668333</td>\n",
       "      <td>0.581667</td>\n",
       "      <td>0.656897</td>\n",
       "      <td>0.782879</td>\n",
       "    </tr>\n",
       "    <tr>\n",
       "      <th>2</th>\n",
       "      <td>2018-01-14</td>\n",
       "      <td>1.022083</td>\n",
       "      <td>0.729583</td>\n",
       "      <td>0.520833</td>\n",
       "      <td>0.502500</td>\n",
       "      <td>0.567083</td>\n",
       "      <td>0.668417</td>\n",
       "    </tr>\n",
       "    <tr>\n",
       "      <th>3</th>\n",
       "      <td>2018-01-15</td>\n",
       "      <td>1.087500</td>\n",
       "      <td>0.824583</td>\n",
       "      <td>0.656250</td>\n",
       "      <td>0.655000</td>\n",
       "      <td>0.738750</td>\n",
       "      <td>0.792417</td>\n",
       "    </tr>\n",
       "    <tr>\n",
       "      <th>4</th>\n",
       "      <td>2018-01-16</td>\n",
       "      <td>1.232083</td>\n",
       "      <td>0.997917</td>\n",
       "      <td>0.786250</td>\n",
       "      <td>0.797083</td>\n",
       "      <td>0.816667</td>\n",
       "      <td>0.926000</td>\n",
       "    </tr>\n",
       "  </tbody>\n",
       "</table>\n",
       "</div>"
      ],
      "text/plain": [
       "        Fecha  PORVL21N1  PORVL21N2  PORVL21N3  PORVL21N4  PORVL21N5  \\\n",
       "0  2018-01-12   1.489565   1.079130   0.944783   0.892174   0.816087   \n",
       "1  2018-01-13   1.151250   0.856250   0.668333   0.581667   0.656897   \n",
       "2  2018-01-14   1.022083   0.729583   0.520833   0.502500   0.567083   \n",
       "3  2018-01-15   1.087500   0.824583   0.656250   0.655000   0.738750   \n",
       "4  2018-01-16   1.232083   0.997917   0.786250   0.797083   0.816667   \n",
       "\n",
       "   PORVL21_AVG  \n",
       "0     1.044348  \n",
       "1     0.782879  \n",
       "2     0.668417  \n",
       "3     0.792417  \n",
       "4     0.926000  "
      ]
     },
     "execution_count": 58,
     "metadata": {},
     "output_type": "execute_result"
    }
   ],
   "source": [
    "phreatic_level_l21_28w_avg_pd['PORVL21_AVG'] = phreatic_level_l21_28w_avg_pd.mean(axis=1)\n",
    "phreatic_level_l21_28w_avg_pd.head()"
   ]
  },
  {
   "cell_type": "code",
   "execution_count": 59,
   "metadata": {},
   "outputs": [],
   "source": [
    "# Export phreatic_level_l21_28w_avg_pd dataframe \n",
    "# Fecha | PORVL21N1 | PORVL21N2 | PORVL21N3 | PORVL21N4 | PORVL21N5 | PORVL21_AVERAGE |\n",
    "#       |          |          |             |           |           |                 |\n",
    "\n",
    "phreatic_level_l21_28w_avg_pd.to_csv( '../../../../data/interim/PhreaticLevel/'  \\\n",
    "                            '28-weeks_January-12_August-03_2018/PhreaticLevelAverage_by-Lot/' \\\n",
    "                            'LOTx_N_y_AVG_x-y_table/PORVL21N1_N2_N3_N4_N5_average_per-lot.csv', \n",
    "                                     sep=',', header=True, index=False)"
   ]
  },
  {
   "cell_type": "code",
   "execution_count": 60,
   "metadata": {},
   "outputs": [
    {
     "name": "stdout",
     "output_type": "stream",
     "text": [
      "        Fecha  PORVL21_AVG\n",
      "0  2018-01-12     1.044348\n",
      "1  2018-01-13     0.782879\n",
      "2  2018-01-14     0.668417\n",
      "3  2018-01-15     0.792417\n",
      "4  2018-01-16     0.926000\n"
     ]
    }
   ],
   "source": [
    "phreatic_level_l21_28w_avg_pd = phreatic_level_l21_28w_avg_pd[['Fecha', 'PORVL21_AVG']]\n",
    "print(phreatic_level_l21_28w_avg_pd.head())\n",
    "\n",
    "# Export phreatic_level_l18_28w_avg_pd dataframe \n",
    "# Fecha | PORVL21_AVERAGE |\n",
    "#       |                |\n",
    "phreatic_level_l21_28w_avg_pd.to_csv( '../../../../data/interim/PhreaticLevel/'  \\\n",
    "                            '28-weeks_January-12_August-03_2018/PhreaticLevelAverage_by-Lot/' \\\n",
    "                            'PORVL21_average_per-day.csv', sep=',', header=True, index=False)\n"
   ]
  },
  {
   "cell_type": "markdown",
   "metadata": {},
   "source": [
    "## 6. Concatenating PORVL24N1 and PORVL24N2 average per day values\n",
    "\n",
    "### 6.1. Reading PORVL24N1 and PORVL24N2 average per day values\n"
   ]
  },
  {
   "cell_type": "code",
   "execution_count": 62,
   "metadata": {},
   "outputs": [],
   "source": [
    "phreatic_level_l24n1_28w_avg_pd = pd.read_csv('../../../../data/interim/PhreaticLevel/'  \\\n",
    "                    '28-weeks_January-12_August-03_2018/PhreaticLevel_By_Lots-Nodes_Average_by-day/' \\\n",
    "                    'PORVL24N1_average_per-day.csv')\n",
    "\n",
    "phreatic_level_l24n2_28w_avg_pd = pd.read_csv('../../../../data/interim/PhreaticLevel/'  \\\n",
    "                    '28-weeks_January-12_August-03_2018/PhreaticLevel_By_Lots-Nodes_Average_by-day/' \\\n",
    "                    'PORVL24N2_average_per-day.csv')\n"
   ]
  },
  {
   "cell_type": "markdown",
   "metadata": {},
   "source": [
    "### 6.3. Merging phreatic level averages per day dataframes\n",
    "\n",
    "Now, we going to merge the `phreatic_level_l24n1_28w_avg_pd` and `phreatic_level_l24n2_28w_avg_pd` dataframes"
   ]
  },
  {
   "cell_type": "code",
   "execution_count": 63,
   "metadata": {},
   "outputs": [],
   "source": [
    "phreatic_level_l24_28w_avg_pd = pd.merge(phreatic_level_l24n1_28w_avg_pd,phreatic_level_l24n2_28w_avg_pd, how='inner', on='Fecha')"
   ]
  },
  {
   "cell_type": "code",
   "execution_count": 64,
   "metadata": {},
   "outputs": [
    {
     "data": {
      "text/html": [
       "<div>\n",
       "<style scoped>\n",
       "    .dataframe tbody tr th:only-of-type {\n",
       "        vertical-align: middle;\n",
       "    }\n",
       "\n",
       "    .dataframe tbody tr th {\n",
       "        vertical-align: top;\n",
       "    }\n",
       "\n",
       "    .dataframe thead th {\n",
       "        text-align: right;\n",
       "    }\n",
       "</style>\n",
       "<table border=\"1\" class=\"dataframe\">\n",
       "  <thead>\n",
       "    <tr style=\"text-align: right;\">\n",
       "      <th></th>\n",
       "      <th>Fecha</th>\n",
       "      <th>PORVL24N1</th>\n",
       "      <th>PORVL24N2</th>\n",
       "    </tr>\n",
       "  </thead>\n",
       "  <tbody>\n",
       "    <tr>\n",
       "      <th>0</th>\n",
       "      <td>2018-01-12</td>\n",
       "      <td>0.765217</td>\n",
       "      <td>1.207826</td>\n",
       "    </tr>\n",
       "    <tr>\n",
       "      <th>1</th>\n",
       "      <td>2018-01-13</td>\n",
       "      <td>0.215417</td>\n",
       "      <td>0.763750</td>\n",
       "    </tr>\n",
       "    <tr>\n",
       "      <th>2</th>\n",
       "      <td>2018-01-14</td>\n",
       "      <td>0.198750</td>\n",
       "      <td>0.663333</td>\n",
       "    </tr>\n",
       "    <tr>\n",
       "      <th>3</th>\n",
       "      <td>2018-01-15</td>\n",
       "      <td>0.236667</td>\n",
       "      <td>0.856250</td>\n",
       "    </tr>\n",
       "    <tr>\n",
       "      <th>4</th>\n",
       "      <td>2018-01-16</td>\n",
       "      <td>0.473333</td>\n",
       "      <td>1.061667</td>\n",
       "    </tr>\n",
       "  </tbody>\n",
       "</table>\n",
       "</div>"
      ],
      "text/plain": [
       "        Fecha  PORVL24N1  PORVL24N2\n",
       "0  2018-01-12   0.765217   1.207826\n",
       "1  2018-01-13   0.215417   0.763750\n",
       "2  2018-01-14   0.198750   0.663333\n",
       "3  2018-01-15   0.236667   0.856250\n",
       "4  2018-01-16   0.473333   1.061667"
      ]
     },
     "execution_count": 64,
     "metadata": {},
     "output_type": "execute_result"
    }
   ],
   "source": [
    "phreatic_level_l24_28w_avg_pd.head()"
   ]
  },
  {
   "cell_type": "markdown",
   "metadata": {},
   "source": [
    "### 6.4 Generating average between PORVL24N1 and PORVL24N2 values"
   ]
  },
  {
   "cell_type": "code",
   "execution_count": 65,
   "metadata": {},
   "outputs": [],
   "source": [
    "phreatic_level_l24_28w_avg_pd['PORVL24_AVG'] = phreatic_level_l24_28w_avg_pd.mean(axis=1)"
   ]
  },
  {
   "cell_type": "code",
   "execution_count": 66,
   "metadata": {},
   "outputs": [
    {
     "data": {
      "text/html": [
       "<div>\n",
       "<style scoped>\n",
       "    .dataframe tbody tr th:only-of-type {\n",
       "        vertical-align: middle;\n",
       "    }\n",
       "\n",
       "    .dataframe tbody tr th {\n",
       "        vertical-align: top;\n",
       "    }\n",
       "\n",
       "    .dataframe thead th {\n",
       "        text-align: right;\n",
       "    }\n",
       "</style>\n",
       "<table border=\"1\" class=\"dataframe\">\n",
       "  <thead>\n",
       "    <tr style=\"text-align: right;\">\n",
       "      <th></th>\n",
       "      <th>Fecha</th>\n",
       "      <th>PORVL24N1</th>\n",
       "      <th>PORVL24N2</th>\n",
       "      <th>PORVL24_AVG</th>\n",
       "    </tr>\n",
       "  </thead>\n",
       "  <tbody>\n",
       "    <tr>\n",
       "      <th>0</th>\n",
       "      <td>2018-01-12</td>\n",
       "      <td>0.765217</td>\n",
       "      <td>1.207826</td>\n",
       "      <td>0.986522</td>\n",
       "    </tr>\n",
       "    <tr>\n",
       "      <th>1</th>\n",
       "      <td>2018-01-13</td>\n",
       "      <td>0.215417</td>\n",
       "      <td>0.763750</td>\n",
       "      <td>0.489583</td>\n",
       "    </tr>\n",
       "    <tr>\n",
       "      <th>2</th>\n",
       "      <td>2018-01-14</td>\n",
       "      <td>0.198750</td>\n",
       "      <td>0.663333</td>\n",
       "      <td>0.431042</td>\n",
       "    </tr>\n",
       "    <tr>\n",
       "      <th>3</th>\n",
       "      <td>2018-01-15</td>\n",
       "      <td>0.236667</td>\n",
       "      <td>0.856250</td>\n",
       "      <td>0.546458</td>\n",
       "    </tr>\n",
       "    <tr>\n",
       "      <th>4</th>\n",
       "      <td>2018-01-16</td>\n",
       "      <td>0.473333</td>\n",
       "      <td>1.061667</td>\n",
       "      <td>0.767500</td>\n",
       "    </tr>\n",
       "  </tbody>\n",
       "</table>\n",
       "</div>"
      ],
      "text/plain": [
       "        Fecha  PORVL24N1  PORVL24N2  PORVL24_AVG\n",
       "0  2018-01-12   0.765217   1.207826     0.986522\n",
       "1  2018-01-13   0.215417   0.763750     0.489583\n",
       "2  2018-01-14   0.198750   0.663333     0.431042\n",
       "3  2018-01-15   0.236667   0.856250     0.546458\n",
       "4  2018-01-16   0.473333   1.061667     0.767500"
      ]
     },
     "execution_count": 66,
     "metadata": {},
     "output_type": "execute_result"
    }
   ],
   "source": [
    "phreatic_level_l24_28w_avg_pd.head()"
   ]
  },
  {
   "cell_type": "code",
   "execution_count": 67,
   "metadata": {},
   "outputs": [],
   "source": [
    "# Export phreatic_level_l24_28w_avg_pd dataframe \n",
    "# Fecha | PORVL24N1 | PORVL24N2 | PORVL2_AVERAGE |\n",
    "#       |          |          |                |\n",
    "phreatic_level_l24_28w_avg_pd.to_csv( '../../../../data/interim/PhreaticLevel/'  \\\n",
    "                            '28-weeks_January-12_August-03_2018/PhreaticLevelAverage_by-Lot/' \\\n",
    "                            'LOTx_N_y_AVG_x-y_table/PORVL24N1_N2_average_per-lot.csv', sep=',', header=True, index=False)"
   ]
  },
  {
   "cell_type": "code",
   "execution_count": 68,
   "metadata": {},
   "outputs": [],
   "source": [
    "phreatic_level_l24_28w_avg_pd = phreatic_level_l24_28w_avg_pd[['Fecha', 'PORVL24_AVG']]"
   ]
  },
  {
   "cell_type": "code",
   "execution_count": 69,
   "metadata": {},
   "outputs": [],
   "source": [
    "# Export phreatic_level_l24_28w_avg_pd dataframe \n",
    "# Fecha | PORVL24_AVERAGE |\n",
    "#       |                |\n",
    "phreatic_level_l24_28w_avg_pd.to_csv( '../../../../data/interim/PhreaticLevel/'  \\\n",
    "                            '28-weeks_January-12_August-03_2018/PhreaticLevelAverage_by-Lot/' \\\n",
    "                            'PORVL24_average_per-day.csv', sep=',', header=True, index=False)"
   ]
  },
  {
   "cell_type": "markdown",
   "metadata": {},
   "source": [
    "## 7. Merging all average values of all lots\n",
    "\n",
    "**`pd.merge`** can merge only two DataFrames, then we proceed of this way:"
   ]
  },
  {
   "cell_type": "code",
   "execution_count": 83,
   "metadata": {},
   "outputs": [
    {
     "data": {
      "text/html": [
       "<div>\n",
       "<style scoped>\n",
       "    .dataframe tbody tr th:only-of-type {\n",
       "        vertical-align: middle;\n",
       "    }\n",
       "\n",
       "    .dataframe tbody tr th {\n",
       "        vertical-align: top;\n",
       "    }\n",
       "\n",
       "    .dataframe thead th {\n",
       "        text-align: right;\n",
       "    }\n",
       "</style>\n",
       "<table border=\"1\" class=\"dataframe\">\n",
       "  <thead>\n",
       "    <tr style=\"text-align: right;\">\n",
       "      <th></th>\n",
       "      <th>Fecha</th>\n",
       "      <th>PORVL2_AVG</th>\n",
       "      <th>PORVL4_AVG</th>\n",
       "      <th>PORVL5_AVG</th>\n",
       "      <th>PORVL6_AVG</th>\n",
       "      <th>PORVL7_AVG</th>\n",
       "      <th>PORVL8_AVG</th>\n",
       "      <th>PORVL9_AVG</th>\n",
       "      <th>PORVL10_AVG</th>\n",
       "      <th>PORVL13_AVG</th>\n",
       "      <th>PORVL14_AVG</th>\n",
       "      <th>PORVL15_AVG</th>\n",
       "      <th>PORVL16_AVG</th>\n",
       "      <th>PORVL18_AVG</th>\n",
       "      <th>PORVL21_AVG</th>\n",
       "      <th>PORVL24_AVG</th>\n",
       "    </tr>\n",
       "  </thead>\n",
       "  <tbody>\n",
       "    <tr>\n",
       "      <th>0</th>\n",
       "      <td>2018-01-12</td>\n",
       "      <td>0.618913</td>\n",
       "      <td>0.818261</td>\n",
       "      <td>0.537826</td>\n",
       "      <td>0.829130</td>\n",
       "      <td>1.043043</td>\n",
       "      <td>1.041739</td>\n",
       "      <td>1.033043</td>\n",
       "      <td>0.949130</td>\n",
       "      <td>1.030870</td>\n",
       "      <td>1.350435</td>\n",
       "      <td>1.082609</td>\n",
       "      <td>1.214565</td>\n",
       "      <td>1.021739</td>\n",
       "      <td>1.044348</td>\n",
       "      <td>0.986522</td>\n",
       "    </tr>\n",
       "    <tr>\n",
       "      <th>1</th>\n",
       "      <td>2018-01-13</td>\n",
       "      <td>0.219167</td>\n",
       "      <td>0.532917</td>\n",
       "      <td>0.292500</td>\n",
       "      <td>0.510417</td>\n",
       "      <td>0.598333</td>\n",
       "      <td>0.738750</td>\n",
       "      <td>0.772917</td>\n",
       "      <td>0.694583</td>\n",
       "      <td>0.669583</td>\n",
       "      <td>1.167500</td>\n",
       "      <td>0.880000</td>\n",
       "      <td>1.105833</td>\n",
       "      <td>0.806875</td>\n",
       "      <td>0.782879</td>\n",
       "      <td>0.489583</td>\n",
       "    </tr>\n",
       "    <tr>\n",
       "      <th>2</th>\n",
       "      <td>2018-01-14</td>\n",
       "      <td>0.172083</td>\n",
       "      <td>0.482083</td>\n",
       "      <td>0.246667</td>\n",
       "      <td>0.488750</td>\n",
       "      <td>0.522500</td>\n",
       "      <td>0.584167</td>\n",
       "      <td>0.725000</td>\n",
       "      <td>0.645833</td>\n",
       "      <td>0.518750</td>\n",
       "      <td>0.786667</td>\n",
       "      <td>0.841667</td>\n",
       "      <td>0.996875</td>\n",
       "      <td>0.673646</td>\n",
       "      <td>0.668417</td>\n",
       "      <td>0.431042</td>\n",
       "    </tr>\n",
       "    <tr>\n",
       "      <th>3</th>\n",
       "      <td>2018-01-15</td>\n",
       "      <td>0.122917</td>\n",
       "      <td>0.555833</td>\n",
       "      <td>0.245417</td>\n",
       "      <td>0.529167</td>\n",
       "      <td>0.495833</td>\n",
       "      <td>0.641667</td>\n",
       "      <td>0.735000</td>\n",
       "      <td>0.692963</td>\n",
       "      <td>0.614167</td>\n",
       "      <td>0.692000</td>\n",
       "      <td>0.842917</td>\n",
       "      <td>0.948333</td>\n",
       "      <td>0.756563</td>\n",
       "      <td>0.792417</td>\n",
       "      <td>0.546458</td>\n",
       "    </tr>\n",
       "    <tr>\n",
       "      <th>4</th>\n",
       "      <td>2018-01-16</td>\n",
       "      <td>0.313125</td>\n",
       "      <td>0.764167</td>\n",
       "      <td>0.427500</td>\n",
       "      <td>0.717917</td>\n",
       "      <td>0.792917</td>\n",
       "      <td>0.929583</td>\n",
       "      <td>0.892917</td>\n",
       "      <td>0.774000</td>\n",
       "      <td>0.798750</td>\n",
       "      <td>0.900833</td>\n",
       "      <td>0.962500</td>\n",
       "      <td>1.020208</td>\n",
       "      <td>0.869583</td>\n",
       "      <td>0.926000</td>\n",
       "      <td>0.767500</td>\n",
       "    </tr>\n",
       "  </tbody>\n",
       "</table>\n",
       "</div>"
      ],
      "text/plain": [
       "        Fecha  PORVL2_AVG  PORVL4_AVG  PORVL5_AVG  PORVL6_AVG  PORVL7_AVG  \\\n",
       "0  2018-01-12    0.618913    0.818261    0.537826    0.829130    1.043043   \n",
       "1  2018-01-13    0.219167    0.532917    0.292500    0.510417    0.598333   \n",
       "2  2018-01-14    0.172083    0.482083    0.246667    0.488750    0.522500   \n",
       "3  2018-01-15    0.122917    0.555833    0.245417    0.529167    0.495833   \n",
       "4  2018-01-16    0.313125    0.764167    0.427500    0.717917    0.792917   \n",
       "\n",
       "   PORVL8_AVG  PORVL9_AVG  PORVL10_AVG  PORVL13_AVG  PORVL14_AVG  PORVL15_AVG  \\\n",
       "0    1.041739    1.033043     0.949130     1.030870     1.350435     1.082609   \n",
       "1    0.738750    0.772917     0.694583     0.669583     1.167500     0.880000   \n",
       "2    0.584167    0.725000     0.645833     0.518750     0.786667     0.841667   \n",
       "3    0.641667    0.735000     0.692963     0.614167     0.692000     0.842917   \n",
       "4    0.929583    0.892917     0.774000     0.798750     0.900833     0.962500   \n",
       "\n",
       "   PORVL16_AVG  PORVL18_AVG  PORVL21_AVG  PORVL24_AVG  \n",
       "0     1.214565     1.021739     1.044348     0.986522  \n",
       "1     1.105833     0.806875     0.782879     0.489583  \n",
       "2     0.996875     0.673646     0.668417     0.431042  \n",
       "3     0.948333     0.756563     0.792417     0.546458  \n",
       "4     1.020208     0.869583     0.926000     0.767500  "
      ]
     },
     "execution_count": 83,
     "metadata": {},
     "output_type": "execute_result"
    }
   ],
   "source": [
    "# Merging From PORVL2 to PORVL4 \n",
    "phreatic_level_l2_l4_28w_avg = pd.merge(phreatic_level_l2_28w_avg_pd_df,phreatic_level_l4n1_28w_avg_pd, how='inner', on='Fecha')\n",
    "\n",
    "# Merging From PORVL5 to PORVL6 \n",
    "phreatic_level_l5_l6_28w_avg = pd.merge(phreatic_level_l5n1_28w_avg_pd,phreatic_level_l6n1_28w_avg_pd, how='inner', on='Fecha')\n",
    "\n",
    "# Merging From PORVL7 to PORVL8 \n",
    "phreatic_level_l7_l8_28w_avg = pd.merge(phreatic_level_l7n1_28w_avg_pd,phreatic_level_l8n1_28w_avg_pd, how='inner', on='Fecha')\n",
    "\n",
    "# Merging From PORVL9 to PORVL10 \n",
    "phreatic_level_l9_l10_28w_avg = pd.merge(phreatic_level_l9n1_28w_avg_pd,phreatic_level_l10n1_28w_avg_pd, how='inner', on='Fecha')\n",
    "\n",
    "# Merging From PORVL13 to PORVL14 \n",
    "phreatic_level_l13_l14_28w_avg = pd.merge(phreatic_level_l13n1_28w_avg_pd,phreatic_level_l14n1_28w_avg_pd, how='inner', on='Fecha')\n",
    "\n",
    "# Merging From PORVL15 to PORVL16 \n",
    "phreatic_level_l15_l16_28w_avg = pd.merge(phreatic_level_l15n1_28w_avg_pd,phreatic_level_l16_28w_avg_pd, how='inner', on='Fecha')\n",
    "\n",
    "# Merging From PORVL18 to PORVL21 \n",
    "phreatic_level_l18_l21_28w_avg = pd.merge(phreatic_level_l18_28w_avg_pd,phreatic_level_l21_28w_avg_pd, how='inner', on='Fecha')\n",
    "\n",
    "\n",
    "\n",
    "\n",
    "# We merge again, from PORVL2 to PORVL6\n",
    "phreatic_level_l2_l6_28w_avg = pd.merge(phreatic_level_l2_l4_28w_avg,phreatic_level_l5_l6_28w_avg, how='inner', on='Fecha')\n",
    "\n",
    "# We merge again, from PORVL7 to PORVL10 \n",
    "phreatic_level_l7_l10_28w_avg = pd.merge(phreatic_level_l7_l8_28w_avg,phreatic_level_l9_l10_28w_avg, how='inner', on='Fecha')\n",
    "\n",
    "# We merge again, from PORVL13 to PORVL16 \n",
    "phreatic_level_l13_l16_28w_avg = pd.merge(phreatic_level_l13_l14_28w_avg,phreatic_level_l15_l16_28w_avg, how='inner', on='Fecha')\n",
    "\n",
    "# We merge again, from PORVL18 to PORVL24 \n",
    "phreatic_level_l18_l24_28w_avg = pd.merge(phreatic_level_l18_l21_28w_avg,phreatic_level_l24_28w_avg_pd, how='inner', on='Fecha')\n",
    "\n",
    "# And again, from PORVL2 to PORVL10 \n",
    "phreatic_level_l2_l10_28w_avg = pd.merge(phreatic_level_l2_l6_28w_avg,phreatic_level_l7_l10_28w_avg, how='inner', on='Fecha')\n",
    "\n",
    "# And again, from PORVL13 to PORVL24 \n",
    "phreatic_level_l13_l24_28w_avg = pd.merge(phreatic_level_l13_l16_28w_avg,phreatic_level_l18_l24_28w_avg, how='inner', on='Fecha')\n",
    "\n",
    "# And again for latest time, from PORVL2 to PORVL24 \n",
    "phreatic_level_all_lots_28w_avg = pd.merge(phreatic_level_l2_l10_28w_avg,phreatic_level_l13_l24_28w_avg, how='inner', on='Fecha')\n",
    "phreatic_level_all_lots_28w_avg.head()"
   ]
  },
  {
   "cell_type": "code",
   "execution_count": 84,
   "metadata": {},
   "outputs": [],
   "source": [
    "# We export it \n",
    "phreatic_level_all_lots_28w_avg.to_csv( '../../../../data/interim/PhreaticLevel/'  \\\n",
    "                            '28-weeks_January-12_August-03_2018/4.PhreaticLevel_Averaged_All-Nodes/' \\\n",
    "                            'PORV_all_lots_average_nodes-per-day.csv', sep=',', header=True, index=False)"
   ]
  },
  {
   "cell_type": "markdown",
   "metadata": {},
   "source": [
    "So, this is the phreatic level dataset, averaged with respect to its nodes in each lot of the Porvenir farm.\n",
    "\n",
    "Before, without performing the averaging process it was like this:"
   ]
  },
  {
   "cell_type": "code",
   "execution_count": null,
   "metadata": {},
   "outputs": [],
   "source": []
  }
 ],
 "metadata": {
  "kernelspec": {
   "display_name": "Python 3",
   "language": "python",
   "name": "python3"
  },
  "language_info": {
   "codemirror_mode": {
    "name": "ipython",
    "version": 3
   },
   "file_extension": ".py",
   "mimetype": "text/x-python",
   "name": "python",
   "nbconvert_exporter": "python",
   "pygments_lexer": "ipython3",
   "version": "3.6.5"
  }
 },
 "nbformat": 4,
 "nbformat_minor": 2
}
