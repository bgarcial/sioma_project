{
 "cells": [
  {
   "cell_type": "markdown",
   "metadata": {},
   "source": [
    "# 4. Alcance "
   ]
  },
  {
   "cell_type": "markdown",
   "metadata": {},
   "source": [
    "Las principales limitaciones que se presentan al momento de emprender camino a la culminación de los objetivos es en el proceso de limpieza y estructuración de los datos.\n",
    "\n",
    "Durante la ejecución del presente proyecto, se pretende utilizar el lenguaje de programación Python en su versión 3.6. Al finalizar este trabajo se espera tener diferentes algoritmos de aprendizaje automático tanto de aprendizaje supervisado como aprendizaje no supervisado, tal que se pueda predecir efectivamente el peso de los racimos de bananos de acuerdo al comportamiento de diferentes variables como nivel freático, precipitaciones, luminosidad, dirección y velocidad del viento, y temperatura ambiente.\n",
    "\n",
    "Es importante mencionar que los datos recolectados que serán utilizados en el trabajo, fueron recolectados entre el 12 de Enero de 2018 a 3 de Agosto de 2018 (las 28 semanas de vida de la planta) y también desde Mayo 4 hasta agosto 3, que son las últimas 12 semanas de esas 28 de vida de la planta y es el tiempo en el que el racimo se genera. \n",
    "\n",
    "Los datos son brindados por la empresa SIOMA, cuyo campo de acción está en fincas ubicadas en la  región del Urabá."
   ]
  },
  {
   "cell_type": "code",
   "execution_count": null,
   "metadata": {},
   "outputs": [],
   "source": []
  }
 ],
 "metadata": {
  "kernelspec": {
   "display_name": "Python 3",
   "language": "python",
   "name": "python3"
  },
  "language_info": {
   "codemirror_mode": {
    "name": "ipython",
    "version": 3
   },
   "file_extension": ".py",
   "mimetype": "text/x-python",
   "name": "python",
   "nbconvert_exporter": "python",
   "pygments_lexer": "ipython3",
   "version": "3.6.5"
  }
 },
 "nbformat": 4,
 "nbformat_minor": 2
}
