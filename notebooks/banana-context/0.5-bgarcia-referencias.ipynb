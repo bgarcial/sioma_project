{
 "cells": [
  {
   "cell_type": "markdown",
   "metadata": {},
   "source": [
    "# 5. Referencias"
   ]
  },
  {
   "cell_type": "markdown",
   "metadata": {},
   "source": [
    "**[1]** Mejía, L. 2013. Evaluación del comportamiento físico y químico poscosecha del plátano dominico hartón (Musa aab simmonds) cultivado en el municipio de Belalcázar (Caldas). Universidad Nacional de Colombia, Bogotá, Colombia\n",
    "\n",
    "**[2]** Silvanei, & Gregorio. 2009. Proceso de producción Banano. [En línea](http://silvagrego1960.blogspot.com/). Publicado el 29 de mayo de 20093\n",
    "\n",
    "**[3]** Garcia-Pedraza, L. 1963. Los Vientos en Agricultura. Ministerio de Agricultura, Dirección general de Capacitación Agraria\n",
    "\n",
    "**[4]** Belalcazar, Valencia and Lozada. El Cultivo del Plátano para el Trópico. Manual de asistencia técnica Nº 50. ICA, UID, Comité de Cafeteros del Quindío. INIBAP, Feriva, Cali (Colombia). 1991. Comité de Cafeteros del Quindío\n",
    "\n",
    "**[5]** El-Bendary, Nashwa and El Hariri, Esraa and Hassanien, Aboul Ella and Badr, Amr. Using machine learning techniques for evaluating tomato ripeness. Expert Systems with Applications. Volume 42, Number 4, pages 1892-1905, 2015. Elsevier\n",
    "\n",
    "**[6]** Wang, Shuihua and Zhang, Yudong and Ji, Genlin and Yang, Jiquan and Wu, Jianguo and Wei, Ling. Fruit classification by wavelet-entropy and feedforward neural network trained by fitness-scaled chaotic ABC and biogeography-based optimization\n",
    "\n",
    "**[7]** Zhang, Yudong and Wu, Lenan. Classification of fruits using computer vision and a multiclass support vector machine. Journal sensors, volume 12, pages 12489 - 12505, 2012, Molecular Diversity Preservation International\n",
    "\n",
    "**[8]** Weber, Ingmar and Achananuparp. Insights from machine-learned diet success prediction. Palakorn. Biocomputing 2016: Proceedings of the Pacific Symposium. Pages 540-551, 2016. {World Scientific\n"
   ]
  },
  {
   "cell_type": "code",
   "execution_count": null,
   "metadata": {},
   "outputs": [],
   "source": []
  }
 ],
 "metadata": {
  "kernelspec": {
   "display_name": "Python 3",
   "language": "python",
   "name": "python3"
  },
  "language_info": {
   "codemirror_mode": {
    "name": "ipython",
    "version": 3
   },
   "file_extension": ".py",
   "mimetype": "text/x-python",
   "name": "python",
   "nbconvert_exporter": "python",
   "pygments_lexer": "ipython3",
   "version": "3.6.5"
  }
 },
 "nbformat": 4,
 "nbformat_minor": 2
}
