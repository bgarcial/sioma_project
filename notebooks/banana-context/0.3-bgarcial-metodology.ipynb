{
 "cells": [
  {
   "cell_type": "markdown",
   "metadata": {},
   "source": [
    "# 3. Metodología"
   ]
  },
  {
   "cell_type": "markdown",
   "metadata": {},
   "source": [
    "Para realizar este proyecto se tomará como base los lineamientos de la metodología CRISP-DM sustentados en el conocimiento del contexto o dominio del negocio, entendimiento y preparación de los datos para llegar al modelamiento y evaluación de las diferentes técnicas de aprendizaje automático y de estadística a aplicar para llegar a una predicción de productividad en el peso de racimos de banano en los cultivos de la región de Urabá.\n",
    "\n",
    "Los pasos de esta metodología se tomarán como referencia, para adaptarlos a la construcción de un marco de trabajo propio para las actividades de este proyecto, teniendo como ejes principales el proceso de ciencia de datos condensado en los siguientes aspectos:\n",
    "\n",
    "- Identificación de la pregunta, para identificar cual es la meta de nuestro análisis, que interrogantes queremos responder y \n",
    "determinar el alcance del proyecto.\n",
    "\n",
    "- Preparación de los datos, implica una limpieza desde que son recolectados de su fuente primaria para después examinar aspectos \n",
    "como su completitud, formato, accesibilidad, para ser transformados y puedan ser procesados por un lenguaje y herramientas acorde a las necesidades planteadas por el dominio del problema y por las diferentes técnicas a analizar.\n",
    "\n",
    "- Analizar los datos, una vez entendida la complejidad del problema y sus variables, seleccionar y aplicar técnicas y algoritmos que nos lleven a profundizar en los datos, con el objetivo de desarrollar hallazgos que no pueden ser fácilmente percibidos con el análisis visual analítico realizado. \n",
    "\n",
    "- Visualizar los datos: Traducir los hallazgos encontrados para que sean entendidos de forma adecuada"
   ]
  },
  {
   "cell_type": "markdown",
   "metadata": {},
   "source": [
    "La implementación de los modelos se realizará siguiendo dos enfoques: clasificación y regresión. \n",
    "El primero para establecer criterios de agrupación usando categorías definidas y el segundo criterios de estimación y predicción del peso de lo racimo de banano. Los modelos a implementar son: Naive-Bayes, árboles de decisión (clasificación y regresión), análisis clúster, redes neuronales (clasificación y regresión), SVM (clasificación y regresión) y regresión (lineal y logística). \n",
    "\n",
    "Para la implementación computacional de los modelos se utilizará el lenguaje de programación Python 3.6."
   ]
  },
  {
   "cell_type": "code",
   "execution_count": null,
   "metadata": {},
   "outputs": [],
   "source": []
  }
 ],
 "metadata": {
  "kernelspec": {
   "display_name": "Python 3",
   "language": "python",
   "name": "python3"
  },
  "language_info": {
   "codemirror_mode": {
    "name": "ipython",
    "version": 3
   },
   "file_extension": ".py",
   "mimetype": "text/x-python",
   "name": "python",
   "nbconvert_exporter": "python",
   "pygments_lexer": "ipython3",
   "version": "3.6.5"
  }
 },
 "nbformat": 4,
 "nbformat_minor": 2
}
