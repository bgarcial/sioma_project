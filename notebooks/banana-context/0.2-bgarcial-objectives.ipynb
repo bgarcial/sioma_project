{
 "cells": [
  {
   "cell_type": "markdown",
   "metadata": {},
   "source": [
    "# 2. OBJETIVOS"
   ]
  },
  {
   "cell_type": "markdown",
   "metadata": {},
   "source": [
    "## 2.1 General\n",
    "\n",
    "Implementar modelos de aprendizaje supervisado y no supervisado para realizar predicciones y clasificaciones en un conjunto de datos relacionado al proceso de producción del banano, explicando su peso en función de las variables involucradas en su cultivo."
   ]
  },
  {
   "cell_type": "markdown",
   "metadata": {},
   "source": [
    "## 2.2 Específicos"
   ]
  },
  {
   "cell_type": "markdown",
   "metadata": {},
   "source": [
    "- Explorar los datos relacionados a la producción del banano de una manera adecuada, su alcance, impacto y significado.\n",
    "\n",
    "- Implementar técnicas de clasificación y regresión para explicar el peso del banano en función de variables que intervienen en su cultivo.\n",
    "\n",
    "- Definir una variable categórica para los pesos del banano, de forma tal que sea posible identificar grupos en los datos.\n",
    "(Clasificación básica con NB inicialmente)\n",
    "\n",
    "- Organizar el conocimiento descubierto a partir de la metodología usada, para presentar hallazgos y recomendaciones."
   ]
  },
  {
   "cell_type": "code",
   "execution_count": null,
   "metadata": {},
   "outputs": [],
   "source": []
  }
 ],
 "metadata": {
  "kernelspec": {
   "display_name": "Python 3",
   "language": "python",
   "name": "python3"
  },
  "language_info": {
   "codemirror_mode": {
    "name": "ipython",
    "version": 3
   },
   "file_extension": ".py",
   "mimetype": "text/x-python",
   "name": "python",
   "nbconvert_exporter": "python",
   "pygments_lexer": "ipython3",
   "version": "3.6.5"
  }
 },
 "nbformat": 4,
 "nbformat_minor": 2
}
