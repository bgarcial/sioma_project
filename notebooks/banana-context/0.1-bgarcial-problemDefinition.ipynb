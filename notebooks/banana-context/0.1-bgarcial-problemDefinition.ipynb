{
 "cells": [
  {
   "cell_type": "markdown",
   "metadata": {},
   "source": [
    "# 1. Definición del problema"
   ]
  },
  {
   "cell_type": "markdown",
   "metadata": {},
   "source": [
    "En el contexto agrícola, existen diversas variables y condiciones de tiempo y espacio, que se consideran importantes \n",
    "en la medida de que estos datos puedan ser medidos, procesados y analizados adecuadamente para la toma de decisiones \n",
    "en la administración y desempeño de los sistemas agrícolas.\n",
    "\n",
    "En estos sistemas y más específicamente en la dinámica del flujo de trabajo del proceso de cultivo de diferentes productos, \n",
    "convergen una gran variedad de aspectos tales como las propiedades y humedad del suelo, el crecimiento, desarrollo y \n",
    "rendimiento de la fruta, estrés y residuos de los cultivos además de las plagas e infestaciones. \n",
    "A nivel de condiciones atmosféricas se tienen el estado del suelo (humedad, saturación, nivel freático, fertilización), \n",
    "la luminosidad o radiación solar, la temperatura ambiente, las precipitaciones, la dirección y la velocidad del viento.\n",
    "\n",
    "Particularmente en los cultivos de banano, se ha perfilado acorde a conocimiento experto, que un conjunto de variables como \n",
    "nivel freático, precipitaciones, luminosidad, dirección y velocidad del viento, y temperatura ambiente, tienen una influencia \n",
    "significativa en el peso resultante o variación del mismo en la fruta cuando llega el momento de su recolección."
   ]
  },
  {
   "cell_type": "markdown",
   "metadata": {},
   "source": [
    "En **[1]** se señala que las variaciones del ambiente actúan también a través de los procesos fisiológicos para controlar el crecimiento y desarrollo de los cultivos, influyendo sobre la floración y el llenado de los frutos. \n",
    "Hablan de la variedad de plátano hartón dominico, en el cual en términos generales, el período vegetativo del clon dominico hartón se prolonga aproximadamente 10 días por cada 100 metros de altitud y esta influencia marcadamente la distribución de la materia seca durante el desarrollo de la planta. Además menciona que  el plátano se cultiva en condiciones muy variadas de radiación solar, desde regiones de gran nubosidad (184 micromoles por metro cuadrado) hasta otras de alta irradiancia promedio (1.500 micromoles por metro cuadrado ); el rendimiento del cultivo depende de la radiación solar interceptada, de la eficiencia de conversión de esta radiación en biomasa y  de los gastos respiratorios de la planta, para esto el plátano debe ajustar su actividad fotosintética y metabólica a la producción de fotoasimilados que le permitan crecer y llenar los racimos."
   ]
  },
  {
   "cell_type": "markdown",
   "metadata": {},
   "source": [
    "En **[2]** se indica que en  condiciones tropicales, la luz, no tiene tanto efecto en el desarrollo de la planta como en condiciones subtropicales, aunque al disminuir la intensidad de luz, el ciclo  vegetativo se alarga. El desarrollo de los hijuelos también está influenciado por la luz en cantidad e intensidad. También se destaca que el plátano requiere grandes cantidades de agua, debido a su naturaleza herbácea ya que el 85-88% del peso del banano es agua y es muy sensible a la sequía, pues ésta dificulta la salida de las inflorescencias dando como resultado, racimos torcidos y estrenudos muy cortos en el raquis que impiden el enderezamiento de los frutos. La carencia de agua en el cultivo, en cualquier momento puede causar la reducción en el número y tamaño de los frutos y en el rendimiento final de la cosecha. "
   ]
  },
  {
   "cell_type": "markdown",
   "metadata": {},
   "source": [
    "En **[3]** se destaca la importancia del viento en la agricultura siendo el responsable directo o circunstancial de las características climatológicas de una región. A él van vinculados muchos fenómenos meteorológicos favorables o adversos para la agricultura, e incluso la formación de suelos (a causa de los efectos de erosión). \n",
    "\n",
    "Además, estudios asocian los efectos del viento al rendimiento de la fruta de banano, en cuanto a que pueden variar, desde provocar una transpiración anormal debido a la reapertura de los estomas hasta la laceración de la lámina foliar, siendo el daño más generalizado, provocando unas pérdidas en el rendimiento de hasta un 20%  \\footnote{ http://www.infoagro.com/frutas/frutas$\\_$tropicales/platano.htm [En linea; recopilado 9-Septiembre-2018]}. Los vientos muy fuertes rompen los peciolos de las hojas, quiebran los pseudotallos o arrancan las plantas enteras inclusive. Adicionalmente, se destaca que la pluviosidad necesaria varía de 120 a 150 mm de precipitaciones mensuales o 44 mm semanales. En Urabá cae 222.65 ml de lluvia al mes y 51.95 ml a la semana  La carencia de agua en cualquier momento puede causar la reducción en el número y tamaño de los frutos y en el rendimiento final de la cosecha."
   ]
  },
  {
   "cell_type": "markdown",
   "metadata": {},
   "source": [
    "En **[4]** mencionan que la temperatura y la altitud están correlacionadas y son factores determinantes para el crecimiento y desarrollo del plátano, influenciando el ciclo vegetativo de la planta, su actividad fotosintética y respiratoria.  Las temperaturas bajas causan la producción de racimos y frutos con formas anormales y la prolongación del ciclo vegetativo \n"
   ]
  },
  {
   "cell_type": "markdown",
   "metadata": {},
   "source": [
    "Paralelo al sector agrícola, varios autores han estudiado información para identificar patrones y realizar predicciones en ciertos productos, por ejemplo, **[5]** utiliza modelos de aprendizaje de máquinas para medir el nivel de madurez de una producción de \n",
    "tomates en el cultivo, también modelos de clasificación han sido utilizados con información de conjuntos de frutas en **[6][7]** \n",
    "incluso modelos utilizando información alimenticia para pronosticar dietas que pueden fracasar dependiendo de los alimentos que son asignados **[8]**  "
   ]
  },
  {
   "cell_type": "markdown",
   "metadata": {},
   "source": [
    "Con base en esto y un pre-procesamiento y entendimiento de los datos, surge la propuesta de utilizar las variables anteriormente mencionadas para predecir y clasificar el peso de los racimos cosechados en los diferentes lotes de la finca Porvenir, la cual fue tomada como caso de estudio."
   ]
  },
  {
   "cell_type": "code",
   "execution_count": null,
   "metadata": {},
   "outputs": [],
   "source": []
  }
 ],
 "metadata": {
  "kernelspec": {
   "display_name": "Python 3",
   "language": "python",
   "name": "python3"
  },
  "language_info": {
   "codemirror_mode": {
    "name": "ipython",
    "version": 3
   },
   "file_extension": ".py",
   "mimetype": "text/x-python",
   "name": "python",
   "nbconvert_exporter": "python",
   "pygments_lexer": "ipython3",
   "version": "3.6.5"
  }
 },
 "nbformat": 4,
 "nbformat_minor": 2
}
